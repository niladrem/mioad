{
 "cells": [
  {
   "cell_type": "markdown",
   "metadata": {},
   "source": [
    "# Algorytm genetyczny\n",
    "## Anna Urbala"
   ]
  },
  {
   "cell_type": "code",
   "execution_count": 1,
   "metadata": {
    "collapsed": true
   },
   "outputs": [],
   "source": [
    "import numpy as np\n",
    "import random\n",
    "import math"
   ]
  },
  {
   "cell_type": "code",
   "execution_count": 47,
   "metadata": {
    "collapsed": true
   },
   "outputs": [],
   "source": [
    "class GenAlg:\n",
    "    def __init__(self, fun, n_var, n_population=1000, rand_min=-10, rand_max=10):\n",
    "        self.fun = fun\n",
    "        self.n_var = n_var\n",
    "        self.n_population = n_population\n",
    "        self.population = np.random.uniform(rand_min, rand_max, size=(n_population, n_var))\n",
    "        \n",
    "    def iterate(self, n_iterations=100):\n",
    "        for i in range(n_iterations):\n",
    "            mutated = self.mutation()\n",
    "            children = self.crossover()\n",
    "            current_population = np.concatenate((self.population, mutated, children))\n",
    "            print(\"population\", current_population)\n",
    "            print(\"evaluated\", self.evaluate(current_population))\n",
    "            \n",
    "    \n",
    "    def mutation(self):\n",
    "        p = np.random.permutation(self.n_population)\n",
    "        mutated_size = math.floor(self.n_population*0.2)\n",
    "        return self.population[p][0:mutated_size] + np.random.normal(0, 1, size=(mutated_size, self.n_var))\n",
    "    \n",
    "    def crossover(self):\n",
    "        p = np.random.permutation(self.n_population)\n",
    "        parents_size = math.floor(self.n_population*0.7)\n",
    "        parents = self.population[p][0:parents_size]\n",
    "        children = np.array([self.cross(parents[i], parents[i+1]) for i in range(0, parents_size-1, 2)])\n",
    "        return children.reshape(len(children) * 2, self.n_var)\n",
    "        \n",
    "    @staticmethod\n",
    "    def cross(parent1, parent2):\n",
    "        i = random.randint(0, len(parent1)-1)\n",
    "        child1 = np.concatenate((parent1[0:i],parent2[i:]))\n",
    "        child2 = np.concatenate((parent2[0:i],parent1[i:]))\n",
    "        return [child1, child2]\n",
    "    \n",
    "    def evaluate(self, population):\n",
    "        outputs = list(map(self.fun, population))\n",
    "        population_min = min(outputs)\n",
    "        return outputs - population_min + 0.1\n",
    "    \n",
    "    def selection(self):\n",
    "        pass\n",
    "        "
   ]
  },
  {
   "cell_type": "code",
   "execution_count": 10,
   "metadata": {
    "collapsed": false
   },
   "outputs": [],
   "source": [
    "def r3(elem):\n",
    "    x,y,z = elem\n",
    "    return x**2 + y**2 + 2*z**2"
   ]
  },
  {
   "cell_type": "code",
   "execution_count": 48,
   "metadata": {
    "collapsed": false
   },
   "outputs": [
    {
     "name": "stdout",
     "output_type": "stream",
     "text": [
      "population [[ -2.44370932   1.92944739   6.69765636]\n",
      " [ -4.14417637   8.87769273   7.25521825]\n",
      " [ -1.94415445   3.71112345   4.76643381]\n",
      " [ -6.26885626   9.15897925  -0.90882891]\n",
      " [ -3.11536435   3.69834675   3.98680606]\n",
      " [  3.6384043   -4.17751187  -1.40348179]\n",
      " [ -7.81484397   2.47988175  -1.08418312]\n",
      " [ -6.40617537   5.62072627   8.39625786]\n",
      " [  3.4733077    5.64682212  -1.84779213]\n",
      " [ -9.14973193  -8.59496915   1.20658905]\n",
      " [-10.10753753  -8.95541183   1.28736636]\n",
      " [ -8.58872172   2.75927803  -1.22393706]\n",
      " [  3.6384043   -4.17751187  -1.08418312]\n",
      " [ -7.81484397   2.47988175  -1.40348179]\n",
      " [ -3.11536435   1.92944739   6.69765636]\n",
      " [ -2.44370932   3.69834675   3.98680606]\n",
      " [ -6.40617537   5.62072627  -1.84779213]\n",
      " [  3.4733077    5.64682212   8.39625786]]\n",
      "evaluated [6.64711865e+01 1.68323512e+02 3.00494589e+01 9.18969024e+01\n",
      " 2.22320114e+01 1.68861623e+00 3.66320085e+01 1.80685442e+02\n",
      " 1.78386407e+01 1.27562306e+02 1.52735843e+02 5.14353025e+01\n",
      " 1.00000000e-01 3.82206248e+01 7.02049663e+01 1.84982316e+01\n",
      " 4.65198208e+01 1.52004261e+02]\n",
      "population [[-2.44370932  1.92944739  6.69765636]\n",
      " [-4.14417637  8.87769273  7.25521825]\n",
      " [-1.94415445  3.71112345  4.76643381]\n",
      " [-6.26885626  9.15897925 -0.90882891]\n",
      " [-3.11536435  3.69834675  3.98680606]\n",
      " [ 3.6384043  -4.17751187 -1.40348179]\n",
      " [-7.81484397  2.47988175 -1.08418312]\n",
      " [-6.40617537  5.62072627  8.39625786]\n",
      " [ 3.4733077   5.64682212 -1.84779213]\n",
      " [-9.14973193 -8.59496915  1.20658905]\n",
      " [-2.19167942  3.51769113  6.2761076 ]\n",
      " [-5.22602106  7.24707826  6.33797924]\n",
      " [-4.14417637  8.87769273  7.25521825]\n",
      " [ 3.6384043  -4.17751187 -1.40348179]\n",
      " [-6.26885626  9.15897925 -0.90882891]\n",
      " [-6.40617537  5.62072627  8.39625786]\n",
      " [ 3.4733077   2.47988175 -1.08418312]\n",
      " [-7.81484397  5.64682212 -1.84779213]]\n",
      "evaluated [7.89470978e+01 1.80799424e+02 4.25253702e+01 1.04372814e+02\n",
      " 3.47079228e+01 1.41645276e+01 4.91079199e+01 1.93161353e+02\n",
      " 3.03145520e+01 1.40038217e+02 7.54920768e+01 1.39706815e+02\n",
      " 1.80799424e+02 1.41645276e+01 1.04372814e+02 1.93161353e+02\n",
      " 1.00000000e-01 7.93224719e+01]\n",
      "population [[-2.44370932  1.92944739  6.69765636]\n",
      " [-4.14417637  8.87769273  7.25521825]\n",
      " [-1.94415445  3.71112345  4.76643381]\n",
      " [-6.26885626  9.15897925 -0.90882891]\n",
      " [-3.11536435  3.69834675  3.98680606]\n",
      " [ 3.6384043  -4.17751187 -1.40348179]\n",
      " [-7.81484397  2.47988175 -1.08418312]\n",
      " [-6.40617537  5.62072627  8.39625786]\n",
      " [ 3.4733077   5.64682212 -1.84779213]\n",
      " [-9.14973193 -8.59496915  1.20658905]\n",
      " [ 2.70823722 -4.95929785 -0.53420488]\n",
      " [-0.12387652  1.8840066   5.56604336]\n",
      " [ 3.4733077   5.64682212  7.25521825]\n",
      " [-4.14417637  8.87769273 -1.84779213]\n",
      " [-1.94415445 -8.59496915  1.20658905]\n",
      " [-9.14973193  3.71112345  4.76643381]\n",
      " [-6.40617537  5.62072627  8.39625786]\n",
      " [-3.11536435  3.69834675  3.98680606]]\n",
      "evaluated [6.70117500e+01 1.68864076e+02 3.05900225e+01 9.24374660e+01\n",
      " 2.27725750e+01 2.22917983e+00 3.71725721e+01 1.81226005e+02\n",
      " 1.83792043e+01 1.28102870e+02 1.00000000e-01 3.31265699e+01\n",
      " 1.16826916e+02 7.04163637e+01 4.81650117e+01 1.10527880e+02\n",
      " 1.81226005e+02 2.27725750e+01]\n"
     ]
    }
   ],
   "source": [
    "genalg = GenAlg(r3, 3, 10)\n",
    "genalg.iterate(3)"
   ]
  },
  {
   "cell_type": "code",
   "execution_count": null,
   "metadata": {
    "collapsed": true
   },
   "outputs": [],
   "source": []
  }
 ],
 "metadata": {
  "kernelspec": {
   "display_name": "Python 3",
   "language": "python",
   "name": "python3"
  },
  "language_info": {
   "codemirror_mode": {
    "name": "ipython",
    "version": 3
   },
   "file_extension": ".py",
   "mimetype": "text/x-python",
   "name": "python",
   "nbconvert_exporter": "python",
   "pygments_lexer": "ipython3",
   "version": "3.8.5"
  }
 },
 "nbformat": 4,
 "nbformat_minor": 2
}
