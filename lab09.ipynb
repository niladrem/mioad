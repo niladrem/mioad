{
 "cells": [
  {
   "cell_type": "markdown",
   "metadata": {},
   "source": [
    "# Algorytm genetyczny\n",
    "## Anna Urbala"
   ]
  },
  {
   "cell_type": "code",
   "execution_count": 5,
   "metadata": {},
   "outputs": [],
   "source": [
    "import numpy as np\n",
    "import random\n",
    "import math\n",
    "import copy"
   ]
  },
  {
   "cell_type": "code",
   "execution_count": 38,
   "metadata": {},
   "outputs": [],
   "source": [
    "class GenAlg:\n",
    "    def __init__(self, fun, n_var, n_population=1000, rand_min=-10, rand_max=10):\n",
    "        self.fun = fun\n",
    "        self.n_var = n_var\n",
    "        self.n_population = n_population\n",
    "        self.population = np.random.uniform(rand_min, rand_max, size=(n_population, n_var))\n",
    "        \n",
    "    def iterate(self, n_iterations=100):\n",
    "        for i in range(n_iterations):\n",
    "            mutated = self.mutation()\n",
    "            children = self.crossover()\n",
    "            current_population = np.concatenate((self.population, mutated, children))\n",
    "            evaluated = self.evaluate(current_population)\n",
    "            new_population = self.selection(current_population, evaluated)\n",
    "            self.population = new_population\n",
    "    \n",
    "    def mutation(self):\n",
    "        p = np.random.permutation(self.n_population)\n",
    "        mutated_size = math.floor(self.n_population*0.2)\n",
    "        return self.population[p][0:mutated_size] + np.random.normal(0, 1, size=(mutated_size, self.n_var))\n",
    "    \n",
    "    def crossover(self):\n",
    "        p = np.random.permutation(self.n_population)\n",
    "        parents_size = math.floor(self.n_population*0.7)\n",
    "        parents = self.population[p][0:parents_size]\n",
    "        children = np.array([self.cross(parents[i], parents[i+1]) for i in range(0, parents_size-1, 2)])\n",
    "        return children.reshape(len(children) * 2, self.n_var)\n",
    "        \n",
    "    @staticmethod\n",
    "    def cross(parent1, parent2):\n",
    "        i = random.randint(0, len(parent1)-1)\n",
    "        child1 = np.concatenate((parent1[0:i],parent2[i:]))\n",
    "        child2 = np.concatenate((parent2[0:i],parent1[i:]))\n",
    "        return [child1, child2]\n",
    "    \n",
    "    def evaluate(self, population):\n",
    "        outputs = list(map(self.fun, population))\n",
    "        population_min = min(outputs)\n",
    "        return outputs - population_min + 0.01\n",
    "    \n",
    "    def selection(self, population, values):\n",
    "        new_population = copy.deepcopy(population)\n",
    "        to_remove = len(population) - self.n_population\n",
    "        for i in range(to_remove):\n",
    "            idx = random.choices(range(len(values)), weights=values, k=1)\n",
    "            new_population = np.delete(new_population, idx, axis=0)\n",
    "            values = np.delete(values, idx)\n",
    "        return new_population\n",
    "    \n",
    "    def get_min(self):\n",
    "        evaluated = self.evaluate(self.population)\n",
    "        return self.population[evaluated == min(evaluated)][0]\n",
    "        "
   ]
  },
  {
   "cell_type": "markdown",
   "metadata": {},
   "source": [
    "## Funkcja $x^2+y^2+2z^2$"
   ]
  },
  {
   "cell_type": "code",
   "execution_count": 47,
   "metadata": {},
   "outputs": [],
   "source": [
    "def r3(elem):\n",
    "    x,y,z = elem\n",
    "    return x**2 + y**2 + 2*z**2"
   ]
  },
  {
   "cell_type": "code",
   "execution_count": 54,
   "metadata": {},
   "outputs": [],
   "source": [
    "np.random.seed(2137)\n",
    "genalg = GenAlg(r3, 3, 100)\n",
    "genalg.iterate(100)"
   ]
  },
  {
   "cell_type": "code",
   "execution_count": 55,
   "metadata": {},
   "outputs": [
    {
     "name": "stdout",
     "output_type": "stream",
     "text": [
      "[-0.02332001 -0.06248066  0.00183841]\n",
      "0.004454415826340502\n"
     ]
    }
   ],
   "source": [
    "opt = genalg.get_min()\n",
    "print(opt)\n",
    "print(r3(opt))"
   ]
  },
  {
   "attachments": {},
   "cell_type": "markdown",
   "metadata": {},
   "source": [
    "Już dla 100 iteracji i populacji wielkości 100 dostaliśmy sensowne minimum, bliskie prawdziwego.\n",
    "\n",
    "## Funkcja Rastrigina\n",
    "### $f(x)=10n+\\sum_{i=1}^{n}[x_i^2-10\\cos{(2\\pi x_i)}]$\n",
    "\n",
    "Dwywumiarowa:\n",
    "![Rastrigin](https://upload.wikimedia.org/wikipedia/commons/thumb/8/8b/Rastrigin_function.png/300px-Rastrigin_function.png)"
   ]
  },
  {
   "cell_type": "code",
   "execution_count": 56,
   "metadata": {},
   "outputs": [],
   "source": [
    "def rastrigin(elem):\n",
    "    return 50 + sum([x**2 - 10*math.cos(2*math.pi*x) for x in elem])"
   ]
  },
  {
   "cell_type": "code",
   "execution_count": 59,
   "metadata": {},
   "outputs": [],
   "source": [
    "np.random.seed(2137)\n",
    "genalg = GenAlg(rastrigin, 5, 100)\n",
    "genalg.iterate(1000)"
   ]
  },
  {
   "cell_type": "code",
   "execution_count": 60,
   "metadata": {},
   "outputs": [
    {
     "name": "stdout",
     "output_type": "stream",
     "text": [
      "[0.06072098 0.0012842  0.02828824 0.01762384 0.05346881]\n",
      "1.5048198425634212\n"
     ]
    }
   ],
   "source": [
    "opt = genalg.get_min()\n",
    "print(opt)\n",
    "print(rastrigin(opt))"
   ]
  },
  {
   "cell_type": "markdown",
   "metadata": {},
   "source": [
    "Algorytm poradził sobie dość dobrze. Minimum wypada w punkcie (0,0,0,0,0) i wynosi 0. Co prawda wartość wyszła większa niż w poprzednim podpunkcie, ale funkcja jest bardziej skomplikowana i ma wiele minimów lokalnych."
   ]
  },
  {
   "cell_type": "code",
   "execution_count": null,
   "metadata": {},
   "outputs": [],
   "source": []
  }
 ],
 "metadata": {
  "kernelspec": {
   "display_name": "Python 3",
   "language": "python",
   "name": "python3"
  },
  "language_info": {
   "codemirror_mode": {
    "name": "ipython",
    "version": 3
   },
   "file_extension": ".py",
   "mimetype": "text/x-python",
   "name": "python",
   "nbconvert_exporter": "python",
   "pygments_lexer": "ipython3",
   "version": "3.6.9"
  }
 },
 "nbformat": 4,
 "nbformat_minor": 2
}
