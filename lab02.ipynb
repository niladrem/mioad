{
 "cells": [
  {
   "cell_type": "code",
   "execution_count": 1,
   "metadata": {
    "collapsed": true
   },
   "outputs": [],
   "source": [
    "import numpy as np\n",
    "import pandas as pd\n",
    "import seaborn as sns\n",
    "import math\n",
    "from matplotlib import pyplot as plt\n",
    "from sklearn import metrics"
   ]
  },
  {
   "cell_type": "markdown",
   "metadata": {},
   "source": [
    "## Implementacja neuronu"
   ]
  },
  {
   "cell_type": "code",
   "execution_count": 2,
   "metadata": {
    "collapsed": false
   },
   "outputs": [
    {
     "name": "stdout",
     "output_type": "stream",
     "text": [
      "LinearNeuron(weights: [1, 2, 3], output: 14, delta: 0, error: 0)\n",
      "SigmoidNeuron(weights: [1, 2], output: 0.9525741268224333, delta: 0, error: 0)\n"
     ]
    }
   ],
   "source": [
    "from abc import ABC, abstractmethod\n",
    "import logging\n",
    "\n",
    "class Neuron(ABC):\n",
    "    def __init__(self, weights: list) -> None:\n",
    "        self.weights = weights\n",
    "        self.output = 0\n",
    "        self.deltas = []\n",
    "        self.delta = 0\n",
    "        self.error = 0\n",
    "        self.input = 0\n",
    "        self.inputs = []\n",
    "        if len(weights) < 2:\n",
    "            logging.warning(\"Less than 2 weights. Are you sure?\")\n",
    "    \n",
    "    def __repr__(self) -> str:\n",
    "        return \"%s(weights: %s, output: %s, delta: %s, error: %s)\" % (self.name(), str(self.weights), str(self.output), str(self.delta), str(self.error))\n",
    "            \n",
    "    @abstractmethod\n",
    "    def evaluate(self, input: list) -> float:\n",
    "        pass\n",
    "    \n",
    "    @abstractmethod\n",
    "    def name(self) -> str:\n",
    "        pass\n",
    "    \n",
    "    @abstractmethod\n",
    "    def derivative(self, output: float) -> float:\n",
    "        pass\n",
    "    \n",
    "    def add_one(l: list) -> list:\n",
    "        tmp = [1]\n",
    "        tmp.extend(l)\n",
    "        return tmp\n",
    "    \n",
    "    def dot(a: list, b: list) -> float:\n",
    "        tmp = min(len(a), len(b))\n",
    "        return np.dot(a[:tmp], b[:tmp])\n",
    "\n",
    "    \n",
    "# pierwsza waga to waga biasu\n",
    "class LinearNeuron(Neuron):\n",
    "    def evaluate(self, input: list) -> float:\n",
    "        self.inputs = Neuron.add_one(input)\n",
    "        self.output = Neuron.dot(self.weights, self.inputs)\n",
    "        self.input = self.output\n",
    "        return self.output\n",
    "    \n",
    "    def name(self) -> str:\n",
    "        return \"LinearNeuron\"\n",
    "    \n",
    "    def derivative(self, output: float) -> float:\n",
    "        return 1.0\n",
    "        \n",
    "\n",
    "class SigmoidNeuron(Neuron):\n",
    "    def evaluate(self, input: list) -> float:\n",
    "        self.inputs = Neuron.add_one(input)\n",
    "        x = Neuron.dot(self.weights, self.inputs)\n",
    "        self.input = x\n",
    "#         if abs(x) > 10:\n",
    "#             print(\"weights: %s, input: %s\" % (self.weights, self.inputs))\n",
    "        self.output = math.e ** x / (1 + math.e ** x)\n",
    "        return self.output\n",
    "    \n",
    "    def name(self) -> str:\n",
    "        return \"SigmoidNeuron\"\n",
    "    \n",
    "    def derivative(self, output: float) -> float:\n",
    "        return output * (1.0 - output)\n",
    "\n",
    "# tests\n",
    "\n",
    "assert Neuron.dot([2,3], [5]) == 10\n",
    "assert Neuron.dot([2,3], [4,5,6]) == 23\n",
    "\n",
    "linearneuron = LinearNeuron([1,2,3])\n",
    "assert linearneuron.evaluate([1,2,3]) == 9\n",
    "assert linearneuron.evaluate([2,3]) == 14\n",
    "\n",
    "sigmoidneuron = SigmoidNeuron([1, 2])\n",
    "assert sigmoidneuron.evaluate([1]) == math.e ** 3 / (1 + math.e ** 3)\n",
    "print(linearneuron)\n",
    "print(sigmoidneuron)"
   ]
  },
  {
   "cell_type": "markdown",
   "metadata": {},
   "source": [
    "## Implementacja warstwy"
   ]
  },
  {
   "cell_type": "code",
   "execution_count": 3,
   "metadata": {
    "collapsed": false
   },
   "outputs": [
    {
     "name": "stdout",
     "output_type": "stream",
     "text": [
      "Layer([LinearNeuron(weights: [1, 2], output: 11, delta: 0, error: 0), LinearNeuron(weights: [2, 3], output: 17, delta: 0, error: 0)])\n"
     ]
    }
   ],
   "source": [
    "class Layer(ABC):\n",
    "    def __init__(self) -> None:\n",
    "        self.neurons = []\n",
    "    \n",
    "    @abstractmethod\n",
    "    def __init__(self, num: int, weights: list) -> None:\n",
    "        pass\n",
    "        \n",
    "    def addNeuron(self, neuron: Neuron) -> None:\n",
    "        self.neurons.append(neuron)\n",
    "        \n",
    "    def evaluate(self, input: list) -> list:\n",
    "        return [neuron.evaluate(input) for neuron in self.neurons]\n",
    "    \n",
    "    def __repr__(self) -> str:\n",
    "        return \"Layer(\" + str(self.neurons) + \")\"\n",
    "    \n",
    "\n",
    "class LinearLayer(Layer):\n",
    "    def __init__(self, num: int, weights: list) -> None:\n",
    "        assert len(weights) == num, \"Invalid matrix dimension\"\n",
    "        self.neurons = [LinearNeuron(w) for w in weights]\n",
    "    \n",
    "class SigmoidLayer(Layer):\n",
    "    def __init__(self, num: int, weights: list) -> None:\n",
    "        assert len(weights) == num, \"Invalid matrix dimension\"\n",
    "        self.neurons = [SigmoidNeuron(w) for w in weights]\n",
    "\n",
    "# tests\n",
    "layer1 = LinearLayer(1, [[1, 2]])\n",
    "assert layer1.evaluate([5]) == [11]\n",
    "layer1.addNeuron(LinearNeuron([2, 3]))\n",
    "assert layer1.evaluate([5]) == [11, 17]\n",
    "\n",
    "layer2 = LinearLayer(2, [[1,2], [2, 3]])\n",
    "assert layer2.evaluate([5]) == [11, 17]\n",
    "print(layer2)"
   ]
  },
  {
   "cell_type": "markdown",
   "metadata": {},
   "source": [
    "## Implementacja sieci"
   ]
  },
  {
   "cell_type": "code",
   "execution_count": 295,
   "metadata": {
    "collapsed": false
   },
   "outputs": [
    {
     "data": {
      "image/svg+xml": [
       "<?xml version=\"1.0\" encoding=\"UTF-8\" standalone=\"no\"?>\n",
       "<!DOCTYPE svg PUBLIC \"-//W3C//DTD SVG 1.1//EN\"\n",
       " \"http://www.w3.org/Graphics/SVG/1.1/DTD/svg11.dtd\">\n",
       "<!-- Generated by graphviz version 2.46.1 (20210222.2046)\n",
       " -->\n",
       "<!-- Title: neural network Pages: 1 -->\n",
       "<svg width=\"292pt\" height=\"131pt\"\n",
       " viewBox=\"0.00 0.00 291.64 131.00\" xmlns=\"http://www.w3.org/2000/svg\" xmlns:xlink=\"http://www.w3.org/1999/xlink\">\n",
       "<g id=\"graph0\" class=\"graph\" transform=\"scale(1 1) rotate(0) translate(4 127)\">\n",
       "<title>neural network</title>\n",
       "<polygon fill=\"white\" stroke=\"transparent\" points=\"-4,4 -4,-127 287.64,-127 287.64,4 -4,4\"/>\n",
       "<!-- test_L0_Bias -->\n",
       "<g id=\"node1\" class=\"node\">\n",
       "<title>test_L0_Bias</title>\n",
       "<ellipse fill=\"none\" stroke=\"black\" cx=\"68.89\" cy=\"-105\" rx=\"68.79\" ry=\"18\"/>\n",
       "<text text-anchor=\"middle\" x=\"68.89\" y=\"-101.3\" font-family=\"Times-Roman\" font-size=\"14.00\">test_L0_Bias</text>\n",
       "</g>\n",
       "<!-- test_L1_N0 -->\n",
       "<g id=\"node2\" class=\"node\">\n",
       "<title>test_L1_N0</title>\n",
       "<ellipse fill=\"none\" stroke=\"black\" cx=\"72.89\" cy=\"-18\" rx=\"61.99\" ry=\"18\"/>\n",
       "<text text-anchor=\"middle\" x=\"72.89\" y=\"-14.3\" font-family=\"Times-Roman\" font-size=\"14.00\">test_L1_N0</text>\n",
       "</g>\n",
       "<!-- test_L0_Bias&#45;&gt;test_L1_N0 -->\n",
       "<g id=\"edge1\" class=\"edge\">\n",
       "<title>test_L0_Bias&#45;&gt;test_L1_N0</title>\n",
       "<path fill=\"none\" stroke=\"black\" d=\"M64.02,-86.86C61.89,-77.2 60.22,-64.92 61.89,-54 62.31,-51.32 62.88,-48.56 63.56,-45.83\"/>\n",
       "<polygon fill=\"black\" stroke=\"black\" points=\"66.93,-46.78 66.34,-36.2 60.21,-44.83 66.93,-46.78\"/>\n",
       "<text text-anchor=\"middle\" x=\"77.89\" y=\"-57.8\" font-family=\"Times-Roman\" font-size=\"14.00\">1.00</text>\n",
       "</g>\n",
       "<!-- test_L1_N1 -->\n",
       "<g id=\"node4\" class=\"node\">\n",
       "<title>test_L1_N1</title>\n",
       "<ellipse fill=\"none\" stroke=\"black\" cx=\"219.89\" cy=\"-18\" rx=\"61.99\" ry=\"18\"/>\n",
       "<text text-anchor=\"middle\" x=\"219.89\" y=\"-14.3\" font-family=\"Times-Roman\" font-size=\"14.00\">test_L1_N1</text>\n",
       "</g>\n",
       "<!-- test_L0_Bias&#45;&gt;test_L1_N1 -->\n",
       "<g id=\"edge3\" class=\"edge\">\n",
       "<title>test_L0_Bias&#45;&gt;test_L1_N1</title>\n",
       "<path fill=\"none\" stroke=\"black\" d=\"M80.18,-87.04C88.17,-76.22 99.76,-62.65 112.89,-54 127.49,-44.38 144.95,-37.21 161.49,-31.95\"/>\n",
       "<polygon fill=\"black\" stroke=\"black\" points=\"162.52,-35.3 171.09,-29.07 160.51,-28.59 162.52,-35.3\"/>\n",
       "<text text-anchor=\"middle\" x=\"128.89\" y=\"-57.8\" font-family=\"Times-Roman\" font-size=\"14.00\">2.00</text>\n",
       "</g>\n",
       "<!-- test_L0_N0 -->\n",
       "<g id=\"node3\" class=\"node\">\n",
       "<title>test_L0_N0</title>\n",
       "<ellipse fill=\"none\" stroke=\"black\" cx=\"221.89\" cy=\"-105\" rx=\"61.99\" ry=\"18\"/>\n",
       "<text text-anchor=\"middle\" x=\"221.89\" y=\"-101.3\" font-family=\"Times-Roman\" font-size=\"14.00\">test_L0_N0</text>\n",
       "</g>\n",
       "<!-- test_L0_N0&#45;&gt;test_L1_N0 -->\n",
       "<g id=\"edge2\" class=\"edge\">\n",
       "<title>test_L0_N0&#45;&gt;test_L1_N0</title>\n",
       "<path fill=\"none\" stroke=\"black\" d=\"M200.47,-87.91C186.25,-77.58 166.93,-64.23 148.89,-54 138.54,-48.12 127.02,-42.42 116.14,-37.38\"/>\n",
       "<polygon fill=\"black\" stroke=\"black\" points=\"117.35,-34.09 106.8,-33.14 114.46,-40.46 117.35,-34.09\"/>\n",
       "<text text-anchor=\"middle\" x=\"187.89\" y=\"-57.8\" font-family=\"Times-Roman\" font-size=\"14.00\">2.00</text>\n",
       "</g>\n",
       "<!-- test_L0_N0&#45;&gt;test_L1_N1 -->\n",
       "<g id=\"edge4\" class=\"edge\">\n",
       "<title>test_L0_N0&#45;&gt;test_L1_N1</title>\n",
       "<path fill=\"none\" stroke=\"black\" d=\"M221.49,-86.8C221.22,-75.16 220.85,-59.55 220.53,-46.24\"/>\n",
       "<polygon fill=\"black\" stroke=\"black\" points=\"224.03,-46.09 220.3,-36.18 217.03,-46.26 224.03,-46.09\"/>\n",
       "<text text-anchor=\"middle\" x=\"236.89\" y=\"-57.8\" font-family=\"Times-Roman\" font-size=\"14.00\">3.00</text>\n",
       "</g>\n",
       "</g>\n",
       "</svg>\n"
      ],
      "text/plain": [
       "<graphviz.dot.Digraph at 0x7f3ac701f850>"
      ]
     },
     "execution_count": 295,
     "metadata": {},
     "output_type": "execute_result"
    }
   ],
   "source": [
    "from graphviz import Digraph\n",
    "import random\n",
    "from sklearn.preprocessing import StandardScaler, MinMaxScaler\n",
    "import copy\n",
    "\n",
    "class Network:\n",
    "    def __init__(self) -> None:\n",
    "        self.layers = []\n",
    "        self.size = []\n",
    "        self.s = None\n",
    "    \n",
    "    def __repr__(self) -> str:\n",
    "        return \"Network(\" + \"\\n\\t\".join([str(layer) for layer in self.layers]) + \")\"\n",
    "    \n",
    "    def __init__(self, layer_types: list, size: list, weights=None, gen_type=\"0|1\") -> None:\n",
    "        assert len(layer_types) == len(size) - 1, \"Invalid matrix dimension\"\n",
    "        self.layers = []\n",
    "        self.size = size\n",
    "        for i, layer_type in enumerate(layer_types):\n",
    "            if layer_type == \"sigmoid\":\n",
    "                self.addLayerBack(SigmoidLayer(size[i + 1], weights[i] if weights else Network.generate(gen_type, (size[i + 1], size[i] + 1))))\n",
    "            elif layer_type == \"linear\":\n",
    "                self.addLayerBack(LinearLayer(size[i + 1], weights[i] if weights else Network.generate(gen_type, (size[i + 1], size[i] + 1))))\n",
    "            else:\n",
    "                logging.error(\"Invalid layer type\")\n",
    "    \n",
    "    @staticmethod\n",
    "    def batch_partition(list_in, n):\n",
    "        l = copy.deepcopy(list_in)\n",
    "#         random.shuffle(l)\n",
    "        return [l[(i * n):(i * n + n)] for i in range(int((len(l) + n - 1) / n))]\n",
    "        \n",
    "    def generate(gen_type: str, n: tuple) -> np.array:\n",
    "        if gen_type == \"0|1\":\n",
    "            return np.random.uniform(0, 1, n)\n",
    "        elif gen_type == \"-1|1\":\n",
    "            return np.random.uniform(-1, 1, n)\n",
    "        elif gen_type == \"norm\":\n",
    "            return np.random.normal(0, 1, n)\n",
    "        elif gen_type == \"zero\":\n",
    "            return np.zeros(n)\n",
    "        \n",
    "    \n",
    "    def addLayerBack(self, layer: Layer) -> None:\n",
    "        self.layers.append(layer)\n",
    "    \n",
    "    def forward(self, x: list) -> list:\n",
    "        input = x\n",
    "        for layer in self.layers:\n",
    "            out = []\n",
    "            for val in input:\n",
    "                tmp = layer.evaluate(val)\n",
    "                out.append(tmp)\n",
    "            input = out\n",
    "        return input\n",
    "    \n",
    "    def predict(self, x):\n",
    "        return self.s.inverse_transform(self.forward(x))\n",
    "    \n",
    "    def draw(self, prefix='', graph=None) -> None:\n",
    "        g = Digraph(format='svg', name=\"neural network\")\n",
    "        if graph is not None:\n",
    "            g = graph\n",
    "        for idx, layer in enumerate(self.layers):\n",
    "            current_id = idx + 1\n",
    "            # create bias neuron\n",
    "            bias_name = '%s_L%s_Bias' % (prefix, idx)\n",
    "            g.node(bias_name)\n",
    "            for n_i, neuron in enumerate(layer.neurons):\n",
    "                # create dot for neuron\n",
    "                neuron_name = '%s_L%s_N%s' % (prefix, current_id, n_i)\n",
    "                g.node(neuron_name)\n",
    "                # create dots and edges for parents\n",
    "                for w_i, weight in enumerate(neuron.weights):\n",
    "                    if w_i == 0:\n",
    "                        g.edge(bias_name, neuron_name, label=format(weight, '.2f'))\n",
    "                    else:\n",
    "                        p_name = '%s_L%s_N%s' % (prefix, idx, w_i - 1)\n",
    "                        g.node(p_name)\n",
    "                        g.edge(p_name, neuron_name, label=format(weight, '.2f'))\n",
    "        return g\n",
    "            \n",
    "    def backward_propagate_error(self, expected, l_rate):\n",
    "        for i in reversed(range(len(self.layers))):\n",
    "            layer = self.layers[i]\n",
    "            \n",
    "            if layer == self.layers[-1]:\n",
    "                for j, neuron in enumerate(layer.neurons):\n",
    "                    neuron.error = (expected[j] - neuron.output)\n",
    "                    neuron.delta = neuron.error * neuron.derivative(neuron.output)\n",
    "            else:\n",
    "                next_layer = self.layers[i + 1]\n",
    "                for j, neuron in enumerate(layer.neurons):\n",
    "                    for k, next_neuron in enumerate(next_layer.neurons):\n",
    "                        neuron.error += next_neuron.weights[j+1] * next_neuron.delta\n",
    "                        neuron.delta += neuron.error * neuron.derivative(neuron.output)\n",
    "    \n",
    "    def update_weights(self, l_rate, size):\n",
    "        for layer in self.layers:\n",
    "            for neuron in layer.neurons:\n",
    "                for i in range(len(neuron.weights)):\n",
    "                    neuron.weights[i] += neuron.delta * neuron.inputs[i] * l_rate / size\n",
    "    \n",
    "    def clean_params(self):\n",
    "        for idx, layer in enumerate(self.layers):\n",
    "            for neuron in layer.neurons:\n",
    "                neuron.output = 0\n",
    "                neuron.delta = 0\n",
    "                neuron.error = 0\n",
    "    \n",
    "    def train_network(self, train_data: list, train_y: list, l_rate=1e-3, n_epoch=5, batch_size=None) -> None:\n",
    "        self.s = StandardScaler()\n",
    "        y_std = self.s.fit_transform(train_y)\n",
    "        joined = [(train_data[i], y_std[i]) for i in range(len(train_y))]\n",
    "        batches = Network.batch_partition(joined, batch_size) if batch_size else [joined]\n",
    "        a = self.draw(\"null\")\n",
    "        for epoch in range(n_epoch):\n",
    "            for batch_idx, batch in enumerate(batches):\n",
    "                sum_error = 0\n",
    "                self.clean_params()\n",
    "                for i, row in enumerate(batch):\n",
    "                    x, expected = row\n",
    "                    outputs = self.forward([row])\n",
    "                    sum_error += sum([(expected[i]-outputs[0][i])**2 for i in range(len(expected))])\n",
    "                    self.backward_propagate_error(expected, l_rate)\n",
    "                self.update_weights(l_rate, len(batch))\n",
    "            if epoch % 100 == 99:\n",
    "                a = self.draw(str(epoch), a)\n",
    "#             print('>epoch=%d, lrate=%.3f, error=%.3f' % (epoch, l_rate, sum_error))\n",
    "        return a\n",
    "        \n",
    "\n",
    "# tests\n",
    "network = Network([\"linear\"], [1, 1], [[[1,2,3]]])\n",
    "assert network.forward([[2,3]]) == [[14]]\n",
    "\n",
    "network2 = Network([\"linear\"], [1, 2], [\n",
    "        [[1,2], [2, 3]]\n",
    "])\n",
    "assert network2.forward([[5]]) == [[11, 17]]\n",
    "network2.draw(\"test\")\n",
    "# https://machinelearningmastery.com/implement-backpropagation-algorithm-scratch-python/"
   ]
  },
  {
   "cell_type": "markdown",
   "metadata": {},
   "source": [
    "# Zbiór square-simple"
   ]
  },
  {
   "cell_type": "code",
   "execution_count": 135,
   "metadata": {
    "collapsed": false
   },
   "outputs": [],
   "source": [
    "train_df = pd.read_csv('./mio1/regression/square-simple-training.csv', index_col=0)\n",
    "test_df = pd.read_csv('./mio1/regression/square-simple-test.csv', index_col=0)"
   ]
  },
  {
   "cell_type": "markdown",
   "metadata": {},
   "source": [
    "### jedna warstwa ukryta, 10 neuronów"
   ]
  },
  {
   "cell_type": "code",
   "execution_count": 299,
   "metadata": {
    "collapsed": false
   },
   "outputs": [
    {
     "name": "stdout",
     "output_type": "stream",
     "text": [
      "CPU times: user 1.92 s, sys: 16 ms, total: 1.94 s\n",
      "Wall time: 1.91 s\n"
     ]
    },
    {
     "data": {
      "text/plain": [
       "<matplotlib.collections.PathCollection at 0x7f3ac6ec22e0>"
      ]
     },
     "execution_count": 299,
     "metadata": {},
     "output_type": "execute_result"
    },
    {
     "data": {
      "image/png": "[encoded data removed]",
      "text/plain": [
       "<Figure size 432x288 with 1 Axes>"
      ]
     },
     "metadata": {
      "needs_background": "light"
     },
     "output_type": "display_data"
    }
   ],
   "source": [
    "%%time\n",
    "# 1111\n",
    "np.random.seed(2137)\n",
    "mlp = Network([\"sigmoid\", \"linear\"], [1,4,1], gen_type=\"zero\")\n",
    "g = mlp.train_network(np.expand_dims(train_df['x'], 1), np.expand_dims(train_df['y'], 1), n_epoch=500, l_rate=1e-2)\n",
    "\n",
    "y_pred = mlp.predict(np.expand_dims(train_df['x'], 1))\n",
    "y_pred = np.squeeze(y_pred)\n",
    "plt.scatter(train_df['x'], train_df['y'], color='green')\n",
    "plt.scatter(train_df['x'], y_pred, color='red')"
   ]
  },
  {
   "cell_type": "code",
   "execution_count": 233,
   "metadata": {
    "collapsed": false
   },
   "outputs": [],
   "source": [
    "best_seed = 0\n",
    "best_val = 100000000\n",
    "for i in range(150,550):\n",
    "    np.random.seed(i)\n",
    "    mlp = Network([\"sigmoid\", \"linear\"], [1,5,1], gen_type=\"0|1\")\n",
    "    g = mlp.train_network(np.expand_dims(train_df['x'], 1), np.expand_dims(train_df['y'], 1), n_epoch=500, l_rate=1e-2)\n",
    "\n",
    "    y_pred = mlp.predict(np.expand_dims(train_df['x'], 1))\n",
    "    y_pred = np.squeeze(y_pred)\n",
    "    val = metrics.mean_absolute_error(train_df['y'], y_pred)\n",
    "    if val < best_val:\n",
    "        best_val = val\n",
    "        best_seed = i"
   ]
  },
  {
   "cell_type": "code",
   "execution_count": 234,
   "metadata": {
    "collapsed": false
   },
   "outputs": [
    {
     "data": {
      "text/plain": [
       "395"
      ]
     },
     "execution_count": 234,
     "metadata": {},
     "output_type": "execute_result"
    }
   ],
   "source": [
    "best_seed"
   ]
  },
  {
   "cell_type": "code",
   "execution_count": 75,
   "metadata": {
    "collapsed": false
   },
   "outputs": [
    {
     "data": {
      "image/svg+xml": [
       "<?xml version=\"1.0\" encoding=\"UTF-8\" standalone=\"no\"?>\n",
       "<!DOCTYPE svg PUBLIC \"-//W3C//DTD SVG 1.1//EN\"\n",
       " \"http://www.w3.org/Graphics/SVG/1.1/DTD/svg11.dtd\">\n",
       "<!-- Generated by graphviz version 2.46.1 (20210222.2046)\n",
       " -->\n",
       "<!-- Title: neural network Pages: 1 -->\n",
       "<svg width=\"5085pt\" height=\"218pt\"\n",
       " viewBox=\"0.00 0.00 5084.99 218.00\" xmlns=\"http://www.w3.org/2000/svg\" xmlns:xlink=\"http://www.w3.org/1999/xlink\">\n",
       "<g id=\"graph0\" class=\"graph\" transform=\"scale(1 1) rotate(0) translate(4 214)\">\n",
       "<title>neural network</title>\n",
       "<polygon fill=\"white\" stroke=\"transparent\" points=\"-4,4 -4,-214 5080.99,-214 5080.99,4 -4,4\"/>\n",
       "<!-- null_L0_Bias -->\n",
       "<g id=\"node1\" class=\"node\">\n",
       "<title>null_L0_Bias</title>\n",
       "<ellipse fill=\"none\" stroke=\"black\" cx=\"251.09\" cy=\"-192\" rx=\"67.69\" ry=\"18\"/>\n",
       "<text text-anchor=\"middle\" x=\"251.09\" y=\"-188.3\" font-family=\"Times-Roman\" font-size=\"14.00\">null_L0_Bias</text>\n",
       "</g>\n",
       "<!-- null_L1_N0 -->\n",
       "<g id=\"node2\" class=\"node\">\n",
       "<title>null_L1_N0</title>\n",
       "<ellipse fill=\"none\" stroke=\"black\" cx=\"481.09\" cy=\"-105\" rx=\"61.19\" ry=\"18\"/>\n",
       "<text text-anchor=\"middle\" x=\"481.09\" y=\"-101.3\" font-family=\"Times-Roman\" font-size=\"14.00\">null_L1_N0</text>\n",
       "</g>\n",
       "<!-- null_L0_Bias&#45;&gt;null_L1_N0 -->\n",
       "<g id=\"edge1\" class=\"edge\">\n",
       "<title>null_L0_Bias&#45;&gt;null_L1_N0</title>\n",
       "<path fill=\"none\" stroke=\"black\" d=\"M292.1,-177.51C307.32,-171.78 324.43,-164.46 339.09,-156 348.41,-150.62 348.52,-145.9 358.09,-141 370.24,-134.79 399.08,-126.47 425.78,-119.51\"/>\n",
       "<polygon fill=\"black\" stroke=\"black\" points=\"426.67,-122.89 435.48,-117.01 424.92,-116.11 426.67,-122.89\"/>\n",
       "<text text-anchor=\"middle\" x=\"374.09\" y=\"-144.8\" font-family=\"Times-Roman\" font-size=\"14.00\">0.10</text>\n",
       "</g>\n",
       "<!-- null_L1_N1 -->\n",
       "<g id=\"node4\" class=\"node\">\n",
       "<title>null_L1_N1</title>\n",
       "<ellipse fill=\"none\" stroke=\"black\" cx=\"61.09\" cy=\"-105\" rx=\"61.19\" ry=\"18\"/>\n",
       "<text text-anchor=\"middle\" x=\"61.09\" y=\"-101.3\" font-family=\"Times-Roman\" font-size=\"14.00\">null_L1_N1</text>\n",
       "</g>\n",
       "<!-- null_L0_Bias&#45;&gt;null_L1_N1 -->\n",
       "<g id=\"edge3\" class=\"edge\">\n",
       "<title>null_L0_Bias&#45;&gt;null_L1_N1</title>\n",
       "<path fill=\"none\" stroke=\"black\" d=\"M188.29,-185.15C160.59,-180.38 128.61,-171.72 103.09,-156 92.9,-149.72 83.96,-140.1 76.99,-130.98\"/>\n",
       "<polygon fill=\"black\" stroke=\"black\" points=\"79.82,-128.93 71.15,-122.85 74.14,-133.01 79.82,-128.93\"/>\n",
       "<text text-anchor=\"middle\" x=\"119.09\" y=\"-144.8\" font-family=\"Times-Roman\" font-size=\"14.00\">0.95</text>\n",
       "</g>\n",
       "<!-- null_L1_N2 -->\n",
       "<g id=\"node5\" class=\"node\">\n",
       "<title>null_L1_N2</title>\n",
       "<ellipse fill=\"none\" stroke=\"black\" cx=\"341.09\" cy=\"-105\" rx=\"61.19\" ry=\"18\"/>\n",
       "<text text-anchor=\"middle\" x=\"341.09\" y=\"-101.3\" font-family=\"Times-Roman\" font-size=\"14.00\">null_L1_N2</text>\n",
       "</g>\n",
       "<!-- null_L0_Bias&#45;&gt;null_L1_N2 -->\n",
       "<g id=\"edge5\" class=\"edge\">\n",
       "<title>null_L0_Bias&#45;&gt;null_L1_N2</title>\n",
       "<path fill=\"none\" stroke=\"black\" d=\"M246.96,-173.79C245.49,-163.41 245.55,-150.41 252.09,-141 259.06,-130.99 269.35,-123.85 280.49,-118.74\"/>\n",
       "<polygon fill=\"black\" stroke=\"black\" points=\"282.02,-121.9 289.99,-114.92 279.41,-115.41 282.02,-121.9\"/>\n",
       "<text text-anchor=\"middle\" x=\"268.09\" y=\"-144.8\" font-family=\"Times-Roman\" font-size=\"14.00\">0.25</text>\n",
       "</g>\n",
       "<!-- null_L1_N3 -->\n",
       "<g id=\"node6\" class=\"node\">\n",
       "<title>null_L1_N3</title>\n",
       "<ellipse fill=\"none\" stroke=\"black\" cx=\"201.09\" cy=\"-105\" rx=\"61.19\" ry=\"18\"/>\n",
       "<text text-anchor=\"middle\" x=\"201.09\" y=\"-101.3\" font-family=\"Times-Roman\" font-size=\"14.00\">null_L1_N3</text>\n",
       "</g>\n",
       "<!-- null_L0_Bias&#45;&gt;null_L1_N3 -->\n",
       "<g id=\"edge7\" class=\"edge\">\n",
       "<title>null_L0_Bias&#45;&gt;null_L1_N3</title>\n",
       "<path fill=\"none\" stroke=\"black\" d=\"M188.9,-184.91C170.91,-179.92 153.16,-171.18 142.09,-156 133.45,-144.14 142.94,-133.29 156.66,-124.76\"/>\n",
       "<polygon fill=\"black\" stroke=\"black\" points=\"158.6,-127.68 165.63,-119.75 155.19,-121.57 158.6,-127.68\"/>\n",
       "<text text-anchor=\"middle\" x=\"158.09\" y=\"-144.8\" font-family=\"Times-Roman\" font-size=\"14.00\">0.82</text>\n",
       "</g>\n",
       "<!-- null_L1_N4 -->\n",
       "<g id=\"node7\" class=\"node\">\n",
       "<title>null_L1_N4</title>\n",
       "<ellipse fill=\"none\" stroke=\"black\" cx=\"621.09\" cy=\"-105\" rx=\"61.19\" ry=\"18\"/>\n",
       "<text text-anchor=\"middle\" x=\"621.09\" y=\"-101.3\" font-family=\"Times-Roman\" font-size=\"14.00\">null_L1_N4</text>\n",
       "</g>\n",
       "<!-- null_L0_Bias&#45;&gt;null_L1_N4 -->\n",
       "<g id=\"edge9\" class=\"edge\">\n",
       "<title>null_L0_Bias&#45;&gt;null_L1_N4</title>\n",
       "<path fill=\"none\" stroke=\"black\" d=\"M305.53,-181.13C360.21,-171.18 436.87,-157.13 440.09,-156 453.42,-151.33 454.85,-145.88 468.09,-141 503.52,-127.96 514.31,-131.45 551.09,-123 556,-121.87 561.09,-120.68 566.18,-119.47\"/>\n",
       "<polygon fill=\"black\" stroke=\"black\" points=\"567.03,-122.87 575.95,-117.14 565.41,-116.06 567.03,-122.87\"/>\n",
       "<text text-anchor=\"middle\" x=\"484.09\" y=\"-144.8\" font-family=\"Times-Roman\" font-size=\"14.00\">0.63</text>\n",
       "</g>\n",
       "<!-- null_L2_N0 -->\n",
       "<g id=\"node9\" class=\"node\">\n",
       "<title>null_L2_N0</title>\n",
       "<ellipse fill=\"none\" stroke=\"black\" cx=\"410.09\" cy=\"-18\" rx=\"61.19\" ry=\"18\"/>\n",
       "<text text-anchor=\"middle\" x=\"410.09\" y=\"-14.3\" font-family=\"Times-Roman\" font-size=\"14.00\">null_L2_N0</text>\n",
       "</g>\n",
       "<!-- null_L1_N0&#45;&gt;null_L2_N0 -->\n",
       "<g id=\"edge12\" class=\"edge\">\n",
       "<title>null_L1_N0&#45;&gt;null_L2_N0</title>\n",
       "<path fill=\"none\" stroke=\"black\" d=\"M467.07,-87.21C456.66,-74.75 442.31,-57.57 430.62,-43.57\"/>\n",
       "<polygon fill=\"black\" stroke=\"black\" points=\"433.19,-41.19 424.09,-35.76 427.82,-45.68 433.19,-41.19\"/>\n",
       "<text text-anchor=\"middle\" x=\"466.09\" y=\"-57.8\" font-family=\"Times-Roman\" font-size=\"14.00\">0.88</text>\n",
       "</g>\n",
       "<!-- null_L0_N0 -->\n",
       "<g id=\"node3\" class=\"node\">\n",
       "<title>null_L0_N0</title>\n",
       "<ellipse fill=\"none\" stroke=\"black\" cx=\"416.09\" cy=\"-192\" rx=\"61.19\" ry=\"18\"/>\n",
       "<text text-anchor=\"middle\" x=\"416.09\" y=\"-188.3\" font-family=\"Times-Roman\" font-size=\"14.00\">null_L0_N0</text>\n",
       "</g>\n",
       "<!-- null_L0_N0&#45;&gt;null_L1_N0 -->\n",
       "<g id=\"edge2\" class=\"edge\">\n",
       "<title>null_L0_N0&#45;&gt;null_L1_N0</title>\n",
       "<path fill=\"none\" stroke=\"black\" d=\"M467.25,-181.89C481.55,-176.73 495.51,-168.65 504.09,-156 509.29,-148.34 507.26,-139.31 502.72,-131.04\"/>\n",
       "<polygon fill=\"black\" stroke=\"black\" points=\"505.49,-128.88 497.04,-122.48 499.65,-132.75 505.49,-128.88\"/>\n",
       "<text text-anchor=\"middle\" x=\"524.09\" y=\"-144.8\" font-family=\"Times-Roman\" font-size=\"14.00\">0.52</text>\n",
       "</g>\n",
       "<!-- null_L0_N0&#45;&gt;null_L1_N1 -->\n",
       "<g id=\"edge4\" class=\"edge\">\n",
       "<title>null_L0_N0&#45;&gt;null_L1_N1</title>\n",
       "<path fill=\"none\" stroke=\"black\" d=\"M366.82,-181.14C354.21,-178.71 340.67,-176.18 328.09,-174 276.26,-165.01 261.82,-169.98 211.09,-156 193.99,-151.29 190.81,-146.96 174.09,-141 154.33,-133.95 132.34,-126.95 113.05,-121.08\"/>\n",
       "<polygon fill=\"black\" stroke=\"black\" points=\"113.82,-117.66 103.23,-118.13 111.8,-124.36 113.82,-117.66\"/>\n",
       "<text text-anchor=\"middle\" x=\"227.09\" y=\"-144.8\" font-family=\"Times-Roman\" font-size=\"14.00\">0.08</text>\n",
       "</g>\n",
       "<!-- null_L0_N0&#45;&gt;null_L1_N2 -->\n",
       "<g id=\"edge6\" class=\"edge\">\n",
       "<title>null_L0_N0&#45;&gt;null_L1_N2</title>\n",
       "<path fill=\"none\" stroke=\"black\" d=\"M411.29,-173.91C407.76,-163.56 402.17,-150.57 394.09,-141 389.65,-135.73 384.22,-130.95 378.55,-126.74\"/>\n",
       "<polygon fill=\"black\" stroke=\"black\" points=\"380.37,-123.74 370.15,-120.97 376.41,-129.51 380.37,-123.74\"/>\n",
       "<text text-anchor=\"middle\" x=\"420.09\" y=\"-144.8\" font-family=\"Times-Roman\" font-size=\"14.00\">0.57</text>\n",
       "</g>\n",
       "<!-- null_L0_N0&#45;&gt;null_L1_N3 -->\n",
       "<g id=\"edge8\" class=\"edge\">\n",
       "<title>null_L0_N0&#45;&gt;null_L1_N3</title>\n",
       "<path fill=\"none\" stroke=\"black\" d=\"M371.57,-179.63C351.41,-173.74 327.55,-165.74 307.09,-156 296.08,-150.75 294.87,-146.73 284.09,-141 272.21,-134.68 258.94,-128.66 246.55,-123.44\"/>\n",
       "<polygon fill=\"black\" stroke=\"black\" points=\"247.87,-120.2 237.29,-119.62 245.2,-126.67 247.87,-120.2\"/>\n",
       "<text text-anchor=\"middle\" x=\"323.09\" y=\"-144.8\" font-family=\"Times-Roman\" font-size=\"14.00\">0.65</text>\n",
       "</g>\n",
       "<!-- null_L0_N0&#45;&gt;null_L1_N4 -->\n",
       "<g id=\"edge10\" class=\"edge\">\n",
       "<title>null_L0_N0&#45;&gt;null_L1_N4</title>\n",
       "<path fill=\"none\" stroke=\"black\" d=\"M465.34,-181.29C489.66,-175.57 519.08,-167.21 544.09,-156 560.84,-148.49 578.09,-137.63 592.01,-127.94\"/>\n",
       "<polygon fill=\"black\" stroke=\"black\" points=\"594.1,-130.76 600.21,-122.11 590.04,-125.05 594.1,-130.76\"/>\n",
       "<text text-anchor=\"middle\" x=\"587.09\" y=\"-144.8\" font-family=\"Times-Roman\" font-size=\"14.00\">0.78</text>\n",
       "</g>\n",
       "<!-- null_L1_N1&#45;&gt;null_L2_N0 -->\n",
       "<g id=\"edge13\" class=\"edge\">\n",
       "<title>null_L1_N1&#45;&gt;null_L2_N0</title>\n",
       "<path fill=\"none\" stroke=\"black\" d=\"M105,-92.47C144.67,-82.13 204.7,-66.67 257.09,-54 288.72,-46.35 324.14,-38.22 352.92,-31.72\"/>\n",
       "<polygon fill=\"black\" stroke=\"black\" points=\"353.82,-35.11 362.81,-29.5 352.29,-28.28 353.82,-35.11\"/>\n",
       "<text text-anchor=\"middle\" x=\"273.09\" y=\"-57.8\" font-family=\"Times-Roman\" font-size=\"14.00\">0.86</text>\n",
       "</g>\n",
       "<!-- null_L1_N2&#45;&gt;null_L2_N0 -->\n",
       "<g id=\"edge14\" class=\"edge\">\n",
       "<title>null_L1_N2&#45;&gt;null_L2_N0</title>\n",
       "<path fill=\"none\" stroke=\"black\" d=\"M354.73,-87.21C364.84,-74.75 378.78,-57.57 390.15,-43.57\"/>\n",
       "<polygon fill=\"black\" stroke=\"black\" points=\"392.91,-45.73 396.49,-35.76 387.47,-41.32 392.91,-45.73\"/>\n",
       "<text text-anchor=\"middle\" x=\"396.09\" y=\"-57.8\" font-family=\"Times-Roman\" font-size=\"14.00\">0.16</text>\n",
       "</g>\n",
       "<!-- null_L1_N3&#45;&gt;null_L2_N0 -->\n",
       "<g id=\"edge15\" class=\"edge\">\n",
       "<title>null_L1_N3&#45;&gt;null_L2_N0</title>\n",
       "<path fill=\"none\" stroke=\"black\" d=\"M235.61,-89.96C271.41,-75.4 327.51,-52.59 366.39,-36.78\"/>\n",
       "<polygon fill=\"black\" stroke=\"black\" points=\"367.93,-39.93 375.88,-32.92 365.3,-33.44 367.93,-39.93\"/>\n",
       "<text text-anchor=\"middle\" x=\"335.09\" y=\"-57.8\" font-family=\"Times-Roman\" font-size=\"14.00\">0.31</text>\n",
       "</g>\n",
       "<!-- null_L1_N4&#45;&gt;null_L2_N0 -->\n",
       "<g id=\"edge16\" class=\"edge\">\n",
       "<title>null_L1_N4&#45;&gt;null_L2_N0</title>\n",
       "<path fill=\"none\" stroke=\"black\" d=\"M586.25,-89.96C550.1,-75.4 493.47,-52.59 454.22,-36.78\"/>\n",
       "<polygon fill=\"black\" stroke=\"black\" points=\"455.22,-33.41 444.64,-32.92 452.61,-39.9 455.22,-33.41\"/>\n",
       "<text text-anchor=\"middle\" x=\"545.09\" y=\"-57.8\" font-family=\"Times-Roman\" font-size=\"14.00\">0.36</text>\n",
       "</g>\n",
       "<!-- null_L1_Bias -->\n",
       "<g id=\"node8\" class=\"node\">\n",
       "<title>null_L1_Bias</title>\n",
       "<ellipse fill=\"none\" stroke=\"black\" cx=\"768.09\" cy=\"-105\" rx=\"67.69\" ry=\"18\"/>\n",
       "<text text-anchor=\"middle\" x=\"768.09\" y=\"-101.3\" font-family=\"Times-Roman\" font-size=\"14.00\">null_L1_Bias</text>\n",
       "</g>\n",
       "<!-- null_L1_Bias&#45;&gt;null_L2_N0 -->\n",
       "<g id=\"edge11\" class=\"edge\">\n",
       "<title>null_L1_Bias&#45;&gt;null_L2_N0</title>\n",
       "<path fill=\"none\" stroke=\"black\" d=\"M720.58,-92.02C679.48,-81.72 618.44,-66.59 565.09,-54 532.91,-46.4 496.88,-38.25 467.67,-31.72\"/>\n",
       "<polygon fill=\"black\" stroke=\"black\" points=\"468.16,-28.24 457.64,-29.48 466.63,-35.08 468.16,-28.24\"/>\n",
       "<text text-anchor=\"middle\" x=\"643.09\" y=\"-57.8\" font-family=\"Times-Roman\" font-size=\"14.00\">0.89</text>\n",
       "</g>\n",
       "<!-- 99_L0_Bias -->\n",
       "<g id=\"node10\" class=\"node\">\n",
       "<title>99_L0_Bias</title>\n",
       "<ellipse fill=\"none\" stroke=\"black\" cx=\"1087.09\" cy=\"-192\" rx=\"63.09\" ry=\"18\"/>\n",
       "<text text-anchor=\"middle\" x=\"1087.09\" y=\"-188.3\" font-family=\"Times-Roman\" font-size=\"14.00\">99_L0_Bias</text>\n",
       "</g>\n",
       "<!-- 99_L1_N0 -->\n",
       "<g id=\"node11\" class=\"node\">\n",
       "<title>99_L1_N0</title>\n",
       "<ellipse fill=\"none\" stroke=\"black\" cx=\"1299.09\" cy=\"-105\" rx=\"55.79\" ry=\"18\"/>\n",
       "<text text-anchor=\"middle\" x=\"1299.09\" y=\"-101.3\" font-family=\"Times-Roman\" font-size=\"14.00\">99_L1_N0</text>\n",
       "</g>\n",
       "<!-- 99_L0_Bias&#45;&gt;99_L1_N0 -->\n",
       "<g id=\"edge17\" class=\"edge\">\n",
       "<title>99_L0_Bias&#45;&gt;99_L1_N0</title>\n",
       "<path fill=\"none\" stroke=\"black\" d=\"M1126.78,-178.01C1142.32,-172.21 1160,-164.71 1175.09,-156 1184.41,-150.62 1184.63,-146.11 1194.09,-141 1210.35,-132.22 1229.2,-125.1 1246.41,-119.63\"/>\n",
       "<polygon fill=\"black\" stroke=\"black\" points=\"1247.78,-122.87 1256.32,-116.6 1245.73,-116.18 1247.78,-122.87\"/>\n",
       "<text text-anchor=\"middle\" x=\"1212.59\" y=\"-144.8\" font-family=\"Times-Roman\" font-size=\"14.00\">&#45;0.55</text>\n",
       "</g>\n",
       "<!-- 99_L1_N1 -->\n",
       "<g id=\"node13\" class=\"node\">\n",
       "<title>99_L1_N1</title>\n",
       "<ellipse fill=\"none\" stroke=\"black\" cx=\"909.09\" cy=\"-105\" rx=\"55.79\" ry=\"18\"/>\n",
       "<text text-anchor=\"middle\" x=\"909.09\" y=\"-101.3\" font-family=\"Times-Roman\" font-size=\"14.00\">99_L1_N1</text>\n",
       "</g>\n",
       "<!-- 99_L0_Bias&#45;&gt;99_L1_N1 -->\n",
       "<g id=\"edge19\" class=\"edge\">\n",
       "<title>99_L0_Bias&#45;&gt;99_L1_N1</title>\n",
       "<path fill=\"none\" stroke=\"black\" d=\"M1026,-187.43C997.37,-183.19 964.14,-174.31 939.09,-156 930.93,-150.03 924.57,-141.11 919.85,-132.45\"/>\n",
       "<polygon fill=\"black\" stroke=\"black\" points=\"922.91,-130.74 915.36,-123.3 916.63,-133.82 922.91,-130.74\"/>\n",
       "<text text-anchor=\"middle\" x=\"955.09\" y=\"-144.8\" font-family=\"Times-Roman\" font-size=\"14.00\">0.83</text>\n",
       "</g>\n",
       "<!-- 99_L1_N2 -->\n",
       "<g id=\"node14\" class=\"node\">\n",
       "<title>99_L1_N2</title>\n",
       "<ellipse fill=\"none\" stroke=\"black\" cx=\"1169.09\" cy=\"-105\" rx=\"55.79\" ry=\"18\"/>\n",
       "<text text-anchor=\"middle\" x=\"1169.09\" y=\"-101.3\" font-family=\"Times-Roman\" font-size=\"14.00\">99_L1_N2</text>\n",
       "</g>\n",
       "<!-- 99_L0_Bias&#45;&gt;99_L1_N2 -->\n",
       "<g id=\"edge21\" class=\"edge\">\n",
       "<title>99_L0_Bias&#45;&gt;99_L1_N2</title>\n",
       "<path fill=\"none\" stroke=\"black\" d=\"M1083.07,-173.87C1081.64,-163.51 1081.7,-150.51 1088.09,-141 1094.37,-131.65 1103.72,-124.79 1113.86,-119.75\"/>\n",
       "<polygon fill=\"black\" stroke=\"black\" points=\"1115.57,-122.83 1123.33,-115.62 1112.77,-116.41 1115.57,-122.83\"/>\n",
       "<text text-anchor=\"middle\" x=\"1104.09\" y=\"-144.8\" font-family=\"Times-Roman\" font-size=\"14.00\">0.32</text>\n",
       "</g>\n",
       "<!-- 99_L1_N3 -->\n",
       "<g id=\"node15\" class=\"node\">\n",
       "<title>99_L1_N3</title>\n",
       "<ellipse fill=\"none\" stroke=\"black\" cx=\"1039.09\" cy=\"-105\" rx=\"55.79\" ry=\"18\"/>\n",
       "<text text-anchor=\"middle\" x=\"1039.09\" y=\"-101.3\" font-family=\"Times-Roman\" font-size=\"14.00\">99_L1_N3</text>\n",
       "</g>\n",
       "<!-- 99_L0_Bias&#45;&gt;99_L1_N3 -->\n",
       "<g id=\"edge23\" class=\"edge\">\n",
       "<title>99_L0_Bias&#45;&gt;99_L1_N3</title>\n",
       "<path fill=\"none\" stroke=\"black\" d=\"M1027.76,-185.67C1008.81,-180.82 989.75,-171.98 978.09,-156 969.06,-143.61 979.61,-132.49 994.33,-123.9\"/>\n",
       "<polygon fill=\"black\" stroke=\"black\" points=\"996.15,-126.9 1003.37,-119.14 992.89,-120.7 996.15,-126.9\"/>\n",
       "<text text-anchor=\"middle\" x=\"994.09\" y=\"-144.8\" font-family=\"Times-Roman\" font-size=\"14.00\">0.89</text>\n",
       "</g>\n",
       "<!-- 99_L1_N4 -->\n",
       "<g id=\"node16\" class=\"node\">\n",
       "<title>99_L1_N4</title>\n",
       "<ellipse fill=\"none\" stroke=\"black\" cx=\"1429.09\" cy=\"-105\" rx=\"55.79\" ry=\"18\"/>\n",
       "<text text-anchor=\"middle\" x=\"1429.09\" y=\"-101.3\" font-family=\"Times-Roman\" font-size=\"14.00\">99_L1_N4</text>\n",
       "</g>\n",
       "<!-- 99_L0_Bias&#45;&gt;99_L1_N4 -->\n",
       "<g id=\"edge25\" class=\"edge\">\n",
       "<title>99_L0_Bias&#45;&gt;99_L1_N4</title>\n",
       "<path fill=\"none\" stroke=\"black\" d=\"M1140.37,-182.36C1193.45,-173.61 1268.89,-160.71 1282.09,-156 1295.03,-151.39 1296.43,-146.29 1309.09,-141 1321.7,-135.74 1350.94,-127.18 1377.39,-119.85\"/>\n",
       "<polygon fill=\"black\" stroke=\"black\" points=\"1378.64,-123.14 1387.36,-117.11 1376.79,-116.39 1378.64,-123.14\"/>\n",
       "<text text-anchor=\"middle\" x=\"1325.09\" y=\"-144.8\" font-family=\"Times-Roman\" font-size=\"14.00\">0.67</text>\n",
       "</g>\n",
       "<!-- 99_L2_N0 -->\n",
       "<g id=\"node18\" class=\"node\">\n",
       "<title>99_L2_N0</title>\n",
       "<ellipse fill=\"none\" stroke=\"black\" cx=\"1233.09\" cy=\"-18\" rx=\"55.79\" ry=\"18\"/>\n",
       "<text text-anchor=\"middle\" x=\"1233.09\" y=\"-14.3\" font-family=\"Times-Roman\" font-size=\"14.00\">99_L2_N0</text>\n",
       "</g>\n",
       "<!-- 99_L1_N0&#45;&gt;99_L2_N0 -->\n",
       "<g id=\"edge28\" class=\"edge\">\n",
       "<title>99_L1_N0&#45;&gt;99_L2_N0</title>\n",
       "<path fill=\"none\" stroke=\"black\" d=\"M1286.06,-87.21C1276.47,-74.87 1263.29,-57.89 1252.48,-43.97\"/>\n",
       "<polygon fill=\"black\" stroke=\"black\" points=\"1255,-41.51 1246.11,-35.76 1249.48,-45.8 1255,-41.51\"/>\n",
       "<text text-anchor=\"middle\" x=\"1286.09\" y=\"-57.8\" font-family=\"Times-Roman\" font-size=\"14.00\">0.99</text>\n",
       "</g>\n",
       "<!-- 99_L0_N0 -->\n",
       "<g id=\"node12\" class=\"node\">\n",
       "<title>99_L0_N0</title>\n",
       "<ellipse fill=\"none\" stroke=\"black\" cx=\"1257.09\" cy=\"-192\" rx=\"55.79\" ry=\"18\"/>\n",
       "<text text-anchor=\"middle\" x=\"1257.09\" y=\"-188.3\" font-family=\"Times-Roman\" font-size=\"14.00\">99_L0_N0</text>\n",
       "</g>\n",
       "<!-- 99_L0_N0&#45;&gt;99_L1_N0 -->\n",
       "<g id=\"edge18\" class=\"edge\">\n",
       "<title>99_L0_N0&#45;&gt;99_L1_N0</title>\n",
       "<path fill=\"none\" stroke=\"black\" d=\"M1305.48,-182.85C1320.72,-177.76 1335.96,-169.47 1345.09,-156 1352.06,-145.73 1345.54,-135.46 1335.43,-126.92\"/>\n",
       "<polygon fill=\"black\" stroke=\"black\" points=\"1337.28,-123.93 1327.17,-120.76 1333.09,-129.54 1337.28,-123.93\"/>\n",
       "<text text-anchor=\"middle\" x=\"1364.09\" y=\"-144.8\" font-family=\"Times-Roman\" font-size=\"14.00\">0.89</text>\n",
       "</g>\n",
       "<!-- 99_L0_N0&#45;&gt;99_L1_N1 -->\n",
       "<g id=\"edge20\" class=\"edge\">\n",
       "<title>99_L0_N0&#45;&gt;99_L1_N1</title>\n",
       "<path fill=\"none\" stroke=\"black\" d=\"M1209.26,-182.58C1193.31,-179.81 1175.45,-176.73 1159.09,-174 1109.37,-165.69 1095.65,-169.56 1047.09,-156 1030,-151.23 1026.71,-147.24 1010.09,-141 992.67,-134.45 973.39,-127.66 956.39,-121.83\"/>\n",
       "<polygon fill=\"black\" stroke=\"black\" points=\"957.27,-118.43 946.67,-118.51 955,-125.05 957.27,-118.43\"/>\n",
       "<text text-anchor=\"middle\" x=\"1063.09\" y=\"-144.8\" font-family=\"Times-Roman\" font-size=\"14.00\">0.16</text>\n",
       "</g>\n",
       "<!-- 99_L0_N0&#45;&gt;99_L1_N2 -->\n",
       "<g id=\"edge22\" class=\"edge\">\n",
       "<title>99_L0_N0&#45;&gt;99_L1_N2</title>\n",
       "<path fill=\"none\" stroke=\"black\" d=\"M1252.61,-173.63C1249.2,-163.18 1243.62,-150.17 1235.09,-141 1228.94,-134.37 1221.23,-128.76 1213.29,-124.1\"/>\n",
       "<polygon fill=\"black\" stroke=\"black\" points=\"1214.74,-120.91 1204.28,-119.24 1211.42,-127.07 1214.74,-120.91\"/>\n",
       "<text text-anchor=\"middle\" x=\"1262.09\" y=\"-144.8\" font-family=\"Times-Roman\" font-size=\"14.00\">0.52</text>\n",
       "</g>\n",
       "<!-- 99_L0_N0&#45;&gt;99_L1_N3 -->\n",
       "<g id=\"edge24\" class=\"edge\">\n",
       "<title>99_L0_N0&#45;&gt;99_L1_N3</title>\n",
       "<path fill=\"none\" stroke=\"black\" d=\"M1210.99,-181.64C1188.53,-176.02 1161.57,-167.66 1139.09,-156 1129.54,-151.05 1129.33,-146.51 1120.09,-141 1108.88,-134.31 1096.16,-128.2 1084.18,-123.01\"/>\n",
       "<polygon fill=\"black\" stroke=\"black\" points=\"1085.34,-119.71 1074.76,-119.07 1082.63,-126.16 1085.34,-119.71\"/>\n",
       "<text text-anchor=\"middle\" x=\"1155.09\" y=\"-144.8\" font-family=\"Times-Roman\" font-size=\"14.00\">0.78</text>\n",
       "</g>\n",
       "<!-- 99_L0_N0&#45;&gt;99_L1_N4 -->\n",
       "<g id=\"edge26\" class=\"edge\">\n",
       "<title>99_L0_N0&#45;&gt;99_L1_N4</title>\n",
       "<path fill=\"none\" stroke=\"black\" d=\"M1307.39,-183.95C1331.87,-178.87 1360.94,-170.31 1384.09,-156 1394.59,-149.51 1404.09,-139.87 1411.62,-130.77\"/>\n",
       "<polygon fill=\"black\" stroke=\"black\" points=\"1414.55,-132.71 1417.96,-122.68 1409.04,-128.39 1414.55,-132.71\"/>\n",
       "<text text-anchor=\"middle\" x=\"1418.09\" y=\"-144.8\" font-family=\"Times-Roman\" font-size=\"14.00\">0.83</text>\n",
       "</g>\n",
       "<!-- 99_L1_N1&#45;&gt;99_L2_N0 -->\n",
       "<g id=\"edge29\" class=\"edge\">\n",
       "<title>99_L1_N1&#45;&gt;99_L2_N0</title>\n",
       "<path fill=\"none\" stroke=\"black\" d=\"M949.38,-92.4C985.8,-82.02 1040.92,-66.54 1089.09,-54 1118.79,-46.27 1152.07,-38.15 1179.15,-31.67\"/>\n",
       "<polygon fill=\"black\" stroke=\"black\" points=\"1180.29,-35 1189.2,-29.28 1178.67,-28.19 1180.29,-35\"/>\n",
       "<text text-anchor=\"middle\" x=\"1105.09\" y=\"-57.8\" font-family=\"Times-Roman\" font-size=\"14.00\">0.32</text>\n",
       "</g>\n",
       "<!-- 99_L1_N2&#45;&gt;99_L2_N0 -->\n",
       "<g id=\"edge30\" class=\"edge\">\n",
       "<title>99_L1_N2&#45;&gt;99_L2_N0</title>\n",
       "<path fill=\"none\" stroke=\"black\" d=\"M1181.74,-87.21C1191.03,-74.87 1203.81,-57.89 1214.3,-43.97\"/>\n",
       "<polygon fill=\"black\" stroke=\"black\" points=\"1217.26,-45.85 1220.48,-35.76 1211.67,-41.64 1217.26,-45.85\"/>\n",
       "<text text-anchor=\"middle\" x=\"1223.59\" y=\"-57.8\" font-family=\"Times-Roman\" font-size=\"14.00\">&#45;0.08</text>\n",
       "</g>\n",
       "<!-- 99_L1_N3&#45;&gt;99_L2_N0 -->\n",
       "<g id=\"edge31\" class=\"edge\">\n",
       "<title>99_L1_N3&#45;&gt;99_L2_N0</title>\n",
       "<path fill=\"none\" stroke=\"black\" d=\"M1071.13,-89.96C1104.22,-75.46 1155.99,-52.78 1192.06,-36.98\"/>\n",
       "<polygon fill=\"black\" stroke=\"black\" points=\"1193.58,-40.13 1201.33,-32.92 1190.77,-33.72 1193.58,-40.13\"/>\n",
       "<text text-anchor=\"middle\" x=\"1166.59\" y=\"-57.8\" font-family=\"Times-Roman\" font-size=\"14.00\">&#45;0.32</text>\n",
       "</g>\n",
       "<!-- 99_L1_N4&#45;&gt;99_L2_N0 -->\n",
       "<g id=\"edge32\" class=\"edge\">\n",
       "<title>99_L1_N4&#45;&gt;99_L2_N0</title>\n",
       "<path fill=\"none\" stroke=\"black\" d=\"M1397.17,-90.15C1363.71,-75.64 1311.02,-52.79 1274.41,-36.92\"/>\n",
       "<polygon fill=\"black\" stroke=\"black\" points=\"1275.57,-33.61 1265.01,-32.84 1272.79,-40.03 1275.57,-33.61\"/>\n",
       "<text text-anchor=\"middle\" x=\"1361.59\" y=\"-57.8\" font-family=\"Times-Roman\" font-size=\"14.00\">&#45;0.19</text>\n",
       "</g>\n",
       "<!-- 99_L1_Bias -->\n",
       "<g id=\"node17\" class=\"node\">\n",
       "<title>99_L1_Bias</title>\n",
       "<ellipse fill=\"none\" stroke=\"black\" cx=\"1566.09\" cy=\"-105\" rx=\"63.09\" ry=\"18\"/>\n",
       "<text text-anchor=\"middle\" x=\"1566.09\" y=\"-101.3\" font-family=\"Times-Roman\" font-size=\"14.00\">99_L1_Bias</text>\n",
       "</g>\n",
       "<!-- 99_L1_Bias&#45;&gt;99_L2_N0 -->\n",
       "<g id=\"edge27\" class=\"edge\">\n",
       "<title>99_L1_Bias&#45;&gt;99_L2_N0</title>\n",
       "<path fill=\"none\" stroke=\"black\" d=\"M1523.2,-91.69C1486.4,-81.26 1431.9,-66.1 1384.09,-54 1352.24,-45.94 1316.42,-37.6 1287.67,-31.09\"/>\n",
       "<polygon fill=\"black\" stroke=\"black\" points=\"1288.33,-27.65 1277.81,-28.87 1286.79,-34.48 1288.33,-27.65\"/>\n",
       "<text text-anchor=\"middle\" x=\"1456.09\" y=\"-57.8\" font-family=\"Times-Roman\" font-size=\"14.00\">0.03</text>\n",
       "</g>\n",
       "<!-- 199_L0_Bias -->\n",
       "<g id=\"node19\" class=\"node\">\n",
       "<title>199_L0_Bias</title>\n",
       "<ellipse fill=\"none\" stroke=\"black\" cx=\"1914.09\" cy=\"-192\" rx=\"68.79\" ry=\"18\"/>\n",
       "<text text-anchor=\"middle\" x=\"1914.09\" y=\"-188.3\" font-family=\"Times-Roman\" font-size=\"14.00\">199_L0_Bias</text>\n",
       "</g>\n",
       "<!-- 199_L1_N0 -->\n",
       "<g id=\"node20\" class=\"node\">\n",
       "<title>199_L1_N0</title>\n",
       "<ellipse fill=\"none\" stroke=\"black\" cx=\"2132.09\" cy=\"-105\" rx=\"61.99\" ry=\"18\"/>\n",
       "<text text-anchor=\"middle\" x=\"2132.09\" y=\"-101.3\" font-family=\"Times-Roman\" font-size=\"14.00\">199_L1_N0</text>\n",
       "</g>\n",
       "<!-- 199_L0_Bias&#45;&gt;199_L1_N0 -->\n",
       "<g id=\"edge33\" class=\"edge\">\n",
       "<title>199_L0_Bias&#45;&gt;199_L1_N0</title>\n",
       "<path fill=\"none\" stroke=\"black\" d=\"M1955.1,-177.51C1970.32,-171.78 1987.43,-164.46 2002.09,-156 2011.41,-150.62 2011.59,-146.03 2021.09,-141 2037.9,-132.11 2057.34,-125.02 2075.21,-119.62\"/>\n",
       "<polygon fill=\"black\" stroke=\"black\" points=\"2076.33,-122.94 2084.95,-116.79 2074.38,-116.22 2076.33,-122.94\"/>\n",
       "<text text-anchor=\"middle\" x=\"2039.59\" y=\"-144.8\" font-family=\"Times-Roman\" font-size=\"14.00\">&#45;1.30</text>\n",
       "</g>\n",
       "<!-- 199_L1_N1 -->\n",
       "<g id=\"node22\" class=\"node\">\n",
       "<title>199_L1_N1</title>\n",
       "<ellipse fill=\"none\" stroke=\"black\" cx=\"1709.09\" cy=\"-105\" rx=\"61.99\" ry=\"18\"/>\n",
       "<text text-anchor=\"middle\" x=\"1709.09\" y=\"-101.3\" font-family=\"Times-Roman\" font-size=\"14.00\">199_L1_N1</text>\n",
       "</g>\n",
       "<!-- 199_L0_Bias&#45;&gt;199_L1_N1 -->\n",
       "<g id=\"edge35\" class=\"edge\">\n",
       "<title>199_L0_Bias&#45;&gt;199_L1_N1</title>\n",
       "<path fill=\"none\" stroke=\"black\" d=\"M1853.06,-183.44C1825.4,-178.32 1792.96,-169.86 1766.09,-156 1753.36,-149.43 1741.14,-139.4 1731.31,-130.05\"/>\n",
       "<polygon fill=\"black\" stroke=\"black\" points=\"1733.54,-127.33 1723.97,-122.77 1728.61,-132.3 1733.54,-127.33\"/>\n",
       "<text text-anchor=\"middle\" x=\"1782.09\" y=\"-144.8\" font-family=\"Times-Roman\" font-size=\"14.00\">0.85</text>\n",
       "</g>\n",
       "<!-- 199_L1_N2 -->\n",
       "<g id=\"node23\" class=\"node\">\n",
       "<title>199_L1_N2</title>\n",
       "<ellipse fill=\"none\" stroke=\"black\" cx=\"1991.09\" cy=\"-105\" rx=\"61.99\" ry=\"18\"/>\n",
       "<text text-anchor=\"middle\" x=\"1991.09\" y=\"-101.3\" font-family=\"Times-Roman\" font-size=\"14.00\">199_L1_N2</text>\n",
       "</g>\n",
       "<!-- 199_L0_Bias&#45;&gt;199_L1_N2 -->\n",
       "<g id=\"edge37\" class=\"edge\">\n",
       "<title>199_L0_Bias&#45;&gt;199_L1_N2</title>\n",
       "<path fill=\"none\" stroke=\"black\" d=\"M1910.15,-173.92C1908.75,-163.58 1908.82,-150.59 1915.09,-141 1920.41,-132.88 1928.12,-126.62 1936.63,-121.79\"/>\n",
       "<polygon fill=\"black\" stroke=\"black\" points=\"1938.31,-124.86 1945.7,-117.27 1935.19,-118.6 1938.31,-124.86\"/>\n",
       "<text text-anchor=\"middle\" x=\"1931.09\" y=\"-144.8\" font-family=\"Times-Roman\" font-size=\"14.00\">0.33</text>\n",
       "</g>\n",
       "<!-- 199_L1_N3 -->\n",
       "<g id=\"node24\" class=\"node\">\n",
       "<title>199_L1_N3</title>\n",
       "<ellipse fill=\"none\" stroke=\"black\" cx=\"1850.09\" cy=\"-105\" rx=\"61.99\" ry=\"18\"/>\n",
       "<text text-anchor=\"middle\" x=\"1850.09\" y=\"-101.3\" font-family=\"Times-Roman\" font-size=\"14.00\">199_L1_N3</text>\n",
       "</g>\n",
       "<!-- 199_L0_Bias&#45;&gt;199_L1_N3 -->\n",
       "<g id=\"edge39\" class=\"edge\">\n",
       "<title>199_L0_Bias&#45;&gt;199_L1_N3</title>\n",
       "<path fill=\"none\" stroke=\"black\" d=\"M1851.04,-184.67C1833.35,-179.64 1815.99,-170.94 1805.09,-156 1797.91,-146.15 1804.07,-136.02 1813.88,-127.47\"/>\n",
       "<polygon fill=\"black\" stroke=\"black\" points=\"1816.14,-130.15 1821.94,-121.28 1811.88,-124.6 1816.14,-130.15\"/>\n",
       "<text text-anchor=\"middle\" x=\"1821.09\" y=\"-144.8\" font-family=\"Times-Roman\" font-size=\"14.00\">0.99</text>\n",
       "</g>\n",
       "<!-- 199_L1_N4 -->\n",
       "<g id=\"node25\" class=\"node\">\n",
       "<title>199_L1_N4</title>\n",
       "<ellipse fill=\"none\" stroke=\"black\" cx=\"2273.09\" cy=\"-105\" rx=\"61.99\" ry=\"18\"/>\n",
       "<text text-anchor=\"middle\" x=\"2273.09\" y=\"-101.3\" font-family=\"Times-Roman\" font-size=\"14.00\">199_L1_N4</text>\n",
       "</g>\n",
       "<!-- 199_L0_Bias&#45;&gt;199_L1_N4 -->\n",
       "<g id=\"edge41\" class=\"edge\">\n",
       "<title>199_L0_Bias&#45;&gt;199_L1_N4</title>\n",
       "<path fill=\"none\" stroke=\"black\" d=\"M1969.99,-181.43C2025.24,-171.9 2102.49,-158.35 2109.09,-156 2122.03,-151.39 2123.34,-146.07 2136.09,-141 2143.93,-137.88 2182.84,-128.02 2217.2,-119.56\"/>\n",
       "<polygon fill=\"black\" stroke=\"black\" points=\"2218.33,-122.89 2227.2,-117.11 2216.66,-116.09 2218.33,-122.89\"/>\n",
       "<text text-anchor=\"middle\" x=\"2152.09\" y=\"-144.8\" font-family=\"Times-Roman\" font-size=\"14.00\">0.76</text>\n",
       "</g>\n",
       "<!-- 199_L2_N0 -->\n",
       "<g id=\"node27\" class=\"node\">\n",
       "<title>199_L2_N0</title>\n",
       "<ellipse fill=\"none\" stroke=\"black\" cx=\"2061.09\" cy=\"-18\" rx=\"61.99\" ry=\"18\"/>\n",
       "<text text-anchor=\"middle\" x=\"2061.09\" y=\"-14.3\" font-family=\"Times-Roman\" font-size=\"14.00\">199_L2_N0</text>\n",
       "</g>\n",
       "<!-- 199_L1_N0&#45;&gt;199_L2_N0 -->\n",
       "<g id=\"edge44\" class=\"edge\">\n",
       "<title>199_L1_N0&#45;&gt;199_L2_N0</title>\n",
       "<path fill=\"none\" stroke=\"black\" d=\"M2118.07,-87.21C2107.66,-74.75 2093.31,-57.57 2081.62,-43.57\"/>\n",
       "<polygon fill=\"black\" stroke=\"black\" points=\"2084.19,-41.19 2075.09,-35.76 2078.82,-45.68 2084.19,-41.19\"/>\n",
       "<text text-anchor=\"middle\" x=\"2117.09\" y=\"-57.8\" font-family=\"Times-Roman\" font-size=\"14.00\">1.59</text>\n",
       "</g>\n",
       "<!-- 199_L0_N0 -->\n",
       "<g id=\"node21\" class=\"node\">\n",
       "<title>199_L0_N0</title>\n",
       "<ellipse fill=\"none\" stroke=\"black\" cx=\"2084.09\" cy=\"-192\" rx=\"61.99\" ry=\"18\"/>\n",
       "<text text-anchor=\"middle\" x=\"2084.09\" y=\"-188.3\" font-family=\"Times-Roman\" font-size=\"14.00\">199_L0_N0</text>\n",
       "</g>\n",
       "<!-- 199_L0_N0&#45;&gt;199_L1_N0 -->\n",
       "<g id=\"edge34\" class=\"edge\">\n",
       "<title>199_L0_N0&#45;&gt;199_L1_N0</title>\n",
       "<path fill=\"none\" stroke=\"black\" d=\"M2135.25,-181.89C2149.55,-176.73 2163.51,-168.65 2172.09,-156 2178.48,-146.59 2173.37,-136.71 2164.93,-128.24\"/>\n",
       "<polygon fill=\"black\" stroke=\"black\" points=\"2167.07,-125.46 2157.24,-121.5 2162.45,-130.72 2167.07,-125.46\"/>\n",
       "<text text-anchor=\"middle\" x=\"2191.09\" y=\"-144.8\" font-family=\"Times-Roman\" font-size=\"14.00\">1.37</text>\n",
       "</g>\n",
       "<!-- 199_L0_N0&#45;&gt;199_L1_N1 -->\n",
       "<g id=\"edge36\" class=\"edge\">\n",
       "<title>199_L0_N0&#45;&gt;199_L1_N1</title>\n",
       "<path fill=\"none\" stroke=\"black\" d=\"M2034.01,-181.45C2020.42,-178.94 2005.71,-176.3 1992.09,-174 1939.78,-165.18 1925.25,-170.06 1874.09,-156 1856.98,-151.3 1853.9,-146.68 1837.09,-141 1813.71,-133.09 1787.48,-125.67 1764.88,-119.72\"/>\n",
       "<polygon fill=\"black\" stroke=\"black\" points=\"1765.67,-116.31 1755.11,-117.18 1763.9,-123.08 1765.67,-116.31\"/>\n",
       "<text text-anchor=\"middle\" x=\"1890.09\" y=\"-144.8\" font-family=\"Times-Roman\" font-size=\"14.00\">0.09</text>\n",
       "</g>\n",
       "<!-- 199_L0_N0&#45;&gt;199_L1_N2 -->\n",
       "<g id=\"edge38\" class=\"edge\">\n",
       "<title>199_L0_N0&#45;&gt;199_L1_N2</title>\n",
       "<path fill=\"none\" stroke=\"black\" d=\"M2079.86,-174.01C2076.5,-163.45 2070.88,-150.18 2062.09,-141 2055.46,-134.07 2047.17,-128.32 2038.62,-123.62\"/>\n",
       "<polygon fill=\"black\" stroke=\"black\" points=\"2040.18,-120.49 2029.67,-119.1 2037.02,-126.73 2040.18,-120.49\"/>\n",
       "<text text-anchor=\"middle\" x=\"2089.09\" y=\"-144.8\" font-family=\"Times-Roman\" font-size=\"14.00\">0.54</text>\n",
       "</g>\n",
       "<!-- 199_L0_N0&#45;&gt;199_L1_N3 -->\n",
       "<g id=\"edge40\" class=\"edge\">\n",
       "<title>199_L0_N0&#45;&gt;199_L1_N3</title>\n",
       "<path fill=\"none\" stroke=\"black\" d=\"M2035.13,-180.92C2013.26,-175.31 1987.63,-167.16 1966.09,-156 1956.54,-151.05 1956.5,-146.23 1947.09,-141 1933.23,-133.29 1917.35,-126.73 1902.5,-121.44\"/>\n",
       "<polygon fill=\"black\" stroke=\"black\" points=\"1903.52,-118.09 1892.92,-118.15 1901.24,-124.71 1903.52,-118.09\"/>\n",
       "<text text-anchor=\"middle\" x=\"1982.09\" y=\"-144.8\" font-family=\"Times-Roman\" font-size=\"14.00\">1.30</text>\n",
       "</g>\n",
       "<!-- 199_L0_N0&#45;&gt;199_L1_N4 -->\n",
       "<g id=\"edge42\" class=\"edge\">\n",
       "<title>199_L0_N0&#45;&gt;199_L1_N4</title>\n",
       "<path fill=\"none\" stroke=\"black\" d=\"M2135.32,-181.91C2159.2,-176.43 2187.49,-168.1 2211.09,-156 2224.63,-149.06 2237.97,-138.86 2248.8,-129.47\"/>\n",
       "<polygon fill=\"black\" stroke=\"black\" points=\"2251.44,-131.81 2256.54,-122.53 2246.76,-126.6 2251.44,-131.81\"/>\n",
       "<text text-anchor=\"middle\" x=\"2250.09\" y=\"-144.8\" font-family=\"Times-Roman\" font-size=\"14.00\">1.14</text>\n",
       "</g>\n",
       "<!-- 199_L1_N1&#45;&gt;199_L2_N0 -->\n",
       "<g id=\"edge45\" class=\"edge\">\n",
       "<title>199_L1_N1&#45;&gt;199_L2_N0</title>\n",
       "<path fill=\"none\" stroke=\"black\" d=\"M1753.45,-92.48C1793.53,-82.14 1854.17,-66.69 1907.09,-54 1938.93,-46.36 1974.58,-38.23 2003.55,-31.74\"/>\n",
       "<polygon fill=\"black\" stroke=\"black\" points=\"2004.51,-35.11 2013.5,-29.51 2002.98,-28.28 2004.51,-35.11\"/>\n",
       "<text text-anchor=\"middle\" x=\"1923.09\" y=\"-57.8\" font-family=\"Times-Roman\" font-size=\"14.00\">0.51</text>\n",
       "</g>\n",
       "<!-- 199_L1_N2&#45;&gt;199_L2_N0 -->\n",
       "<g id=\"edge46\" class=\"edge\">\n",
       "<title>199_L1_N2&#45;&gt;199_L2_N0</title>\n",
       "<path fill=\"none\" stroke=\"black\" d=\"M2004.92,-87.21C2015.18,-74.75 2029.33,-57.57 2040.86,-43.57\"/>\n",
       "<polygon fill=\"black\" stroke=\"black\" points=\"2043.64,-45.7 2047.29,-35.76 2038.23,-41.25 2043.64,-45.7\"/>\n",
       "<text text-anchor=\"middle\" x=\"2049.59\" y=\"-57.8\" font-family=\"Times-Roman\" font-size=\"14.00\">&#45;0.02</text>\n",
       "</g>\n",
       "<!-- 199_L1_N3&#45;&gt;199_L2_N0 -->\n",
       "<g id=\"edge47\" class=\"edge\">\n",
       "<title>199_L1_N3&#45;&gt;199_L2_N0</title>\n",
       "<path fill=\"none\" stroke=\"black\" d=\"M1884.94,-89.96C1920.98,-75.45 1977.38,-52.72 2016.62,-36.92\"/>\n",
       "<polygon fill=\"black\" stroke=\"black\" points=\"2018.23,-40.04 2026.2,-33.06 2015.62,-33.55 2018.23,-40.04\"/>\n",
       "<text text-anchor=\"middle\" x=\"1987.59\" y=\"-57.8\" font-family=\"Times-Roman\" font-size=\"14.00\">&#45;0.76</text>\n",
       "</g>\n",
       "<!-- 199_L1_N4&#45;&gt;199_L2_N0 -->\n",
       "<g id=\"edge48\" class=\"edge\">\n",
       "<title>199_L1_N4&#45;&gt;199_L2_N0</title>\n",
       "<path fill=\"none\" stroke=\"black\" d=\"M2238.09,-89.96C2201.77,-75.4 2144.87,-52.59 2105.43,-36.78\"/>\n",
       "<polygon fill=\"black\" stroke=\"black\" points=\"2106.39,-33.39 2095.8,-32.92 2103.78,-39.89 2106.39,-33.39\"/>\n",
       "<text text-anchor=\"middle\" x=\"2198.59\" y=\"-57.8\" font-family=\"Times-Roman\" font-size=\"14.00\">&#45;0.53</text>\n",
       "</g>\n",
       "<!-- 199_L1_Bias -->\n",
       "<g id=\"node26\" class=\"node\">\n",
       "<title>199_L1_Bias</title>\n",
       "<ellipse fill=\"none\" stroke=\"black\" cx=\"2422.09\" cy=\"-105\" rx=\"68.79\" ry=\"18\"/>\n",
       "<text text-anchor=\"middle\" x=\"2422.09\" y=\"-101.3\" font-family=\"Times-Roman\" font-size=\"14.00\">199_L1_Bias</text>\n",
       "</g>\n",
       "<!-- 199_L1_Bias&#45;&gt;199_L2_N0 -->\n",
       "<g id=\"edge43\" class=\"edge\">\n",
       "<title>199_L1_Bias&#45;&gt;199_L2_N0</title>\n",
       "<path fill=\"none\" stroke=\"black\" d=\"M2374.67,-91.8C2334,-81.43 2273.79,-66.32 2221.09,-54 2187.51,-46.15 2149.84,-37.88 2119.48,-31.36\"/>\n",
       "<polygon fill=\"black\" stroke=\"black\" points=\"2120,-27.89 2109.49,-29.21 2118.53,-34.73 2120,-27.89\"/>\n",
       "<text text-anchor=\"middle\" x=\"2298.09\" y=\"-57.8\" font-family=\"Times-Roman\" font-size=\"14.00\">0.31</text>\n",
       "</g>\n",
       "<!-- 299_L0_Bias -->\n",
       "<g id=\"node28\" class=\"node\">\n",
       "<title>299_L0_Bias</title>\n",
       "<ellipse fill=\"none\" stroke=\"black\" cx=\"2776.09\" cy=\"-192\" rx=\"68.79\" ry=\"18\"/>\n",
       "<text text-anchor=\"middle\" x=\"2776.09\" y=\"-188.3\" font-family=\"Times-Roman\" font-size=\"14.00\">299_L0_Bias</text>\n",
       "</g>\n",
       "<!-- 299_L1_N0 -->\n",
       "<g id=\"node29\" class=\"node\">\n",
       "<title>299_L1_N0</title>\n",
       "<ellipse fill=\"none\" stroke=\"black\" cx=\"2994.09\" cy=\"-105\" rx=\"61.99\" ry=\"18\"/>\n",
       "<text text-anchor=\"middle\" x=\"2994.09\" y=\"-101.3\" font-family=\"Times-Roman\" font-size=\"14.00\">299_L1_N0</text>\n",
       "</g>\n",
       "<!-- 299_L0_Bias&#45;&gt;299_L1_N0 -->\n",
       "<g id=\"edge49\" class=\"edge\">\n",
       "<title>299_L0_Bias&#45;&gt;299_L1_N0</title>\n",
       "<path fill=\"none\" stroke=\"black\" d=\"M2817.1,-177.51C2832.32,-171.78 2849.43,-164.46 2864.09,-156 2873.41,-150.62 2873.59,-146.03 2883.09,-141 2899.9,-132.11 2919.34,-125.02 2937.21,-119.62\"/>\n",
       "<polygon fill=\"black\" stroke=\"black\" points=\"2938.33,-122.94 2946.95,-116.79 2936.38,-116.22 2938.33,-122.94\"/>\n",
       "<text text-anchor=\"middle\" x=\"2901.59\" y=\"-144.8\" font-family=\"Times-Roman\" font-size=\"14.00\">&#45;1.67</text>\n",
       "</g>\n",
       "<!-- 299_L1_N1 -->\n",
       "<g id=\"node31\" class=\"node\">\n",
       "<title>299_L1_N1</title>\n",
       "<ellipse fill=\"none\" stroke=\"black\" cx=\"2571.09\" cy=\"-105\" rx=\"61.99\" ry=\"18\"/>\n",
       "<text text-anchor=\"middle\" x=\"2571.09\" y=\"-101.3\" font-family=\"Times-Roman\" font-size=\"14.00\">299_L1_N1</text>\n",
       "</g>\n",
       "<!-- 299_L0_Bias&#45;&gt;299_L1_N1 -->\n",
       "<g id=\"edge51\" class=\"edge\">\n",
       "<title>299_L0_Bias&#45;&gt;299_L1_N1</title>\n",
       "<path fill=\"none\" stroke=\"black\" d=\"M2715.06,-183.44C2687.4,-178.32 2654.96,-169.86 2628.09,-156 2615.36,-149.43 2603.14,-139.4 2593.31,-130.05\"/>\n",
       "<polygon fill=\"black\" stroke=\"black\" points=\"2595.54,-127.33 2585.97,-122.77 2590.61,-132.3 2595.54,-127.33\"/>\n",
       "<text text-anchor=\"middle\" x=\"2644.09\" y=\"-144.8\" font-family=\"Times-Roman\" font-size=\"14.00\">0.86</text>\n",
       "</g>\n",
       "<!-- 299_L1_N2 -->\n",
       "<g id=\"node32\" class=\"node\">\n",
       "<title>299_L1_N2</title>\n",
       "<ellipse fill=\"none\" stroke=\"black\" cx=\"2853.09\" cy=\"-105\" rx=\"61.99\" ry=\"18\"/>\n",
       "<text text-anchor=\"middle\" x=\"2853.09\" y=\"-101.3\" font-family=\"Times-Roman\" font-size=\"14.00\">299_L1_N2</text>\n",
       "</g>\n",
       "<!-- 299_L0_Bias&#45;&gt;299_L1_N2 -->\n",
       "<g id=\"edge53\" class=\"edge\">\n",
       "<title>299_L0_Bias&#45;&gt;299_L1_N2</title>\n",
       "<path fill=\"none\" stroke=\"black\" d=\"M2772.15,-173.92C2770.75,-163.58 2770.82,-150.59 2777.09,-141 2782.41,-132.88 2790.12,-126.62 2798.63,-121.79\"/>\n",
       "<polygon fill=\"black\" stroke=\"black\" points=\"2800.31,-124.86 2807.7,-117.27 2797.19,-118.6 2800.31,-124.86\"/>\n",
       "<text text-anchor=\"middle\" x=\"2793.09\" y=\"-144.8\" font-family=\"Times-Roman\" font-size=\"14.00\">0.33</text>\n",
       "</g>\n",
       "<!-- 299_L1_N3 -->\n",
       "<g id=\"node33\" class=\"node\">\n",
       "<title>299_L1_N3</title>\n",
       "<ellipse fill=\"none\" stroke=\"black\" cx=\"2712.09\" cy=\"-105\" rx=\"61.99\" ry=\"18\"/>\n",
       "<text text-anchor=\"middle\" x=\"2712.09\" y=\"-101.3\" font-family=\"Times-Roman\" font-size=\"14.00\">299_L1_N3</text>\n",
       "</g>\n",
       "<!-- 299_L0_Bias&#45;&gt;299_L1_N3 -->\n",
       "<g id=\"edge55\" class=\"edge\">\n",
       "<title>299_L0_Bias&#45;&gt;299_L1_N3</title>\n",
       "<path fill=\"none\" stroke=\"black\" d=\"M2713.04,-184.67C2695.35,-179.64 2677.99,-170.94 2667.09,-156 2659.91,-146.15 2666.07,-136.02 2675.88,-127.47\"/>\n",
       "<polygon fill=\"black\" stroke=\"black\" points=\"2678.14,-130.15 2683.94,-121.28 2673.88,-124.6 2678.14,-130.15\"/>\n",
       "<text text-anchor=\"middle\" x=\"2683.09\" y=\"-144.8\" font-family=\"Times-Roman\" font-size=\"14.00\">1.06</text>\n",
       "</g>\n",
       "<!-- 299_L1_N4 -->\n",
       "<g id=\"node34\" class=\"node\">\n",
       "<title>299_L1_N4</title>\n",
       "<ellipse fill=\"none\" stroke=\"black\" cx=\"3135.09\" cy=\"-105\" rx=\"61.99\" ry=\"18\"/>\n",
       "<text text-anchor=\"middle\" x=\"3135.09\" y=\"-101.3\" font-family=\"Times-Roman\" font-size=\"14.00\">299_L1_N4</text>\n",
       "</g>\n",
       "<!-- 299_L0_Bias&#45;&gt;299_L1_N4 -->\n",
       "<g id=\"edge57\" class=\"edge\">\n",
       "<title>299_L0_Bias&#45;&gt;299_L1_N4</title>\n",
       "<path fill=\"none\" stroke=\"black\" d=\"M2831.99,-181.43C2887.24,-171.9 2964.49,-158.35 2971.09,-156 2984.03,-151.39 2985.34,-146.07 2998.09,-141 3005.93,-137.88 3044.84,-128.02 3079.2,-119.56\"/>\n",
       "<polygon fill=\"black\" stroke=\"black\" points=\"3080.33,-122.89 3089.2,-117.11 3078.66,-116.09 3080.33,-122.89\"/>\n",
       "<text text-anchor=\"middle\" x=\"3014.09\" y=\"-144.8\" font-family=\"Times-Roman\" font-size=\"14.00\">0.83</text>\n",
       "</g>\n",
       "<!-- 299_L2_N0 -->\n",
       "<g id=\"node36\" class=\"node\">\n",
       "<title>299_L2_N0</title>\n",
       "<ellipse fill=\"none\" stroke=\"black\" cx=\"2934.09\" cy=\"-18\" rx=\"61.99\" ry=\"18\"/>\n",
       "<text text-anchor=\"middle\" x=\"2934.09\" y=\"-14.3\" font-family=\"Times-Roman\" font-size=\"14.00\">299_L2_N0</text>\n",
       "</g>\n",
       "<!-- 299_L1_N0&#45;&gt;299_L2_N0 -->\n",
       "<g id=\"edge60\" class=\"edge\">\n",
       "<title>299_L1_N0&#45;&gt;299_L2_N0</title>\n",
       "<path fill=\"none\" stroke=\"black\" d=\"M2982.24,-87.21C2973.53,-74.87 2961.55,-57.89 2951.72,-43.97\"/>\n",
       "<polygon fill=\"black\" stroke=\"black\" points=\"2954.55,-41.91 2945.92,-35.76 2948.83,-45.95 2954.55,-41.91\"/>\n",
       "<text text-anchor=\"middle\" x=\"2984.09\" y=\"-57.8\" font-family=\"Times-Roman\" font-size=\"14.00\">1.98</text>\n",
       "</g>\n",
       "<!-- 299_L0_N0 -->\n",
       "<g id=\"node30\" class=\"node\">\n",
       "<title>299_L0_N0</title>\n",
       "<ellipse fill=\"none\" stroke=\"black\" cx=\"2946.09\" cy=\"-192\" rx=\"61.99\" ry=\"18\"/>\n",
       "<text text-anchor=\"middle\" x=\"2946.09\" y=\"-188.3\" font-family=\"Times-Roman\" font-size=\"14.00\">299_L0_N0</text>\n",
       "</g>\n",
       "<!-- 299_L0_N0&#45;&gt;299_L1_N0 -->\n",
       "<g id=\"edge50\" class=\"edge\">\n",
       "<title>299_L0_N0&#45;&gt;299_L1_N0</title>\n",
       "<path fill=\"none\" stroke=\"black\" d=\"M2997.25,-181.89C3011.55,-176.73 3025.51,-168.65 3034.09,-156 3040.48,-146.59 3035.37,-136.71 3026.93,-128.24\"/>\n",
       "<polygon fill=\"black\" stroke=\"black\" points=\"3029.07,-125.46 3019.24,-121.5 3024.45,-130.72 3029.07,-125.46\"/>\n",
       "<text text-anchor=\"middle\" x=\"3053.09\" y=\"-144.8\" font-family=\"Times-Roman\" font-size=\"14.00\">1.58</text>\n",
       "</g>\n",
       "<!-- 299_L0_N0&#45;&gt;299_L1_N1 -->\n",
       "<g id=\"edge52\" class=\"edge\">\n",
       "<title>299_L0_N0&#45;&gt;299_L1_N1</title>\n",
       "<path fill=\"none\" stroke=\"black\" d=\"M2896.01,-181.45C2882.42,-178.94 2867.71,-176.3 2854.09,-174 2801.78,-165.18 2787.25,-170.06 2736.09,-156 2718.98,-151.3 2715.9,-146.68 2699.09,-141 2675.71,-133.09 2649.48,-125.67 2626.88,-119.72\"/>\n",
       "<polygon fill=\"black\" stroke=\"black\" points=\"2627.67,-116.31 2617.11,-117.18 2625.9,-123.08 2627.67,-116.31\"/>\n",
       "<text text-anchor=\"middle\" x=\"2752.09\" y=\"-144.8\" font-family=\"Times-Roman\" font-size=\"14.00\">0.09</text>\n",
       "</g>\n",
       "<!-- 299_L0_N0&#45;&gt;299_L1_N2 -->\n",
       "<g id=\"edge54\" class=\"edge\">\n",
       "<title>299_L0_N0&#45;&gt;299_L1_N2</title>\n",
       "<path fill=\"none\" stroke=\"black\" d=\"M2941.86,-174.01C2938.5,-163.45 2932.88,-150.18 2924.09,-141 2917.46,-134.07 2909.17,-128.32 2900.62,-123.62\"/>\n",
       "<polygon fill=\"black\" stroke=\"black\" points=\"2902.18,-120.49 2891.67,-119.1 2899.02,-126.73 2902.18,-120.49\"/>\n",
       "<text text-anchor=\"middle\" x=\"2951.09\" y=\"-144.8\" font-family=\"Times-Roman\" font-size=\"14.00\">0.54</text>\n",
       "</g>\n",
       "<!-- 299_L0_N0&#45;&gt;299_L1_N3 -->\n",
       "<g id=\"edge56\" class=\"edge\">\n",
       "<title>299_L0_N0&#45;&gt;299_L1_N3</title>\n",
       "<path fill=\"none\" stroke=\"black\" d=\"M2897.13,-180.92C2875.26,-175.31 2849.63,-167.16 2828.09,-156 2818.54,-151.05 2818.5,-146.23 2809.09,-141 2795.23,-133.29 2779.35,-126.73 2764.5,-121.44\"/>\n",
       "<polygon fill=\"black\" stroke=\"black\" points=\"2765.52,-118.09 2754.92,-118.15 2763.24,-124.71 2765.52,-118.09\"/>\n",
       "<text text-anchor=\"middle\" x=\"2844.09\" y=\"-144.8\" font-family=\"Times-Roman\" font-size=\"14.00\">1.54</text>\n",
       "</g>\n",
       "<!-- 299_L0_N0&#45;&gt;299_L1_N4 -->\n",
       "<g id=\"edge58\" class=\"edge\">\n",
       "<title>299_L0_N0&#45;&gt;299_L1_N4</title>\n",
       "<path fill=\"none\" stroke=\"black\" d=\"M2997.32,-181.91C3021.2,-176.43 3049.49,-168.1 3073.09,-156 3086.63,-149.06 3099.97,-138.86 3110.8,-129.47\"/>\n",
       "<polygon fill=\"black\" stroke=\"black\" points=\"3113.44,-131.81 3118.54,-122.53 3108.76,-126.6 3113.44,-131.81\"/>\n",
       "<text text-anchor=\"middle\" x=\"3112.09\" y=\"-144.8\" font-family=\"Times-Roman\" font-size=\"14.00\">1.31</text>\n",
       "</g>\n",
       "<!-- 299_L1_N1&#45;&gt;299_L2_N0 -->\n",
       "<g id=\"edge61\" class=\"edge\">\n",
       "<title>299_L1_N1&#45;&gt;299_L2_N0</title>\n",
       "<path fill=\"none\" stroke=\"black\" d=\"M2616.16,-92.54C2657.25,-82.18 2719.65,-66.66 2774.09,-54 2807.69,-46.19 2845.36,-37.92 2875.71,-31.39\"/>\n",
       "<polygon fill=\"black\" stroke=\"black\" points=\"2876.67,-34.76 2885.71,-29.24 2875.2,-27.92 2876.67,-34.76\"/>\n",
       "<text text-anchor=\"middle\" x=\"2790.09\" y=\"-57.8\" font-family=\"Times-Roman\" font-size=\"14.00\">0.60</text>\n",
       "</g>\n",
       "<!-- 299_L1_N2&#45;&gt;299_L2_N0 -->\n",
       "<g id=\"edge62\" class=\"edge\">\n",
       "<title>299_L1_N2&#45;&gt;299_L2_N0</title>\n",
       "<path fill=\"none\" stroke=\"black\" d=\"M2869.1,-87.21C2881.16,-74.55 2897.86,-57.03 2911.31,-42.91\"/>\n",
       "<polygon fill=\"black\" stroke=\"black\" points=\"2914.04,-45.12 2918.4,-35.47 2908.97,-40.29 2914.04,-45.12\"/>\n",
       "<text text-anchor=\"middle\" x=\"2915.09\" y=\"-57.8\" font-family=\"Times-Roman\" font-size=\"14.00\">0.03</text>\n",
       "</g>\n",
       "<!-- 299_L1_N3&#45;&gt;299_L2_N0 -->\n",
       "<g id=\"edge63\" class=\"edge\">\n",
       "<title>299_L1_N3&#45;&gt;299_L2_N0</title>\n",
       "<path fill=\"none\" stroke=\"black\" d=\"M2748.26,-90.15C2786.59,-75.48 2847.21,-52.27 2888.72,-36.37\"/>\n",
       "<polygon fill=\"black\" stroke=\"black\" points=\"2890.23,-39.54 2898.32,-32.7 2887.73,-33.01 2890.23,-39.54\"/>\n",
       "<text text-anchor=\"middle\" x=\"2855.59\" y=\"-57.8\" font-family=\"Times-Roman\" font-size=\"14.00\">&#45;0.99</text>\n",
       "</g>\n",
       "<!-- 299_L1_N4&#45;&gt;299_L2_N0 -->\n",
       "<g id=\"edge64\" class=\"edge\">\n",
       "<title>299_L1_N4&#45;&gt;299_L2_N0</title>\n",
       "<path fill=\"none\" stroke=\"black\" d=\"M3101.45,-89.77C3067.39,-75.37 3014.58,-53.04 2977.41,-37.32\"/>\n",
       "<polygon fill=\"black\" stroke=\"black\" points=\"2978.42,-33.94 2967.85,-33.27 2975.69,-40.39 2978.42,-33.94\"/>\n",
       "<text text-anchor=\"middle\" x=\"3065.59\" y=\"-57.8\" font-family=\"Times-Roman\" font-size=\"14.00\">&#45;0.68</text>\n",
       "</g>\n",
       "<!-- 299_L1_Bias -->\n",
       "<g id=\"node35\" class=\"node\">\n",
       "<title>299_L1_Bias</title>\n",
       "<ellipse fill=\"none\" stroke=\"black\" cx=\"3284.09\" cy=\"-105\" rx=\"68.79\" ry=\"18\"/>\n",
       "<text text-anchor=\"middle\" x=\"3284.09\" y=\"-101.3\" font-family=\"Times-Roman\" font-size=\"14.00\">299_L1_Bias</text>\n",
       "</g>\n",
       "<!-- 299_L1_Bias&#45;&gt;299_L2_N0 -->\n",
       "<g id=\"edge59\" class=\"edge\">\n",
       "<title>299_L1_Bias&#45;&gt;299_L2_N0</title>\n",
       "<path fill=\"none\" stroke=\"black\" d=\"M3237.45,-91.73C3197.79,-81.39 3139.3,-66.35 3088.09,-54 3056.26,-46.32 3020.62,-38.19 2991.64,-31.7\"/>\n",
       "<polygon fill=\"black\" stroke=\"black\" points=\"2992.21,-28.24 2981.69,-29.48 2990.69,-35.08 2992.21,-28.24\"/>\n",
       "<text text-anchor=\"middle\" x=\"3164.09\" y=\"-57.8\" font-family=\"Times-Roman\" font-size=\"14.00\">0.44</text>\n",
       "</g>\n",
       "<!-- 399_L0_Bias -->\n",
       "<g id=\"node37\" class=\"node\">\n",
       "<title>399_L0_Bias</title>\n",
       "<ellipse fill=\"none\" stroke=\"black\" cx=\"3638.09\" cy=\"-192\" rx=\"68.79\" ry=\"18\"/>\n",
       "<text text-anchor=\"middle\" x=\"3638.09\" y=\"-188.3\" font-family=\"Times-Roman\" font-size=\"14.00\">399_L0_Bias</text>\n",
       "</g>\n",
       "<!-- 399_L1_N0 -->\n",
       "<g id=\"node38\" class=\"node\">\n",
       "<title>399_L1_N0</title>\n",
       "<ellipse fill=\"none\" stroke=\"black\" cx=\"3856.09\" cy=\"-105\" rx=\"61.99\" ry=\"18\"/>\n",
       "<text text-anchor=\"middle\" x=\"3856.09\" y=\"-101.3\" font-family=\"Times-Roman\" font-size=\"14.00\">399_L1_N0</text>\n",
       "</g>\n",
       "<!-- 399_L0_Bias&#45;&gt;399_L1_N0 -->\n",
       "<g id=\"edge65\" class=\"edge\">\n",
       "<title>399_L0_Bias&#45;&gt;399_L1_N0</title>\n",
       "<path fill=\"none\" stroke=\"black\" d=\"M3679.1,-177.51C3694.32,-171.78 3711.43,-164.46 3726.09,-156 3735.41,-150.62 3735.59,-146.03 3745.09,-141 3761.9,-132.11 3781.34,-125.02 3799.21,-119.62\"/>\n",
       "<polygon fill=\"black\" stroke=\"black\" points=\"3800.33,-122.94 3808.95,-116.79 3798.38,-116.22 3800.33,-122.94\"/>\n",
       "<text text-anchor=\"middle\" x=\"3763.59\" y=\"-144.8\" font-family=\"Times-Roman\" font-size=\"14.00\">&#45;1.78</text>\n",
       "</g>\n",
       "<!-- 399_L1_N1 -->\n",
       "<g id=\"node40\" class=\"node\">\n",
       "<title>399_L1_N1</title>\n",
       "<ellipse fill=\"none\" stroke=\"black\" cx=\"3433.09\" cy=\"-105\" rx=\"61.99\" ry=\"18\"/>\n",
       "<text text-anchor=\"middle\" x=\"3433.09\" y=\"-101.3\" font-family=\"Times-Roman\" font-size=\"14.00\">399_L1_N1</text>\n",
       "</g>\n",
       "<!-- 399_L0_Bias&#45;&gt;399_L1_N1 -->\n",
       "<g id=\"edge67\" class=\"edge\">\n",
       "<title>399_L0_Bias&#45;&gt;399_L1_N1</title>\n",
       "<path fill=\"none\" stroke=\"black\" d=\"M3577.06,-183.44C3549.4,-178.32 3516.96,-169.86 3490.09,-156 3477.36,-149.43 3465.14,-139.4 3455.31,-130.05\"/>\n",
       "<polygon fill=\"black\" stroke=\"black\" points=\"3457.54,-127.33 3447.97,-122.77 3452.61,-132.3 3457.54,-127.33\"/>\n",
       "<text text-anchor=\"middle\" x=\"3506.09\" y=\"-144.8\" font-family=\"Times-Roman\" font-size=\"14.00\">0.86</text>\n",
       "</g>\n",
       "<!-- 399_L1_N2 -->\n",
       "<g id=\"node41\" class=\"node\">\n",
       "<title>399_L1_N2</title>\n",
       "<ellipse fill=\"none\" stroke=\"black\" cx=\"3715.09\" cy=\"-105\" rx=\"61.99\" ry=\"18\"/>\n",
       "<text text-anchor=\"middle\" x=\"3715.09\" y=\"-101.3\" font-family=\"Times-Roman\" font-size=\"14.00\">399_L1_N2</text>\n",
       "</g>\n",
       "<!-- 399_L0_Bias&#45;&gt;399_L1_N2 -->\n",
       "<g id=\"edge69\" class=\"edge\">\n",
       "<title>399_L0_Bias&#45;&gt;399_L1_N2</title>\n",
       "<path fill=\"none\" stroke=\"black\" d=\"M3634.15,-173.92C3632.75,-163.58 3632.82,-150.59 3639.09,-141 3644.41,-132.88 3652.12,-126.62 3660.63,-121.79\"/>\n",
       "<polygon fill=\"black\" stroke=\"black\" points=\"3662.31,-124.86 3669.7,-117.27 3659.19,-118.6 3662.31,-124.86\"/>\n",
       "<text text-anchor=\"middle\" x=\"3655.09\" y=\"-144.8\" font-family=\"Times-Roman\" font-size=\"14.00\">0.33</text>\n",
       "</g>\n",
       "<!-- 399_L1_N3 -->\n",
       "<g id=\"node42\" class=\"node\">\n",
       "<title>399_L1_N3</title>\n",
       "<ellipse fill=\"none\" stroke=\"black\" cx=\"3574.09\" cy=\"-105\" rx=\"61.99\" ry=\"18\"/>\n",
       "<text text-anchor=\"middle\" x=\"3574.09\" y=\"-101.3\" font-family=\"Times-Roman\" font-size=\"14.00\">399_L1_N3</text>\n",
       "</g>\n",
       "<!-- 399_L0_Bias&#45;&gt;399_L1_N3 -->\n",
       "<g id=\"edge71\" class=\"edge\">\n",
       "<title>399_L0_Bias&#45;&gt;399_L1_N3</title>\n",
       "<path fill=\"none\" stroke=\"black\" d=\"M3575.04,-184.67C3557.35,-179.64 3539.99,-170.94 3529.09,-156 3521.91,-146.15 3528.07,-136.02 3537.88,-127.47\"/>\n",
       "<polygon fill=\"black\" stroke=\"black\" points=\"3540.14,-130.15 3545.94,-121.28 3535.88,-124.6 3540.14,-130.15\"/>\n",
       "<text text-anchor=\"middle\" x=\"3545.09\" y=\"-144.8\" font-family=\"Times-Roman\" font-size=\"14.00\">1.11</text>\n",
       "</g>\n",
       "<!-- 399_L1_N4 -->\n",
       "<g id=\"node43\" class=\"node\">\n",
       "<title>399_L1_N4</title>\n",
       "<ellipse fill=\"none\" stroke=\"black\" cx=\"3997.09\" cy=\"-105\" rx=\"61.99\" ry=\"18\"/>\n",
       "<text text-anchor=\"middle\" x=\"3997.09\" y=\"-101.3\" font-family=\"Times-Roman\" font-size=\"14.00\">399_L1_N4</text>\n",
       "</g>\n",
       "<!-- 399_L0_Bias&#45;&gt;399_L1_N4 -->\n",
       "<g id=\"edge73\" class=\"edge\">\n",
       "<title>399_L0_Bias&#45;&gt;399_L1_N4</title>\n",
       "<path fill=\"none\" stroke=\"black\" d=\"M3693.95,-181.36C3748.9,-171.81 3825.52,-158.29 3832.09,-156 3845.43,-151.36 3846.94,-146.12 3860.09,-141 3867.96,-137.94 3906.86,-128.08 3941.21,-119.6\"/>\n",
       "<polygon fill=\"black\" stroke=\"black\" points=\"3942.34,-122.93 3951.22,-117.14 3940.67,-116.13 3942.34,-122.93\"/>\n",
       "<text text-anchor=\"middle\" x=\"3876.09\" y=\"-144.8\" font-family=\"Times-Roman\" font-size=\"14.00\">0.86</text>\n",
       "</g>\n",
       "<!-- 399_L2_N0 -->\n",
       "<g id=\"node45\" class=\"node\">\n",
       "<title>399_L2_N0</title>\n",
       "<ellipse fill=\"none\" stroke=\"black\" cx=\"3796.09\" cy=\"-18\" rx=\"61.99\" ry=\"18\"/>\n",
       "<text text-anchor=\"middle\" x=\"3796.09\" y=\"-14.3\" font-family=\"Times-Roman\" font-size=\"14.00\">399_L2_N0</text>\n",
       "</g>\n",
       "<!-- 399_L1_N0&#45;&gt;399_L2_N0 -->\n",
       "<g id=\"edge76\" class=\"edge\">\n",
       "<title>399_L1_N0&#45;&gt;399_L2_N0</title>\n",
       "<path fill=\"none\" stroke=\"black\" d=\"M3844.24,-87.21C3835.53,-74.87 3823.55,-57.89 3813.72,-43.97\"/>\n",
       "<polygon fill=\"black\" stroke=\"black\" points=\"3816.55,-41.91 3807.92,-35.76 3810.83,-45.95 3816.55,-41.91\"/>\n",
       "<text text-anchor=\"middle\" x=\"3845.09\" y=\"-57.8\" font-family=\"Times-Roman\" font-size=\"14.00\">2.08</text>\n",
       "</g>\n",
       "<!-- 399_L0_N0 -->\n",
       "<g id=\"node39\" class=\"node\">\n",
       "<title>399_L0_N0</title>\n",
       "<ellipse fill=\"none\" stroke=\"black\" cx=\"3808.09\" cy=\"-192\" rx=\"61.99\" ry=\"18\"/>\n",
       "<text text-anchor=\"middle\" x=\"3808.09\" y=\"-188.3\" font-family=\"Times-Roman\" font-size=\"14.00\">399_L0_N0</text>\n",
       "</g>\n",
       "<!-- 399_L0_N0&#45;&gt;399_L1_N0 -->\n",
       "<g id=\"edge66\" class=\"edge\">\n",
       "<title>399_L0_N0&#45;&gt;399_L1_N0</title>\n",
       "<path fill=\"none\" stroke=\"black\" d=\"M3859.25,-181.89C3873.55,-176.73 3887.51,-168.65 3896.09,-156 3902.48,-146.59 3897.37,-136.71 3888.93,-128.24\"/>\n",
       "<polygon fill=\"black\" stroke=\"black\" points=\"3891.07,-125.46 3881.24,-121.5 3886.45,-130.72 3891.07,-125.46\"/>\n",
       "<text text-anchor=\"middle\" x=\"3914.09\" y=\"-144.8\" font-family=\"Times-Roman\" font-size=\"14.00\">1.56</text>\n",
       "</g>\n",
       "<!-- 399_L0_N0&#45;&gt;399_L1_N1 -->\n",
       "<g id=\"edge68\" class=\"edge\">\n",
       "<title>399_L0_N0&#45;&gt;399_L1_N1</title>\n",
       "<path fill=\"none\" stroke=\"black\" d=\"M3758.01,-181.45C3744.42,-178.94 3729.71,-176.3 3716.09,-174 3663.78,-165.18 3649.25,-170.06 3598.09,-156 3580.98,-151.3 3577.9,-146.68 3561.09,-141 3537.71,-133.09 3511.48,-125.67 3488.88,-119.72\"/>\n",
       "<polygon fill=\"black\" stroke=\"black\" points=\"3489.67,-116.31 3479.11,-117.18 3487.9,-123.08 3489.67,-116.31\"/>\n",
       "<text text-anchor=\"middle\" x=\"3614.09\" y=\"-144.8\" font-family=\"Times-Roman\" font-size=\"14.00\">0.10</text>\n",
       "</g>\n",
       "<!-- 399_L0_N0&#45;&gt;399_L1_N2 -->\n",
       "<g id=\"edge70\" class=\"edge\">\n",
       "<title>399_L0_N0&#45;&gt;399_L1_N2</title>\n",
       "<path fill=\"none\" stroke=\"black\" d=\"M3803.86,-174.01C3800.5,-163.45 3794.88,-150.18 3786.09,-141 3779.46,-134.07 3771.17,-128.32 3762.62,-123.62\"/>\n",
       "<polygon fill=\"black\" stroke=\"black\" points=\"3764.18,-120.49 3753.67,-119.1 3761.02,-126.73 3764.18,-120.49\"/>\n",
       "<text text-anchor=\"middle\" x=\"3812.09\" y=\"-144.8\" font-family=\"Times-Roman\" font-size=\"14.00\">0.54</text>\n",
       "</g>\n",
       "<!-- 399_L0_N0&#45;&gt;399_L1_N3 -->\n",
       "<g id=\"edge72\" class=\"edge\">\n",
       "<title>399_L0_N0&#45;&gt;399_L1_N3</title>\n",
       "<path fill=\"none\" stroke=\"black\" d=\"M3759.13,-180.92C3737.26,-175.31 3711.63,-167.16 3690.09,-156 3680.54,-151.05 3680.5,-146.23 3671.09,-141 3657.23,-133.29 3641.35,-126.73 3626.5,-121.44\"/>\n",
       "<polygon fill=\"black\" stroke=\"black\" points=\"3627.52,-118.09 3616.92,-118.15 3625.24,-124.71 3627.52,-118.09\"/>\n",
       "<text text-anchor=\"middle\" x=\"3706.09\" y=\"-144.8\" font-family=\"Times-Roman\" font-size=\"14.00\">1.55</text>\n",
       "</g>\n",
       "<!-- 399_L0_N0&#45;&gt;399_L1_N4 -->\n",
       "<g id=\"edge74\" class=\"edge\">\n",
       "<title>399_L0_N0&#45;&gt;399_L1_N4</title>\n",
       "<path fill=\"none\" stroke=\"black\" d=\"M3859.18,-181.7C3882.8,-176.18 3910.73,-167.9 3934.09,-156 3947.91,-148.97 3961.6,-138.63 3972.66,-129.17\"/>\n",
       "<polygon fill=\"black\" stroke=\"black\" points=\"3975.04,-131.74 3980.22,-122.5 3970.41,-126.49 3975.04,-131.74\"/>\n",
       "<text text-anchor=\"middle\" x=\"3972.09\" y=\"-144.8\" font-family=\"Times-Roman\" font-size=\"14.00\">1.32</text>\n",
       "</g>\n",
       "<!-- 399_L1_N1&#45;&gt;399_L2_N0 -->\n",
       "<g id=\"edge77\" class=\"edge\">\n",
       "<title>399_L1_N1&#45;&gt;399_L2_N0</title>\n",
       "<path fill=\"none\" stroke=\"black\" d=\"M3478.16,-92.54C3519.25,-82.18 3581.65,-66.66 3636.09,-54 3669.69,-46.19 3707.36,-37.92 3737.71,-31.39\"/>\n",
       "<polygon fill=\"black\" stroke=\"black\" points=\"3738.67,-34.76 3747.71,-29.24 3737.2,-27.92 3738.67,-34.76\"/>\n",
       "<text text-anchor=\"middle\" x=\"3652.09\" y=\"-57.8\" font-family=\"Times-Roman\" font-size=\"14.00\">0.62</text>\n",
       "</g>\n",
       "<!-- 399_L1_N2&#45;&gt;399_L2_N0 -->\n",
       "<g id=\"edge78\" class=\"edge\">\n",
       "<title>399_L1_N2&#45;&gt;399_L2_N0</title>\n",
       "<path fill=\"none\" stroke=\"black\" d=\"M3731.1,-87.21C3743.16,-74.55 3759.86,-57.03 3773.31,-42.91\"/>\n",
       "<polygon fill=\"black\" stroke=\"black\" points=\"3776.04,-45.12 3780.4,-35.47 3770.97,-40.29 3776.04,-45.12\"/>\n",
       "<text text-anchor=\"middle\" x=\"3776.09\" y=\"-57.8\" font-family=\"Times-Roman\" font-size=\"14.00\">0.05</text>\n",
       "</g>\n",
       "<!-- 399_L1_N3&#45;&gt;399_L2_N0 -->\n",
       "<g id=\"edge79\" class=\"edge\">\n",
       "<title>399_L1_N3&#45;&gt;399_L2_N0</title>\n",
       "<path fill=\"none\" stroke=\"black\" d=\"M3610.26,-90.15C3648.59,-75.48 3709.21,-52.27 3750.72,-36.37\"/>\n",
       "<polygon fill=\"black\" stroke=\"black\" points=\"3752.23,-39.54 3760.32,-32.7 3749.73,-33.01 3752.23,-39.54\"/>\n",
       "<text text-anchor=\"middle\" x=\"3717.59\" y=\"-57.8\" font-family=\"Times-Roman\" font-size=\"14.00\">&#45;1.02</text>\n",
       "</g>\n",
       "<!-- 399_L1_N4&#45;&gt;399_L2_N0 -->\n",
       "<g id=\"edge80\" class=\"edge\">\n",
       "<title>399_L1_N4&#45;&gt;399_L2_N0</title>\n",
       "<path fill=\"none\" stroke=\"black\" d=\"M3963.45,-89.77C3929.39,-75.37 3876.58,-53.04 3839.41,-37.32\"/>\n",
       "<polygon fill=\"black\" stroke=\"black\" points=\"3840.42,-33.94 3829.85,-33.27 3837.69,-40.39 3840.42,-33.94\"/>\n",
       "<text text-anchor=\"middle\" x=\"3926.59\" y=\"-57.8\" font-family=\"Times-Roman\" font-size=\"14.00\">&#45;0.69</text>\n",
       "</g>\n",
       "<!-- 399_L1_Bias -->\n",
       "<g id=\"node44\" class=\"node\">\n",
       "<title>399_L1_Bias</title>\n",
       "<ellipse fill=\"none\" stroke=\"black\" cx=\"4146.09\" cy=\"-105\" rx=\"68.79\" ry=\"18\"/>\n",
       "<text text-anchor=\"middle\" x=\"4146.09\" y=\"-101.3\" font-family=\"Times-Roman\" font-size=\"14.00\">399_L1_Bias</text>\n",
       "</g>\n",
       "<!-- 399_L1_Bias&#45;&gt;399_L2_N0 -->\n",
       "<g id=\"edge75\" class=\"edge\">\n",
       "<title>399_L1_Bias&#45;&gt;399_L2_N0</title>\n",
       "<path fill=\"none\" stroke=\"black\" d=\"M4099.2,-91.77C4059.34,-81.45 4000.55,-66.41 3949.09,-54 3917.58,-46.4 3882.31,-38.3 3853.59,-31.81\"/>\n",
       "<polygon fill=\"black\" stroke=\"black\" points=\"3854.24,-28.37 3843.72,-29.59 3852.7,-35.2 3854.24,-28.37\"/>\n",
       "<text text-anchor=\"middle\" x=\"4024.09\" y=\"-57.8\" font-family=\"Times-Roman\" font-size=\"14.00\">0.46</text>\n",
       "</g>\n",
       "<!-- 499_L0_Bias -->\n",
       "<g id=\"node46\" class=\"node\">\n",
       "<title>499_L0_Bias</title>\n",
       "<ellipse fill=\"none\" stroke=\"black\" cx=\"4500.09\" cy=\"-192\" rx=\"68.79\" ry=\"18\"/>\n",
       "<text text-anchor=\"middle\" x=\"4500.09\" y=\"-188.3\" font-family=\"Times-Roman\" font-size=\"14.00\">499_L0_Bias</text>\n",
       "</g>\n",
       "<!-- 499_L1_N0 -->\n",
       "<g id=\"node47\" class=\"node\">\n",
       "<title>499_L1_N0</title>\n",
       "<ellipse fill=\"none\" stroke=\"black\" cx=\"4718.09\" cy=\"-105\" rx=\"61.99\" ry=\"18\"/>\n",
       "<text text-anchor=\"middle\" x=\"4718.09\" y=\"-101.3\" font-family=\"Times-Roman\" font-size=\"14.00\">499_L1_N0</text>\n",
       "</g>\n",
       "<!-- 499_L0_Bias&#45;&gt;499_L1_N0 -->\n",
       "<g id=\"edge81\" class=\"edge\">\n",
       "<title>499_L0_Bias&#45;&gt;499_L1_N0</title>\n",
       "<path fill=\"none\" stroke=\"black\" d=\"M4541.1,-177.51C4556.32,-171.78 4573.43,-164.46 4588.09,-156 4597.41,-150.62 4597.59,-146.03 4607.09,-141 4623.9,-132.11 4643.34,-125.02 4661.21,-119.62\"/>\n",
       "<polygon fill=\"black\" stroke=\"black\" points=\"4662.33,-122.94 4670.95,-116.79 4660.38,-116.22 4662.33,-122.94\"/>\n",
       "<text text-anchor=\"middle\" x=\"4625.59\" y=\"-144.8\" font-family=\"Times-Roman\" font-size=\"14.00\">&#45;1.84</text>\n",
       "</g>\n",
       "<!-- 499_L1_N1 -->\n",
       "<g id=\"node49\" class=\"node\">\n",
       "<title>499_L1_N1</title>\n",
       "<ellipse fill=\"none\" stroke=\"black\" cx=\"4295.09\" cy=\"-105\" rx=\"61.99\" ry=\"18\"/>\n",
       "<text text-anchor=\"middle\" x=\"4295.09\" y=\"-101.3\" font-family=\"Times-Roman\" font-size=\"14.00\">499_L1_N1</text>\n",
       "</g>\n",
       "<!-- 499_L0_Bias&#45;&gt;499_L1_N1 -->\n",
       "<g id=\"edge83\" class=\"edge\">\n",
       "<title>499_L0_Bias&#45;&gt;499_L1_N1</title>\n",
       "<path fill=\"none\" stroke=\"black\" d=\"M4438.95,-183.68C4411.02,-178.6 4378.2,-170.11 4351.09,-156 4338.5,-149.45 4326.49,-139.42 4316.85,-130.07\"/>\n",
       "<polygon fill=\"black\" stroke=\"black\" points=\"4319.17,-127.44 4309.65,-122.78 4314.19,-132.36 4319.17,-127.44\"/>\n",
       "<text text-anchor=\"middle\" x=\"4367.09\" y=\"-144.8\" font-family=\"Times-Roman\" font-size=\"14.00\">0.86</text>\n",
       "</g>\n",
       "<!-- 499_L1_N2 -->\n",
       "<g id=\"node50\" class=\"node\">\n",
       "<title>499_L1_N2</title>\n",
       "<ellipse fill=\"none\" stroke=\"black\" cx=\"4577.09\" cy=\"-105\" rx=\"61.99\" ry=\"18\"/>\n",
       "<text text-anchor=\"middle\" x=\"4577.09\" y=\"-101.3\" font-family=\"Times-Roman\" font-size=\"14.00\">499_L1_N2</text>\n",
       "</g>\n",
       "<!-- 499_L0_Bias&#45;&gt;499_L1_N2 -->\n",
       "<g id=\"edge85\" class=\"edge\">\n",
       "<title>499_L0_Bias&#45;&gt;499_L1_N2</title>\n",
       "<path fill=\"none\" stroke=\"black\" d=\"M4496.15,-173.92C4494.75,-163.58 4494.82,-150.59 4501.09,-141 4506.41,-132.88 4514.12,-126.62 4522.63,-121.79\"/>\n",
       "<polygon fill=\"black\" stroke=\"black\" points=\"4524.31,-124.86 4531.7,-117.27 4521.19,-118.6 4524.31,-124.86\"/>\n",
       "<text text-anchor=\"middle\" x=\"4517.09\" y=\"-144.8\" font-family=\"Times-Roman\" font-size=\"14.00\">0.33</text>\n",
       "</g>\n",
       "<!-- 499_L1_N3 -->\n",
       "<g id=\"node51\" class=\"node\">\n",
       "<title>499_L1_N3</title>\n",
       "<ellipse fill=\"none\" stroke=\"black\" cx=\"4436.09\" cy=\"-105\" rx=\"61.99\" ry=\"18\"/>\n",
       "<text text-anchor=\"middle\" x=\"4436.09\" y=\"-101.3\" font-family=\"Times-Roman\" font-size=\"14.00\">499_L1_N3</text>\n",
       "</g>\n",
       "<!-- 499_L0_Bias&#45;&gt;499_L1_N3 -->\n",
       "<g id=\"edge87\" class=\"edge\">\n",
       "<title>499_L0_Bias&#45;&gt;499_L1_N3</title>\n",
       "<path fill=\"none\" stroke=\"black\" d=\"M4437.04,-184.67C4419.35,-179.64 4401.99,-170.94 4391.09,-156 4383.91,-146.15 4390.07,-136.02 4399.88,-127.47\"/>\n",
       "<polygon fill=\"black\" stroke=\"black\" points=\"4402.14,-130.15 4407.94,-121.28 4397.88,-124.6 4402.14,-130.15\"/>\n",
       "<text text-anchor=\"middle\" x=\"4407.09\" y=\"-144.8\" font-family=\"Times-Roman\" font-size=\"14.00\">1.14</text>\n",
       "</g>\n",
       "<!-- 499_L1_N4 -->\n",
       "<g id=\"node52\" class=\"node\">\n",
       "<title>499_L1_N4</title>\n",
       "<ellipse fill=\"none\" stroke=\"black\" cx=\"4859.09\" cy=\"-105\" rx=\"61.99\" ry=\"18\"/>\n",
       "<text text-anchor=\"middle\" x=\"4859.09\" y=\"-101.3\" font-family=\"Times-Roman\" font-size=\"14.00\">499_L1_N4</text>\n",
       "</g>\n",
       "<!-- 499_L0_Bias&#45;&gt;499_L1_N4 -->\n",
       "<g id=\"edge89\" class=\"edge\">\n",
       "<title>499_L0_Bias&#45;&gt;499_L1_N4</title>\n",
       "<path fill=\"none\" stroke=\"black\" d=\"M4555.95,-181.36C4610.9,-171.81 4687.52,-158.29 4694.09,-156 4707.43,-151.36 4708.94,-146.12 4722.09,-141 4729.96,-137.94 4768.86,-128.08 4803.21,-119.6\"/>\n",
       "<polygon fill=\"black\" stroke=\"black\" points=\"4804.34,-122.93 4813.22,-117.14 4802.67,-116.13 4804.34,-122.93\"/>\n",
       "<text text-anchor=\"middle\" x=\"4738.09\" y=\"-144.8\" font-family=\"Times-Roman\" font-size=\"14.00\">0.88</text>\n",
       "</g>\n",
       "<!-- 499_L2_N0 -->\n",
       "<g id=\"node54\" class=\"node\">\n",
       "<title>499_L2_N0</title>\n",
       "<ellipse fill=\"none\" stroke=\"black\" cx=\"4658.09\" cy=\"-18\" rx=\"61.99\" ry=\"18\"/>\n",
       "<text text-anchor=\"middle\" x=\"4658.09\" y=\"-14.3\" font-family=\"Times-Roman\" font-size=\"14.00\">499_L2_N0</text>\n",
       "</g>\n",
       "<!-- 499_L1_N0&#45;&gt;499_L2_N0 -->\n",
       "<g id=\"edge92\" class=\"edge\">\n",
       "<title>499_L1_N0&#45;&gt;499_L2_N0</title>\n",
       "<path fill=\"none\" stroke=\"black\" d=\"M4706.24,-87.21C4697.53,-74.87 4685.55,-57.89 4675.72,-43.97\"/>\n",
       "<polygon fill=\"black\" stroke=\"black\" points=\"4678.55,-41.91 4669.92,-35.76 4672.83,-45.95 4678.55,-41.91\"/>\n",
       "<text text-anchor=\"middle\" x=\"4707.09\" y=\"-57.8\" font-family=\"Times-Roman\" font-size=\"14.00\">2.13</text>\n",
       "</g>\n",
       "<!-- 499_L0_N0 -->\n",
       "<g id=\"node48\" class=\"node\">\n",
       "<title>499_L0_N0</title>\n",
       "<ellipse fill=\"none\" stroke=\"black\" cx=\"4670.09\" cy=\"-192\" rx=\"61.99\" ry=\"18\"/>\n",
       "<text text-anchor=\"middle\" x=\"4670.09\" y=\"-188.3\" font-family=\"Times-Roman\" font-size=\"14.00\">499_L0_N0</text>\n",
       "</g>\n",
       "<!-- 499_L0_N0&#45;&gt;499_L1_N0 -->\n",
       "<g id=\"edge82\" class=\"edge\">\n",
       "<title>499_L0_N0&#45;&gt;499_L1_N0</title>\n",
       "<path fill=\"none\" stroke=\"black\" d=\"M4721.25,-181.89C4735.55,-176.73 4749.51,-168.65 4758.09,-156 4764.48,-146.59 4759.37,-136.71 4750.93,-128.24\"/>\n",
       "<polygon fill=\"black\" stroke=\"black\" points=\"4753.07,-125.46 4743.24,-121.5 4748.45,-130.72 4753.07,-125.46\"/>\n",
       "<text text-anchor=\"middle\" x=\"4776.09\" y=\"-144.8\" font-family=\"Times-Roman\" font-size=\"14.00\">1.52</text>\n",
       "</g>\n",
       "<!-- 499_L0_N0&#45;&gt;499_L1_N1 -->\n",
       "<g id=\"edge84\" class=\"edge\">\n",
       "<title>499_L0_N0&#45;&gt;499_L1_N1</title>\n",
       "<path fill=\"none\" stroke=\"black\" d=\"M4620.01,-181.44C4606.43,-178.93 4591.71,-176.29 4578.09,-174 4525.34,-165.14 4510.61,-170.39 4459.09,-156 4442.4,-151.34 4439.49,-146.63 4423.09,-141 4399.75,-132.98 4373.52,-125.54 4350.92,-119.61\"/>\n",
       "<polygon fill=\"black\" stroke=\"black\" points=\"4351.7,-116.19 4341.14,-117.07 4349.94,-122.97 4351.7,-116.19\"/>\n",
       "<text text-anchor=\"middle\" x=\"4475.09\" y=\"-144.8\" font-family=\"Times-Roman\" font-size=\"14.00\">0.11</text>\n",
       "</g>\n",
       "<!-- 499_L0_N0&#45;&gt;499_L1_N2 -->\n",
       "<g id=\"edge86\" class=\"edge\">\n",
       "<title>499_L0_N0&#45;&gt;499_L1_N2</title>\n",
       "<path fill=\"none\" stroke=\"black\" d=\"M4665.86,-174.01C4662.5,-163.45 4656.88,-150.18 4648.09,-141 4641.46,-134.07 4633.17,-128.32 4624.62,-123.62\"/>\n",
       "<polygon fill=\"black\" stroke=\"black\" points=\"4626.18,-120.49 4615.67,-119.1 4623.02,-126.73 4626.18,-120.49\"/>\n",
       "<text text-anchor=\"middle\" x=\"4674.09\" y=\"-144.8\" font-family=\"Times-Roman\" font-size=\"14.00\">0.54</text>\n",
       "</g>\n",
       "<!-- 499_L0_N0&#45;&gt;499_L1_N3 -->\n",
       "<g id=\"edge88\" class=\"edge\">\n",
       "<title>499_L0_N0&#45;&gt;499_L1_N3</title>\n",
       "<path fill=\"none\" stroke=\"black\" d=\"M4621.13,-180.92C4599.26,-175.31 4573.63,-167.16 4552.09,-156 4542.54,-151.05 4542.5,-146.23 4533.09,-141 4519.23,-133.29 4503.35,-126.73 4488.5,-121.44\"/>\n",
       "<polygon fill=\"black\" stroke=\"black\" points=\"4489.52,-118.09 4478.92,-118.15 4487.24,-124.71 4489.52,-118.09\"/>\n",
       "<text text-anchor=\"middle\" x=\"4568.09\" y=\"-144.8\" font-family=\"Times-Roman\" font-size=\"14.00\">1.52</text>\n",
       "</g>\n",
       "<!-- 499_L0_N0&#45;&gt;499_L1_N4 -->\n",
       "<g id=\"edge90\" class=\"edge\">\n",
       "<title>499_L0_N0&#45;&gt;499_L1_N4</title>\n",
       "<path fill=\"none\" stroke=\"black\" d=\"M4721.18,-181.7C4744.8,-176.18 4772.73,-167.9 4796.09,-156 4809.91,-148.97 4823.6,-138.63 4834.66,-129.17\"/>\n",
       "<polygon fill=\"black\" stroke=\"black\" points=\"4837.04,-131.74 4842.22,-122.5 4832.41,-126.49 4837.04,-131.74\"/>\n",
       "<text text-anchor=\"middle\" x=\"4834.09\" y=\"-144.8\" font-family=\"Times-Roman\" font-size=\"14.00\">1.31</text>\n",
       "</g>\n",
       "<!-- 499_L1_N1&#45;&gt;499_L2_N0 -->\n",
       "<g id=\"edge93\" class=\"edge\">\n",
       "<title>499_L1_N1&#45;&gt;499_L2_N0</title>\n",
       "<path fill=\"none\" stroke=\"black\" d=\"M4339.93,-92.51C4380.81,-82.13 4442.9,-66.59 4497.09,-54 4530.89,-46.15 4568.8,-37.88 4599.34,-31.35\"/>\n",
       "<polygon fill=\"black\" stroke=\"black\" points=\"4600.35,-34.71 4609.4,-29.21 4598.89,-27.87 4600.35,-34.71\"/>\n",
       "<text text-anchor=\"middle\" x=\"4513.09\" y=\"-57.8\" font-family=\"Times-Roman\" font-size=\"14.00\">0.62</text>\n",
       "</g>\n",
       "<!-- 499_L1_N2&#45;&gt;499_L2_N0 -->\n",
       "<g id=\"edge94\" class=\"edge\">\n",
       "<title>499_L1_N2&#45;&gt;499_L2_N0</title>\n",
       "<path fill=\"none\" stroke=\"black\" d=\"M4593.1,-87.21C4605.16,-74.55 4621.86,-57.03 4635.31,-42.91\"/>\n",
       "<polygon fill=\"black\" stroke=\"black\" points=\"4638.04,-45.12 4642.4,-35.47 4632.97,-40.29 4638.04,-45.12\"/>\n",
       "<text text-anchor=\"middle\" x=\"4638.09\" y=\"-57.8\" font-family=\"Times-Roman\" font-size=\"14.00\">0.06</text>\n",
       "</g>\n",
       "<!-- 499_L1_N3&#45;&gt;499_L2_N0 -->\n",
       "<g id=\"edge95\" class=\"edge\">\n",
       "<title>499_L1_N3&#45;&gt;499_L2_N0</title>\n",
       "<path fill=\"none\" stroke=\"black\" d=\"M4472.26,-90.15C4510.59,-75.48 4571.21,-52.27 4612.72,-36.37\"/>\n",
       "<polygon fill=\"black\" stroke=\"black\" points=\"4614.23,-39.54 4622.32,-32.7 4611.73,-33.01 4614.23,-39.54\"/>\n",
       "<text text-anchor=\"middle\" x=\"4578.59\" y=\"-57.8\" font-family=\"Times-Roman\" font-size=\"14.00\">&#45;1.02</text>\n",
       "</g>\n",
       "<!-- 499_L1_N4&#45;&gt;499_L2_N0 -->\n",
       "<g id=\"edge96\" class=\"edge\">\n",
       "<title>499_L1_N4&#45;&gt;499_L2_N0</title>\n",
       "<path fill=\"none\" stroke=\"black\" d=\"M4825.45,-89.77C4791.39,-75.37 4738.58,-53.04 4701.41,-37.32\"/>\n",
       "<polygon fill=\"black\" stroke=\"black\" points=\"4702.42,-33.94 4691.85,-33.27 4699.69,-40.39 4702.42,-33.94\"/>\n",
       "<text text-anchor=\"middle\" x=\"4788.59\" y=\"-57.8\" font-family=\"Times-Roman\" font-size=\"14.00\">&#45;0.69</text>\n",
       "</g>\n",
       "<!-- 499_L1_Bias -->\n",
       "<g id=\"node53\" class=\"node\">\n",
       "<title>499_L1_Bias</title>\n",
       "<ellipse fill=\"none\" stroke=\"black\" cx=\"5008.09\" cy=\"-105\" rx=\"68.79\" ry=\"18\"/>\n",
       "<text text-anchor=\"middle\" x=\"5008.09\" y=\"-101.3\" font-family=\"Times-Roman\" font-size=\"14.00\">499_L1_Bias</text>\n",
       "</g>\n",
       "<!-- 499_L1_Bias&#45;&gt;499_L2_N0 -->\n",
       "<g id=\"edge91\" class=\"edge\">\n",
       "<title>499_L1_Bias&#45;&gt;499_L2_N0</title>\n",
       "<path fill=\"none\" stroke=\"black\" d=\"M4961.2,-91.77C4921.34,-81.45 4862.55,-66.41 4811.09,-54 4779.58,-46.4 4744.31,-38.3 4715.59,-31.81\"/>\n",
       "<polygon fill=\"black\" stroke=\"black\" points=\"4716.24,-28.37 4705.72,-29.59 4714.7,-35.2 4716.24,-28.37\"/>\n",
       "<text text-anchor=\"middle\" x=\"4886.09\" y=\"-57.8\" font-family=\"Times-Roman\" font-size=\"14.00\">0.47</text>\n",
       "</g>\n",
       "</g>\n",
       "</svg>\n"
      ],
      "text/plain": [
       "<graphviz.dot.Digraph at 0x7f3acb32cbe0>"
      ]
     },
     "execution_count": 75,
     "metadata": {},
     "output_type": "execute_result"
    }
   ],
   "source": [
    "g"
   ]
  },
  {
   "cell_type": "markdown",
   "metadata": {},
   "source": [
    "##### Wynik na zbiorze treningowym"
   ]
  },
  {
   "cell_type": "code",
   "execution_count": 184,
   "metadata": {
    "collapsed": false
   },
   "outputs": [
    {
     "data": {
      "text/plain": [
       "91.6061210232922"
      ]
     },
     "execution_count": 184,
     "metadata": {},
     "output_type": "execute_result"
    }
   ],
   "source": [
    "metrics.mean_absolute_error(train_df['y'], y_pred)"
   ]
  },
  {
   "cell_type": "markdown",
   "metadata": {
    "collapsed": true
   },
   "source": [
    "##### Wynik na zbiorze testowym"
   ]
  },
  {
   "cell_type": "code",
   "execution_count": 77,
   "metadata": {
    "collapsed": false
   },
   "outputs": [
    {
     "data": {
      "text/plain": [
       "10.26791227491678"
      ]
     },
     "execution_count": 77,
     "metadata": {},
     "output_type": "execute_result"
    }
   ],
   "source": [
    "y_pred = mlp.predict(np.expand_dims(test_df['x'], 1))\n",
    "y_pred = np.squeeze(y_pred)\n",
    "metrics.mean_absolute_error(test_df['y'], y_pred)"
   ]
  },
  {
   "cell_type": "code",
   "execution_count": 267,
   "metadata": {
    "collapsed": false
   },
   "outputs": [
    {
     "name": "stdout",
     "output_type": "stream",
     "text": [
      "CPU times: user 3.65 s, sys: 16 ms, total: 3.67 s\n",
      "Wall time: 3.68 s\n"
     ]
    },
    {
     "data": {
      "text/plain": [
       "<matplotlib.collections.PathCollection at 0x7f3ac7811b50>"
      ]
     },
     "execution_count": 267,
     "metadata": {},
     "output_type": "execute_result"
    },
    {
     "data": {
      "image/png": "[encoded data removed]",
      "text/plain": [
       "<Figure size 432x288 with 1 Axes>"
      ]
     },
     "metadata": {
      "needs_background": "light"
     },
     "output_type": "display_data"
    }
   ],
   "source": [
    "%%time\n",
    "np.random.seed(2137)\n",
    "mlp = Network([\"sigmoid\", \"linear\"], [1,4,1])\n",
    "g = mlp.train_network(np.expand_dims(train_df['x'], 1), np.expand_dims(train_df['y'], 1), n_epoch=500, l_rate=1e-2, batch_size=1)\n",
    "\n",
    "y_pred = mlp.predict(np.expand_dims(train_df['x'], 1))\n",
    "y_pred = np.squeeze(y_pred)\n",
    "plt.scatter(train_df['x'], train_df['y'], color='green')\n",
    "plt.scatter(train_df['x'], y_pred, color='red')"
   ]
  },
  {
   "cell_type": "markdown",
   "metadata": {},
   "source": [
    "##### Wynik na zbiorze treningowym"
   ]
  },
  {
   "cell_type": "code",
   "execution_count": 77,
   "metadata": {
    "collapsed": false
   },
   "outputs": [
    {
     "data": {
      "text/plain": [
       "19.285010695832717"
      ]
     },
     "execution_count": 77,
     "metadata": {},
     "output_type": "execute_result"
    }
   ],
   "source": [
    "metrics.mean_absolute_error(train_df['y'], y_pred)"
   ]
  },
  {
   "cell_type": "markdown",
   "metadata": {},
   "source": [
    "##### Wynik na zbiorze testowym"
   ]
  },
  {
   "cell_type": "code",
   "execution_count": 78,
   "metadata": {
    "collapsed": false
   },
   "outputs": [
    {
     "data": {
      "text/plain": [
       "19.104502371942342"
      ]
     },
     "execution_count": 78,
     "metadata": {},
     "output_type": "execute_result"
    }
   ],
   "source": [
    "y_pred = mlp.forward(np.expand_dims(test_df['x'], 1))\n",
    "y_pred = np.squeeze(y_pred)\n",
    "metrics.mean_absolute_error(test_df['y'], y_pred)"
   ]
  },
  {
   "cell_type": "markdown",
   "metadata": {},
   "source": [
    "# Zbiór steps-small"
   ]
  },
  {
   "cell_type": "code",
   "execution_count": 309,
   "metadata": {
    "collapsed": true
   },
   "outputs": [],
   "source": [
    "train_df = pd.read_csv('./mio1/regression/steps-large-training.csv', index_col=0)\n",
    "test_df = pd.read_csv('./mio1/regression/steps-large-test.csv', index_col=0)"
   ]
  },
  {
   "cell_type": "code",
   "execution_count": 302,
   "metadata": {
    "collapsed": false
   },
   "outputs": [
    {
     "data": {
      "text/plain": [
       "<matplotlib.collections.PathCollection at 0x7f3ac6dd61f0>"
      ]
     },
     "execution_count": 302,
     "metadata": {},
     "output_type": "execute_result"
    },
    {
     "data": {
      "image/png": "[encoded data removed]",
      "text/plain": [
       "<Figure size 432x288 with 1 Axes>"
      ]
     },
     "metadata": {
      "needs_background": "light"
     },
     "output_type": "display_data"
    }
   ],
   "source": [
    "%%time\n",
    "np.random.seed(2137)\n",
    "mlp = Network([\"sigmoid\", \"linear\"], [1,10,1])\n",
    "mlp.train_network(np.expand_dims(train_df['x'], 1), np.expand_dims(train_df['y'], 1), n_epoch=10, l_rate=1e-3)\n",
    "\n",
    "y_pred = mlp.predict(np.expand_dims(train_df['x'], 1))\n",
    "y_pred = np.squeeze(y_pred)\n",
    "plt.scatter(train_df['x'], train_df['y'], color='green')\n",
    "plt.scatter(train_df['x'], y_pred, color='red')"
   ]
  },
  {
   "cell_type": "markdown",
   "metadata": {},
   "source": [
    "##### Wynik na zbiorze treningowym"
   ]
  },
  {
   "cell_type": "code",
   "execution_count": 77,
   "metadata": {
    "collapsed": false
   },
   "outputs": [
    {
     "data": {
      "text/plain": [
       "19.285010695832717"
      ]
     },
     "execution_count": 77,
     "metadata": {},
     "output_type": "execute_result"
    }
   ],
   "source": [
    "metrics.mean_absolute_error(train_df['y'], y_pred)"
   ]
  },
  {
   "cell_type": "markdown",
   "metadata": {},
   "source": [
    "##### Wynik na zbiorze testowym"
   ]
  },
  {
   "cell_type": "code",
   "execution_count": 78,
   "metadata": {
    "collapsed": false
   },
   "outputs": [
    {
     "data": {
      "text/plain": [
       "19.104502371942342"
      ]
     },
     "execution_count": 78,
     "metadata": {},
     "output_type": "execute_result"
    }
   ],
   "source": [
    "y_pred = mlp.forward(np.expand_dims(test_df['x'], 1))\n",
    "y_pred = np.squeeze(y_pred)\n",
    "metrics.mean_absolute_error(test_df['y'], y_pred)"
   ]
  },
  {
   "cell_type": "code",
   "execution_count": 308,
   "metadata": {
    "collapsed": false
   },
   "outputs": [
    {
     "data": {
      "text/plain": [
       "<matplotlib.collections.PathCollection at 0x7f3ac6d58190>"
      ]
     },
     "execution_count": 308,
     "metadata": {},
     "output_type": "execute_result"
    },
    {
     "data": {
      "image/png": "[encoded data removed]",
      "text/plain": [
       "<Figure size 432x288 with 1 Axes>"
      ]
     },
     "metadata": {
      "needs_background": "light"
     },
     "output_type": "display_data"
    }
   ],
   "source": [
    "%%time\n",
    "np.random.seed(2137)\n",
    "mlp = Network([\"sigmoid\", \"linear\"], [1,10,1])\n",
    "mlp.train_network(np.expand_dims(train_df['x'], 1), np.expand_dims(train_df['y'], 1), n_epoch=10, l_rate=1e-1, batch_size=8)\n",
    "\n",
    "y_pred = mlp.predict(np.expand_dims(train_df['x'], 1))\n",
    "y_pred = np.squeeze(y_pred)\n",
    "plt.scatter(train_df['x'], train_df['y'], color='green')\n",
    "plt.scatter(train_df['x'], y_pred, color='red')"
   ]
  },
  {
   "cell_type": "markdown",
   "metadata": {},
   "source": [
    "##### Wynik na zbiorze treningowym"
   ]
  },
  {
   "cell_type": "code",
   "execution_count": 77,
   "metadata": {
    "collapsed": false
   },
   "outputs": [
    {
     "data": {
      "text/plain": [
       "19.285010695832717"
      ]
     },
     "execution_count": 77,
     "metadata": {},
     "output_type": "execute_result"
    }
   ],
   "source": [
    "metrics.mean_absolute_error(train_df['y'], y_pred)"
   ]
  },
  {
   "cell_type": "markdown",
   "metadata": {},
   "source": [
    "##### Wynik na zbiorze testowym"
   ]
  },
  {
   "cell_type": "code",
   "execution_count": 78,
   "metadata": {
    "collapsed": false
   },
   "outputs": [
    {
     "data": {
      "text/plain": [
       "19.104502371942342"
      ]
     },
     "execution_count": 78,
     "metadata": {},
     "output_type": "execute_result"
    }
   ],
   "source": [
    "y_pred = mlp.forward(np.expand_dims(test_df['x'], 1))\n",
    "y_pred = np.squeeze(y_pred)\n",
    "metrics.mean_absolute_error(test_df['y'], y_pred)"
   ]
  },
  {
   "cell_type": "markdown",
   "metadata": {},
   "source": [
    "# Zbiór multimodal-large"
   ]
  },
  {
   "cell_type": "code",
   "execution_count": 322,
   "metadata": {
    "collapsed": false
   },
   "outputs": [],
   "source": [
    "train_df = pd.read_csv('./mio1/regression/multimodal-large-training.csv', index_col=0)\n",
    "test_df = pd.read_csv('./mio1/regression/multimodal-large-test.csv', index_col=0)"
   ]
  },
  {
   "cell_type": "code",
   "execution_count": 323,
   "metadata": {
    "collapsed": false
   },
   "outputs": [
    {
     "name": "stdout",
     "output_type": "stream",
     "text": [
      "CPU times: user 4.62 s, sys: 8 ms, total: 4.62 s\n",
      "Wall time: 4.6 s\n"
     ]
    },
    {
     "data": {
      "text/plain": [
       "<matplotlib.collections.PathCollection at 0x7f3ac60f48e0>"
      ]
     },
     "execution_count": 323,
     "metadata": {},
     "output_type": "execute_result"
    },
    {
     "data": {
      "image/png": "[encoded data removed]",
      "text/plain": [
       "<Figure size 432x288 with 1 Axes>"
      ]
     },
     "metadata": {
      "needs_background": "light"
     },
     "output_type": "display_data"
    }
   ],
   "source": [
    "%%time\n",
    "np.random.seed(1111)\n",
    "mlp = Network([\"sigmoid\", \"linear\"], [1,5,1])\n",
    "mlp.train_network(np.expand_dims(train_df['x'], 1), np.expand_dims(train_df['y'], 1), n_epoch=10, l_rate=1e-1)\n",
    "\n",
    "y_pred = mlp.predict(np.expand_dims(train_df['x'], 1))\n",
    "y_pred = np.squeeze(y_pred)\n",
    "plt.scatter(train_df['x'], train_df['y'], color='green')\n",
    "plt.scatter(train_df['x'], y_pred, color='red')"
   ]
  },
  {
   "cell_type": "markdown",
   "metadata": {},
   "source": [
    "##### Wynik na zbiorze treningowym"
   ]
  },
  {
   "cell_type": "code",
   "execution_count": 324,
   "metadata": {
    "collapsed": false
   },
   "outputs": [
    {
     "data": {
      "text/plain": [
       "72.82729584878822"
      ]
     },
     "execution_count": 324,
     "metadata": {},
     "output_type": "execute_result"
    }
   ],
   "source": [
    "metrics.mean_absolute_error(train_df['y'], y_pred)"
   ]
  },
  {
   "cell_type": "markdown",
   "metadata": {},
   "source": [
    "##### Wynik na zbiorze testowym"
   ]
  },
  {
   "cell_type": "code",
   "execution_count": 325,
   "metadata": {
    "collapsed": false
   },
   "outputs": [
    {
     "data": {
      "text/plain": [
       "67.30271606891978"
      ]
     },
     "execution_count": 325,
     "metadata": {},
     "output_type": "execute_result"
    }
   ],
   "source": [
    "y_pred = mlp.forward(np.expand_dims(test_df['x'], 1))\n",
    "y_pred = np.squeeze(y_pred)\n",
    "metrics.mean_absolute_error(test_df['y'], y_pred)"
   ]
  },
  {
   "cell_type": "code",
   "execution_count": 331,
   "metadata": {
    "collapsed": false
   },
   "outputs": [
    {
     "name": "stdout",
     "output_type": "stream",
     "text": [
      "CPU times: user 8.85 s, sys: 152 ms, total: 9 s\n",
      "Wall time: 8.86 s\n"
     ]
    },
    {
     "data": {
      "text/plain": [
       "<matplotlib.collections.PathCollection at 0x7f3ac630a850>"
      ]
     },
     "execution_count": 331,
     "metadata": {},
     "output_type": "execute_result"
    },
    {
     "data": {
      "image/png": "[encoded data removed]",
      "text/plain": [
       "<Figure size 432x288 with 1 Axes>"
      ]
     },
     "metadata": {
      "needs_background": "light"
     },
     "output_type": "display_data"
    }
   ],
   "source": [
    "%%time\n",
    "np.random.seed(2137)\n",
    "mlp = Network([\"sigmoid\", \"linear\"], [1,10,1])\n",
    "mlp.train_network(np.expand_dims(train_df['x'], 1), np.expand_dims(train_df['y'], 1), n_epoch=10, l_rate=1e-1, batch_size=8)\n",
    "\n",
    "y_pred = mlp.predict(np.expand_dims(train_df['x'], 1))\n",
    "y_pred = np.squeeze(y_pred)\n",
    "plt.scatter(train_df['x'], train_df['y'], color='green')\n",
    "plt.scatter(train_df['x'], y_pred, color='red')"
   ]
  },
  {
   "cell_type": "markdown",
   "metadata": {},
   "source": [
    "##### Wynik na zbiorze treningowym"
   ]
  },
  {
   "cell_type": "code",
   "execution_count": 332,
   "metadata": {
    "collapsed": false
   },
   "outputs": [
    {
     "data": {
      "text/plain": [
       "18.999284783047678"
      ]
     },
     "execution_count": 332,
     "metadata": {},
     "output_type": "execute_result"
    }
   ],
   "source": [
    "metrics.mean_absolute_error(train_df['y'], y_pred)"
   ]
  },
  {
   "cell_type": "markdown",
   "metadata": {},
   "source": [
    "##### Wynik na zbiorze testowym"
   ]
  },
  {
   "cell_type": "code",
   "execution_count": 334,
   "metadata": {
    "collapsed": false
   },
   "outputs": [
    {
     "data": {
      "text/plain": [
       "66.6380759162221"
      ]
     },
     "execution_count": 334,
     "metadata": {},
     "output_type": "execute_result"
    }
   ],
   "source": [
    "y_pred = mlp.forward(np.expand_dims(test_df['x'], 1))\n",
    "y_pred = np.squeeze(y_pred)\n",
    "metrics.mean_absolute_error(test_df['y'], y_pred)"
   ]
  },
  {
   "cell_type": "markdown",
   "metadata": {
    "collapsed": false
   },
   "source": [
    "# Wnioski\n",
    "Zdecydowanie widać, że metoda z batchem jest trochę wolniejsza niż poprawianie wag dopiero po całym zbiorze, ale daje też znacznie lepsze wyniki. Poprawianie wag po całym zbiorze pokazuje, jak ważne są wstępne wagi, gdyż od nich niestety w dużej mierze zależy dokładność i kształt finalnej funkcji."
   ]
  },
  {
   "cell_type": "code",
   "execution_count": null,
   "metadata": {
    "collapsed": true
   },
   "outputs": [],
   "source": []
  }
 ],
 "metadata": {
  "kernelspec": {
   "display_name": "Python 3",
   "language": "python",
   "name": "python3"
  },
  "language_info": {
   "codemirror_mode": {
    "name": "ipython",
    "version": 3
   },
   "file_extension": ".py",
   "mimetype": "text/x-python",
   "name": "python",
   "nbconvert_exporter": "python",
   "pygments_lexer": "ipython3",
   "version": "3.8.5"
  }
 },
 "nbformat": 4,
 "nbformat_minor": 4
}
