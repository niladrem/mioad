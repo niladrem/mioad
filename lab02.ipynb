{
 "cells": [
  {
   "cell_type": "code",
   "execution_count": 1,
   "metadata": {},
   "outputs": [],
   "source": [
    "import numpy as np\n",
    "import pandas as pd\n",
    "import seaborn as sns\n",
    "import math\n",
    "from matplotlib import pyplot as plt\n",
    "from sklearn import metrics"
   ]
  },
  {
   "cell_type": "markdown",
   "metadata": {},
   "source": [
    "## Implementacja neuronu"
   ]
  },
  {
   "cell_type": "code",
   "execution_count": 2,
   "metadata": {},
   "outputs": [
    {
     "name": "stdout",
     "output_type": "stream",
     "text": [
      "LinearNeuron(weights: [1, 2, 3], output: 14, delta: 0, error: 0)\n",
      "SigmoidNeuron(weights: [1, 2], output: 0.9525741268224333, delta: 0, error: 0)\n"
     ]
    }
   ],
   "source": [
    "from abc import ABC, abstractmethod\n",
    "import logging\n",
    "\n",
    "class Neuron(ABC):\n",
    "    def __init__(self, weights: list) -> None:\n",
    "        self.weights = weights\n",
    "        self.output = 0\n",
    "        self.deltas = []\n",
    "        self.delta = 0\n",
    "        self.error = 0\n",
    "        self.input = 0\n",
    "        self.inputs = []\n",
    "        if len(weights) < 2:\n",
    "            logging.warning(\"Less than 2 weights. Are you sure?\")\n",
    "    \n",
    "    def __repr__(self) -> str:\n",
    "        return \"%s(weights: %s, output: %s, delta: %s, error: %s)\" % (self.name(), str(self.weights), str(self.output), str(self.delta), str(self.error))\n",
    "            \n",
    "    @abstractmethod\n",
    "    def evaluate(self, input: list) -> float:\n",
    "        pass\n",
    "    \n",
    "    @abstractmethod\n",
    "    def name(self) -> str:\n",
    "        pass\n",
    "    \n",
    "    @abstractmethod\n",
    "    def derivative(self, output: float) -> float:\n",
    "        pass\n",
    "    \n",
    "    def add_one(l: list) -> list:\n",
    "        tmp = [1]\n",
    "        tmp.extend(l)\n",
    "        return tmp\n",
    "    \n",
    "    def dot(a: list, b: list) -> float:\n",
    "        tmp = min(len(a), len(b))\n",
    "        return np.dot(a[:tmp], b[:tmp])\n",
    "\n",
    "    \n",
    "# pierwsza waga to waga biasu\n",
    "class LinearNeuron(Neuron):\n",
    "    def evaluate(self, input: list) -> float:\n",
    "        self.inputs = Neuron.add_one(input)\n",
    "        self.output = Neuron.dot(self.weights, self.inputs)\n",
    "        self.input = self.output\n",
    "        return self.output\n",
    "    \n",
    "    def name(self) -> str:\n",
    "        return \"LinearNeuron\"\n",
    "    \n",
    "    def derivative(self, output: float) -> float:\n",
    "        return 1.0\n",
    "        \n",
    "\n",
    "class SigmoidNeuron(Neuron):\n",
    "    def evaluate(self, input: list) -> float:\n",
    "        self.inputs = Neuron.add_one(input)\n",
    "        x = Neuron.dot(self.weights, self.inputs)\n",
    "        self.input = x\n",
    "#         if abs(x) > 10:\n",
    "#             print(\"weights: %s, input: %s\" % (self.weights, self.inputs))\n",
    "        self.output = math.e ** x / (1 + math.e ** x)\n",
    "        return self.output\n",
    "    \n",
    "    def name(self) -> str:\n",
    "        return \"SigmoidNeuron\"\n",
    "    \n",
    "    def derivative(self, output: float) -> float:\n",
    "        return output * (1.0 - output)\n",
    "\n",
    "# tests\n",
    "\n",
    "assert Neuron.dot([2,3], [5]) == 10\n",
    "assert Neuron.dot([2,3], [4,5,6]) == 23\n",
    "\n",
    "linearneuron = LinearNeuron([1,2,3])\n",
    "assert linearneuron.evaluate([1,2,3]) == 9\n",
    "assert linearneuron.evaluate([2,3]) == 14\n",
    "\n",
    "sigmoidneuron = SigmoidNeuron([1, 2])\n",
    "assert sigmoidneuron.evaluate([1]) == math.e ** 3 / (1 + math.e ** 3)\n",
    "print(linearneuron)\n",
    "print(sigmoidneuron)"
   ]
  },
  {
   "cell_type": "markdown",
   "metadata": {},
   "source": [
    "## Implementacja warstwy"
   ]
  },
  {
   "cell_type": "code",
   "execution_count": 3,
   "metadata": {},
   "outputs": [
    {
     "name": "stdout",
     "output_type": "stream",
     "text": [
      "Layer([LinearNeuron(weights: [1, 2], output: 11, delta: 0, error: 0), LinearNeuron(weights: [2, 3], output: 17, delta: 0, error: 0)])\n"
     ]
    }
   ],
   "source": [
    "class Layer(ABC):\n",
    "    def __init__(self) -> None:\n",
    "        self.neurons = []\n",
    "    \n",
    "    @abstractmethod\n",
    "    def __init__(self, num: int, weights: list) -> None:\n",
    "        pass\n",
    "        \n",
    "    def addNeuron(self, neuron: Neuron) -> None:\n",
    "        self.neurons.append(neuron)\n",
    "        \n",
    "    def evaluate(self, input: list) -> list:\n",
    "        return [neuron.evaluate(input) for neuron in self.neurons]\n",
    "    \n",
    "    def __repr__(self) -> str:\n",
    "        return \"Layer(\" + str(self.neurons) + \")\"\n",
    "    \n",
    "\n",
    "class LinearLayer(Layer):\n",
    "    def __init__(self, num: int, weights: list) -> None:\n",
    "        assert len(weights) == num, \"Invalid matrix dimension\"\n",
    "        self.neurons = [LinearNeuron(w) for w in weights]\n",
    "    \n",
    "class SigmoidLayer(Layer):\n",
    "    def __init__(self, num: int, weights: list) -> None:\n",
    "        assert len(weights) == num, \"Invalid matrix dimension\"\n",
    "        self.neurons = [SigmoidNeuron(w) for w in weights]\n",
    "\n",
    "# tests\n",
    "layer1 = LinearLayer(1, [[1, 2]])\n",
    "assert layer1.evaluate([5]) == [11]\n",
    "layer1.addNeuron(LinearNeuron([2, 3]))\n",
    "assert layer1.evaluate([5]) == [11, 17]\n",
    "\n",
    "layer2 = LinearLayer(2, [[1,2], [2, 3]])\n",
    "assert layer2.evaluate([5]) == [11, 17]\n",
    "print(layer2)"
   ]
  },
  {
   "cell_type": "markdown",
   "metadata": {},
   "source": [
    "## Implementacja sieci"
   ]
  },
  {
   "cell_type": "code",
   "execution_count": 139,
   "metadata": {},
   "outputs": [
    {
     "data": {
      "image/svg+xml": [
       "<?xml version=\"1.0\" encoding=\"UTF-8\" standalone=\"no\"?>\n",
       "<!DOCTYPE svg PUBLIC \"-//W3C//DTD SVG 1.1//EN\"\n",
       " \"http://www.w3.org/Graphics/SVG/1.1/DTD/svg11.dtd\">\n",
       "<!-- Generated by graphviz version 2.40.1 (20161225.0304)\n",
       " -->\n",
       "<!-- Title: neural network Pages: 1 -->\n",
       "<svg width=\"301pt\" height=\"131pt\"\n",
       " viewBox=\"0.00 0.00 300.84 131.00\" xmlns=\"http://www.w3.org/2000/svg\" xmlns:xlink=\"http://www.w3.org/1999/xlink\">\n",
       "<g id=\"graph0\" class=\"graph\" transform=\"scale(1 1) rotate(0) translate(4 127)\">\n",
       "<title>neural network</title>\n",
       "<polygon fill=\"#ffffff\" stroke=\"transparent\" points=\"-4,4 -4,-127 296.8379,-127 296.8379,4 -4,4\"/>\n",
       "<!-- test_L0_Bias -->\n",
       "<g id=\"node1\" class=\"node\">\n",
       "<title>test_L0_Bias</title>\n",
       "<ellipse fill=\"none\" stroke=\"#000000\" cx=\"70.8437\" cy=\"-105\" rx=\"70.6878\" ry=\"18\"/>\n",
       "<text text-anchor=\"middle\" x=\"70.8437\" y=\"-101.3\" font-family=\"Times,serif\" font-size=\"14.00\" fill=\"#000000\">test_L0_Bias</text>\n",
       "</g>\n",
       "<!-- test_L1_N0 -->\n",
       "<g id=\"node2\" class=\"node\">\n",
       "<title>test_L1_N0</title>\n",
       "<ellipse fill=\"none\" stroke=\"#000000\" cx=\"73.8437\" cy=\"-18\" rx=\"64.9885\" ry=\"18\"/>\n",
       "<text text-anchor=\"middle\" x=\"73.8437\" y=\"-14.3\" font-family=\"Times,serif\" font-size=\"14.00\" fill=\"#000000\">test_L1_N0</text>\n",
       "</g>\n",
       "<!-- test_L0_Bias&#45;&gt;test_L1_N0 -->\n",
       "<g id=\"edge1\" class=\"edge\">\n",
       "<title>test_L0_Bias&#45;&gt;test_L1_N0</title>\n",
       "<path fill=\"none\" stroke=\"#000000\" d=\"M67.8493,-86.5735C66.6646,-76.8736 65.8049,-64.7853 66.8437,-54 67.0894,-51.4491 67.4309,-48.8104 67.832,-46.1745\"/>\n",
       "<polygon fill=\"#000000\" stroke=\"#000000\" points=\"71.2982,-46.6722 69.5975,-36.2148 64.4057,-45.4503 71.2982,-46.6722\"/>\n",
       "<text text-anchor=\"middle\" x=\"82.8437\" y=\"-57.8\" font-family=\"Times,serif\" font-size=\"14.00\" fill=\"#000000\">1.00</text>\n",
       "</g>\n",
       "<!-- test_L1_N1 -->\n",
       "<g id=\"node4\" class=\"node\">\n",
       "<title>test_L1_N1</title>\n",
       "<ellipse fill=\"none\" stroke=\"#000000\" cx=\"225.8437\" cy=\"-18\" rx=\"64.9885\" ry=\"18\"/>\n",
       "<text text-anchor=\"middle\" x=\"225.8437\" y=\"-14.3\" font-family=\"Times,serif\" font-size=\"14.00\" fill=\"#000000\">test_L1_N1</text>\n",
       "</g>\n",
       "<!-- test_L0_Bias&#45;&gt;test_L1_N1 -->\n",
       "<g id=\"edge3\" class=\"edge\">\n",
       "<title>test_L0_Bias&#45;&gt;test_L1_N1</title>\n",
       "<path fill=\"none\" stroke=\"#000000\" d=\"M83.4612,-87.2605C92.0525,-76.3232 104.2948,-62.7606 117.8437,-54 132.0692,-44.802 148.8755,-37.7277 164.9398,-32.386\"/>\n",
       "<polygon fill=\"#000000\" stroke=\"#000000\" points=\"166.3268,-35.6189 174.8165,-29.2805 164.2271,-28.9412 166.3268,-35.6189\"/>\n",
       "<text text-anchor=\"middle\" x=\"133.8437\" y=\"-57.8\" font-family=\"Times,serif\" font-size=\"14.00\" fill=\"#000000\">2.00</text>\n",
       "</g>\n",
       "<!-- test_L0_N0 -->\n",
       "<g id=\"node3\" class=\"node\">\n",
       "<title>test_L0_N0</title>\n",
       "<ellipse fill=\"none\" stroke=\"#000000\" cx=\"227.8437\" cy=\"-105\" rx=\"64.9885\" ry=\"18\"/>\n",
       "<text text-anchor=\"middle\" x=\"227.8437\" y=\"-101.3\" font-family=\"Times,serif\" font-size=\"14.00\" fill=\"#000000\">test_L0_N0</text>\n",
       "</g>\n",
       "<!-- test_L0_N0&#45;&gt;test_L1_N0 -->\n",
       "<g id=\"edge2\" class=\"edge\">\n",
       "<title>test_L0_N0&#45;&gt;test_L1_N0</title>\n",
       "<path fill=\"none\" stroke=\"#000000\" d=\"M205.5312,-88.0487C191.1901,-77.555 171.9227,-64.1874 153.8437,-54 143.1665,-47.9835 131.2973,-42.1923 120.0405,-37.0794\"/>\n",
       "<polygon fill=\"#000000\" stroke=\"#000000\" points=\"121.3276,-33.8213 110.7684,-32.954 118.482,-40.2169 121.3276,-33.8213\"/>\n",
       "<text text-anchor=\"middle\" x=\"193.8437\" y=\"-57.8\" font-family=\"Times,serif\" font-size=\"14.00\" fill=\"#000000\">2.00</text>\n",
       "</g>\n",
       "<!-- test_L0_N0&#45;&gt;test_L1_N1 -->\n",
       "<g id=\"edge4\" class=\"edge\">\n",
       "<title>test_L0_N0&#45;&gt;test_L1_N1</title>\n",
       "<path fill=\"none\" stroke=\"#000000\" d=\"M227.4293,-86.9735C227.1585,-75.1918 226.7991,-59.5607 226.491,-46.1581\"/>\n",
       "<polygon fill=\"#000000\" stroke=\"#000000\" points=\"229.9866,-45.9202 226.2576,-36.0034 222.9884,-46.0812 229.9866,-45.9202\"/>\n",
       "<text text-anchor=\"middle\" x=\"242.8437\" y=\"-57.8\" font-family=\"Times,serif\" font-size=\"14.00\" fill=\"#000000\">3.00</text>\n",
       "</g>\n",
       "</g>\n",
       "</svg>\n"
      ],
      "text/plain": [
       "<graphviz.dot.Digraph at 0x7f46f2fdbc88>"
      ]
     },
     "execution_count": 139,
     "metadata": {},
     "output_type": "execute_result"
    }
   ],
   "source": [
    "from graphviz import Digraph\n",
    "import random\n",
    "from sklearn.preprocessing import StandardScaler, MinMaxScaler\n",
    "import copy\n",
    "\n",
    "class Network:\n",
    "    def __init__(self) -> None:\n",
    "        self.layers = []\n",
    "        self.size = []\n",
    "        self.s = None\n",
    "    \n",
    "    def __repr__(self) -> str:\n",
    "        return \"Network(\" + \"\\n\\t\".join([str(layer) for layer in self.layers]) + \")\"\n",
    "    \n",
    "    def __init__(self, layer_types: list, size: list, weights=None, gen_type=\"0|1\") -> None:\n",
    "        assert len(layer_types) == len(size) - 1, \"Invalid matrix dimension\"\n",
    "        self.layers = []\n",
    "        self.size = size\n",
    "        for i, layer_type in enumerate(layer_types):\n",
    "            if layer_type == \"sigmoid\":\n",
    "                self.addLayerBack(SigmoidLayer(size[i + 1], weights[i] if weights else Network.generate(gen_type, (size[i + 1], size[i] + 1))))\n",
    "            elif layer_type == \"linear\":\n",
    "                self.addLayerBack(LinearLayer(size[i + 1], weights[i] if weights else Network.generate(gen_type, (size[i + 1], size[i] + 1))))\n",
    "            else:\n",
    "                logging.error(\"Invalid layer type\")\n",
    "    \n",
    "    @staticmethod\n",
    "    def batch_partition(list_in, n):\n",
    "        l = copy.deepcopy(list_in)\n",
    "#         random.shuffle(l)\n",
    "        return [l[(i * n):(i * n + n)] for i in range(int((len(l) + n - 1) / n))]\n",
    "        \n",
    "    def generate(gen_type: str, n: tuple) -> np.array:\n",
    "        if gen_type == \"0|1\":\n",
    "            return np.random.uniform(0, 1, n)\n",
    "        elif gen_type == \"-1|1\":\n",
    "            return np.random.uniform(-1, 1, n)\n",
    "        elif gen_type == \"norm\":\n",
    "            return np.random.normal(0, 1, n)\n",
    "        elif gen_type == \"zero\":\n",
    "            return np.zeros(n)\n",
    "        \n",
    "    \n",
    "    def addLayerBack(self, layer: Layer) -> None:\n",
    "        self.layers.append(layer)\n",
    "    \n",
    "    def forward(self, x: list) -> list:\n",
    "        input = x\n",
    "        for layer in self.layers:\n",
    "            out = []\n",
    "            for val in input:\n",
    "                tmp = layer.evaluate(val)\n",
    "                out.append(tmp)\n",
    "            input = out\n",
    "        return input\n",
    "    \n",
    "    def predict(self, x):\n",
    "        return self.s.inverse_transform(self.forward(x))\n",
    "        #return self.forward(x)\n",
    "    \n",
    "    def draw(self, prefix='', graph=None) -> None:\n",
    "        g = Digraph(format='svg', name=\"neural network\")\n",
    "        if graph is not None:\n",
    "            g = graph\n",
    "        for idx, layer in enumerate(self.layers):\n",
    "            current_id = idx + 1\n",
    "            # create bias neuron\n",
    "            bias_name = '%s_L%s_Bias' % (prefix, idx)\n",
    "            g.node(bias_name)\n",
    "            for n_i, neuron in enumerate(layer.neurons):\n",
    "                # create dot for neuron\n",
    "                neuron_name = '%s_L%s_N%s' % (prefix, current_id, n_i)\n",
    "                g.node(neuron_name)\n",
    "                # create dots and edges for parents\n",
    "                for w_i, weight in enumerate(neuron.weights):\n",
    "                    if w_i == 0:\n",
    "                        g.edge(bias_name, neuron_name, label=format(weight, '.2f'))\n",
    "                    else:\n",
    "                        p_name = '%s_L%s_N%s' % (prefix, idx, w_i - 1)\n",
    "                        g.node(p_name)\n",
    "                        g.edge(p_name, neuron_name, label=format(weight, '.2f'))\n",
    "        return g\n",
    "            \n",
    "    def backward_propagate_error(self, expected, l_rate):\n",
    "        for i in reversed(range(len(self.layers))):\n",
    "            layer = self.layers[i]\n",
    "            \n",
    "            if layer == self.layers[-1]:\n",
    "                for j, neuron in enumerate(layer.neurons):\n",
    "                    neuron.error = (expected[j] - neuron.output)\n",
    "                    neuron.delta += neuron.error * neuron.derivative(neuron.output)\n",
    "                    neuron.current_delta = neuron.error * neuron.derivative(neuron.output)\n",
    "                    neuron.current_error = (expected[j] - neuron.output)\n",
    "                    \n",
    "                    for k in range(len(neuron.weights)):\n",
    "                        neuron.deltas[k] += neuron.current_delta * neuron.inputs[k]\n",
    "            else:\n",
    "                next_layer = self.layers[i + 1]\n",
    "                for j, neuron in enumerate(layer.neurons):\n",
    "                    neuron.current_error = 0\n",
    "                    neuron.current_delta = 0\n",
    "                    for k, next_neuron in enumerate(next_layer.neurons):\n",
    "                        neuron.current_error += next_neuron.weights[j+1] * next_neuron.current_delta\n",
    "                    neuron.current_delta = neuron.current_error * neuron.derivative(neuron.output)\n",
    "                    for k in range(len(neuron.weights)):\n",
    "                        neuron.deltas[k] += neuron.current_delta * neuron.inputs[k]\n",
    "    \n",
    "    def update_weights(self, l_rate, size):\n",
    "        for layer in self.layers:\n",
    "            for neuron in layer.neurons:\n",
    "                for i in range(len(neuron.weights)):\n",
    "                    neuron.weights[i] += neuron.deltas[i] * l_rate / size\n",
    "    \n",
    "    def clean_params(self):\n",
    "        for idx, layer in enumerate(self.layers):\n",
    "            for neuron in layer.neurons:\n",
    "                neuron.output = 0\n",
    "                neuron.delta = 0\n",
    "                #neuron.error = 0\n",
    "                neuron.deltas = [0 for i in range(len(neuron.weights))]\n",
    "    \n",
    "    def train_network(self, train_data: list, train_y: list, l_rate=1e-3, n_epoch=5, batch_size=None) -> None:\n",
    "        self.s = StandardScaler()\n",
    "        y_std = self.s.fit_transform(train_y)\n",
    "        joined = [(train_data[i], y_std[i]) for i in range(len(train_y))]\n",
    "        a = self.draw(\"null\")\n",
    "        for epoch in range(n_epoch):\n",
    "            batches = Network.batch_partition(joined, batch_size) if batch_size else [joined]\n",
    "            for batch_idx, batch in enumerate(batches):\n",
    "                sum_error = 0\n",
    "                self.clean_params()\n",
    "                for i, row in enumerate(batch):\n",
    "                    x, expected = row\n",
    "                    outputs = self.forward([row])\n",
    "                    sum_error += sum([(expected[i]-outputs[0][i])**2 for i in range(len(expected))])\n",
    "                    self.backward_propagate_error(expected, l_rate)\n",
    "                self.update_weights(l_rate, len(batch))\n",
    "            if epoch % 100 == 99:\n",
    "                a = self.draw(str(epoch), a)\n",
    "#             print('>epoch=%d, lrate=%.3f, error=%.3f' % (epoch, l_rate, sum_error))\n",
    "        return a\n",
    "        \n",
    "\n",
    "# tests\n",
    "network = Network([\"linear\"], [1, 1], [[[1,2,3]]])\n",
    "assert network.forward([[2,3]]) == [[14]]\n",
    "\n",
    "network2 = Network([\"linear\"], [1, 2], [\n",
    "        [[1,2], [2, 3]]\n",
    "])\n",
    "assert network2.forward([[5]]) == [[11, 17]]\n",
    "network2.draw(\"test\")\n",
    "# https://machinelearningmastery.com/implement-backpropagation-algorithm-scratch-python/"
   ]
  },
  {
   "cell_type": "markdown",
   "metadata": {},
   "source": [
    "# Zbiór square-simple"
   ]
  },
  {
   "cell_type": "code",
   "execution_count": 134,
   "metadata": {},
   "outputs": [],
   "source": [
    "train_df = pd.read_csv('./mio1/regression/square-simple-training.csv', index_col=0)\n",
    "test_df = pd.read_csv('./mio1/regression/square-simple-test.csv', index_col=0)"
   ]
  },
  {
   "cell_type": "markdown",
   "metadata": {},
   "source": [
    "### jedna warstwa ukryta, 10 neuronów"
   ]
  },
  {
   "cell_type": "code",
   "execution_count": 140,
   "metadata": {},
   "outputs": [
    {
     "name": "stdout",
     "output_type": "stream",
     "text": [
      "CPU times: user 2.91 s, sys: 93.8 ms, total: 3 s\n",
      "Wall time: 2.94 s\n"
     ]
    },
    {
     "data": {
      "text/plain": [
       "<matplotlib.collections.PathCollection at 0x7f4700bba780>"
      ]
     },
     "execution_count": 140,
     "metadata": {},
     "output_type": "execute_result"
    },
    {
     "data": {
      "image/png": "[encoded data removed]",
      "text/plain": [
       "<Figure size 432x288 with 1 Axes>"
      ]
     },
     "metadata": {
      "needs_background": "light"
     },
     "output_type": "display_data"
    }
   ],
   "source": [
    "%%time\n",
    "np.random.seed(2137)\n",
    "mlp = Network([\"sigmoid\", \"linear\"], [1,4,1], gen_type=\"0|1\")\n",
    "g = mlp.train_network(np.expand_dims(train_df['x'], 1), np.expand_dims(train_df['y'], 1), n_epoch=300, l_rate=0.5)\n",
    "\n",
    "y_pred = mlp.predict(np.expand_dims(train_df['x'], 1))\n",
    "y_pred = np.squeeze(y_pred)\n",
    "plt.scatter(train_df['x'], train_df['y'], color='green')\n",
    "plt.scatter(train_df['x'], y_pred, color='red')"
   ]
  },
  {
   "cell_type": "code",
   "execution_count": 120,
   "metadata": {},
   "outputs": [
    {
     "data": {
      "image/svg+xml": [
       "<?xml version=\"1.0\" encoding=\"UTF-8\" standalone=\"no\"?>\n",
       "<!DOCTYPE svg PUBLIC \"-//W3C//DTD SVG 1.1//EN\"\n",
       " \"http://www.w3.org/Graphics/SVG/1.1/DTD/svg11.dtd\">\n",
       "<!-- Generated by graphviz version 2.40.1 (20161225.0304)\n",
       " -->\n",
       "<!-- Title: neural network Pages: 1 -->\n",
       "<svg width=\"2918pt\" height=\"218pt\"\n",
       " viewBox=\"0.00 0.00 2917.54 218.00\" xmlns=\"http://www.w3.org/2000/svg\" xmlns:xlink=\"http://www.w3.org/1999/xlink\">\n",
       "<g id=\"graph0\" class=\"graph\" transform=\"scale(1 1) rotate(0) translate(4 214)\">\n",
       "<title>neural network</title>\n",
       "<polygon fill=\"#ffffff\" stroke=\"transparent\" points=\"-4,4 -4,-214 2913.5381,-214 2913.5381,4 -4,4\"/>\n",
       "<!-- null_L0_Bias -->\n",
       "<g id=\"node1\" class=\"node\">\n",
       "<title>null_L0_Bias</title>\n",
       "<ellipse fill=\"none\" stroke=\"#000000\" cx=\"195.3443\" cy=\"-192\" rx=\"70.3881\" ry=\"18\"/>\n",
       "<text text-anchor=\"middle\" x=\"195.3443\" y=\"-188.3\" font-family=\"Times,serif\" font-size=\"14.00\" fill=\"#000000\">null_L0_Bias</text>\n",
       "</g>\n",
       "<!-- null_L1_N0 -->\n",
       "<g id=\"node2\" class=\"node\">\n",
       "<title>null_L1_N0</title>\n",
       "<ellipse fill=\"none\" stroke=\"#000000\" cx=\"358.3443\" cy=\"-105\" rx=\"64.189\" ry=\"18\"/>\n",
       "<text text-anchor=\"middle\" x=\"358.3443\" y=\"-101.3\" font-family=\"Times,serif\" font-size=\"14.00\" fill=\"#000000\">null_L1_N0</text>\n",
       "</g>\n",
       "<!-- null_L0_Bias&#45;&gt;null_L1_N0 -->\n",
       "<g id=\"edge1\" class=\"edge\">\n",
       "<title>null_L0_Bias&#45;&gt;null_L1_N0</title>\n",
       "<path fill=\"none\" stroke=\"#000000\" d=\"M211.0283,-174.3778C221.5242,-163.4872 236.1555,-149.9326 251.3443,-141 266.1046,-132.3194 283.2525,-125.3709 299.4392,-119.9832\"/>\n",
       "<polygon fill=\"#000000\" stroke=\"#000000\" points=\"300.8936,-123.1935 309.3636,-116.8287 298.7732,-116.5224 300.8936,-123.1935\"/>\n",
       "<text text-anchor=\"middle\" x=\"267.3443\" y=\"-144.8\" font-family=\"Times,serif\" font-size=\"14.00\" fill=\"#000000\">0.10</text>\n",
       "</g>\n",
       "<!-- null_L1_N1 -->\n",
       "<g id=\"node4\" class=\"node\">\n",
       "<title>null_L1_N1</title>\n",
       "<ellipse fill=\"none\" stroke=\"#000000\" cx=\"64.3443\" cy=\"-105\" rx=\"64.189\" ry=\"18\"/>\n",
       "<text text-anchor=\"middle\" x=\"64.3443\" y=\"-101.3\" font-family=\"Times,serif\" font-size=\"14.00\" fill=\"#000000\">null_L1_N1</text>\n",
       "</g>\n",
       "<!-- null_L0_Bias&#45;&gt;null_L1_N1 -->\n",
       "<g id=\"edge3\" class=\"edge\">\n",
       "<title>null_L0_Bias&#45;&gt;null_L1_N1</title>\n",
       "<path fill=\"none\" stroke=\"#000000\" d=\"M147.3936,-178.824C132.3852,-173.2866 116.3602,-165.802 103.3443,-156 94.5294,-149.3617 86.6998,-140.2306 80.4117,-131.5275\"/>\n",
       "<polygon fill=\"#000000\" stroke=\"#000000\" points=\"83.1785,-129.3722 74.658,-123.0752 77.392,-133.3112 83.1785,-129.3722\"/>\n",
       "<text text-anchor=\"middle\" x=\"119.3443\" y=\"-144.8\" font-family=\"Times,serif\" font-size=\"14.00\" fill=\"#000000\">0.95</text>\n",
       "</g>\n",
       "<!-- null_L1_N2 -->\n",
       "<g id=\"node5\" class=\"node\">\n",
       "<title>null_L1_N2</title>\n",
       "<ellipse fill=\"none\" stroke=\"#000000\" cx=\"211.3443\" cy=\"-105\" rx=\"64.189\" ry=\"18\"/>\n",
       "<text text-anchor=\"middle\" x=\"211.3443\" y=\"-101.3\" font-family=\"Times,serif\" font-size=\"14.00\" fill=\"#000000\">null_L1_N2</text>\n",
       "</g>\n",
       "<!-- null_L0_Bias&#45;&gt;null_L1_N2 -->\n",
       "<g id=\"edge5\" class=\"edge\">\n",
       "<title>null_L0_Bias&#45;&gt;null_L1_N2</title>\n",
       "<path fill=\"none\" stroke=\"#000000\" d=\"M160.4358,-176.192C145.4244,-167.0416 133.0152,-154.6495 141.3443,-141 145.6487,-133.9461 151.8251,-128.216 158.7491,-123.5778\"/>\n",
       "<polygon fill=\"#000000\" stroke=\"#000000\" points=\"160.9661,-126.3362 167.8347,-118.2694 157.4347,-120.2922 160.9661,-126.3362\"/>\n",
       "<text text-anchor=\"middle\" x=\"157.3443\" y=\"-144.8\" font-family=\"Times,serif\" font-size=\"14.00\" fill=\"#000000\">0.25</text>\n",
       "</g>\n",
       "<!-- null_L1_N3 -->\n",
       "<g id=\"node6\" class=\"node\">\n",
       "<title>null_L1_N3</title>\n",
       "<ellipse fill=\"none\" stroke=\"#000000\" cx=\"505.3443\" cy=\"-105\" rx=\"64.189\" ry=\"18\"/>\n",
       "<text text-anchor=\"middle\" x=\"505.3443\" y=\"-101.3\" font-family=\"Times,serif\" font-size=\"14.00\" fill=\"#000000\">null_L1_N3</text>\n",
       "</g>\n",
       "<!-- null_L0_Bias&#45;&gt;null_L1_N3 -->\n",
       "<g id=\"edge7\" class=\"edge\">\n",
       "<title>null_L0_Bias&#45;&gt;null_L1_N3</title>\n",
       "<path fill=\"none\" stroke=\"#000000\" d=\"M255.7621,-182.6635C282.0326,-177.1376 312.6194,-168.664 338.3443,-156 347.9969,-151.2482 347.6727,-145.7131 357.3443,-141 357.3443,-141 405.3574,-129.3211 446.6897,-119.2673\"/>\n",
       "<polygon fill=\"#000000\" stroke=\"#000000\" points=\"447.584,-122.6519 456.4734,-116.8875 445.9294,-115.8503 447.584,-122.6519\"/>\n",
       "<text text-anchor=\"middle\" x=\"373.3443\" y=\"-144.8\" font-family=\"Times,serif\" font-size=\"14.00\" fill=\"#000000\">0.82</text>\n",
       "</g>\n",
       "<!-- null_L2_N0 -->\n",
       "<g id=\"node8\" class=\"node\">\n",
       "<title>null_L2_N0</title>\n",
       "<ellipse fill=\"none\" stroke=\"#000000\" cx=\"358.3443\" cy=\"-18\" rx=\"64.189\" ry=\"18\"/>\n",
       "<text text-anchor=\"middle\" x=\"358.3443\" y=\"-14.3\" font-family=\"Times,serif\" font-size=\"14.00\" fill=\"#000000\">null_L2_N0</text>\n",
       "</g>\n",
       "<!-- null_L1_N0&#45;&gt;null_L2_N0 -->\n",
       "<g id=\"edge10\" class=\"edge\">\n",
       "<title>null_L1_N0&#45;&gt;null_L2_N0</title>\n",
       "<path fill=\"none\" stroke=\"#000000\" d=\"M358.3443,-86.9735C358.3443,-75.1918 358.3443,-59.5607 358.3443,-46.1581\"/>\n",
       "<polygon fill=\"#000000\" stroke=\"#000000\" points=\"361.8444,-46.0033 358.3443,-36.0034 354.8444,-46.0034 361.8444,-46.0033\"/>\n",
       "<text text-anchor=\"middle\" x=\"374.3443\" y=\"-57.8\" font-family=\"Times,serif\" font-size=\"14.00\" fill=\"#000000\">0.78</text>\n",
       "</g>\n",
       "<!-- null_L0_N0 -->\n",
       "<g id=\"node3\" class=\"node\">\n",
       "<title>null_L0_N0</title>\n",
       "<ellipse fill=\"none\" stroke=\"#000000\" cx=\"409.3443\" cy=\"-192\" rx=\"64.189\" ry=\"18\"/>\n",
       "<text text-anchor=\"middle\" x=\"409.3443\" y=\"-188.3\" font-family=\"Times,serif\" font-size=\"14.00\" fill=\"#000000\">null_L0_N0</text>\n",
       "</g>\n",
       "<!-- null_L0_N0&#45;&gt;null_L1_N0 -->\n",
       "<g id=\"edge2\" class=\"edge\">\n",
       "<title>null_L0_N0&#45;&gt;null_L1_N0</title>\n",
       "<path fill=\"none\" stroke=\"#000000\" d=\"M405.7892,-173.6716C403.3018,-163.5543 399.3323,-151.0427 393.3443,-141 391.0215,-137.1044 388.1971,-133.3052 385.171,-129.7241\"/>\n",
       "<polygon fill=\"#000000\" stroke=\"#000000\" points=\"387.6802,-127.2819 378.3403,-122.2803 382.5226,-132.0147 387.6802,-127.2819\"/>\n",
       "<text text-anchor=\"middle\" x=\"416.3443\" y=\"-144.8\" font-family=\"Times,serif\" font-size=\"14.00\" fill=\"#000000\">0.52</text>\n",
       "</g>\n",
       "<!-- null_L0_N0&#45;&gt;null_L1_N1 -->\n",
       "<g id=\"edge4\" class=\"edge\">\n",
       "<title>null_L0_N0&#45;&gt;null_L1_N1</title>\n",
       "<path fill=\"none\" stroke=\"#000000\" d=\"M350.1402,-184.9326C296.8171,-178.0434 222.7376,-167.0221 195.3443,-156 184.3654,-151.5825 183.9552,-146.2401 173.3443,-141 156.988,-132.9226 138.3929,-126.019 121.2511,-120.4824\"/>\n",
       "<polygon fill=\"#000000\" stroke=\"#000000\" points=\"121.9432,-117.0315 111.3542,-117.3819 119.8505,-123.7114 121.9432,-117.0315\"/>\n",
       "<text text-anchor=\"middle\" x=\"211.3443\" y=\"-144.8\" font-family=\"Times,serif\" font-size=\"14.00\" fill=\"#000000\">0.08</text>\n",
       "</g>\n",
       "<!-- null_L0_N0&#45;&gt;null_L1_N2 -->\n",
       "<g id=\"edge6\" class=\"edge\">\n",
       "<title>null_L0_N0&#45;&gt;null_L1_N2</title>\n",
       "<path fill=\"none\" stroke=\"#000000\" d=\"M364.5346,-178.952C346.099,-172.919 324.7874,-165.0704 306.3443,-156 295.393,-150.6141 293.9305,-147.0721 283.3443,-141 273.8819,-135.5725 263.4963,-130.1079 253.63,-125.1335\"/>\n",
       "<polygon fill=\"#000000\" stroke=\"#000000\" points=\"254.8892,-121.8509 244.3768,-120.5316 251.7721,-128.1185 254.8892,-121.8509\"/>\n",
       "<text text-anchor=\"middle\" x=\"322.3443\" y=\"-144.8\" font-family=\"Times,serif\" font-size=\"14.00\" fill=\"#000000\">0.57</text>\n",
       "</g>\n",
       "<!-- null_L0_N0&#45;&gt;null_L1_N3 -->\n",
       "<g id=\"edge8\" class=\"edge\">\n",
       "<title>null_L0_N0&#45;&gt;null_L1_N3</title>\n",
       "<path fill=\"none\" stroke=\"#000000\" d=\"M428.7713,-174.3943C443.1789,-161.3374 462.9863,-143.3869 478.8461,-129.014\"/>\n",
       "<polygon fill=\"#000000\" stroke=\"#000000\" points=\"481.2142,-131.5913 486.2738,-122.2827 476.5135,-126.4044 481.2142,-131.5913\"/>\n",
       "<text text-anchor=\"middle\" x=\"479.3443\" y=\"-144.8\" font-family=\"Times,serif\" font-size=\"14.00\" fill=\"#000000\">0.65</text>\n",
       "</g>\n",
       "<!-- null_L1_N1&#45;&gt;null_L2_N0 -->\n",
       "<g id=\"edge11\" class=\"edge\">\n",
       "<title>null_L1_N1&#45;&gt;null_L2_N0</title>\n",
       "<path fill=\"none\" stroke=\"#000000\" d=\"M108.6774,-91.881C161.0366,-76.387 248.105,-50.6218 304.3486,-33.9783\"/>\n",
       "<polygon fill=\"#000000\" stroke=\"#000000\" points=\"305.5361,-37.277 314.1319,-31.0833 303.5498,-30.5647 305.5361,-37.277\"/>\n",
       "<text text-anchor=\"middle\" x=\"245.3443\" y=\"-57.8\" font-family=\"Times,serif\" font-size=\"14.00\" fill=\"#000000\">0.89</text>\n",
       "</g>\n",
       "<!-- null_L1_N2&#45;&gt;null_L2_N0 -->\n",
       "<g id=\"edge12\" class=\"edge\">\n",
       "<title>null_L1_N2&#45;&gt;null_L2_N0</title>\n",
       "<path fill=\"none\" stroke=\"#000000\" d=\"M238.9939,-88.636C262.5033,-74.7222 296.4328,-54.6415 322.1108,-39.4443\"/>\n",
       "<polygon fill=\"#000000\" stroke=\"#000000\" points=\"323.9956,-42.3959 330.8187,-34.2907 320.4303,-36.3719 323.9956,-42.3959\"/>\n",
       "<text text-anchor=\"middle\" x=\"310.3443\" y=\"-57.8\" font-family=\"Times,serif\" font-size=\"14.00\" fill=\"#000000\">0.88</text>\n",
       "</g>\n",
       "<!-- null_L1_N3&#45;&gt;null_L2_N0 -->\n",
       "<g id=\"edge13\" class=\"edge\">\n",
       "<title>null_L1_N3&#45;&gt;null_L2_N0</title>\n",
       "<path fill=\"none\" stroke=\"#000000\" d=\"M477.6947,-88.636C454.1853,-74.7222 420.2558,-54.6415 394.5778,-39.4443\"/>\n",
       "<polygon fill=\"#000000\" stroke=\"#000000\" points=\"396.2583,-36.3719 385.8699,-34.2907 392.693,-42.3959 396.2583,-36.3719\"/>\n",
       "<text text-anchor=\"middle\" x=\"457.3443\" y=\"-57.8\" font-family=\"Times,serif\" font-size=\"14.00\" fill=\"#000000\">0.86</text>\n",
       "</g>\n",
       "<!-- null_L1_Bias -->\n",
       "<g id=\"node7\" class=\"node\">\n",
       "<title>null_L1_Bias</title>\n",
       "<ellipse fill=\"none\" stroke=\"#000000\" cx=\"658.3443\" cy=\"-105\" rx=\"70.3881\" ry=\"18\"/>\n",
       "<text text-anchor=\"middle\" x=\"658.3443\" y=\"-101.3\" font-family=\"Times,serif\" font-size=\"14.00\" fill=\"#000000\">null_L1_Bias</text>\n",
       "</g>\n",
       "<!-- null_L1_Bias&#45;&gt;null_L2_N0 -->\n",
       "<g id=\"edge9\" class=\"edge\">\n",
       "<title>null_L1_Bias&#45;&gt;null_L2_N0</title>\n",
       "<path fill=\"none\" stroke=\"#000000\" d=\"M611.7985,-91.5017C558.0795,-75.9232 469.8459,-50.3355 412.9361,-33.8316\"/>\n",
       "<polygon fill=\"#000000\" stroke=\"#000000\" points=\"413.6175,-30.3851 403.0383,-30.9613 411.6677,-37.1081 413.6175,-30.3851\"/>\n",
       "<text text-anchor=\"middle\" x=\"542.3443\" y=\"-57.8\" font-family=\"Times,serif\" font-size=\"14.00\" fill=\"#000000\">0.63</text>\n",
       "</g>\n",
       "<!-- 99_L0_Bias -->\n",
       "<g id=\"node9\" class=\"node\">\n",
       "<title>99_L0_Bias</title>\n",
       "<ellipse fill=\"none\" stroke=\"#000000\" cx=\"921.3443\" cy=\"-192\" rx=\"64.189\" ry=\"18\"/>\n",
       "<text text-anchor=\"middle\" x=\"921.3443\" y=\"-188.3\" font-family=\"Times,serif\" font-size=\"14.00\" fill=\"#000000\">99_L0_Bias</text>\n",
       "</g>\n",
       "<!-- 99_L1_N0 -->\n",
       "<g id=\"node10\" class=\"node\">\n",
       "<title>99_L1_N0</title>\n",
       "<ellipse fill=\"none\" stroke=\"#000000\" cx=\"1075.3443\" cy=\"-105\" rx=\"58.4896\" ry=\"18\"/>\n",
       "<text text-anchor=\"middle\" x=\"1075.3443\" y=\"-101.3\" font-family=\"Times,serif\" font-size=\"14.00\" fill=\"#000000\">99_L1_N0</text>\n",
       "</g>\n",
       "<!-- 99_L0_Bias&#45;&gt;99_L1_N0 -->\n",
       "<g id=\"edge14\" class=\"edge\">\n",
       "<title>99_L0_Bias&#45;&gt;99_L1_N0</title>\n",
       "<path fill=\"none\" stroke=\"#000000\" d=\"M937.8069,-174.5858C948.7647,-163.7783 963.9336,-150.238 979.3443,-141 992.6171,-133.0436 1007.9465,-126.3393 1022.4049,-120.9544\"/>\n",
       "<polygon fill=\"#000000\" stroke=\"#000000\" points=\"1024.0017,-124.1005 1032.2395,-117.438 1021.6449,-117.5092 1024.0017,-124.1005\"/>\n",
       "<text text-anchor=\"middle\" x=\"997.8443\" y=\"-144.8\" font-family=\"Times,serif\" font-size=\"14.00\" fill=\"#000000\">&#45;1.22</text>\n",
       "</g>\n",
       "<!-- 99_L1_N1 -->\n",
       "<g id=\"node12\" class=\"node\">\n",
       "<title>99_L1_N1</title>\n",
       "<ellipse fill=\"none\" stroke=\"#000000\" cx=\"805.3443\" cy=\"-105\" rx=\"58.4896\" ry=\"18\"/>\n",
       "<text text-anchor=\"middle\" x=\"805.3443\" y=\"-101.3\" font-family=\"Times,serif\" font-size=\"14.00\" fill=\"#000000\">99_L1_N1</text>\n",
       "</g>\n",
       "<!-- 99_L0_Bias&#45;&gt;99_L1_N1 -->\n",
       "<g id=\"edge16\" class=\"edge\">\n",
       "<title>99_L0_Bias&#45;&gt;99_L1_N1</title>\n",
       "<path fill=\"none\" stroke=\"#000000\" d=\"M870.1387,-181.0509C854.5394,-175.6472 838.3593,-167.6787 826.3443,-156 819.83,-149.668 815.2598,-141.0245 812.0875,-132.6526\"/>\n",
       "<polygon fill=\"#000000\" stroke=\"#000000\" points=\"815.4015,-131.5258 808.9729,-123.1042 808.7466,-133.6967 815.4015,-131.5258\"/>\n",
       "<text text-anchor=\"middle\" x=\"842.3443\" y=\"-144.8\" font-family=\"Times,serif\" font-size=\"14.00\" fill=\"#000000\">0.67</text>\n",
       "</g>\n",
       "<!-- 99_L1_N2 -->\n",
       "<g id=\"node13\" class=\"node\">\n",
       "<title>99_L1_N2</title>\n",
       "<ellipse fill=\"none\" stroke=\"#000000\" cx=\"940.3443\" cy=\"-105\" rx=\"58.4896\" ry=\"18\"/>\n",
       "<text text-anchor=\"middle\" x=\"940.3443\" y=\"-101.3\" font-family=\"Times,serif\" font-size=\"14.00\" fill=\"#000000\">99_L1_N2</text>\n",
       "</g>\n",
       "<!-- 99_L0_Bias&#45;&gt;99_L1_N2 -->\n",
       "<g id=\"edge18\" class=\"edge\">\n",
       "<title>99_L0_Bias&#45;&gt;99_L1_N2</title>\n",
       "<path fill=\"none\" stroke=\"#000000\" d=\"M885.2548,-176.8398C869.0657,-167.7136 855.3973,-155.138 864.3443,-141 869.6172,-132.6677 877.3978,-126.2262 885.9958,-121.2578\"/>\n",
       "<polygon fill=\"#000000\" stroke=\"#000000\" points=\"887.8477,-124.2429 895.1808,-116.5959 884.6796,-118.0008 887.8477,-124.2429\"/>\n",
       "<text text-anchor=\"middle\" x=\"882.8443\" y=\"-144.8\" font-family=\"Times,serif\" font-size=\"14.00\" fill=\"#000000\">&#45;1.23</text>\n",
       "</g>\n",
       "<!-- 99_L1_N3 -->\n",
       "<g id=\"node14\" class=\"node\">\n",
       "<title>99_L1_N3</title>\n",
       "<ellipse fill=\"none\" stroke=\"#000000\" cx=\"1210.3443\" cy=\"-105\" rx=\"58.4896\" ry=\"18\"/>\n",
       "<text text-anchor=\"middle\" x=\"1210.3443\" y=\"-101.3\" font-family=\"Times,serif\" font-size=\"14.00\" fill=\"#000000\">99_L1_N3</text>\n",
       "</g>\n",
       "<!-- 99_L0_Bias&#45;&gt;99_L1_N3 -->\n",
       "<g id=\"edge20\" class=\"edge\">\n",
       "<title>99_L0_Bias&#45;&gt;99_L1_N3</title>\n",
       "<path fill=\"none\" stroke=\"#000000\" d=\"M979.2479,-184.1297C1007.9568,-178.7481 1042.5536,-169.9756 1071.3443,-156 1081.0231,-151.3017 1080.8006,-145.967 1090.3443,-141 1102.0635,-134.9007 1129.6822,-126.4835 1155.4718,-119.3217\"/>\n",
       "<polygon fill=\"#000000\" stroke=\"#000000\" points=\"1156.5111,-122.666 1165.2294,-116.6458 1154.6597,-115.9153 1156.5111,-122.666\"/>\n",
       "<text text-anchor=\"middle\" x=\"1106.3443\" y=\"-144.8\" font-family=\"Times,serif\" font-size=\"14.00\" fill=\"#000000\">0.37</text>\n",
       "</g>\n",
       "<!-- 99_L2_N0 -->\n",
       "<g id=\"node16\" class=\"node\">\n",
       "<title>99_L2_N0</title>\n",
       "<ellipse fill=\"none\" stroke=\"#000000\" cx=\"1075.3443\" cy=\"-18\" rx=\"58.4896\" ry=\"18\"/>\n",
       "<text text-anchor=\"middle\" x=\"1075.3443\" y=\"-14.3\" font-family=\"Times,serif\" font-size=\"14.00\" fill=\"#000000\">99_L2_N0</text>\n",
       "</g>\n",
       "<!-- 99_L1_N0&#45;&gt;99_L2_N0 -->\n",
       "<g id=\"edge23\" class=\"edge\">\n",
       "<title>99_L1_N0&#45;&gt;99_L2_N0</title>\n",
       "<path fill=\"none\" stroke=\"#000000\" d=\"M1075.3443,-86.9735C1075.3443,-75.1918 1075.3443,-59.5607 1075.3443,-46.1581\"/>\n",
       "<polygon fill=\"#000000\" stroke=\"#000000\" points=\"1078.8444,-46.0033 1075.3443,-36.0034 1071.8444,-46.0034 1078.8444,-46.0033\"/>\n",
       "<text text-anchor=\"middle\" x=\"1091.3443\" y=\"-57.8\" font-family=\"Times,serif\" font-size=\"14.00\" fill=\"#000000\">1.17</text>\n",
       "</g>\n",
       "<!-- 99_L0_N0 -->\n",
       "<g id=\"node11\" class=\"node\">\n",
       "<title>99_L0_N0</title>\n",
       "<ellipse fill=\"none\" stroke=\"#000000\" cx=\"1134.3443\" cy=\"-192\" rx=\"58.4896\" ry=\"18\"/>\n",
       "<text text-anchor=\"middle\" x=\"1134.3443\" y=\"-188.3\" font-family=\"Times,serif\" font-size=\"14.00\" fill=\"#000000\">99_L0_N0</text>\n",
       "</g>\n",
       "<!-- 99_L0_N0&#45;&gt;99_L1_N0 -->\n",
       "<g id=\"edge15\" class=\"edge\">\n",
       "<title>99_L0_N0&#45;&gt;99_L1_N0</title>\n",
       "<path fill=\"none\" stroke=\"#000000\" d=\"M1134.8844,-173.8086C1134.3978,-163.4948 1132.3978,-150.7448 1126.3443,-141 1123.0041,-135.623 1118.5334,-130.8257 1113.6218,-126.6234\"/>\n",
       "<polygon fill=\"#000000\" stroke=\"#000000\" points=\"1115.7076,-123.8123 1105.64,-120.5117 1111.452,-129.3702 1115.7076,-123.8123\"/>\n",
       "<text text-anchor=\"middle\" x=\"1148.3443\" y=\"-144.8\" font-family=\"Times,serif\" font-size=\"14.00\" fill=\"#000000\">1.20</text>\n",
       "</g>\n",
       "<!-- 99_L0_N0&#45;&gt;99_L1_N1 -->\n",
       "<g id=\"edge17\" class=\"edge\">\n",
       "<title>99_L0_N0&#45;&gt;99_L1_N1</title>\n",
       "<path fill=\"none\" stroke=\"#000000\" d=\"M1079.7066,-185.3691C1026.9142,-178.48 950.9977,-167.1641 923.3443,-156 912.3706,-151.5698 911.8489,-146.4501 901.3443,-141 887.0872,-133.6031 870.9536,-126.948 856.0377,-121.4308\"/>\n",
       "<polygon fill=\"#000000\" stroke=\"#000000\" points=\"857.038,-118.0709 846.4436,-117.9731 854.6646,-124.6563 857.038,-118.0709\"/>\n",
       "<text text-anchor=\"middle\" x=\"939.3443\" y=\"-144.8\" font-family=\"Times,serif\" font-size=\"14.00\" fill=\"#000000\">0.01</text>\n",
       "</g>\n",
       "<!-- 99_L0_N0&#45;&gt;99_L1_N2 -->\n",
       "<g id=\"edge19\" class=\"edge\">\n",
       "<title>99_L0_N0&#45;&gt;99_L1_N2</title>\n",
       "<path fill=\"none\" stroke=\"#000000\" d=\"M1093.7687,-178.8029C1076.6137,-172.6702 1056.6413,-164.7877 1039.3443,-156 1028.4639,-150.4723 1026.9945,-146.9592 1016.3443,-141 1005.8987,-135.1553 994.3489,-129.3619 983.4735,-124.1865\"/>\n",
       "<polygon fill=\"#000000\" stroke=\"#000000\" points=\"984.6749,-120.8843 974.1345,-119.8116 981.7054,-127.2233 984.6749,-120.8843\"/>\n",
       "<text text-anchor=\"middle\" x=\"1055.3443\" y=\"-144.8\" font-family=\"Times,serif\" font-size=\"14.00\" fill=\"#000000\">1.22</text>\n",
       "</g>\n",
       "<!-- 99_L0_N0&#45;&gt;99_L1_N3 -->\n",
       "<g id=\"edge21\" class=\"edge\">\n",
       "<title>99_L0_N0&#45;&gt;99_L1_N3</title>\n",
       "<path fill=\"none\" stroke=\"#000000\" d=\"M1151.1884,-174.6433C1156.7384,-168.7986 1162.8846,-162.1889 1168.3443,-156 1175.515,-147.8716 1183.1148,-138.7947 1189.8499,-130.5772\"/>\n",
       "<polygon fill=\"#000000\" stroke=\"#000000\" points=\"1192.652,-132.6789 1196.2487,-122.7132 1187.2224,-128.2608 1192.652,-132.6789\"/>\n",
       "<text text-anchor=\"middle\" x=\"1196.3443\" y=\"-144.8\" font-family=\"Times,serif\" font-size=\"14.00\" fill=\"#000000\">0.52</text>\n",
       "</g>\n",
       "<!-- 99_L1_N1&#45;&gt;99_L2_N0 -->\n",
       "<g id=\"edge24\" class=\"edge\">\n",
       "<title>99_L1_N1&#45;&gt;99_L2_N0</title>\n",
       "<path fill=\"none\" stroke=\"#000000\" d=\"M844.8413,-91.6921C875.9113,-81.2786 920.3234,-66.515 959.3443,-54 980.4821,-47.2206 1003.8514,-39.9291 1024.0424,-33.6931\"/>\n",
       "<polygon fill=\"#000000\" stroke=\"#000000\" points=\"1025.1502,-37.0142 1033.6753,-30.7235 1023.0879,-30.3248 1025.1502,-37.0142\"/>\n",
       "<text text-anchor=\"middle\" x=\"977.8443\" y=\"-57.8\" font-family=\"Times,serif\" font-size=\"14.00\" fill=\"#000000\">&#45;0.12</text>\n",
       "</g>\n",
       "<!-- 99_L1_N2&#45;&gt;99_L2_N0 -->\n",
       "<g id=\"edge25\" class=\"edge\">\n",
       "<title>99_L1_N2&#45;&gt;99_L2_N0</title>\n",
       "<path fill=\"none\" stroke=\"#000000\" d=\"M965.7368,-88.636C987.1385,-74.8437 1017.9432,-54.9918 1041.449,-39.8436\"/>\n",
       "<polygon fill=\"#000000\" stroke=\"#000000\" points=\"1043.5559,-42.6497 1050.0657,-34.2907 1039.764,-36.7657 1043.5559,-42.6497\"/>\n",
       "<text text-anchor=\"middle\" x=\"1032.3443\" y=\"-57.8\" font-family=\"Times,serif\" font-size=\"14.00\" fill=\"#000000\">1.22</text>\n",
       "</g>\n",
       "<!-- 99_L1_N3&#45;&gt;99_L2_N0 -->\n",
       "<g id=\"edge26\" class=\"edge\">\n",
       "<title>99_L1_N3&#45;&gt;99_L2_N0</title>\n",
       "<path fill=\"none\" stroke=\"#000000\" d=\"M1184.9518,-88.636C1163.5501,-74.8437 1132.7453,-54.9918 1109.2395,-39.8436\"/>\n",
       "<polygon fill=\"#000000\" stroke=\"#000000\" points=\"1110.9246,-36.7657 1100.6229,-34.2907 1107.1327,-42.6497 1110.9246,-36.7657\"/>\n",
       "<text text-anchor=\"middle\" x=\"1167.3443\" y=\"-57.8\" font-family=\"Times,serif\" font-size=\"14.00\" fill=\"#000000\">0.06</text>\n",
       "</g>\n",
       "<!-- 99_L1_Bias -->\n",
       "<g id=\"node15\" class=\"node\">\n",
       "<title>99_L1_Bias</title>\n",
       "<ellipse fill=\"none\" stroke=\"#000000\" cx=\"1351.3443\" cy=\"-105\" rx=\"64.189\" ry=\"18\"/>\n",
       "<text text-anchor=\"middle\" x=\"1351.3443\" y=\"-101.3\" font-family=\"Times,serif\" font-size=\"14.00\" fill=\"#000000\">99_L1_Bias</text>\n",
       "</g>\n",
       "<!-- 99_L1_Bias&#45;&gt;99_L2_N0 -->\n",
       "<g id=\"edge22\" class=\"edge\">\n",
       "<title>99_L1_Bias&#45;&gt;99_L2_N0</title>\n",
       "<path fill=\"none\" stroke=\"#000000\" d=\"M1308.5221,-91.5017C1259.3053,-75.9877 1178.5975,-50.5472 1126.2206,-34.0371\"/>\n",
       "<polygon fill=\"#000000\" stroke=\"#000000\" points=\"1127.0524,-30.6296 1116.4628,-30.9613 1124.9479,-37.3058 1127.0524,-30.6296\"/>\n",
       "<text text-anchor=\"middle\" x=\"1248.8443\" y=\"-57.8\" font-family=\"Times,serif\" font-size=\"14.00\" fill=\"#000000\">&#45;0.80</text>\n",
       "</g>\n",
       "<!-- 199_L0_Bias -->\n",
       "<g id=\"node17\" class=\"node\">\n",
       "<title>199_L0_Bias</title>\n",
       "<ellipse fill=\"none\" stroke=\"#000000\" cx=\"1639.3443\" cy=\"-192\" rx=\"70.3881\" ry=\"18\"/>\n",
       "<text text-anchor=\"middle\" x=\"1639.3443\" y=\"-188.3\" font-family=\"Times,serif\" font-size=\"14.00\" fill=\"#000000\">199_L0_Bias</text>\n",
       "</g>\n",
       "<!-- 199_L1_N0 -->\n",
       "<g id=\"node18\" class=\"node\">\n",
       "<title>199_L1_N0</title>\n",
       "<ellipse fill=\"none\" stroke=\"#000000\" cx=\"1792.3443\" cy=\"-105\" rx=\"64.189\" ry=\"18\"/>\n",
       "<text text-anchor=\"middle\" x=\"1792.3443\" y=\"-101.3\" font-family=\"Times,serif\" font-size=\"14.00\" fill=\"#000000\">199_L1_N0</text>\n",
       "</g>\n",
       "<!-- 199_L0_Bias&#45;&gt;199_L1_N0 -->\n",
       "<g id=\"edge27\" class=\"edge\">\n",
       "<title>199_L0_Bias&#45;&gt;199_L1_N0</title>\n",
       "<path fill=\"none\" stroke=\"#000000\" d=\"M1657.1178,-174.4723C1668.6996,-163.7552 1684.5472,-150.3551 1700.3443,-141 1712.576,-133.7563 1726.5309,-127.4295 1739.8111,-122.1852\"/>\n",
       "<polygon fill=\"#000000\" stroke=\"#000000\" points=\"1741.2286,-125.3907 1749.3277,-118.5602 1738.7368,-118.8492 1741.2286,-125.3907\"/>\n",
       "<text text-anchor=\"middle\" x=\"1718.8443\" y=\"-144.8\" font-family=\"Times,serif\" font-size=\"14.00\" fill=\"#000000\">&#45;2.62</text>\n",
       "</g>\n",
       "<!-- 199_L1_N1 -->\n",
       "<g id=\"node20\" class=\"node\">\n",
       "<title>199_L1_N1</title>\n",
       "<ellipse fill=\"none\" stroke=\"#000000\" cx=\"1498.3443\" cy=\"-105\" rx=\"64.189\" ry=\"18\"/>\n",
       "<text text-anchor=\"middle\" x=\"1498.3443\" y=\"-101.3\" font-family=\"Times,serif\" font-size=\"14.00\" fill=\"#000000\">199_L1_N1</text>\n",
       "</g>\n",
       "<!-- 199_L0_Bias&#45;&gt;199_L1_N1 -->\n",
       "<g id=\"edge29\" class=\"edge\">\n",
       "<title>199_L0_Bias&#45;&gt;199_L1_N1</title>\n",
       "<path fill=\"none\" stroke=\"#000000\" d=\"M1590.1298,-179.0932C1574.0458,-173.5171 1556.6539,-165.941 1542.3443,-156 1532.6383,-149.2572 1523.7384,-139.89 1516.5208,-131.0213\"/>\n",
       "<polygon fill=\"#000000\" stroke=\"#000000\" points=\"1519.281,-128.8691 1510.3905,-123.1063 1513.7468,-133.1555 1519.281,-128.8691\"/>\n",
       "<text text-anchor=\"middle\" x=\"1558.3443\" y=\"-144.8\" font-family=\"Times,serif\" font-size=\"14.00\" fill=\"#000000\">0.67</text>\n",
       "</g>\n",
       "<!-- 199_L1_N2 -->\n",
       "<g id=\"node21\" class=\"node\">\n",
       "<title>199_L1_N2</title>\n",
       "<ellipse fill=\"none\" stroke=\"#000000\" cx=\"1645.3443\" cy=\"-105\" rx=\"64.189\" ry=\"18\"/>\n",
       "<text text-anchor=\"middle\" x=\"1645.3443\" y=\"-101.3\" font-family=\"Times,serif\" font-size=\"14.00\" fill=\"#000000\">199_L1_N2</text>\n",
       "</g>\n",
       "<!-- 199_L0_Bias&#45;&gt;199_L1_N2 -->\n",
       "<g id=\"edge31\" class=\"edge\">\n",
       "<title>199_L0_Bias&#45;&gt;199_L1_N2</title>\n",
       "<path fill=\"none\" stroke=\"#000000\" d=\"M1601.2704,-176.6245C1585.1793,-167.6815 1571.8895,-155.3477 1580.3443,-141 1584.1715,-134.5054 1589.6384,-129.1 1595.797,-124.6249\"/>\n",
       "<polygon fill=\"#000000\" stroke=\"#000000\" points=\"1597.9638,-127.3953 1604.5348,-119.0842 1594.2152,-121.4836 1597.9638,-127.3953\"/>\n",
       "<text text-anchor=\"middle\" x=\"1598.8443\" y=\"-144.8\" font-family=\"Times,serif\" font-size=\"14.00\" fill=\"#000000\">&#45;2.69</text>\n",
       "</g>\n",
       "<!-- 199_L1_N3 -->\n",
       "<g id=\"node22\" class=\"node\">\n",
       "<title>199_L1_N3</title>\n",
       "<ellipse fill=\"none\" stroke=\"#000000\" cx=\"1939.3443\" cy=\"-105\" rx=\"64.189\" ry=\"18\"/>\n",
       "<text text-anchor=\"middle\" x=\"1939.3443\" y=\"-101.3\" font-family=\"Times,serif\" font-size=\"14.00\" fill=\"#000000\">199_L1_N3</text>\n",
       "</g>\n",
       "<!-- 199_L0_Bias&#45;&gt;199_L1_N3 -->\n",
       "<g id=\"edge33\" class=\"edge\">\n",
       "<title>199_L0_Bias&#45;&gt;199_L1_N3</title>\n",
       "<path fill=\"none\" stroke=\"#000000\" d=\"M1701.7385,-183.6816C1730.3378,-178.291 1764.0831,-169.6409 1792.3443,-156 1802.0335,-151.3233 1801.758,-145.8843 1811.3443,-141 1823.7553,-134.6765 1852.9096,-126.3148 1880.2634,-119.2418\"/>\n",
       "<polygon fill=\"#000000\" stroke=\"#000000\" points=\"1881.4008,-122.5638 1890.2253,-116.7004 1879.6705,-115.781 1881.4008,-122.5638\"/>\n",
       "<text text-anchor=\"middle\" x=\"1827.3443\" y=\"-144.8\" font-family=\"Times,serif\" font-size=\"14.00\" fill=\"#000000\">0.55</text>\n",
       "</g>\n",
       "<!-- 199_L2_N0 -->\n",
       "<g id=\"node24\" class=\"node\">\n",
       "<title>199_L2_N0</title>\n",
       "<ellipse fill=\"none\" stroke=\"#000000\" cx=\"1792.3443\" cy=\"-18\" rx=\"64.189\" ry=\"18\"/>\n",
       "<text text-anchor=\"middle\" x=\"1792.3443\" y=\"-14.3\" font-family=\"Times,serif\" font-size=\"14.00\" fill=\"#000000\">199_L2_N0</text>\n",
       "</g>\n",
       "<!-- 199_L1_N0&#45;&gt;199_L2_N0 -->\n",
       "<g id=\"edge36\" class=\"edge\">\n",
       "<title>199_L1_N0&#45;&gt;199_L2_N0</title>\n",
       "<path fill=\"none\" stroke=\"#000000\" d=\"M1792.3443,-86.9735C1792.3443,-75.1918 1792.3443,-59.5607 1792.3443,-46.1581\"/>\n",
       "<polygon fill=\"#000000\" stroke=\"#000000\" points=\"1795.8444,-46.0033 1792.3443,-36.0034 1788.8444,-46.0034 1795.8444,-46.0033\"/>\n",
       "<text text-anchor=\"middle\" x=\"1808.3443\" y=\"-57.8\" font-family=\"Times,serif\" font-size=\"14.00\" fill=\"#000000\">1.93</text>\n",
       "</g>\n",
       "<!-- 199_L0_N0 -->\n",
       "<g id=\"node19\" class=\"node\">\n",
       "<title>199_L0_N0</title>\n",
       "<ellipse fill=\"none\" stroke=\"#000000\" cx=\"1861.3443\" cy=\"-192\" rx=\"64.189\" ry=\"18\"/>\n",
       "<text text-anchor=\"middle\" x=\"1861.3443\" y=\"-188.3\" font-family=\"Times,serif\" font-size=\"14.00\" fill=\"#000000\">199_L0_N0</text>\n",
       "</g>\n",
       "<!-- 199_L0_N0&#45;&gt;199_L1_N0 -->\n",
       "<g id=\"edge28\" class=\"edge\">\n",
       "<title>199_L0_N0&#45;&gt;199_L1_N0</title>\n",
       "<path fill=\"none\" stroke=\"#000000\" d=\"M1859.5342,-173.6245C1857.7642,-163.2494 1854.2642,-150.4994 1847.3443,-141 1843.3714,-135.5462 1838.2999,-130.6912 1832.8491,-126.4495\"/>\n",
       "<polygon fill=\"#000000\" stroke=\"#000000\" points=\"1834.8626,-123.5866 1824.6756,-120.6753 1830.8236,-129.3039 1834.8626,-123.5866\"/>\n",
       "<text text-anchor=\"middle\" x=\"1871.3443\" y=\"-144.8\" font-family=\"Times,serif\" font-size=\"14.00\" fill=\"#000000\">1.98</text>\n",
       "</g>\n",
       "<!-- 199_L0_N0&#45;&gt;199_L1_N1 -->\n",
       "<g id=\"edge30\" class=\"edge\">\n",
       "<title>199_L0_N0&#45;&gt;199_L1_N1</title>\n",
       "<path fill=\"none\" stroke=\"#000000\" d=\"M1803.3435,-184.0364C1742.4239,-175.4491 1653.3734,-162.1805 1638.3443,-156 1627.7365,-151.6377 1627.637,-146.0612 1617.3443,-141 1598.8689,-131.9151 1577.6407,-124.6024 1558.2759,-119.0025\"/>\n",
       "<polygon fill=\"#000000\" stroke=\"#000000\" points=\"1559.2158,-115.6311 1548.6427,-116.3106 1557.3318,-122.3728 1559.2158,-115.6311\"/>\n",
       "<text text-anchor=\"middle\" x=\"1656.8443\" y=\"-144.8\" font-family=\"Times,serif\" font-size=\"14.00\" fill=\"#000000\">&#45;0.00</text>\n",
       "</g>\n",
       "<!-- 199_L0_N0&#45;&gt;199_L1_N2 -->\n",
       "<g id=\"edge32\" class=\"edge\">\n",
       "<title>199_L0_N0&#45;&gt;199_L1_N2</title>\n",
       "<path fill=\"none\" stroke=\"#000000\" d=\"M1817.1664,-178.7676C1799.1481,-172.7303 1778.3577,-164.928 1760.3443,-156 1749.4097,-150.5804 1748.1948,-146.5862 1737.3443,-141 1724.3372,-134.3035 1709.7843,-128.0728 1696.1597,-122.741\"/>\n",
       "<polygon fill=\"#000000\" stroke=\"#000000\" points=\"1697.0288,-119.3262 1686.4383,-119.0237 1694.5286,-125.8645 1697.0288,-119.3262\"/>\n",
       "<text text-anchor=\"middle\" x=\"1776.3443\" y=\"-144.8\" font-family=\"Times,serif\" font-size=\"14.00\" fill=\"#000000\">2.04</text>\n",
       "</g>\n",
       "<!-- 199_L0_N0&#45;&gt;199_L1_N3 -->\n",
       "<g id=\"edge34\" class=\"edge\">\n",
       "<title>199_L0_N0&#45;&gt;199_L1_N3</title>\n",
       "<path fill=\"none\" stroke=\"#000000\" d=\"M1877.1288,-174.3943C1888.5469,-161.6586 1904.1393,-144.2671 1916.8579,-130.081\"/>\n",
       "<polygon fill=\"#000000\" stroke=\"#000000\" points=\"1919.5138,-132.3617 1923.5833,-122.5796 1914.3018,-127.6889 1919.5138,-132.3617\"/>\n",
       "<text text-anchor=\"middle\" x=\"1921.3443\" y=\"-144.8\" font-family=\"Times,serif\" font-size=\"14.00\" fill=\"#000000\">1.51</text>\n",
       "</g>\n",
       "<!-- 199_L1_N1&#45;&gt;199_L2_N0 -->\n",
       "<g id=\"edge37\" class=\"edge\">\n",
       "<title>199_L1_N1&#45;&gt;199_L2_N0</title>\n",
       "<path fill=\"none\" stroke=\"#000000\" d=\"M1542.6774,-91.881C1595.0366,-76.387 1682.105,-50.6218 1738.3486,-33.9783\"/>\n",
       "<polygon fill=\"#000000\" stroke=\"#000000\" points=\"1739.5361,-37.277 1748.1319,-31.0833 1737.5498,-30.5647 1739.5361,-37.277\"/>\n",
       "<text text-anchor=\"middle\" x=\"1679.3443\" y=\"-57.8\" font-family=\"Times,serif\" font-size=\"14.00\" fill=\"#000000\">0.19</text>\n",
       "</g>\n",
       "<!-- 199_L1_N2&#45;&gt;199_L2_N0 -->\n",
       "<g id=\"edge38\" class=\"edge\">\n",
       "<title>199_L1_N2&#45;&gt;199_L2_N0</title>\n",
       "<path fill=\"none\" stroke=\"#000000\" d=\"M1672.9939,-88.636C1696.5033,-74.7222 1730.4328,-54.6415 1756.1108,-39.4443\"/>\n",
       "<polygon fill=\"#000000\" stroke=\"#000000\" points=\"1757.9956,-42.3959 1764.8187,-34.2907 1754.4303,-36.3719 1757.9956,-42.3959\"/>\n",
       "<text text-anchor=\"middle\" x=\"1744.3443\" y=\"-57.8\" font-family=\"Times,serif\" font-size=\"14.00\" fill=\"#000000\">2.04</text>\n",
       "</g>\n",
       "<!-- 199_L1_N3&#45;&gt;199_L2_N0 -->\n",
       "<g id=\"edge39\" class=\"edge\">\n",
       "<title>199_L1_N3&#45;&gt;199_L2_N0</title>\n",
       "<path fill=\"none\" stroke=\"#000000\" d=\"M1911.6947,-88.636C1888.1853,-74.7222 1854.2558,-54.6415 1828.5778,-39.4443\"/>\n",
       "<polygon fill=\"#000000\" stroke=\"#000000\" points=\"1830.2583,-36.3719 1819.8699,-34.2907 1826.693,-42.3959 1830.2583,-36.3719\"/>\n",
       "<text text-anchor=\"middle\" x=\"1893.8443\" y=\"-57.8\" font-family=\"Times,serif\" font-size=\"14.00\" fill=\"#000000\">&#45;1.30</text>\n",
       "</g>\n",
       "<!-- 199_L1_Bias -->\n",
       "<g id=\"node23\" class=\"node\">\n",
       "<title>199_L1_Bias</title>\n",
       "<ellipse fill=\"none\" stroke=\"#000000\" cx=\"2092.3443\" cy=\"-105\" rx=\"70.3881\" ry=\"18\"/>\n",
       "<text text-anchor=\"middle\" x=\"2092.3443\" y=\"-101.3\" font-family=\"Times,serif\" font-size=\"14.00\" fill=\"#000000\">199_L1_Bias</text>\n",
       "</g>\n",
       "<!-- 199_L1_Bias&#45;&gt;199_L2_N0 -->\n",
       "<g id=\"edge35\" class=\"edge\">\n",
       "<title>199_L1_Bias&#45;&gt;199_L2_N0</title>\n",
       "<path fill=\"none\" stroke=\"#000000\" d=\"M2045.7985,-91.5017C1992.0795,-75.9232 1903.8459,-50.3355 1846.9361,-33.8316\"/>\n",
       "<polygon fill=\"#000000\" stroke=\"#000000\" points=\"1847.6175,-30.3851 1837.0383,-30.9613 1845.6677,-37.1081 1847.6175,-30.3851\"/>\n",
       "<text text-anchor=\"middle\" x=\"1978.8443\" y=\"-57.8\" font-family=\"Times,serif\" font-size=\"14.00\" fill=\"#000000\">&#45;0.22</text>\n",
       "</g>\n",
       "<!-- 299_L0_Bias -->\n",
       "<g id=\"node25\" class=\"node\">\n",
       "<title>299_L0_Bias</title>\n",
       "<ellipse fill=\"none\" stroke=\"#000000\" cx=\"2392.3443\" cy=\"-192\" rx=\"70.3881\" ry=\"18\"/>\n",
       "<text text-anchor=\"middle\" x=\"2392.3443\" y=\"-188.3\" font-family=\"Times,serif\" font-size=\"14.00\" fill=\"#000000\">299_L0_Bias</text>\n",
       "</g>\n",
       "<!-- 299_L1_N0 -->\n",
       "<g id=\"node26\" class=\"node\">\n",
       "<title>299_L1_N0</title>\n",
       "<ellipse fill=\"none\" stroke=\"#000000\" cx=\"2539.3443\" cy=\"-105\" rx=\"64.189\" ry=\"18\"/>\n",
       "<text text-anchor=\"middle\" x=\"2539.3443\" y=\"-101.3\" font-family=\"Times,serif\" font-size=\"14.00\" fill=\"#000000\">299_L1_N0</text>\n",
       "</g>\n",
       "<!-- 299_L0_Bias&#45;&gt;299_L1_N0 -->\n",
       "<g id=\"edge40\" class=\"edge\">\n",
       "<title>299_L0_Bias&#45;&gt;299_L1_N0</title>\n",
       "<path fill=\"none\" stroke=\"#000000\" d=\"M2407.9479,-174.0903C2418.0434,-163.3615 2431.9505,-150.0861 2446.3443,-141 2458.3608,-133.4145 2472.2319,-126.9925 2485.5331,-121.7676\"/>\n",
       "<polygon fill=\"#000000\" stroke=\"#000000\" points=\"2486.9558,-124.9719 2495.0831,-118.1751 2484.4911,-118.4202 2486.9558,-124.9719\"/>\n",
       "<text text-anchor=\"middle\" x=\"2464.8443\" y=\"-144.8\" font-family=\"Times,serif\" font-size=\"14.00\" fill=\"#000000\">&#45;2.96</text>\n",
       "</g>\n",
       "<!-- 299_L1_N1 -->\n",
       "<g id=\"node28\" class=\"node\">\n",
       "<title>299_L1_N1</title>\n",
       "<ellipse fill=\"none\" stroke=\"#000000\" cx=\"2245.3443\" cy=\"-105\" rx=\"64.189\" ry=\"18\"/>\n",
       "<text text-anchor=\"middle\" x=\"2245.3443\" y=\"-101.3\" font-family=\"Times,serif\" font-size=\"14.00\" fill=\"#000000\">299_L1_N1</text>\n",
       "</g>\n",
       "<!-- 299_L0_Bias&#45;&gt;299_L1_N1 -->\n",
       "<g id=\"edge42\" class=\"edge\">\n",
       "<title>299_L0_Bias&#45;&gt;299_L1_N1</title>\n",
       "<path fill=\"none\" stroke=\"#000000\" d=\"M2339.4627,-180.0817C2321.8911,-174.5552 2302.8659,-166.7582 2287.3443,-156 2277.7713,-149.3649 2269.1844,-139.9691 2262.3076,-131.0467\"/>\n",
       "<polygon fill=\"#000000\" stroke=\"#000000\" points=\"2264.9773,-128.7671 2256.2619,-122.7428 2259.3183,-132.8873 2264.9773,-128.7671\"/>\n",
       "<text text-anchor=\"middle\" x=\"2303.3443\" y=\"-144.8\" font-family=\"Times,serif\" font-size=\"14.00\" fill=\"#000000\">0.71</text>\n",
       "</g>\n",
       "<!-- 299_L1_N2 -->\n",
       "<g id=\"node29\" class=\"node\">\n",
       "<title>299_L1_N2</title>\n",
       "<ellipse fill=\"none\" stroke=\"#000000\" cx=\"2392.3443\" cy=\"-105\" rx=\"64.189\" ry=\"18\"/>\n",
       "<text text-anchor=\"middle\" x=\"2392.3443\" y=\"-101.3\" font-family=\"Times,serif\" font-size=\"14.00\" fill=\"#000000\">299_L1_N2</text>\n",
       "</g>\n",
       "<!-- 299_L0_Bias&#45;&gt;299_L1_N2 -->\n",
       "<g id=\"edge44\" class=\"edge\">\n",
       "<title>299_L0_Bias&#45;&gt;299_L1_N2</title>\n",
       "<path fill=\"none\" stroke=\"#000000\" d=\"M2349.8928,-177.4696C2340.5426,-172.2042 2331.8076,-165.2032 2326.3443,-156 2318.6313,-143.0072 2328.1706,-132.1332 2342.1796,-123.8094\"/>\n",
       "<polygon fill=\"#000000\" stroke=\"#000000\" points=\"2344.1562,-126.7237 2351.3656,-118.96 2340.8882,-120.5334 2344.1562,-126.7237\"/>\n",
       "<text text-anchor=\"middle\" x=\"2344.8443\" y=\"-144.8\" font-family=\"Times,serif\" font-size=\"14.00\" fill=\"#000000\">&#45;3.04</text>\n",
       "</g>\n",
       "<!-- 299_L1_N3 -->\n",
       "<g id=\"node30\" class=\"node\">\n",
       "<title>299_L1_N3</title>\n",
       "<ellipse fill=\"none\" stroke=\"#000000\" cx=\"2686.3443\" cy=\"-105\" rx=\"64.189\" ry=\"18\"/>\n",
       "<text text-anchor=\"middle\" x=\"2686.3443\" y=\"-101.3\" font-family=\"Times,serif\" font-size=\"14.00\" fill=\"#000000\">299_L1_N3</text>\n",
       "</g>\n",
       "<!-- 299_L0_Bias&#45;&gt;299_L1_N3 -->\n",
       "<g id=\"edge46\" class=\"edge\">\n",
       "<title>299_L0_Bias&#45;&gt;299_L1_N3</title>\n",
       "<path fill=\"none\" stroke=\"#000000\" d=\"M2447.9981,-180.8281C2482.1898,-173.4744 2522.3982,-163.8018 2538.3443,-156 2548.0085,-151.2717 2547.7531,-145.8746 2557.3443,-141 2569.8516,-134.6433 2599.2336,-126.2797 2626.8013,-119.214\"/>\n",
       "<polygon fill=\"#000000\" stroke=\"#000000\" points=\"2628.0041,-122.5201 2636.8411,-116.6757 2626.2882,-115.7337 2628.0041,-122.5201\"/>\n",
       "<text text-anchor=\"middle\" x=\"2573.3443\" y=\"-144.8\" font-family=\"Times,serif\" font-size=\"14.00\" fill=\"#000000\">1.29</text>\n",
       "</g>\n",
       "<!-- 299_L2_N0 -->\n",
       "<g id=\"node32\" class=\"node\">\n",
       "<title>299_L2_N0</title>\n",
       "<ellipse fill=\"none\" stroke=\"#000000\" cx=\"2539.3443\" cy=\"-18\" rx=\"64.189\" ry=\"18\"/>\n",
       "<text text-anchor=\"middle\" x=\"2539.3443\" y=\"-14.3\" font-family=\"Times,serif\" font-size=\"14.00\" fill=\"#000000\">299_L2_N0</text>\n",
       "</g>\n",
       "<!-- 299_L1_N0&#45;&gt;299_L2_N0 -->\n",
       "<g id=\"edge49\" class=\"edge\">\n",
       "<title>299_L1_N0&#45;&gt;299_L2_N0</title>\n",
       "<path fill=\"none\" stroke=\"#000000\" d=\"M2539.3443,-86.9735C2539.3443,-75.1918 2539.3443,-59.5607 2539.3443,-46.1581\"/>\n",
       "<polygon fill=\"#000000\" stroke=\"#000000\" points=\"2542.8444,-46.0033 2539.3443,-36.0034 2535.8444,-46.0034 2542.8444,-46.0033\"/>\n",
       "<text text-anchor=\"middle\" x=\"2555.3443\" y=\"-57.8\" font-family=\"Times,serif\" font-size=\"14.00\" fill=\"#000000\">2.40</text>\n",
       "</g>\n",
       "<!-- 299_L0_N0 -->\n",
       "<g id=\"node27\" class=\"node\">\n",
       "<title>299_L0_N0</title>\n",
       "<ellipse fill=\"none\" stroke=\"#000000\" cx=\"2558.3443\" cy=\"-192\" rx=\"64.189\" ry=\"18\"/>\n",
       "<text text-anchor=\"middle\" x=\"2558.3443\" y=\"-188.3\" font-family=\"Times,serif\" font-size=\"14.00\" fill=\"#000000\">299_L0_N0</text>\n",
       "</g>\n",
       "<!-- 299_L0_N0&#45;&gt;299_L1_N0 -->\n",
       "<g id=\"edge41\" class=\"edge\">\n",
       "<title>299_L0_N0&#45;&gt;299_L1_N0</title>\n",
       "<path fill=\"none\" stroke=\"#000000\" d=\"M2581.1937,-175.1314C2591.3499,-165.4708 2599.7289,-152.9297 2593.3443,-141 2590.4492,-135.5906 2586.3426,-130.8536 2581.6708,-126.7477\"/>\n",
       "<polygon fill=\"#000000\" stroke=\"#000000\" points=\"2583.4616,-123.7116 2573.3889,-120.4264 2579.2144,-129.2759 2583.4616,-123.7116\"/>\n",
       "<text text-anchor=\"middle\" x=\"2611.3443\" y=\"-144.8\" font-family=\"Times,serif\" font-size=\"14.00\" fill=\"#000000\">2.26</text>\n",
       "</g>\n",
       "<!-- 299_L0_N0&#45;&gt;299_L1_N1 -->\n",
       "<g id=\"edge43\" class=\"edge\">\n",
       "<title>299_L0_N0&#45;&gt;299_L1_N1</title>\n",
       "<path fill=\"none\" stroke=\"#000000\" d=\"M2506.256,-181.223C2455.5744,-170.7279 2386.0612,-156.3046 2385.3443,-156 2374.4525,-151.372 2374.0144,-146.1183 2363.3443,-141 2344.926,-132.165 2323.8531,-124.9163 2304.6601,-119.2982\"/>\n",
       "<polygon fill=\"#000000\" stroke=\"#000000\" points=\"2305.3942,-115.8685 2294.8187,-116.5092 2303.4855,-122.6032 2305.3942,-115.8685\"/>\n",
       "<text text-anchor=\"middle\" x=\"2403.8443\" y=\"-144.8\" font-family=\"Times,serif\" font-size=\"14.00\" fill=\"#000000\">&#45;0.20</text>\n",
       "</g>\n",
       "<!-- 299_L0_N0&#45;&gt;299_L1_N2 -->\n",
       "<g id=\"edge45\" class=\"edge\">\n",
       "<title>299_L0_N0&#45;&gt;299_L1_N2</title>\n",
       "<path fill=\"none\" stroke=\"#000000\" d=\"M2534.2759,-175.2444C2514.417,-161.4847 2488.6671,-143.8183 2483.3443,-141 2470.6577,-134.2828 2456.4326,-128.0781 2443.0667,-122.7792\"/>\n",
       "<polygon fill=\"#000000\" stroke=\"#000000\" points=\"2444.1096,-119.43 2433.5203,-119.0866 2441.5842,-125.9586 2444.1096,-119.43\"/>\n",
       "<text text-anchor=\"middle\" x=\"2521.3443\" y=\"-144.8\" font-family=\"Times,serif\" font-size=\"14.00\" fill=\"#000000\">2.32</text>\n",
       "</g>\n",
       "<!-- 299_L0_N0&#45;&gt;299_L1_N3 -->\n",
       "<g id=\"edge47\" class=\"edge\">\n",
       "<title>299_L0_N0&#45;&gt;299_L1_N3</title>\n",
       "<path fill=\"none\" stroke=\"#000000\" d=\"M2594.0344,-176.9384C2606.2933,-171.1139 2619.8213,-163.9328 2631.3443,-156 2642.4055,-148.3852 2653.4801,-138.6294 2662.7624,-129.6932\"/>\n",
       "<polygon fill=\"#000000\" stroke=\"#000000\" points=\"2665.4451,-131.9629 2670.0984,-122.4446 2660.5251,-126.9836 2665.4451,-131.9629\"/>\n",
       "<text text-anchor=\"middle\" x=\"2664.3443\" y=\"-144.8\" font-family=\"Times,serif\" font-size=\"14.00\" fill=\"#000000\">2.18</text>\n",
       "</g>\n",
       "<!-- 299_L1_N1&#45;&gt;299_L2_N0 -->\n",
       "<g id=\"edge50\" class=\"edge\">\n",
       "<title>299_L1_N1&#45;&gt;299_L2_N0</title>\n",
       "<path fill=\"none\" stroke=\"#000000\" d=\"M2289.6774,-91.881C2342.0366,-76.387 2429.105,-50.6218 2485.3486,-33.9783\"/>\n",
       "<polygon fill=\"#000000\" stroke=\"#000000\" points=\"2486.5361,-37.277 2495.1319,-31.0833 2484.5498,-30.5647 2486.5361,-37.277\"/>\n",
       "<text text-anchor=\"middle\" x=\"2425.3443\" y=\"-57.8\" font-family=\"Times,serif\" font-size=\"14.00\" fill=\"#000000\">0.58</text>\n",
       "</g>\n",
       "<!-- 299_L1_N2&#45;&gt;299_L2_N0 -->\n",
       "<g id=\"edge51\" class=\"edge\">\n",
       "<title>299_L1_N2&#45;&gt;299_L2_N0</title>\n",
       "<path fill=\"none\" stroke=\"#000000\" d=\"M2419.9939,-88.636C2443.5033,-74.7222 2477.4328,-54.6415 2503.1108,-39.4443\"/>\n",
       "<polygon fill=\"#000000\" stroke=\"#000000\" points=\"2504.9956,-42.3959 2511.8187,-34.2907 2501.4303,-36.3719 2504.9956,-42.3959\"/>\n",
       "<text text-anchor=\"middle\" x=\"2490.3443\" y=\"-57.8\" font-family=\"Times,serif\" font-size=\"14.00\" fill=\"#000000\">2.53</text>\n",
       "</g>\n",
       "<!-- 299_L1_N3&#45;&gt;299_L2_N0 -->\n",
       "<g id=\"edge52\" class=\"edge\">\n",
       "<title>299_L1_N3&#45;&gt;299_L2_N0</title>\n",
       "<path fill=\"none\" stroke=\"#000000\" d=\"M2658.6947,-88.636C2635.1853,-74.7222 2601.2558,-54.6415 2575.5778,-39.4443\"/>\n",
       "<polygon fill=\"#000000\" stroke=\"#000000\" points=\"2577.2583,-36.3719 2566.8699,-34.2907 2573.693,-42.3959 2577.2583,-36.3719\"/>\n",
       "<text text-anchor=\"middle\" x=\"2639.8443\" y=\"-57.8\" font-family=\"Times,serif\" font-size=\"14.00\" fill=\"#000000\">&#45;2.43</text>\n",
       "</g>\n",
       "<!-- 299_L1_Bias -->\n",
       "<g id=\"node31\" class=\"node\">\n",
       "<title>299_L1_Bias</title>\n",
       "<ellipse fill=\"none\" stroke=\"#000000\" cx=\"2839.3443\" cy=\"-105\" rx=\"70.3881\" ry=\"18\"/>\n",
       "<text text-anchor=\"middle\" x=\"2839.3443\" y=\"-101.3\" font-family=\"Times,serif\" font-size=\"14.00\" fill=\"#000000\">299_L1_Bias</text>\n",
       "</g>\n",
       "<!-- 299_L1_Bias&#45;&gt;299_L2_N0 -->\n",
       "<g id=\"edge48\" class=\"edge\">\n",
       "<title>299_L1_Bias&#45;&gt;299_L2_N0</title>\n",
       "<path fill=\"none\" stroke=\"#000000\" d=\"M2792.7985,-91.5017C2739.0795,-75.9232 2650.8459,-50.3355 2593.9361,-33.8316\"/>\n",
       "<polygon fill=\"#000000\" stroke=\"#000000\" points=\"2594.6175,-30.3851 2584.0383,-30.9613 2592.6677,-37.1081 2594.6175,-30.3851\"/>\n",
       "<text text-anchor=\"middle\" x=\"2722.3443\" y=\"-57.8\" font-family=\"Times,serif\" font-size=\"14.00\" fill=\"#000000\">0.29</text>\n",
       "</g>\n",
       "</g>\n",
       "</svg>\n"
      ],
      "text/plain": [
       "<graphviz.dot.Digraph at 0x7f4700a17cc0>"
      ]
     },
     "execution_count": 120,
     "metadata": {},
     "output_type": "execute_result"
    }
   ],
   "source": [
    "g"
   ]
  },
  {
   "cell_type": "markdown",
   "metadata": {},
   "source": [
    "##### Wynik na zbiorze treningowym"
   ]
  },
  {
   "cell_type": "code",
   "execution_count": 141,
   "metadata": {},
   "outputs": [
    {
     "data": {
      "text/plain": [
       "14.108986773623297"
      ]
     },
     "execution_count": 141,
     "metadata": {},
     "output_type": "execute_result"
    }
   ],
   "source": [
    "metrics.mean_absolute_error(train_df['y'], y_pred)"
   ]
  },
  {
   "cell_type": "markdown",
   "metadata": {
    "collapsed": true
   },
   "source": [
    "##### Wynik na zbiorze testowym"
   ]
  },
  {
   "cell_type": "code",
   "execution_count": 142,
   "metadata": {},
   "outputs": [
    {
     "data": {
      "text/plain": [
       "12.578631441128337"
      ]
     },
     "execution_count": 142,
     "metadata": {},
     "output_type": "execute_result"
    }
   ],
   "source": [
    "y_pred = mlp.predict(np.expand_dims(test_df['x'], 1))\n",
    "y_pred = np.squeeze(y_pred)\n",
    "metrics.mean_absolute_error(test_df['y'], y_pred)"
   ]
  },
  {
   "cell_type": "code",
   "execution_count": 143,
   "metadata": {},
   "outputs": [
    {
     "name": "stdout",
     "output_type": "stream",
     "text": [
      "CPU times: user 3.22 s, sys: 15.6 ms, total: 3.23 s\n",
      "Wall time: 3.22 s\n"
     ]
    },
    {
     "data": {
      "text/plain": [
       "<matplotlib.collections.PathCollection at 0x7f46f2efd358>"
      ]
     },
     "execution_count": 143,
     "metadata": {},
     "output_type": "execute_result"
    },
    {
     "data": {
      "image/png": "[encoded data removed]",
      "text/plain": [
       "<Figure size 432x288 with 1 Axes>"
      ]
     },
     "metadata": {
      "needs_background": "light"
     },
     "output_type": "display_data"
    }
   ],
   "source": [
    "%%time\n",
    "np.random.seed(2137)\n",
    "mlp = Network([\"sigmoid\", \"linear\"], [1,4,1])\n",
    "g = mlp.train_network(np.expand_dims(train_df['x'], 1), np.expand_dims(train_df['y'], 1), n_epoch=300, l_rate=0.5, batch_size=8)\n",
    "\n",
    "y_pred = mlp.predict(np.expand_dims(train_df['x'], 1))\n",
    "y_pred = np.squeeze(y_pred)\n",
    "plt.scatter(train_df['x'], train_df['y'], color='green')\n",
    "plt.scatter(train_df['x'], y_pred, color='red')"
   ]
  },
  {
   "cell_type": "markdown",
   "metadata": {},
   "source": [
    "##### Wynik na zbiorze treningowym"
   ]
  },
  {
   "cell_type": "code",
   "execution_count": 144,
   "metadata": {},
   "outputs": [
    {
     "data": {
      "text/plain": [
       "1.9271570572029162"
      ]
     },
     "execution_count": 144,
     "metadata": {},
     "output_type": "execute_result"
    }
   ],
   "source": [
    "metrics.mean_absolute_error(train_df['y'], y_pred)"
   ]
  },
  {
   "cell_type": "markdown",
   "metadata": {},
   "source": [
    "##### Wynik na zbiorze testowym"
   ]
  },
  {
   "cell_type": "code",
   "execution_count": 148,
   "metadata": {},
   "outputs": [
    {
     "data": {
      "text/plain": [
       "1.8846131169814406"
      ]
     },
     "execution_count": 148,
     "metadata": {},
     "output_type": "execute_result"
    }
   ],
   "source": [
    "y_pred = mlp.predict(np.expand_dims(test_df['x'], 1))\n",
    "y_pred = np.squeeze(y_pred)\n",
    "metrics.mean_absolute_error(test_df['y'], y_pred)"
   ]
  },
  {
   "cell_type": "markdown",
   "metadata": {},
   "source": [
    "# Zbiór steps-small"
   ]
  },
  {
   "cell_type": "code",
   "execution_count": 155,
   "metadata": {},
   "outputs": [],
   "source": [
    "train_df = pd.read_csv('./mio1/regression/steps-small-training.csv', index_col=0)\n",
    "test_df = pd.read_csv('./mio1/regression/steps-small-test.csv', index_col=0)"
   ]
  },
  {
   "cell_type": "code",
   "execution_count": 157,
   "metadata": {},
   "outputs": [
    {
     "name": "stdout",
     "output_type": "stream",
     "text": [
      "CPU times: user 2.73 s, sys: 15.6 ms, total: 2.75 s\n",
      "Wall time: 2.75 s\n"
     ]
    },
    {
     "data": {
      "text/plain": [
       "<matplotlib.collections.PathCollection at 0x7f46f2b8d390>"
      ]
     },
     "execution_count": 157,
     "metadata": {},
     "output_type": "execute_result"
    },
    {
     "data": {
      "image/png": "[encoded data removed]",
      "text/plain": [
       "<Figure size 432x288 with 1 Axes>"
      ]
     },
     "metadata": {
      "needs_background": "light"
     },
     "output_type": "display_data"
    }
   ],
   "source": [
    "%%time\n",
    "np.random.seed(2137)\n",
    "mlp = Network([\"sigmoid\", \"linear\"], [1,10,1])\n",
    "mlp.train_network(np.expand_dims(train_df['x'], 1), np.expand_dims(train_df['y'], 1), n_epoch=300, l_rate=1e-2)\n",
    "\n",
    "y_pred = mlp.predict(np.expand_dims(train_df['x'], 1))\n",
    "y_pred = np.squeeze(y_pred)\n",
    "plt.scatter(train_df['x'], train_df['y'], color='green')\n",
    "plt.scatter(train_df['x'], y_pred, color='red')"
   ]
  },
  {
   "cell_type": "markdown",
   "metadata": {},
   "source": [
    "##### Wynik na zbiorze treningowym"
   ]
  },
  {
   "cell_type": "code",
   "execution_count": 158,
   "metadata": {},
   "outputs": [
    {
     "data": {
      "text/plain": [
       "55.62671418863458"
      ]
     },
     "execution_count": 158,
     "metadata": {},
     "output_type": "execute_result"
    }
   ],
   "source": [
    "metrics.mean_absolute_error(train_df['y'], y_pred)"
   ]
  },
  {
   "cell_type": "markdown",
   "metadata": {},
   "source": [
    "##### Wynik na zbiorze testowym"
   ]
  },
  {
   "cell_type": "code",
   "execution_count": 159,
   "metadata": {},
   "outputs": [
    {
     "data": {
      "text/plain": [
       "74.99424786192772"
      ]
     },
     "execution_count": 159,
     "metadata": {},
     "output_type": "execute_result"
    }
   ],
   "source": [
    "y_pred = mlp.forward(np.expand_dims(test_df['x'], 1))\n",
    "y_pred = np.squeeze(y_pred)\n",
    "metrics.mean_absolute_error(test_df['y'], y_pred)"
   ]
  },
  {
   "cell_type": "code",
   "execution_count": 164,
   "metadata": {},
   "outputs": [
    {
     "name": "stdout",
     "output_type": "stream",
     "text": [
      "CPU times: user 4.62 s, sys: 0 ns, total: 4.62 s\n",
      "Wall time: 4.63 s\n"
     ]
    },
    {
     "data": {
      "text/plain": [
       "<matplotlib.collections.PathCollection at 0x7f46f2976e80>"
      ]
     },
     "execution_count": 164,
     "metadata": {},
     "output_type": "execute_result"
    },
    {
     "data": {
      "image/png": "[encoded data removed]",
      "text/plain": [
       "<Figure size 432x288 with 1 Axes>"
      ]
     },
     "metadata": {
      "needs_background": "light"
     },
     "output_type": "display_data"
    }
   ],
   "source": [
    "%%time\n",
    "np.random.seed(2137)\n",
    "mlp = Network([\"sigmoid\", \"linear\"], [1,10,1])\n",
    "mlp.train_network(np.expand_dims(train_df['x'], 1), np.expand_dims(train_df['y'], 1), n_epoch=300, l_rate=0.5, batch_size=1)\n",
    "\n",
    "y_pred = mlp.predict(np.expand_dims(train_df['x'], 1))\n",
    "y_pred = np.squeeze(y_pred)\n",
    "plt.scatter(train_df['x'], train_df['y'], color='green')\n",
    "plt.scatter(train_df['x'], y_pred, color='red')"
   ]
  },
  {
   "cell_type": "markdown",
   "metadata": {},
   "source": [
    "##### Wynik na zbiorze treningowym"
   ]
  },
  {
   "cell_type": "code",
   "execution_count": 165,
   "metadata": {},
   "outputs": [
    {
     "data": {
      "text/plain": [
       "17.394770814913468"
      ]
     },
     "execution_count": 165,
     "metadata": {},
     "output_type": "execute_result"
    }
   ],
   "source": [
    "metrics.mean_absolute_error(train_df['y'], y_pred)"
   ]
  },
  {
   "cell_type": "markdown",
   "metadata": {},
   "source": [
    "##### Wynik na zbiorze testowym"
   ]
  },
  {
   "cell_type": "code",
   "execution_count": 167,
   "metadata": {},
   "outputs": [
    {
     "data": {
      "text/plain": [
       "74.44988547805613"
      ]
     },
     "execution_count": 167,
     "metadata": {},
     "output_type": "execute_result"
    }
   ],
   "source": [
    "y_pred = mlp.forward(np.expand_dims(test_df['x'], 1))\n",
    "y_pred = np.squeeze(y_pred)\n",
    "metrics.mean_absolute_error(test_df['y'], y_pred)"
   ]
  },
  {
   "cell_type": "markdown",
   "metadata": {},
   "source": [
    "# Zbiór multimodal-large"
   ]
  },
  {
   "cell_type": "code",
   "execution_count": 168,
   "metadata": {},
   "outputs": [],
   "source": [
    "train_df = pd.read_csv('./mio1/regression/multimodal-large-training.csv', index_col=0)\n",
    "test_df = pd.read_csv('./mio1/regression/multimodal-large-test.csv', index_col=0)"
   ]
  },
  {
   "cell_type": "code",
   "execution_count": 169,
   "metadata": {},
   "outputs": [
    {
     "name": "stdout",
     "output_type": "stream",
     "text": [
      "CPU times: user 10.7 s, sys: 62.5 ms, total: 10.8 s\n",
      "Wall time: 10.7 s\n"
     ]
    },
    {
     "data": {
      "text/plain": [
       "<matplotlib.collections.PathCollection at 0x7f46f294ce48>"
      ]
     },
     "execution_count": 169,
     "metadata": {},
     "output_type": "execute_result"
    },
    {
     "data": {
      "image/png": "[encoded data removed]",
      "text/plain": [
       "<Figure size 432x288 with 1 Axes>"
      ]
     },
     "metadata": {
      "needs_background": "light"
     },
     "output_type": "display_data"
    }
   ],
   "source": [
    "%%time\n",
    "np.random.seed(1111)\n",
    "mlp = Network([\"sigmoid\", \"linear\"], [1,5,1])\n",
    "mlp.train_network(np.expand_dims(train_df['x'], 1), np.expand_dims(train_df['y'], 1), n_epoch=10, l_rate=1e-1)\n",
    "\n",
    "y_pred = mlp.predict(np.expand_dims(train_df['x'], 1))\n",
    "y_pred = np.squeeze(y_pred)\n",
    "plt.scatter(train_df['x'], train_df['y'], color='green')\n",
    "plt.scatter(train_df['x'], y_pred, color='red')"
   ]
  },
  {
   "cell_type": "markdown",
   "metadata": {},
   "source": [
    "##### Wynik na zbiorze treningowym"
   ]
  },
  {
   "cell_type": "code",
   "execution_count": 170,
   "metadata": {},
   "outputs": [
    {
     "data": {
      "text/plain": [
       "61.43145169992958"
      ]
     },
     "execution_count": 170,
     "metadata": {},
     "output_type": "execute_result"
    }
   ],
   "source": [
    "metrics.mean_absolute_error(train_df['y'], y_pred)"
   ]
  },
  {
   "cell_type": "markdown",
   "metadata": {},
   "source": [
    "##### Wynik na zbiorze testowym"
   ]
  },
  {
   "cell_type": "code",
   "execution_count": 171,
   "metadata": {},
   "outputs": [
    {
     "data": {
      "text/plain": [
       "67.16418028730983"
      ]
     },
     "execution_count": 171,
     "metadata": {},
     "output_type": "execute_result"
    }
   ],
   "source": [
    "y_pred = mlp.forward(np.expand_dims(test_df['x'], 1))\n",
    "y_pred = np.squeeze(y_pred)\n",
    "metrics.mean_absolute_error(test_df['y'], y_pred)"
   ]
  },
  {
   "cell_type": "code",
   "execution_count": 176,
   "metadata": {},
   "outputs": [
    {
     "ename": "KeyboardInterrupt",
     "evalue": "",
     "output_type": "error",
     "traceback": [
      "\u001b[0;31m---------------------------------------------------------------------------\u001b[0m",
      "\u001b[0;31mKeyboardInterrupt\u001b[0m                         Traceback (most recent call last)",
      "\u001b[0;32m<timed exec>\u001b[0m in \u001b[0;36m<module>\u001b[0;34m\u001b[0m\n",
      "\u001b[0;32m<ipython-input-139-90c9718073e0>\u001b[0m in \u001b[0;36mtrain_network\u001b[0;34m(self, train_data, train_y, l_rate, n_epoch, batch_size)\u001b[0m\n\u001b[1;32m    138\u001b[0m                     \u001b[0mx\u001b[0m\u001b[0;34m,\u001b[0m \u001b[0mexpected\u001b[0m \u001b[0;34m=\u001b[0m \u001b[0mrow\u001b[0m\u001b[0;34m\u001b[0m\u001b[0;34m\u001b[0m\u001b[0m\n\u001b[1;32m    139\u001b[0m                     \u001b[0moutputs\u001b[0m \u001b[0;34m=\u001b[0m \u001b[0mself\u001b[0m\u001b[0;34m.\u001b[0m\u001b[0mforward\u001b[0m\u001b[0;34m(\u001b[0m\u001b[0;34m[\u001b[0m\u001b[0mrow\u001b[0m\u001b[0;34m]\u001b[0m\u001b[0;34m)\u001b[0m\u001b[0;34m\u001b[0m\u001b[0;34m\u001b[0m\u001b[0m\n\u001b[0;32m--> 140\u001b[0;31m                     \u001b[0msum_error\u001b[0m \u001b[0;34m+=\u001b[0m \u001b[0msum\u001b[0m\u001b[0;34m(\u001b[0m\u001b[0;34m[\u001b[0m\u001b[0;34m(\u001b[0m\u001b[0mexpected\u001b[0m\u001b[0;34m[\u001b[0m\u001b[0mi\u001b[0m\u001b[0;34m]\u001b[0m\u001b[0;34m-\u001b[0m\u001b[0moutputs\u001b[0m\u001b[0;34m[\u001b[0m\u001b[0;36m0\u001b[0m\u001b[0;34m]\u001b[0m\u001b[0;34m[\u001b[0m\u001b[0mi\u001b[0m\u001b[0;34m]\u001b[0m\u001b[0;34m)\u001b[0m\u001b[0;34m**\u001b[0m\u001b[0;36m2\u001b[0m \u001b[0;32mfor\u001b[0m \u001b[0mi\u001b[0m \u001b[0;32min\u001b[0m \u001b[0mrange\u001b[0m\u001b[0;34m(\u001b[0m\u001b[0mlen\u001b[0m\u001b[0;34m(\u001b[0m\u001b[0mexpected\u001b[0m\u001b[0;34m)\u001b[0m\u001b[0;34m)\u001b[0m\u001b[0;34m]\u001b[0m\u001b[0;34m)\u001b[0m\u001b[0;34m\u001b[0m\u001b[0;34m\u001b[0m\u001b[0m\n\u001b[0m\u001b[1;32m    141\u001b[0m                     \u001b[0mself\u001b[0m\u001b[0;34m.\u001b[0m\u001b[0mbackward_propagate_error\u001b[0m\u001b[0;34m(\u001b[0m\u001b[0mexpected\u001b[0m\u001b[0;34m,\u001b[0m \u001b[0ml_rate\u001b[0m\u001b[0;34m)\u001b[0m\u001b[0;34m\u001b[0m\u001b[0;34m\u001b[0m\u001b[0m\n\u001b[1;32m    142\u001b[0m                 \u001b[0mself\u001b[0m\u001b[0;34m.\u001b[0m\u001b[0mupdate_weights\u001b[0m\u001b[0;34m(\u001b[0m\u001b[0ml_rate\u001b[0m\u001b[0;34m,\u001b[0m \u001b[0mlen\u001b[0m\u001b[0;34m(\u001b[0m\u001b[0mbatch\u001b[0m\u001b[0;34m)\u001b[0m\u001b[0;34m)\u001b[0m\u001b[0;34m\u001b[0m\u001b[0;34m\u001b[0m\u001b[0m\n",
      "\u001b[0;32m<ipython-input-139-90c9718073e0>\u001b[0m in \u001b[0;36m<listcomp>\u001b[0;34m(.0)\u001b[0m\n\u001b[1;32m    138\u001b[0m                     \u001b[0mx\u001b[0m\u001b[0;34m,\u001b[0m \u001b[0mexpected\u001b[0m \u001b[0;34m=\u001b[0m \u001b[0mrow\u001b[0m\u001b[0;34m\u001b[0m\u001b[0;34m\u001b[0m\u001b[0m\n\u001b[1;32m    139\u001b[0m                     \u001b[0moutputs\u001b[0m \u001b[0;34m=\u001b[0m \u001b[0mself\u001b[0m\u001b[0;34m.\u001b[0m\u001b[0mforward\u001b[0m\u001b[0;34m(\u001b[0m\u001b[0;34m[\u001b[0m\u001b[0mrow\u001b[0m\u001b[0;34m]\u001b[0m\u001b[0;34m)\u001b[0m\u001b[0;34m\u001b[0m\u001b[0;34m\u001b[0m\u001b[0m\n\u001b[0;32m--> 140\u001b[0;31m                     \u001b[0msum_error\u001b[0m \u001b[0;34m+=\u001b[0m \u001b[0msum\u001b[0m\u001b[0;34m(\u001b[0m\u001b[0;34m[\u001b[0m\u001b[0;34m(\u001b[0m\u001b[0mexpected\u001b[0m\u001b[0;34m[\u001b[0m\u001b[0mi\u001b[0m\u001b[0;34m]\u001b[0m\u001b[0;34m-\u001b[0m\u001b[0moutputs\u001b[0m\u001b[0;34m[\u001b[0m\u001b[0;36m0\u001b[0m\u001b[0;34m]\u001b[0m\u001b[0;34m[\u001b[0m\u001b[0mi\u001b[0m\u001b[0;34m]\u001b[0m\u001b[0;34m)\u001b[0m\u001b[0;34m**\u001b[0m\u001b[0;36m2\u001b[0m \u001b[0;32mfor\u001b[0m \u001b[0mi\u001b[0m \u001b[0;32min\u001b[0m \u001b[0mrange\u001b[0m\u001b[0;34m(\u001b[0m\u001b[0mlen\u001b[0m\u001b[0;34m(\u001b[0m\u001b[0mexpected\u001b[0m\u001b[0;34m)\u001b[0m\u001b[0;34m)\u001b[0m\u001b[0;34m]\u001b[0m\u001b[0;34m)\u001b[0m\u001b[0;34m\u001b[0m\u001b[0;34m\u001b[0m\u001b[0m\n\u001b[0m\u001b[1;32m    141\u001b[0m                     \u001b[0mself\u001b[0m\u001b[0;34m.\u001b[0m\u001b[0mbackward_propagate_error\u001b[0m\u001b[0;34m(\u001b[0m\u001b[0mexpected\u001b[0m\u001b[0;34m,\u001b[0m \u001b[0ml_rate\u001b[0m\u001b[0;34m)\u001b[0m\u001b[0;34m\u001b[0m\u001b[0;34m\u001b[0m\u001b[0m\n\u001b[1;32m    142\u001b[0m                 \u001b[0mself\u001b[0m\u001b[0;34m.\u001b[0m\u001b[0mupdate_weights\u001b[0m\u001b[0;34m(\u001b[0m\u001b[0ml_rate\u001b[0m\u001b[0;34m,\u001b[0m \u001b[0mlen\u001b[0m\u001b[0;34m(\u001b[0m\u001b[0mbatch\u001b[0m\u001b[0;34m)\u001b[0m\u001b[0;34m)\u001b[0m\u001b[0;34m\u001b[0m\u001b[0;34m\u001b[0m\u001b[0m\n",
      "\u001b[0;31mKeyboardInterrupt\u001b[0m: "
     ]
    }
   ],
   "source": [
    "%%time\n",
    "np.random.seed(2137)\n",
    "mlp = Network([\"sigmoid\", \"linear\"], [1,5,1])\n",
    "mlp.train_network(np.expand_dims(train_df['x'], 1), np.expand_dims(train_df['y'], 1), n_epoch=100, l_rate=1e-1, batch_size=16)\n",
    "\n",
    "y_pred = mlp.predict(np.expand_dims(train_df['x'], 1))\n",
    "y_pred = np.squeeze(y_pred)\n",
    "plt.scatter(train_df['x'], train_df['y'], color='green')\n",
    "plt.scatter(train_df['x'], y_pred, color='red')"
   ]
  },
  {
   "cell_type": "markdown",
   "metadata": {},
   "source": [
    "##### Wynik na zbiorze treningowym"
   ]
  },
  {
   "cell_type": "code",
   "execution_count": 173,
   "metadata": {},
   "outputs": [
    {
     "data": {
      "text/plain": [
       "21.901286175466215"
      ]
     },
     "execution_count": 173,
     "metadata": {},
     "output_type": "execute_result"
    }
   ],
   "source": [
    "metrics.mean_absolute_error(train_df['y'], y_pred)"
   ]
  },
  {
   "cell_type": "markdown",
   "metadata": {},
   "source": [
    "##### Wynik na zbiorze testowym"
   ]
  },
  {
   "cell_type": "code",
   "execution_count": 174,
   "metadata": {},
   "outputs": [
    {
     "data": {
      "text/plain": [
       "66.5907713226037"
      ]
     },
     "execution_count": 174,
     "metadata": {},
     "output_type": "execute_result"
    }
   ],
   "source": [
    "y_pred = mlp.forward(np.expand_dims(test_df['x'], 1))\n",
    "y_pred = np.squeeze(y_pred)\n",
    "metrics.mean_absolute_error(test_df['y'], y_pred)"
   ]
  },
  {
   "cell_type": "markdown",
   "metadata": {},
   "source": [
    "# Wnioski\n",
    "Zdecydowanie widać, że metoda z batchem jest trochę wolniejsza niż poprawianie wag dopiero po całym zbiorze, ale daje też znacznie lepsze wyniki. Poprawianie wag po całym zbiorze pokazuje, jak ważne są wstępne wagi, gdyż od nich niestety w dużej mierze zależy dokładność i kształt finalnej funkcji."
   ]
  },
  {
   "cell_type": "code",
   "execution_count": null,
   "metadata": {
    "collapsed": true
   },
   "outputs": [],
   "source": []
  }
 ],
 "metadata": {
  "kernelspec": {
   "display_name": "Python 3",
   "language": "python",
   "name": "python3"
  },
  "language_info": {
   "codemirror_mode": {
    "name": "ipython",
    "version": 3
   },
   "file_extension": ".py",
   "mimetype": "text/x-python",
   "name": "python",
   "nbconvert_exporter": "python",
   "pygments_lexer": "ipython3",
   "version": "3.6.9"
  }
 },
 "nbformat": 4,
 "nbformat_minor": 4
}
