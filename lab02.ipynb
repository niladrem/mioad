{
 "cells": [
  {
   "cell_type": "code",
   "execution_count": 1,
   "metadata": {
    "collapsed": true
   },
   "outputs": [],
   "source": [
    "import numpy as np\n",
    "import pandas as pd\n",
    "import seaborn as sns\n",
    "import math\n",
    "from matplotlib import pyplot as plt\n",
    "from sklearn import metrics"
   ]
  },
  {
   "cell_type": "markdown",
   "metadata": {},
   "source": [
    "## Implementacja neuronu"
   ]
  },
  {
   "cell_type": "code",
   "execution_count": 2,
   "metadata": {
    "collapsed": false
   },
   "outputs": [
    {
     "name": "stdout",
     "output_type": "stream",
     "text": [
      "LinearNeuron(weights: [1, 2, 3], output: 14, delta: 0, error: 0)\n",
      "SigmoidNeuron(weights: [1, 2], output: 0.9525741268224333, delta: 0, error: 0)\n"
     ]
    }
   ],
   "source": [
    "from abc import ABC, abstractmethod\n",
    "import logging\n",
    "\n",
    "class Neuron(ABC):\n",
    "    def __init__(self, weights: list) -> None:\n",
    "        self.weights = weights\n",
    "        self.output = 0\n",
    "        self.deltas = []\n",
    "        self.delta = 0\n",
    "        self.error = 0\n",
    "        self.input = 0\n",
    "        self.inputs = []\n",
    "        if len(weights) < 2:\n",
    "            logging.warning(\"Less than 2 weights. Are you sure?\")\n",
    "    \n",
    "    def __repr__(self) -> str:\n",
    "        return \"%s(weights: %s, output: %s, delta: %s, error: %s)\" % (self.name(), str(self.weights), str(self.output), str(self.delta), str(self.error))\n",
    "            \n",
    "    @abstractmethod\n",
    "    def evaluate(self, input: list) -> float:\n",
    "        pass\n",
    "    \n",
    "    @abstractmethod\n",
    "    def name(self) -> str:\n",
    "        pass\n",
    "    \n",
    "    @abstractmethod\n",
    "    def derivative(self, output: float) -> float:\n",
    "        pass\n",
    "    \n",
    "    def add_one(l: list) -> list:\n",
    "        tmp = [1]\n",
    "        tmp.extend(l)\n",
    "        return tmp\n",
    "    \n",
    "    def dot(a: list, b: list) -> float:\n",
    "        tmp = min(len(a), len(b))\n",
    "        return np.dot(a[:tmp], b[:tmp])\n",
    "\n",
    "    \n",
    "# pierwsza waga to waga biasu\n",
    "class LinearNeuron(Neuron):\n",
    "    def evaluate(self, input: list) -> float:\n",
    "        self.inputs = Neuron.add_one(input)\n",
    "        self.output = Neuron.dot(self.weights, self.inputs)\n",
    "        self.input = self.output\n",
    "        return self.output\n",
    "    \n",
    "    def name(self) -> str:\n",
    "        return \"LinearNeuron\"\n",
    "    \n",
    "    def derivative(self, output: float) -> float:\n",
    "        return 1.0\n",
    "        \n",
    "\n",
    "class SigmoidNeuron(Neuron):\n",
    "    def evaluate(self, input: list) -> float:\n",
    "        self.inputs = Neuron.add_one(input)\n",
    "        x = Neuron.dot(self.weights, self.inputs)\n",
    "        self.input = x\n",
    "#         if abs(x) > 10:\n",
    "#             print(\"weights: %s, input: %s\" % (self.weights, self.inputs))\n",
    "        self.output = math.e ** x / (1 + math.e ** x)\n",
    "        return self.output\n",
    "    \n",
    "    def name(self) -> str:\n",
    "        return \"SigmoidNeuron\"\n",
    "    \n",
    "    def derivative(self, output: float) -> float:\n",
    "        return output * (1.0 - output)\n",
    "\n",
    "# tests\n",
    "\n",
    "assert Neuron.dot([2,3], [5]) == 10\n",
    "assert Neuron.dot([2,3], [4,5,6]) == 23\n",
    "\n",
    "linearneuron = LinearNeuron([1,2,3])\n",
    "assert linearneuron.evaluate([1,2,3]) == 9\n",
    "assert linearneuron.evaluate([2,3]) == 14\n",
    "\n",
    "sigmoidneuron = SigmoidNeuron([1, 2])\n",
    "assert sigmoidneuron.evaluate([1]) == math.e ** 3 / (1 + math.e ** 3)\n",
    "print(linearneuron)\n",
    "print(sigmoidneuron)"
   ]
  },
  {
   "cell_type": "markdown",
   "metadata": {},
   "source": [
    "## Implementacja warstwy"
   ]
  },
  {
   "cell_type": "code",
   "execution_count": 3,
   "metadata": {
    "collapsed": false
   },
   "outputs": [
    {
     "name": "stdout",
     "output_type": "stream",
     "text": [
      "Layer([LinearNeuron(weights: [1, 2], output: 11, delta: 0, error: 0), LinearNeuron(weights: [2, 3], output: 17, delta: 0, error: 0)])\n"
     ]
    }
   ],
   "source": [
    "class Layer(ABC):\n",
    "    def __init__(self) -> None:\n",
    "        self.neurons = []\n",
    "    \n",
    "    @abstractmethod\n",
    "    def __init__(self, num: int, weights: list) -> None:\n",
    "        pass\n",
    "        \n",
    "    def addNeuron(self, neuron: Neuron) -> None:\n",
    "        self.neurons.append(neuron)\n",
    "        \n",
    "    def evaluate(self, input: list) -> list:\n",
    "        return [neuron.evaluate(input) for neuron in self.neurons]\n",
    "    \n",
    "    def __repr__(self) -> str:\n",
    "        return \"Layer(\" + str(self.neurons) + \")\"\n",
    "    \n",
    "\n",
    "class LinearLayer(Layer):\n",
    "    def __init__(self, num: int, weights: list) -> None:\n",
    "        assert len(weights) == num, \"Invalid matrix dimension\"\n",
    "        self.neurons = [LinearNeuron(w) for w in weights]\n",
    "    \n",
    "class SigmoidLayer(Layer):\n",
    "    def __init__(self, num: int, weights: list) -> None:\n",
    "        assert len(weights) == num, \"Invalid matrix dimension\"\n",
    "        self.neurons = [SigmoidNeuron(w) for w in weights]\n",
    "\n",
    "# tests\n",
    "layer1 = LinearLayer(1, [[1, 2]])\n",
    "assert layer1.evaluate([5]) == [11]\n",
    "layer1.addNeuron(LinearNeuron([2, 3]))\n",
    "assert layer1.evaluate([5]) == [11, 17]\n",
    "\n",
    "layer2 = LinearLayer(2, [[1,2], [2, 3]])\n",
    "assert layer2.evaluate([5]) == [11, 17]\n",
    "print(layer2)"
   ]
  },
  {
   "cell_type": "markdown",
   "metadata": {},
   "source": [
    "## Implementacja sieci"
   ]
  },
  {
   "cell_type": "code",
   "execution_count": 33,
   "metadata": {
    "collapsed": false
   },
   "outputs": [
    {
     "data": {
      "image/svg+xml": [
       "<?xml version=\"1.0\" encoding=\"UTF-8\" standalone=\"no\"?>\n",
       "<!DOCTYPE svg PUBLIC \"-//W3C//DTD SVG 1.1//EN\"\n",
       " \"http://www.w3.org/Graphics/SVG/1.1/DTD/svg11.dtd\">\n",
       "<!-- Generated by graphviz version 2.46.1 (20210222.2046)\n",
       " -->\n",
       "<!-- Title: neural network Pages: 1 -->\n",
       "<svg width=\"292pt\" height=\"131pt\"\n",
       " viewBox=\"0.00 0.00 291.64 131.00\" xmlns=\"http://www.w3.org/2000/svg\" xmlns:xlink=\"http://www.w3.org/1999/xlink\">\n",
       "<g id=\"graph0\" class=\"graph\" transform=\"scale(1 1) rotate(0) translate(4 127)\">\n",
       "<title>neural network</title>\n",
       "<polygon fill=\"white\" stroke=\"transparent\" points=\"-4,4 -4,-127 287.64,-127 287.64,4 -4,4\"/>\n",
       "<!-- test_L0_Bias -->\n",
       "<g id=\"node1\" class=\"node\">\n",
       "<title>test_L0_Bias</title>\n",
       "<ellipse fill=\"none\" stroke=\"black\" cx=\"68.89\" cy=\"-105\" rx=\"68.79\" ry=\"18\"/>\n",
       "<text text-anchor=\"middle\" x=\"68.89\" y=\"-101.3\" font-family=\"Times-Roman\" font-size=\"14.00\">test_L0_Bias</text>\n",
       "</g>\n",
       "<!-- test_L1_N0 -->\n",
       "<g id=\"node2\" class=\"node\">\n",
       "<title>test_L1_N0</title>\n",
       "<ellipse fill=\"none\" stroke=\"black\" cx=\"72.89\" cy=\"-18\" rx=\"61.99\" ry=\"18\"/>\n",
       "<text text-anchor=\"middle\" x=\"72.89\" y=\"-14.3\" font-family=\"Times-Roman\" font-size=\"14.00\">test_L1_N0</text>\n",
       "</g>\n",
       "<!-- test_L0_Bias&#45;&gt;test_L1_N0 -->\n",
       "<g id=\"edge1\" class=\"edge\">\n",
       "<title>test_L0_Bias&#45;&gt;test_L1_N0</title>\n",
       "<path fill=\"none\" stroke=\"black\" d=\"M64.02,-86.86C61.89,-77.2 60.22,-64.92 61.89,-54 62.31,-51.32 62.88,-48.56 63.56,-45.83\"/>\n",
       "<polygon fill=\"black\" stroke=\"black\" points=\"66.93,-46.78 66.34,-36.2 60.21,-44.83 66.93,-46.78\"/>\n",
       "<text text-anchor=\"middle\" x=\"77.89\" y=\"-57.8\" font-family=\"Times-Roman\" font-size=\"14.00\">1.00</text>\n",
       "</g>\n",
       "<!-- test_L1_N1 -->\n",
       "<g id=\"node4\" class=\"node\">\n",
       "<title>test_L1_N1</title>\n",
       "<ellipse fill=\"none\" stroke=\"black\" cx=\"219.89\" cy=\"-18\" rx=\"61.99\" ry=\"18\"/>\n",
       "<text text-anchor=\"middle\" x=\"219.89\" y=\"-14.3\" font-family=\"Times-Roman\" font-size=\"14.00\">test_L1_N1</text>\n",
       "</g>\n",
       "<!-- test_L0_Bias&#45;&gt;test_L1_N1 -->\n",
       "<g id=\"edge3\" class=\"edge\">\n",
       "<title>test_L0_Bias&#45;&gt;test_L1_N1</title>\n",
       "<path fill=\"none\" stroke=\"black\" d=\"M80.18,-87.04C88.17,-76.22 99.76,-62.65 112.89,-54 127.49,-44.38 144.95,-37.21 161.49,-31.95\"/>\n",
       "<polygon fill=\"black\" stroke=\"black\" points=\"162.52,-35.3 171.09,-29.07 160.51,-28.59 162.52,-35.3\"/>\n",
       "<text text-anchor=\"middle\" x=\"128.89\" y=\"-57.8\" font-family=\"Times-Roman\" font-size=\"14.00\">2.00</text>\n",
       "</g>\n",
       "<!-- test_L0_N0 -->\n",
       "<g id=\"node3\" class=\"node\">\n",
       "<title>test_L0_N0</title>\n",
       "<ellipse fill=\"none\" stroke=\"black\" cx=\"221.89\" cy=\"-105\" rx=\"61.99\" ry=\"18\"/>\n",
       "<text text-anchor=\"middle\" x=\"221.89\" y=\"-101.3\" font-family=\"Times-Roman\" font-size=\"14.00\">test_L0_N0</text>\n",
       "</g>\n",
       "<!-- test_L0_N0&#45;&gt;test_L1_N0 -->\n",
       "<g id=\"edge2\" class=\"edge\">\n",
       "<title>test_L0_N0&#45;&gt;test_L1_N0</title>\n",
       "<path fill=\"none\" stroke=\"black\" d=\"M200.47,-87.91C186.25,-77.58 166.93,-64.23 148.89,-54 138.54,-48.12 127.02,-42.42 116.14,-37.38\"/>\n",
       "<polygon fill=\"black\" stroke=\"black\" points=\"117.35,-34.09 106.8,-33.14 114.46,-40.46 117.35,-34.09\"/>\n",
       "<text text-anchor=\"middle\" x=\"187.89\" y=\"-57.8\" font-family=\"Times-Roman\" font-size=\"14.00\">2.00</text>\n",
       "</g>\n",
       "<!-- test_L0_N0&#45;&gt;test_L1_N1 -->\n",
       "<g id=\"edge4\" class=\"edge\">\n",
       "<title>test_L0_N0&#45;&gt;test_L1_N1</title>\n",
       "<path fill=\"none\" stroke=\"black\" d=\"M221.49,-86.8C221.22,-75.16 220.85,-59.55 220.53,-46.24\"/>\n",
       "<polygon fill=\"black\" stroke=\"black\" points=\"224.03,-46.09 220.3,-36.18 217.03,-46.26 224.03,-46.09\"/>\n",
       "<text text-anchor=\"middle\" x=\"236.89\" y=\"-57.8\" font-family=\"Times-Roman\" font-size=\"14.00\">3.00</text>\n",
       "</g>\n",
       "</g>\n",
       "</svg>\n"
      ],
      "text/plain": [
       "<graphviz.dot.Digraph at 0x7f3acbd63490>"
      ]
     },
     "execution_count": 33,
     "metadata": {},
     "output_type": "execute_result"
    }
   ],
   "source": [
    "from graphviz import Digraph\n",
    "import random\n",
    "from sklearn.preprocessing import StandardScaler, MinMaxScaler\n",
    "import copy\n",
    "\n",
    "class Network:\n",
    "    def __init__(self) -> None:\n",
    "        self.layers = []\n",
    "        self.size = []\n",
    "        self.s = None\n",
    "    \n",
    "    def __repr__(self) -> str:\n",
    "        return \"Network(\" + \"\\n\\t\".join([str(layer) for layer in self.layers]) + \")\"\n",
    "    \n",
    "    def __init__(self, layer_types: list, size: list, weights=None, gen_type=\"0|1\") -> None:\n",
    "        assert len(layer_types) == len(size) - 1, \"Invalid matrix dimension\"\n",
    "        self.layers = []\n",
    "        self.size = size\n",
    "        for i, layer_type in enumerate(layer_types):\n",
    "            if layer_type == \"sigmoid\":\n",
    "                self.addLayerBack(SigmoidLayer(size[i + 1], weights[i] if weights else Network.generate(gen_type, (size[i + 1], size[i] + 1))))\n",
    "            elif layer_type == \"linear\":\n",
    "                self.addLayerBack(LinearLayer(size[i + 1], weights[i] if weights else Network.generate(gen_type, (size[i + 1], size[i] + 1))))\n",
    "            else:\n",
    "                logging.error(\"Invalid layer type\")\n",
    "    \n",
    "    @staticmethod\n",
    "    def batch_partition(list_in, n):\n",
    "        l = copy.deepcopy(list_in)\n",
    "        random.shuffle(l)\n",
    "        return [l[(i * n):(i * n + n)] for i in range(int((len(l) + n - 1) / n))]\n",
    "        \n",
    "    def generate(gen_type: str, n: tuple) -> np.array:\n",
    "        if gen_type == \"0|1\":\n",
    "            return np.random.uniform(0, 1, n)\n",
    "        elif gen_type == \"-1|1\":\n",
    "            return np.random.uniform(-1, 1, n)\n",
    "        elif gen_type == \"norm\":\n",
    "            return np.random.normal(0, 1, n)\n",
    "        \n",
    "    \n",
    "    def addLayerBack(self, layer: Layer) -> None:\n",
    "        self.layers.append(layer)\n",
    "    \n",
    "    def forward(self, x: list) -> list:\n",
    "        input = x\n",
    "        for layer in self.layers:\n",
    "            out = []\n",
    "            for val in input:\n",
    "                tmp = layer.evaluate(val)\n",
    "                out.append(tmp)\n",
    "            input = out\n",
    "        return input\n",
    "    \n",
    "    def predict(self, x):\n",
    "        return self.s.inverse_transform(self.forward(x))\n",
    "    \n",
    "    def draw(self, prefix='', graph=None) -> None:\n",
    "        g = Digraph(format='svg', name=\"neural network\")\n",
    "        if graph is not None:\n",
    "            g = graph\n",
    "        for idx, layer in enumerate(self.layers):\n",
    "            current_id = idx + 1\n",
    "            # create bias neuron\n",
    "            bias_name = '%s_L%s_Bias' % (prefix, idx)\n",
    "            g.node(bias_name)\n",
    "            for n_i, neuron in enumerate(layer.neurons):\n",
    "                # create dot for neuron\n",
    "                neuron_name = '%s_L%s_N%s' % (prefix, current_id, n_i)\n",
    "                g.node(neuron_name)\n",
    "                # create dots and edges for parents\n",
    "                for w_i, weight in enumerate(neuron.weights):\n",
    "                    if w_i == 0:\n",
    "                        g.edge(bias_name, neuron_name, label=format(weight, '.2f'))\n",
    "                    else:\n",
    "                        p_name = '%s_L%s_N%s' % (prefix, idx, w_i - 1)\n",
    "                        g.node(p_name)\n",
    "                        g.edge(p_name, neuron_name, label=format(weight, '.2f'))\n",
    "        return g\n",
    "            \n",
    "    def backward_propagate_error(self, expected, l_rate):\n",
    "        for i in reversed(range(len(self.layers))):\n",
    "            layer = self.layers[i]\n",
    "            \n",
    "            if layer == self.layers[-1]:\n",
    "                for j, neuron in enumerate(layer.neurons):\n",
    "                    neuron.error = (expected[j] - neuron.output)\n",
    "                    neuron.delta = neuron.error * neuron.derivative(neuron.output)\n",
    "            else:\n",
    "                next_layer = self.layers[i + 1]\n",
    "                for j, neuron in enumerate(layer.neurons):\n",
    "                    neuron.error = 0.0\n",
    "                    neuron.delta = 0.0\n",
    "                    for k, next_neuron in enumerate(next_layer.neurons):\n",
    "                        neuron.error += next_neuron.weights[j+1] * next_neuron.delta\n",
    "                        neuron.delta += neuron.error * neuron.derivative(neuron.output)\n",
    "                        \n",
    "        for layer in self.layers:\n",
    "            for neuron in layer.neurons:\n",
    "                for i in range(len(neuron.weights)):\n",
    "                    neuron.weights[i] += neuron.delta * neuron.inputs[i] * l_rate\n",
    "                        \n",
    "    \n",
    "    def update_weights(self):\n",
    "        for layer in self.layers:\n",
    "            for neuron in layer.neurons:\n",
    "                for i in range(len(neuron.weights)):\n",
    "                    neuron.weights[i] += neuron.deltas[i]\n",
    "    \n",
    "    def clean_params(self):\n",
    "        for idx, layer in enumerate(self.layers):\n",
    "            for neuron in layer.neurons:\n",
    "                neuron.output = 0\n",
    "                neuron.delta = 0\n",
    "                neuron.error = 0\n",
    "                neuron.deltas = [0 for i in range(self.size[idx] + 1)]\n",
    "    \n",
    "    def train_network(self, train_data: list, train_y: list, l_rate=1e-3, n_epoch=5, batch_size=None) -> None:\n",
    "        self.s = MinMaxScaler()\n",
    "        y_std = self.s.fit_transform(train_y)\n",
    "        a = self.draw(\"null\")\n",
    "        for epoch in range(n_epoch):\n",
    "            sum_error = 0\n",
    "#             self.clean_params()\n",
    "            for i, row in enumerate(train_data):\n",
    "                self.clean_params()\n",
    "                outputs = self.forward([row])\n",
    "                expected = y_std[i]\n",
    "                sum_error += sum([(expected[i]-outputs[0][i])**2 for i in range(len(expected))])\n",
    "                self.backward_propagate_error(expected, l_rate)\n",
    "                #self.update_deltas(row, l_rate)\n",
    "#                 self.update_weights()\n",
    "            a = self.draw(str(epoch), a)\n",
    "#             print('>epoch=%d, lrate=%.3f, error=%.3f' % (epoch, l_rate, sum_error))\n",
    "        return a\n",
    "        \n",
    "\n",
    "# tests\n",
    "network = Network([\"linear\"], [1, 1], [[[1,2,3]]])\n",
    "assert network.forward([[2,3]]) == [[14]]\n",
    "\n",
    "network2 = Network([\"linear\"], [1, 2], [\n",
    "        [[1,2], [2, 3]]\n",
    "])\n",
    "assert network2.forward([[5]]) == [[11, 17]]\n",
    "network2.draw(\"test\")\n",
    "# https://machinelearningmastery.com/implement-backpropagation-algorithm-scratch-python/"
   ]
  },
  {
   "cell_type": "code",
   "execution_count": 11,
   "metadata": {
    "collapsed": false
   },
   "outputs": [
    {
     "name": "stdout",
     "output_type": "stream",
     "text": [
      "Network([Layer([SigmoidNeuron(weights: [0.76377, 0.1343, 0.8474], output: 0.7105, delta: 0.0)]), Layer([SigmoidNeuron(weights: [0.4954, 0.255], output: 0.6213, delta: -0.146183384403), SigmoidNeuron(weights: [0.65159, 0.44949], output: 0.6573, delta: 0.077195474517)])])\n"
     ]
    }
   ],
   "source": [
    "test = Network([\"sigmoid\", \"sigmoid\"], [2,1,2], [\n",
    "        [[0.76377, 0.1343, 0.8474]],\n",
    "        [[0.4954, 0.255], [0.65159, 0.44949]]\n",
    "    ])\n",
    "row = [[1, 0]]\n",
    "test.layers[0].neurons[0].output = 0.7105\n",
    "test.layers[1].neurons[0].output = 0.6213\n",
    "test.layers[1].neurons[1].output = 0.6573\n",
    "expected = [0, 1]\n",
    "test.backward_propagate_error(expected)\n",
    "print(test)"
   ]
  },
  {
   "cell_type": "code",
   "execution_count": 39,
   "metadata": {
    "collapsed": false
   },
   "outputs": [
    {
     "data": {
      "text/plain": [
       "[[6], [1], [4], [2], [3], [5], [7]]"
      ]
     },
     "execution_count": 39,
     "metadata": {},
     "output_type": "execute_result"
    }
   ],
   "source": [
    "a = [1,2,3,4,5,6,7]\n",
    "Network.batch_partition(a, 1)"
   ]
  },
  {
   "cell_type": "code",
   "execution_count": 40,
   "metadata": {
    "collapsed": false
   },
   "outputs": [
    {
     "data": {
      "image/svg+xml": [
       "<?xml version=\"1.0\" encoding=\"UTF-8\" standalone=\"no\"?>\n",
       "<!DOCTYPE svg PUBLIC \"-//W3C//DTD SVG 1.1//EN\"\n",
       " \"http://www.w3.org/Graphics/SVG/1.1/DTD/svg11.dtd\">\n",
       "<!-- Generated by graphviz version 2.46.1 (20210222.2046)\n",
       " -->\n",
       "<!-- Title: neural network Pages: 1 -->\n",
       "<svg width=\"642pt\" height=\"218pt\"\n",
       " viewBox=\"0.00 0.00 641.54 218.00\" xmlns=\"http://www.w3.org/2000/svg\" xmlns:xlink=\"http://www.w3.org/1999/xlink\">\n",
       "<g id=\"graph0\" class=\"graph\" transform=\"scale(1 1) rotate(0) translate(4 214)\">\n",
       "<title>neural network</title>\n",
       "<polygon fill=\"white\" stroke=\"transparent\" points=\"-4,4 -4,-214 637.54,-214 637.54,4 -4,4\"/>\n",
       "<!-- _L0_Bias -->\n",
       "<g id=\"node1\" class=\"node\">\n",
       "<title>_L0_Bias</title>\n",
       "<ellipse fill=\"none\" stroke=\"black\" cx=\"174.2\" cy=\"-192\" rx=\"51.19\" ry=\"18\"/>\n",
       "<text text-anchor=\"middle\" x=\"174.2\" y=\"-188.3\" font-family=\"Times-Roman\" font-size=\"14.00\">_L0_Bias</text>\n",
       "</g>\n",
       "<!-- _L1_N0 -->\n",
       "<g id=\"node2\" class=\"node\">\n",
       "<title>_L1_N0</title>\n",
       "<ellipse fill=\"none\" stroke=\"black\" cx=\"362.2\" cy=\"-105\" rx=\"44.39\" ry=\"18\"/>\n",
       "<text text-anchor=\"middle\" x=\"362.2\" y=\"-101.3\" font-family=\"Times-Roman\" font-size=\"14.00\">_L1_N0</text>\n",
       "</g>\n",
       "<!-- _L0_Bias&#45;&gt;_L1_N0 -->\n",
       "<g id=\"edge1\" class=\"edge\">\n",
       "<title>_L0_Bias&#45;&gt;_L1_N0</title>\n",
       "<path fill=\"none\" stroke=\"black\" d=\"M210.83,-179.13C227.07,-173.19 246.1,-165.29 262.2,-156 271.51,-150.62 271.96,-146.51 281.2,-141 293.46,-133.68 307.54,-127.05 320.48,-121.58\"/>\n",
       "<polygon fill=\"black\" stroke=\"black\" points=\"322.18,-124.66 330.1,-117.63 319.52,-118.19 322.18,-124.66\"/>\n",
       "<text text-anchor=\"middle\" x=\"297.2\" y=\"-144.8\" font-family=\"Times-Roman\" font-size=\"14.00\">0.96</text>\n",
       "</g>\n",
       "<!-- _L1_N1 -->\n",
       "<g id=\"node4\" class=\"node\">\n",
       "<title>_L1_N1</title>\n",
       "<ellipse fill=\"none\" stroke=\"black\" cx=\"44.2\" cy=\"-105\" rx=\"44.39\" ry=\"18\"/>\n",
       "<text text-anchor=\"middle\" x=\"44.2\" y=\"-101.3\" font-family=\"Times-Roman\" font-size=\"14.00\">_L1_N1</text>\n",
       "</g>\n",
       "<!-- _L0_Bias&#45;&gt;_L1_N1 -->\n",
       "<g id=\"edge3\" class=\"edge\">\n",
       "<title>_L0_Bias&#45;&gt;_L1_N1</title>\n",
       "<path fill=\"none\" stroke=\"black\" d=\"M125.73,-185.91C87.76,-180.8 39.39,-171.44 27.2,-156 21.66,-149 22.8,-140.09 26.33,-131.74\"/>\n",
       "<polygon fill=\"black\" stroke=\"black\" points=\"29.54,-133.15 31.1,-122.67 23.35,-129.89 29.54,-133.15\"/>\n",
       "<text text-anchor=\"middle\" x=\"43.2\" y=\"-144.8\" font-family=\"Times-Roman\" font-size=\"14.00\">0.94</text>\n",
       "</g>\n",
       "<!-- _L1_N2 -->\n",
       "<g id=\"node5\" class=\"node\">\n",
       "<title>_L1_N2</title>\n",
       "<ellipse fill=\"none\" stroke=\"black\" cx=\"256.2\" cy=\"-105\" rx=\"44.39\" ry=\"18\"/>\n",
       "<text text-anchor=\"middle\" x=\"256.2\" y=\"-101.3\" font-family=\"Times-Roman\" font-size=\"14.00\">_L1_N2</text>\n",
       "</g>\n",
       "<!-- _L0_Bias&#45;&gt;_L1_N2 -->\n",
       "<g id=\"edge5\" class=\"edge\">\n",
       "<title>_L0_Bias&#45;&gt;_L1_N2</title>\n",
       "<path fill=\"none\" stroke=\"black\" d=\"M170.17,-173.87C168.74,-163.51 168.81,-150.51 175.2,-141 179.94,-133.93 195.85,-126.4 212.32,-120.14\"/>\n",
       "<polygon fill=\"black\" stroke=\"black\" points=\"213.8,-123.33 222,-116.62 211.41,-116.75 213.8,-123.33\"/>\n",
       "<text text-anchor=\"middle\" x=\"191.2\" y=\"-144.8\" font-family=\"Times-Roman\" font-size=\"14.00\">0.51</text>\n",
       "</g>\n",
       "<!-- _L1_N3 -->\n",
       "<g id=\"node6\" class=\"node\">\n",
       "<title>_L1_N3</title>\n",
       "<ellipse fill=\"none\" stroke=\"black\" cx=\"150.2\" cy=\"-105\" rx=\"44.39\" ry=\"18\"/>\n",
       "<text text-anchor=\"middle\" x=\"150.2\" y=\"-101.3\" font-family=\"Times-Roman\" font-size=\"14.00\">_L1_N3</text>\n",
       "</g>\n",
       "<!-- _L0_Bias&#45;&gt;_L1_N3 -->\n",
       "<g id=\"edge7\" class=\"edge\">\n",
       "<title>_L0_Bias&#45;&gt;_L1_N3</title>\n",
       "<path fill=\"none\" stroke=\"black\" d=\"M124.24,-187.76C102.43,-183.56 78.78,-174.63 65.2,-156 61.27,-150.61 61.49,-146.54 65.2,-141 67.98,-136.85 88.36,-128.39 108.47,-120.83\"/>\n",
       "<polygon fill=\"black\" stroke=\"black\" points=\"109.77,-124.08 117.93,-117.32 107.34,-117.51 109.77,-124.08\"/>\n",
       "<text text-anchor=\"middle\" x=\"81.2\" y=\"-144.8\" font-family=\"Times-Roman\" font-size=\"14.00\">0.27</text>\n",
       "</g>\n",
       "<!-- _L1_N4 -->\n",
       "<g id=\"node7\" class=\"node\">\n",
       "<title>_L1_N4</title>\n",
       "<ellipse fill=\"none\" stroke=\"black\" cx=\"468.2\" cy=\"-105\" rx=\"44.39\" ry=\"18\"/>\n",
       "<text text-anchor=\"middle\" x=\"468.2\" y=\"-101.3\" font-family=\"Times-Roman\" font-size=\"14.00\">_L1_N4</text>\n",
       "</g>\n",
       "<!-- _L0_Bias&#45;&gt;_L1_N4 -->\n",
       "<g id=\"edge9\" class=\"edge\">\n",
       "<title>_L0_Bias&#45;&gt;_L1_N4</title>\n",
       "<path fill=\"none\" stroke=\"black\" d=\"M220.47,-183.98C267.38,-176.57 336.6,-164.79 362.2,-156 375.92,-151.29 378.14,-147.34 391.2,-141 403.72,-134.92 417.53,-128.54 429.96,-122.92\"/>\n",
       "<polygon fill=\"black\" stroke=\"black\" points=\"431.46,-126.08 439.15,-118.79 428.59,-119.7 431.46,-126.08\"/>\n",
       "<text text-anchor=\"middle\" x=\"407.2\" y=\"-144.8\" font-family=\"Times-Roman\" font-size=\"14.00\">0.38</text>\n",
       "</g>\n",
       "<!-- _L2_N0 -->\n",
       "<g id=\"node9\" class=\"node\">\n",
       "<title>_L2_N0</title>\n",
       "<ellipse fill=\"none\" stroke=\"black\" cx=\"309.2\" cy=\"-18\" rx=\"44.39\" ry=\"18\"/>\n",
       "<text text-anchor=\"middle\" x=\"309.2\" y=\"-14.3\" font-family=\"Times-Roman\" font-size=\"14.00\">_L2_N0</text>\n",
       "</g>\n",
       "<!-- _L1_N0&#45;&gt;_L2_N0 -->\n",
       "<g id=\"edge12\" class=\"edge\">\n",
       "<title>_L1_N0&#45;&gt;_L2_N0</title>\n",
       "<path fill=\"none\" stroke=\"black\" d=\"M351.72,-87.21C344.1,-74.98 333.65,-58.21 325.01,-44.36\"/>\n",
       "<polygon fill=\"black\" stroke=\"black\" points=\"327.91,-42.39 319.65,-35.76 321.97,-46.1 327.91,-42.39\"/>\n",
       "<text text-anchor=\"middle\" x=\"354.2\" y=\"-57.8\" font-family=\"Times-Roman\" font-size=\"14.00\">0.99</text>\n",
       "</g>\n",
       "<!-- _L0_N0 -->\n",
       "<g id=\"node3\" class=\"node\">\n",
       "<title>_L0_N0</title>\n",
       "<ellipse fill=\"none\" stroke=\"black\" cx=\"339.2\" cy=\"-192\" rx=\"44.39\" ry=\"18\"/>\n",
       "<text text-anchor=\"middle\" x=\"339.2\" y=\"-188.3\" font-family=\"Times-Roman\" font-size=\"14.00\">_L0_N0</text>\n",
       "</g>\n",
       "<!-- _L0_N0&#45;&gt;_L1_N0 -->\n",
       "<g id=\"edge2\" class=\"edge\">\n",
       "<title>_L0_N0&#45;&gt;_L1_N0</title>\n",
       "<path fill=\"none\" stroke=\"black\" d=\"M380.21,-185.08C397.74,-180.3 416.58,-171.65 427.2,-156 436.93,-141.65 422.7,-129.64 405.09,-120.99\"/>\n",
       "<polygon fill=\"black\" stroke=\"black\" points=\"406.25,-117.67 395.69,-116.78 403.39,-124.06 406.25,-117.67\"/>\n",
       "<text text-anchor=\"middle\" x=\"446.2\" y=\"-144.8\" font-family=\"Times-Roman\" font-size=\"14.00\">0.80</text>\n",
       "</g>\n",
       "<!-- _L0_N0&#45;&gt;_L1_N1 -->\n",
       "<g id=\"edge4\" class=\"edge\">\n",
       "<title>_L0_N0&#45;&gt;_L1_N1</title>\n",
       "<path fill=\"none\" stroke=\"black\" d=\"M298.7,-184.45C241.19,-175.08 141.9,-158.71 134.2,-156 113.28,-148.65 91.51,-136.68 74.61,-126.3\"/>\n",
       "<polygon fill=\"black\" stroke=\"black\" points=\"76.1,-123.1 65.77,-120.73 72.37,-129.02 76.1,-123.1\"/>\n",
       "<text text-anchor=\"middle\" x=\"150.2\" y=\"-144.8\" font-family=\"Times-Roman\" font-size=\"14.00\">0.50</text>\n",
       "</g>\n",
       "<!-- _L0_N0&#45;&gt;_L1_N2 -->\n",
       "<g id=\"edge6\" class=\"edge\">\n",
       "<title>_L0_N0&#45;&gt;_L1_N2</title>\n",
       "<path fill=\"none\" stroke=\"black\" d=\"M334.6,-173.72C331.15,-163.31 325.56,-150.31 317.2,-141 310.96,-134.06 303.02,-128.15 294.94,-123.27\"/>\n",
       "<polygon fill=\"black\" stroke=\"black\" points=\"296.63,-120.21 286.2,-118.38 293.21,-126.31 296.63,-120.21\"/>\n",
       "<text text-anchor=\"middle\" x=\"342.2\" y=\"-144.8\" font-family=\"Times-Roman\" font-size=\"14.00\">0.96</text>\n",
       "</g>\n",
       "<!-- _L0_N0&#45;&gt;_L1_N3 -->\n",
       "<g id=\"edge8\" class=\"edge\">\n",
       "<title>_L0_N0&#45;&gt;_L1_N3</title>\n",
       "<path fill=\"none\" stroke=\"black\" d=\"M300.93,-182.88C278.37,-177.19 249.73,-168.38 226.2,-156 216.67,-150.99 216.02,-147.16 207.2,-141 199.66,-135.74 191.33,-130.38 183.42,-125.49\"/>\n",
       "<polygon fill=\"black\" stroke=\"black\" points=\"185.09,-122.41 174.73,-120.2 181.45,-128.39 185.09,-122.41\"/>\n",
       "<text text-anchor=\"middle\" x=\"242.2\" y=\"-144.8\" font-family=\"Times-Roman\" font-size=\"14.00\">0.24</text>\n",
       "</g>\n",
       "<!-- _L0_N0&#45;&gt;_L1_N4 -->\n",
       "<g id=\"edge10\" class=\"edge\">\n",
       "<title>_L0_N0&#45;&gt;_L1_N4</title>\n",
       "<path fill=\"none\" stroke=\"black\" d=\"M380.02,-185.05C412.92,-179.34 455.43,-169.57 466.2,-156 471.23,-149.66 472.86,-141.31 472.91,-133.26\"/>\n",
       "<polygon fill=\"black\" stroke=\"black\" points=\"476.38,-132.77 472.2,-123.03 469.4,-133.25 476.38,-132.77\"/>\n",
       "<text text-anchor=\"middle\" x=\"488.2\" y=\"-144.8\" font-family=\"Times-Roman\" font-size=\"14.00\">0.17</text>\n",
       "</g>\n",
       "<!-- _L1_N1&#45;&gt;_L2_N0 -->\n",
       "<g id=\"edge13\" class=\"edge\">\n",
       "<title>_L1_N1&#45;&gt;_L2_N0</title>\n",
       "<path fill=\"none\" stroke=\"black\" d=\"M75.4,-92.15C103.63,-81.59 146.44,-66.01 184.2,-54 210.13,-45.75 239.41,-37.5 263.11,-31.08\"/>\n",
       "<polygon fill=\"black\" stroke=\"black\" points=\"264.15,-34.42 272.9,-28.44 262.33,-27.66 264.15,-34.42\"/>\n",
       "<text text-anchor=\"middle\" x=\"200.2\" y=\"-57.8\" font-family=\"Times-Roman\" font-size=\"14.00\">0.51</text>\n",
       "</g>\n",
       "<!-- _L1_N2&#45;&gt;_L2_N0 -->\n",
       "<g id=\"edge14\" class=\"edge\">\n",
       "<title>_L1_N2&#45;&gt;_L2_N0</title>\n",
       "<path fill=\"none\" stroke=\"black\" d=\"M266.67,-87.21C274.29,-74.98 284.75,-58.21 293.38,-44.36\"/>\n",
       "<polygon fill=\"black\" stroke=\"black\" points=\"296.43,-46.1 298.75,-35.76 290.49,-42.39 296.43,-46.1\"/>\n",
       "<text text-anchor=\"middle\" x=\"302.2\" y=\"-57.8\" font-family=\"Times-Roman\" font-size=\"14.00\">0.82</text>\n",
       "</g>\n",
       "<!-- _L1_N3&#45;&gt;_L2_N0 -->\n",
       "<g id=\"edge15\" class=\"edge\">\n",
       "<title>_L1_N3&#45;&gt;_L2_N0</title>\n",
       "<path fill=\"none\" stroke=\"black\" d=\"M176.1,-90.15C202.86,-75.85 244.78,-53.44 274.42,-37.59\"/>\n",
       "<polygon fill=\"black\" stroke=\"black\" points=\"276.4,-40.5 283.57,-32.7 273.1,-34.33 276.4,-40.5\"/>\n",
       "<text text-anchor=\"middle\" x=\"256.2\" y=\"-57.8\" font-family=\"Times-Roman\" font-size=\"14.00\">0.38</text>\n",
       "</g>\n",
       "<!-- _L1_N4&#45;&gt;_L2_N0 -->\n",
       "<g id=\"edge16\" class=\"edge\">\n",
       "<title>_L1_N4&#45;&gt;_L2_N0</title>\n",
       "<path fill=\"none\" stroke=\"black\" d=\"M442.3,-90.15C415.54,-75.85 373.61,-53.44 343.98,-37.59\"/>\n",
       "<polygon fill=\"black\" stroke=\"black\" points=\"345.29,-34.33 334.82,-32.7 341.99,-40.5 345.29,-34.33\"/>\n",
       "<text text-anchor=\"middle\" x=\"414.2\" y=\"-57.8\" font-family=\"Times-Roman\" font-size=\"14.00\">0.77</text>\n",
       "</g>\n",
       "<!-- _L1_Bias -->\n",
       "<g id=\"node8\" class=\"node\">\n",
       "<title>_L1_Bias</title>\n",
       "<ellipse fill=\"none\" stroke=\"black\" cx=\"582.2\" cy=\"-105\" rx=\"51.19\" ry=\"18\"/>\n",
       "<text text-anchor=\"middle\" x=\"582.2\" y=\"-101.3\" font-family=\"Times-Roman\" font-size=\"14.00\">_L1_Bias</text>\n",
       "</g>\n",
       "<!-- _L1_Bias&#45;&gt;_L2_N0 -->\n",
       "<g id=\"edge11\" class=\"edge\">\n",
       "<title>_L1_Bias&#45;&gt;_L2_N0</title>\n",
       "<path fill=\"none\" stroke=\"black\" d=\"M547.38,-91.66C517.49,-81.2 473.2,-66.04 434.2,-54 408.1,-45.94 378.7,-37.67 354.97,-31.19\"/>\n",
       "<polygon fill=\"black\" stroke=\"black\" points=\"355.74,-27.78 345.17,-28.53 353.91,-34.53 355.74,-27.78\"/>\n",
       "<text text-anchor=\"middle\" x=\"494.2\" y=\"-57.8\" font-family=\"Times-Roman\" font-size=\"14.00\">0.53</text>\n",
       "</g>\n",
       "</g>\n",
       "</svg>\n"
      ],
      "text/plain": [
       "<graphviz.dot.Digraph at 0x7efd61cd1af0>"
      ]
     },
     "execution_count": 40,
     "metadata": {},
     "output_type": "execute_result"
    }
   ],
   "source": [
    "network3 = Network([\"sigmoid\", \"linear\"], [1, 5, 1])\n",
    "network3.draw()"
   ]
  },
  {
   "cell_type": "markdown",
   "metadata": {},
   "source": [
    "# Zbiór square-simple"
   ]
  },
  {
   "cell_type": "code",
   "execution_count": 5,
   "metadata": {
    "collapsed": false
   },
   "outputs": [],
   "source": [
    "train_df = pd.read_csv('./mio1/regression/square-simple-training.csv', index_col=0)\n",
    "test_df = pd.read_csv('./mio1/regression/square-simple-test.csv', index_col=0)"
   ]
  },
  {
   "cell_type": "markdown",
   "metadata": {},
   "source": [
    "### jedna warstwa ukryta, 5 neuronów"
   ]
  },
  {
   "cell_type": "code",
   "execution_count": 34,
   "metadata": {
    "collapsed": false
   },
   "outputs": [
    {
     "data": {
      "text/plain": [
       "<matplotlib.collections.PathCollection at 0x7f3acbcb2700>"
      ]
     },
     "execution_count": 34,
     "metadata": {},
     "output_type": "execute_result"
    },
    {
     "data": {
      "image/png": "[encoded data removed]",
      "text/plain": [
       "<Figure size 432x288 with 1 Axes>"
      ]
     },
     "metadata": {
      "needs_background": "light"
     },
     "output_type": "display_data"
    }
   ],
   "source": [
    "np.random.seed(2137)\n",
    "mlp = Network([\"sigmoid\", \"linear\"], [1,10,1])\n",
    "mlp.train_network(np.expand_dims(train_df['x'], 1), np.expand_dims(train_df['y'], 1), n_epoch=500, l_rate=1e-2)\n",
    "\n",
    "y_pred = mlp.predict(np.expand_dims(train_df['x'], 1))\n",
    "y_pred = np.squeeze(y_pred)\n",
    "plt.scatter(train_df['x'], train_df['y'], color='green')\n",
    "plt.scatter(train_df['x'], y_pred, color='red')"
   ]
  },
  {
   "cell_type": "code",
   "execution_count": 193,
   "metadata": {
    "collapsed": false
   },
   "outputs": [
    {
     "data": {
      "text/plain": [
       "1   -0.171543\n",
       "2    0.025201\n",
       "3   -1.368991\n",
       "4    1.907390\n",
       "5    0.011129\n",
       "Name: x, dtype: float64"
      ]
     },
     "execution_count": 193,
     "metadata": {},
     "output_type": "execute_result"
    }
   ],
   "source": [
    "train_df['x'][:5]"
   ]
  },
  {
   "cell_type": "code",
   "execution_count": 73,
   "metadata": {
    "collapsed": false
   },
   "outputs": [
    {
     "data": {
      "image/svg+xml": [
       "<?xml version=\"1.0\" encoding=\"UTF-8\" standalone=\"no\"?>\n",
       "<!DOCTYPE svg PUBLIC \"-//W3C//DTD SVG 1.1//EN\"\n",
       " \"http://www.w3.org/Graphics/SVG/1.1/DTD/svg11.dtd\">\n",
       "<!-- Generated by graphviz version 2.46.1 (20210222.2046)\n",
       " -->\n",
       "<!-- Title: neural network Pages: 1 -->\n",
       "<svg width=\"642pt\" height=\"218pt\"\n",
       " viewBox=\"0.00 0.00 641.54 218.00\" xmlns=\"http://www.w3.org/2000/svg\" xmlns:xlink=\"http://www.w3.org/1999/xlink\">\n",
       "<g id=\"graph0\" class=\"graph\" transform=\"scale(1 1) rotate(0) translate(4 214)\">\n",
       "<title>neural network</title>\n",
       "<polygon fill=\"white\" stroke=\"transparent\" points=\"-4,4 -4,-214 637.54,-214 637.54,4 -4,4\"/>\n",
       "<!-- _L0_Bias -->\n",
       "<g id=\"node1\" class=\"node\">\n",
       "<title>_L0_Bias</title>\n",
       "<ellipse fill=\"none\" stroke=\"black\" cx=\"180.2\" cy=\"-192\" rx=\"51.19\" ry=\"18\"/>\n",
       "<text text-anchor=\"middle\" x=\"180.2\" y=\"-188.3\" font-family=\"Times-Roman\" font-size=\"14.00\">_L0_Bias</text>\n",
       "</g>\n",
       "<!-- _L1_N0 -->\n",
       "<g id=\"node2\" class=\"node\">\n",
       "<title>_L1_N0</title>\n",
       "<ellipse fill=\"none\" stroke=\"black\" cx=\"362.2\" cy=\"-105\" rx=\"44.39\" ry=\"18\"/>\n",
       "<text text-anchor=\"middle\" x=\"362.2\" y=\"-101.3\" font-family=\"Times-Roman\" font-size=\"14.00\">_L1_N0</text>\n",
       "</g>\n",
       "<!-- _L0_Bias&#45;&gt;_L1_N0 -->\n",
       "<g id=\"edge1\" class=\"edge\">\n",
       "<title>_L0_Bias&#45;&gt;_L1_N0</title>\n",
       "<path fill=\"none\" stroke=\"black\" d=\"M214.23,-178.37C228.81,-172.39 245.77,-164.66 260.2,-156 269.42,-150.47 269.93,-146.47 279.2,-141 291.98,-133.45 306.7,-126.68 320.16,-121.16\"/>\n",
       "<polygon fill=\"black\" stroke=\"black\" points=\"321.7,-124.31 329.69,-117.36 319.11,-117.81 321.7,-124.31\"/>\n",
       "<text text-anchor=\"middle\" x=\"293.2\" y=\"-144.8\" font-family=\"Times-Roman\" font-size=\"14.00\">nan</text>\n",
       "</g>\n",
       "<!-- _L1_N1 -->\n",
       "<g id=\"node4\" class=\"node\">\n",
       "<title>_L1_N1</title>\n",
       "<ellipse fill=\"none\" stroke=\"black\" cx=\"44.2\" cy=\"-105\" rx=\"44.39\" ry=\"18\"/>\n",
       "<text text-anchor=\"middle\" x=\"44.2\" y=\"-101.3\" font-family=\"Times-Roman\" font-size=\"14.00\">_L1_N1</text>\n",
       "</g>\n",
       "<!-- _L0_Bias&#45;&gt;_L1_N1 -->\n",
       "<g id=\"edge3\" class=\"edge\">\n",
       "<title>_L0_Bias&#45;&gt;_L1_N1</title>\n",
       "<path fill=\"none\" stroke=\"black\" d=\"M132.84,-185.01C98.09,-179.54 55.14,-170.11 44.2,-156 39.19,-149.54 37.86,-141.06 38.19,-132.92\"/>\n",
       "<polygon fill=\"black\" stroke=\"black\" points=\"41.67,-133.32 39.34,-122.98 34.72,-132.51 41.67,-133.32\"/>\n",
       "<text text-anchor=\"middle\" x=\"58.2\" y=\"-144.8\" font-family=\"Times-Roman\" font-size=\"14.00\">nan</text>\n",
       "</g>\n",
       "<!-- _L1_N2 -->\n",
       "<g id=\"node5\" class=\"node\">\n",
       "<title>_L1_N2</title>\n",
       "<ellipse fill=\"none\" stroke=\"black\" cx=\"256.2\" cy=\"-105\" rx=\"44.39\" ry=\"18\"/>\n",
       "<text text-anchor=\"middle\" x=\"256.2\" y=\"-101.3\" font-family=\"Times-Roman\" font-size=\"14.00\">_L1_N2</text>\n",
       "</g>\n",
       "<!-- _L0_Bias&#45;&gt;_L1_N2 -->\n",
       "<g id=\"edge5\" class=\"edge\">\n",
       "<title>_L0_Bias&#45;&gt;_L1_N2</title>\n",
       "<path fill=\"none\" stroke=\"black\" d=\"M176.27,-173.93C174.87,-163.6 174.94,-150.6 181.2,-141 185.41,-134.53 199.3,-127.32 214,-121.14\"/>\n",
       "<polygon fill=\"black\" stroke=\"black\" points=\"215.72,-124.22 223.69,-117.24 213.1,-117.73 215.72,-124.22\"/>\n",
       "<text text-anchor=\"middle\" x=\"195.2\" y=\"-144.8\" font-family=\"Times-Roman\" font-size=\"14.00\">nan</text>\n",
       "</g>\n",
       "<!-- _L1_N3 -->\n",
       "<g id=\"node6\" class=\"node\">\n",
       "<title>_L1_N3</title>\n",
       "<ellipse fill=\"none\" stroke=\"black\" cx=\"150.2\" cy=\"-105\" rx=\"44.39\" ry=\"18\"/>\n",
       "<text text-anchor=\"middle\" x=\"150.2\" y=\"-101.3\" font-family=\"Times-Roman\" font-size=\"14.00\">_L1_N3</text>\n",
       "</g>\n",
       "<!-- _L0_Bias&#45;&gt;_L1_N3 -->\n",
       "<g id=\"edge7\" class=\"edge\">\n",
       "<title>_L0_Bias&#45;&gt;_L1_N3</title>\n",
       "<path fill=\"none\" stroke=\"black\" d=\"M131.45,-186.25C111.9,-181.67 91.2,-172.86 79.2,-156 68.2,-140.56 85.14,-128.22 105.22,-119.67\"/>\n",
       "<polygon fill=\"black\" stroke=\"black\" points=\"106.54,-122.91 114.58,-116 103.99,-116.39 106.54,-122.91\"/>\n",
       "<text text-anchor=\"middle\" x=\"93.2\" y=\"-144.8\" font-family=\"Times-Roman\" font-size=\"14.00\">nan</text>\n",
       "</g>\n",
       "<!-- _L1_N4 -->\n",
       "<g id=\"node7\" class=\"node\">\n",
       "<title>_L1_N4</title>\n",
       "<ellipse fill=\"none\" stroke=\"black\" cx=\"468.2\" cy=\"-105\" rx=\"44.39\" ry=\"18\"/>\n",
       "<text text-anchor=\"middle\" x=\"468.2\" y=\"-101.3\" font-family=\"Times-Roman\" font-size=\"14.00\">_L1_N4</text>\n",
       "</g>\n",
       "<!-- _L0_Bias&#45;&gt;_L1_N4 -->\n",
       "<g id=\"edge9\" class=\"edge\">\n",
       "<title>_L0_Bias&#45;&gt;_L1_N4</title>\n",
       "<path fill=\"none\" stroke=\"black\" d=\"M225.61,-183.36C268.71,-175.83 330.2,-164.28 353.2,-156 366.48,-151.22 368.41,-146.98 381.2,-141 395.96,-134.1 412.47,-127.25 427.12,-121.46\"/>\n",
       "<polygon fill=\"black\" stroke=\"black\" points=\"428.39,-124.72 436.43,-117.82 425.84,-118.2 428.39,-124.72\"/>\n",
       "<text text-anchor=\"middle\" x=\"395.2\" y=\"-144.8\" font-family=\"Times-Roman\" font-size=\"14.00\">nan</text>\n",
       "</g>\n",
       "<!-- _L2_N0 -->\n",
       "<g id=\"node9\" class=\"node\">\n",
       "<title>_L2_N0</title>\n",
       "<ellipse fill=\"none\" stroke=\"black\" cx=\"309.2\" cy=\"-18\" rx=\"44.39\" ry=\"18\"/>\n",
       "<text text-anchor=\"middle\" x=\"309.2\" y=\"-14.3\" font-family=\"Times-Roman\" font-size=\"14.00\">_L2_N0</text>\n",
       "</g>\n",
       "<!-- _L1_N0&#45;&gt;_L2_N0 -->\n",
       "<g id=\"edge12\" class=\"edge\">\n",
       "<title>_L1_N0&#45;&gt;_L2_N0</title>\n",
       "<path fill=\"none\" stroke=\"black\" d=\"M351.72,-87.21C344.1,-74.98 333.65,-58.21 325.01,-44.36\"/>\n",
       "<polygon fill=\"black\" stroke=\"black\" points=\"327.91,-42.39 319.65,-35.76 321.97,-46.1 327.91,-42.39\"/>\n",
       "<text text-anchor=\"middle\" x=\"352.2\" y=\"-57.8\" font-family=\"Times-Roman\" font-size=\"14.00\">nan</text>\n",
       "</g>\n",
       "<!-- _L0_N0 -->\n",
       "<g id=\"node3\" class=\"node\">\n",
       "<title>_L0_N0</title>\n",
       "<ellipse fill=\"none\" stroke=\"black\" cx=\"333.2\" cy=\"-192\" rx=\"44.39\" ry=\"18\"/>\n",
       "<text text-anchor=\"middle\" x=\"333.2\" y=\"-188.3\" font-family=\"Times-Roman\" font-size=\"14.00\">_L0_N0</text>\n",
       "</g>\n",
       "<!-- _L0_N0&#45;&gt;_L1_N0 -->\n",
       "<g id=\"edge2\" class=\"edge\">\n",
       "<title>_L0_N0&#45;&gt;_L1_N0</title>\n",
       "<path fill=\"none\" stroke=\"black\" d=\"M372.67,-183.45C388.01,-178.38 404.07,-169.96 413.2,-156 420.88,-144.25 411.79,-133.12 399.27,-124.35\"/>\n",
       "<polygon fill=\"black\" stroke=\"black\" points=\"401.01,-121.31 390.68,-118.95 397.28,-127.24 401.01,-121.31\"/>\n",
       "<text text-anchor=\"middle\" x=\"429.2\" y=\"-144.8\" font-family=\"Times-Roman\" font-size=\"14.00\">nan</text>\n",
       "</g>\n",
       "<!-- _L0_N0&#45;&gt;_L1_N1 -->\n",
       "<g id=\"edge4\" class=\"edge\">\n",
       "<title>_L0_N0&#45;&gt;_L1_N1</title>\n",
       "<path fill=\"none\" stroke=\"black\" d=\"M293.81,-183.81C239.74,-173.91 148.73,-157.18 145.2,-156 121.59,-148.13 96.51,-135.74 77.25,-125.26\"/>\n",
       "<polygon fill=\"black\" stroke=\"black\" points=\"78.73,-122.08 68.29,-120.3 75.34,-128.2 78.73,-122.08\"/>\n",
       "<text text-anchor=\"middle\" x=\"159.2\" y=\"-144.8\" font-family=\"Times-Roman\" font-size=\"14.00\">nan</text>\n",
       "</g>\n",
       "<!-- _L0_N0&#45;&gt;_L1_N2 -->\n",
       "<g id=\"edge6\" class=\"edge\">\n",
       "<title>_L0_N0&#45;&gt;_L1_N2</title>\n",
       "<path fill=\"none\" stroke=\"black\" d=\"M328.45,-173.86C324.94,-163.5 319.35,-150.5 311.2,-141 305.91,-134.84 299.27,-129.39 292.45,-124.72\"/>\n",
       "<polygon fill=\"black\" stroke=\"black\" points=\"294.12,-121.64 283.8,-119.25 290.37,-127.55 294.12,-121.64\"/>\n",
       "<text text-anchor=\"middle\" x=\"335.2\" y=\"-144.8\" font-family=\"Times-Roman\" font-size=\"14.00\">nan</text>\n",
       "</g>\n",
       "<!-- _L0_N0&#45;&gt;_L1_N3 -->\n",
       "<g id=\"edge8\" class=\"edge\">\n",
       "<title>_L0_N0&#45;&gt;_L1_N3</title>\n",
       "<path fill=\"none\" stroke=\"black\" d=\"M295.95,-181.99C275.27,-176.16 249.5,-167.5 228.2,-156 218.73,-150.89 218.06,-147.09 209.2,-141 201.27,-135.55 192.47,-130.06 184.13,-125.09\"/>\n",
       "<polygon fill=\"black\" stroke=\"black\" points=\"185.74,-121.97 175.34,-119.93 182.19,-128.01 185.74,-121.97\"/>\n",
       "<text text-anchor=\"middle\" x=\"242.2\" y=\"-144.8\" font-family=\"Times-Roman\" font-size=\"14.00\">nan</text>\n",
       "</g>\n",
       "<!-- _L0_N0&#45;&gt;_L1_N4 -->\n",
       "<g id=\"edge10\" class=\"edge\">\n",
       "<title>_L0_N0&#45;&gt;_L1_N4</title>\n",
       "<path fill=\"none\" stroke=\"black\" d=\"M375.74,-186.79C399.27,-182.46 427.62,-173.71 447.2,-156 454.02,-149.82 458.69,-141.08 461.87,-132.62\"/>\n",
       "<polygon fill=\"black\" stroke=\"black\" points=\"465.23,-133.59 464.94,-123 458.56,-131.46 465.23,-133.59\"/>\n",
       "<text text-anchor=\"middle\" x=\"471.2\" y=\"-144.8\" font-family=\"Times-Roman\" font-size=\"14.00\">nan</text>\n",
       "</g>\n",
       "<!-- _L1_N1&#45;&gt;_L2_N0 -->\n",
       "<g id=\"edge13\" class=\"edge\">\n",
       "<title>_L1_N1&#45;&gt;_L2_N0</title>\n",
       "<path fill=\"none\" stroke=\"black\" d=\"M76.06,-92.39C105.14,-81.94 149.36,-66.35 188.2,-54 213.07,-46.09 241.04,-37.95 263.83,-31.51\"/>\n",
       "<polygon fill=\"black\" stroke=\"black\" points=\"264.89,-34.85 273.57,-28.77 263,-28.11 264.89,-34.85\"/>\n",
       "<text text-anchor=\"middle\" x=\"202.2\" y=\"-57.8\" font-family=\"Times-Roman\" font-size=\"14.00\">nan</text>\n",
       "</g>\n",
       "<!-- _L1_N2&#45;&gt;_L2_N0 -->\n",
       "<g id=\"edge14\" class=\"edge\">\n",
       "<title>_L1_N2&#45;&gt;_L2_N0</title>\n",
       "<path fill=\"none\" stroke=\"black\" d=\"M266.67,-87.21C274.29,-74.98 284.75,-58.21 293.38,-44.36\"/>\n",
       "<polygon fill=\"black\" stroke=\"black\" points=\"296.43,-46.1 298.75,-35.76 290.49,-42.39 296.43,-46.1\"/>\n",
       "<text text-anchor=\"middle\" x=\"300.2\" y=\"-57.8\" font-family=\"Times-Roman\" font-size=\"14.00\">nan</text>\n",
       "</g>\n",
       "<!-- _L1_N3&#45;&gt;_L2_N0 -->\n",
       "<g id=\"edge15\" class=\"edge\">\n",
       "<title>_L1_N3&#45;&gt;_L2_N0</title>\n",
       "<path fill=\"none\" stroke=\"black\" d=\"M176.1,-90.15C202.86,-75.85 244.78,-53.44 274.42,-37.59\"/>\n",
       "<polygon fill=\"black\" stroke=\"black\" points=\"276.4,-40.5 283.57,-32.7 273.1,-34.33 276.4,-40.5\"/>\n",
       "<text text-anchor=\"middle\" x=\"254.2\" y=\"-57.8\" font-family=\"Times-Roman\" font-size=\"14.00\">nan</text>\n",
       "</g>\n",
       "<!-- _L1_N4&#45;&gt;_L2_N0 -->\n",
       "<g id=\"edge16\" class=\"edge\">\n",
       "<title>_L1_N4&#45;&gt;_L2_N0</title>\n",
       "<path fill=\"none\" stroke=\"black\" d=\"M442.3,-90.15C415.54,-75.85 373.61,-53.44 343.98,-37.59\"/>\n",
       "<polygon fill=\"black\" stroke=\"black\" points=\"345.29,-34.33 334.82,-32.7 341.99,-40.5 345.29,-34.33\"/>\n",
       "<text text-anchor=\"middle\" x=\"412.2\" y=\"-57.8\" font-family=\"Times-Roman\" font-size=\"14.00\">nan</text>\n",
       "</g>\n",
       "<!-- _L1_Bias -->\n",
       "<g id=\"node8\" class=\"node\">\n",
       "<title>_L1_Bias</title>\n",
       "<ellipse fill=\"none\" stroke=\"black\" cx=\"582.2\" cy=\"-105\" rx=\"51.19\" ry=\"18\"/>\n",
       "<text text-anchor=\"middle\" x=\"582.2\" y=\"-101.3\" font-family=\"Times-Roman\" font-size=\"14.00\">_L1_Bias</text>\n",
       "</g>\n",
       "<!-- _L1_Bias&#45;&gt;_L2_N0 -->\n",
       "<g id=\"edge11\" class=\"edge\">\n",
       "<title>_L1_Bias&#45;&gt;_L2_N0</title>\n",
       "<path fill=\"none\" stroke=\"black\" d=\"M546.69,-91.92C515.96,-81.55 470.27,-66.38 430.2,-54 405.17,-46.27 377.08,-38.11 354.26,-31.62\"/>\n",
       "<polygon fill=\"black\" stroke=\"black\" points=\"355.08,-28.21 344.51,-28.85 353.17,-34.95 355.08,-28.21\"/>\n",
       "<text text-anchor=\"middle\" x=\"490.2\" y=\"-57.8\" font-family=\"Times-Roman\" font-size=\"14.00\">nan</text>\n",
       "</g>\n",
       "</g>\n",
       "</svg>\n"
      ],
      "text/plain": [
       "<graphviz.dot.Digraph at 0x7f444f9ea7c0>"
      ]
     },
     "execution_count": 73,
     "metadata": {},
     "output_type": "execute_result"
    }
   ],
   "source": [
    "mlp.draw()"
   ]
  },
  {
   "cell_type": "markdown",
   "metadata": {},
   "source": [
    "##### Wynik na zbiorze treningowym"
   ]
  },
  {
   "cell_type": "code",
   "execution_count": 25,
   "metadata": {
    "collapsed": false
   },
   "outputs": [
    {
     "data": {
      "text/plain": [
       "8.534895752851826"
      ]
     },
     "execution_count": 25,
     "metadata": {},
     "output_type": "execute_result"
    }
   ],
   "source": [
    "metrics.mean_absolute_error(train_df['y'], y_pred)"
   ]
  },
  {
   "cell_type": "markdown",
   "metadata": {
    "collapsed": true
   },
   "source": [
    "##### Wynik na zbiorze testowym"
   ]
  },
  {
   "cell_type": "code",
   "execution_count": 74,
   "metadata": {
    "collapsed": false
   },
   "outputs": [
    {
     "data": {
      "text/plain": [
       "79.42465322775806"
      ]
     },
     "execution_count": 74,
     "metadata": {},
     "output_type": "execute_result"
    }
   ],
   "source": [
    "y_pred = mlp.forward(np.expand_dims(test_df['x'], 1))\n",
    "y_pred = np.squeeze(y_pred)\n",
    "metrics.mean_absolute_error(test_df['y'], y_pred)"
   ]
  },
  {
   "cell_type": "markdown",
   "metadata": {},
   "source": [
    "# Zbiór steps-large"
   ]
  },
  {
   "cell_type": "code",
   "execution_count": 139,
   "metadata": {
    "collapsed": true
   },
   "outputs": [],
   "source": [
    "train_df = pd.read_csv('./mio1/regression/steps-large-training.csv', index_col=0)\n",
    "test_df = pd.read_csv('./mio1/regression/steps-large-test.csv', index_col=0)"
   ]
  },
  {
   "cell_type": "code",
   "execution_count": 197,
   "metadata": {
    "collapsed": false
   },
   "outputs": [
    {
     "name": "stderr",
     "output_type": "stream",
     "text": [
      "<ipython-input-194-be10bf3c3b29>:63: RuntimeWarning: overflow encountered in double_scalars\n",
      "  self.output = math.e ** x / (1 + math.e ** x)\n",
      "<ipython-input-194-be10bf3c3b29>:63: RuntimeWarning: invalid value encountered in double_scalars\n",
      "  self.output = math.e ** x / (1 + math.e ** x)\n"
     ]
    },
    {
     "data": {
      "text/plain": [
       "<matplotlib.collections.PathCollection at 0x7f444c49d520>"
      ]
     },
     "execution_count": 197,
     "metadata": {},
     "output_type": "execute_result"
    },
    {
     "data": {
      "image/png": "[encoded data removed]",
      "text/plain": [
       "<Figure size 432x288 with 1 Axes>"
      ]
     },
     "metadata": {
      "needs_background": "light"
     },
     "output_type": "display_data"
    }
   ],
   "source": [
    "np.random.seed(0)\n",
    "mlp = Network([\"sigmoid\", \"linear\"], [1,10,1])\n",
    "mlp.train_network(np.expand_dims(train_df['x'], 1), np.expand_dims(train_df['y'], 1), n_epoch=10, l_rate=1e-3)\n",
    "\n",
    "y_pred = mlp.predict(np.expand_dims(train_df['x'], 1))\n",
    "y_pred = np.squeeze(y_pred)\n",
    "plt.scatter(train_df['x'], train_df['y'], color='green')\n",
    "plt.scatter(train_df['x'], y_pred, color='red')"
   ]
  },
  {
   "cell_type": "markdown",
   "metadata": {},
   "source": [
    "### Jedna warstwa ukryta, 10 neuronów"
   ]
  },
  {
   "cell_type": "code",
   "execution_count": 76,
   "metadata": {
    "collapsed": false
   },
   "outputs": [
    {
     "data": {
      "text/plain": [
       "<matplotlib.collections.PathCollection at 0x7f465c5f4370>"
      ]
     },
     "execution_count": 76,
     "metadata": {},
     "output_type": "execute_result"
    },
    {
     "data": {
      "image/png": "[encoded data removed]",
      "text/plain": [
       "<Figure size 432x288 with 1 Axes>"
      ]
     },
     "metadata": {
      "needs_background": "light"
     },
     "output_type": "display_data"
    }
   ],
   "source": [
    "mlp = Network([\"sigmoid\", \"linear\"], [1, 10, 1], [\n",
    "    [\n",
    "        [-8, 10],\n",
    "        [-15, 10],\n",
    "        [8, 10],\n",
    "        [1, 1],\n",
    "        [1, 1],\n",
    "        [1, 1],\n",
    "        [1, 1],\n",
    "        [1, 1],\n",
    "        [1, 1],\n",
    "        [1, 1]\n",
    "    ],\n",
    "    [\n",
    "        [-75, 75, 75, 75, 0, 0, 0, 0, 0, 0, 0]\n",
    "    ]])\n",
    "y_pred = mlp.forward(np.expand_dims(train_df['x'], 1))\n",
    "y_pred = np.squeeze(y_pred)\n",
    "plt.scatter(train_df['x'], train_df['y'], color='green')\n",
    "plt.scatter(train_df['x'], y_pred, color='red')"
   ]
  },
  {
   "cell_type": "markdown",
   "metadata": {},
   "source": [
    "##### Wynik na zbiorze treningowym"
   ]
  },
  {
   "cell_type": "code",
   "execution_count": 77,
   "metadata": {
    "collapsed": false
   },
   "outputs": [
    {
     "data": {
      "text/plain": [
       "19.285010695832717"
      ]
     },
     "execution_count": 77,
     "metadata": {},
     "output_type": "execute_result"
    }
   ],
   "source": [
    "metrics.mean_absolute_error(train_df['y'], y_pred)"
   ]
  },
  {
   "cell_type": "markdown",
   "metadata": {},
   "source": [
    "##### Wynik na zbiorze testowym"
   ]
  },
  {
   "cell_type": "code",
   "execution_count": 78,
   "metadata": {
    "collapsed": false
   },
   "outputs": [
    {
     "data": {
      "text/plain": [
       "19.104502371942342"
      ]
     },
     "execution_count": 78,
     "metadata": {},
     "output_type": "execute_result"
    }
   ],
   "source": [
    "y_pred = mlp.forward(np.expand_dims(test_df['x'], 1))\n",
    "y_pred = np.squeeze(y_pred)\n",
    "metrics.mean_absolute_error(test_df['y'], y_pred)"
   ]
  },
  {
   "cell_type": "markdown",
   "metadata": {},
   "source": [
    "### Dwie warstwy ukryte, po 5 neuronów każda"
   ]
  },
  {
   "cell_type": "code",
   "execution_count": 79,
   "metadata": {
    "collapsed": true
   },
   "outputs": [],
   "source": [
    "mlp = Network([\"sigmoid\", \"sigmoid\", \"linear\"], [1, 5, 5, 1], [\n",
    "    [\n",
    "        [1, 1],\n",
    "        [1, 1],\n",
    "        [1, 1],\n",
    "        [1, 1],\n",
    "        [1, 1]\n",
    "    ],\n",
    "    [\n",
    "        [1, 1],\n",
    "        [1, 1],\n",
    "        [1, 1],\n",
    "        [1, 1],\n",
    "        [1, 1]\n",
    "    ],\n",
    "    [\n",
    "        [-75, 75, 75, 75, 0, 0]\n",
    "    ]])"
   ]
  },
  {
   "cell_type": "code",
   "execution_count": 43,
   "metadata": {
    "collapsed": false
   },
   "outputs": [
    {
     "ename": "TypeError",
     "evalue": "'int' object is not iterable",
     "output_type": "error",
     "traceback": [
      "\u001b[0;31m---------------------------------------------------------------------------\u001b[0m",
      "\u001b[0;31mTypeError\u001b[0m                                 Traceback (most recent call last)",
      "\u001b[0;32m<ipython-input-43-0c7f5cd48ec1>\u001b[0m in \u001b[0;36m<module>\u001b[0;34m\u001b[0m\n\u001b[0;32m----> 1\u001b[0;31m \u001b[0mlist\u001b[0m\u001b[0;34m(\u001b[0m\u001b[0;36m5\u001b[0m\u001b[0;34m)\u001b[0m\u001b[0;34m\u001b[0m\u001b[0;34m\u001b[0m\u001b[0m\n\u001b[0m",
      "\u001b[0;31mTypeError\u001b[0m: 'int' object is not iterable"
     ]
    }
   ],
   "source": [
    "list(5)"
   ]
  },
  {
   "cell_type": "code",
   "execution_count": 153,
   "metadata": {
    "collapsed": false
   },
   "outputs": [
    {
     "name": "stdout",
     "output_type": "stream",
     "text": [
      "[[0.  ]\n",
      " [0.25]\n",
      " [0.75]\n",
      " [1.  ]]\n",
      "[[0.725]\n",
      " [1.25 ]]\n"
     ]
    }
   ],
   "source": [
    "s = MinMaxScaler()\n",
    "a = [[1],[2],[4],[5]]\n",
    "print(s.fit_transform(a))\n",
    "print(s.transform([[3.9],[6.0]]))"
   ]
  },
  {
   "cell_type": "code",
   "execution_count": 103,
   "metadata": {
    "collapsed": false
   },
   "outputs": [
    {
     "data": {
      "text/plain": [
       "1.9398601927096"
      ]
     },
     "execution_count": 103,
     "metadata": {},
     "output_type": "execute_result"
    }
   ],
   "source": [
    "max(train_df['x'])"
   ]
  },
  {
   "cell_type": "code",
   "execution_count": null,
   "metadata": {
    "collapsed": true
   },
   "outputs": [],
   "source": []
  }
 ],
 "metadata": {
  "kernelspec": {
   "display_name": "Python 3",
   "language": "python",
   "name": "python3"
  },
  "language_info": {
   "codemirror_mode": {
    "name": "ipython",
    "version": 3
   },
   "file_extension": ".py",
   "mimetype": "text/x-python",
   "name": "python",
   "nbconvert_exporter": "python",
   "pygments_lexer": "ipython3",
   "version": "3.8.5"
  }
 },
 "nbformat": 4,
 "nbformat_minor": 4
}
