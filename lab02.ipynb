{
 "cells": [
  {
   "cell_type": "code",
   "execution_count": 17,
   "metadata": {
    "collapsed": true
   },
   "outputs": [],
   "source": [
    "import numpy as np\n",
    "import pandas as pd\n",
    "import seaborn as sns\n",
    "import math\n",
    "from matplotlib import pyplot as plt\n",
    "from sklearn import metrics"
   ]
  },
  {
   "cell_type": "markdown",
   "metadata": {},
   "source": [
    "## Implementacja neuronu"
   ]
  },
  {
   "cell_type": "code",
   "execution_count": 18,
   "metadata": {
    "collapsed": false
   },
   "outputs": [
    {
     "name": "stdout",
     "output_type": "stream",
     "text": [
      "LinearNeuron([1, 2, 3])\n",
      "SigmoidNeuron([1, 2])\n"
     ]
    }
   ],
   "source": [
    "from abc import ABC, abstractmethod\n",
    "import logging\n",
    "\n",
    "class Neuron(ABC):\n",
    "    def __init__(self, weights: list) -> None:\n",
    "        self.weights = weights\n",
    "        if len(weights) < 2:\n",
    "            logging.warning(\"Less than 2 weights. Are you sure?\")\n",
    "    \n",
    "    def __repr__(self) -> str:\n",
    "        return self.name() + \"(\" + str(self.weights) + \")\"\n",
    "            \n",
    "    @abstractmethod\n",
    "    def evaluate(self, input: list) -> float:\n",
    "        pass\n",
    "    \n",
    "    @abstractmethod\n",
    "    def name(self) -> str:\n",
    "        pass\n",
    "    \n",
    "    def add_one(l: list) -> list:\n",
    "        tmp = [1]\n",
    "        tmp.extend(l)\n",
    "        return tmp\n",
    "    \n",
    "    def dot(a: list, b: list) -> float:\n",
    "        tmp = min(len(a), len(b))\n",
    "        return np.dot(a[:tmp], b[:tmp])\n",
    "\n",
    "    \n",
    "# pierwsza waga to waga biasu\n",
    "class LinearNeuron(Neuron):\n",
    "    def evaluate(self, input: list) -> float:\n",
    "        return Neuron.dot(self.weights, Neuron.add_one(input))\n",
    "    \n",
    "    def name(self) -> str:\n",
    "        return \"LinearNeuron\"\n",
    "        \n",
    "\n",
    "class SigmoidNeuron(Neuron):\n",
    "    def evaluate(self, input: list) -> float:\n",
    "        x = Neuron.dot(self.weights, Neuron.add_one(input))\n",
    "        return math.e ** x / (1 + math.e ** x)\n",
    "    \n",
    "    def name(self) -> str:\n",
    "        return \"SigmoidNeuron\"\n",
    "\n",
    "# tests\n",
    "\n",
    "assert Neuron.dot([2,3], [5]) == 10\n",
    "assert Neuron.dot([2,3], [4,5,6]) == 23\n",
    "\n",
    "linearneuron = LinearNeuron([1,2,3])\n",
    "assert linearneuron.evaluate([1,2,3]) == 9\n",
    "assert linearneuron.evaluate([2,3]) == 14\n",
    "\n",
    "sigmoidneuron = SigmoidNeuron([1, 2])\n",
    "assert sigmoidneuron.evaluate([1]) == math.e ** 3 / (1 + math.e ** 3)\n",
    "print(linearneuron)\n",
    "print(sigmoidneuron)"
   ]
  },
  {
   "cell_type": "markdown",
   "metadata": {},
   "source": [
    "## Implementacja warstwy"
   ]
  },
  {
   "cell_type": "code",
   "execution_count": 19,
   "metadata": {
    "collapsed": false
   },
   "outputs": [
    {
     "name": "stdout",
     "output_type": "stream",
     "text": [
      "Layer([LinearNeuron([1, 2]), LinearNeuron([2, 3])])\n"
     ]
    }
   ],
   "source": [
    "class Layer(ABC):\n",
    "    def __init__(self) -> None:\n",
    "        self.neurons = []\n",
    "    \n",
    "    @abstractmethod\n",
    "    def __init__(self, num: int, weights: list) -> None:\n",
    "        pass\n",
    "        \n",
    "    def addNeuron(self, neuron: Neuron) -> None:\n",
    "        self.neurons.append(neuron)\n",
    "        \n",
    "    def evaluate(self, input: list) -> list:\n",
    "        return [neuron.evaluate(input) for neuron in self.neurons]\n",
    "    \n",
    "    def __repr__(self) -> str:\n",
    "        return \"Layer(\" + str(self.neurons) + \")\"\n",
    "    \n",
    "\n",
    "class LinearLayer(Layer):\n",
    "    def __init__(self, num: int, weights: list) -> None:\n",
    "        assert len(weights) == num, \"Invalid matrix dimension\"\n",
    "        self.neurons = [LinearNeuron(w) for w in weights]\n",
    "    \n",
    "class SigmoidLayer(Layer):\n",
    "    def __init__(self, num: int, weights: list) -> None:\n",
    "        assert len(weights) == num, \"Invalid matrix dimension\"\n",
    "        self.neurons = [SigmoidNeuron(w) for w in weights]\n",
    "\n",
    "# tests\n",
    "layer1 = LinearLayer(1, [[1, 2]])\n",
    "assert layer1.evaluate([5]) == [11]\n",
    "layer1.addNeuron(LinearNeuron([2, 3]))\n",
    "assert layer1.evaluate([5]) == [11, 17]\n",
    "\n",
    "layer2 = LinearLayer(2, [[1,2], [2, 3]])\n",
    "assert layer2.evaluate([5]) == [11, 17]\n",
    "print(layer2)"
   ]
  },
  {
   "cell_type": "markdown",
   "metadata": {},
   "source": [
    "## Implementacja sieci"
   ]
  },
  {
   "cell_type": "code",
   "execution_count": 23,
   "metadata": {
    "collapsed": false
   },
   "outputs": [
    {
     "data": {
      "image/svg+xml": [
       "<?xml version=\"1.0\" encoding=\"UTF-8\" standalone=\"no\"?>\n",
       "<!DOCTYPE svg PUBLIC \"-//W3C//DTD SVG 1.1//EN\"\n",
       " \"http://www.w3.org/Graphics/SVG/1.1/DTD/svg11.dtd\">\n",
       "<!-- Generated by graphviz version 2.46.1 (20210222.2046)\n",
       " -->\n",
       "<!-- Title: neural network Pages: 1 -->\n",
       "<svg width=\"218pt\" height=\"131pt\"\n",
       " viewBox=\"0.00 0.00 217.54 131.00\" xmlns=\"http://www.w3.org/2000/svg\" xmlns:xlink=\"http://www.w3.org/1999/xlink\">\n",
       "<g id=\"graph0\" class=\"graph\" transform=\"scale(1 1) rotate(0) translate(4 127)\">\n",
       "<title>neural network</title>\n",
       "<polygon fill=\"white\" stroke=\"transparent\" points=\"-4,4 -4,-127 213.54,-127 213.54,4 -4,4\"/>\n",
       "<!-- _L0_Bias -->\n",
       "<g id=\"node1\" class=\"node\">\n",
       "<title>_L0_Bias</title>\n",
       "<ellipse fill=\"none\" stroke=\"black\" cx=\"51.35\" cy=\"-105\" rx=\"51.19\" ry=\"18\"/>\n",
       "<text text-anchor=\"middle\" x=\"51.35\" y=\"-101.3\" font-family=\"Times-Roman\" font-size=\"14.00\">_L0_Bias</text>\n",
       "</g>\n",
       "<!-- _L1_N0 -->\n",
       "<g id=\"node2\" class=\"node\">\n",
       "<title>_L1_N0</title>\n",
       "<ellipse fill=\"none\" stroke=\"black\" cx=\"57.35\" cy=\"-18\" rx=\"44.39\" ry=\"18\"/>\n",
       "<text text-anchor=\"middle\" x=\"57.35\" y=\"-14.3\" font-family=\"Times-Roman\" font-size=\"14.00\">_L1_N0</text>\n",
       "</g>\n",
       "<!-- _L0_Bias&#45;&gt;_L1_N0 -->\n",
       "<g id=\"edge1\" class=\"edge\">\n",
       "<title>_L0_Bias&#45;&gt;_L1_N0</title>\n",
       "<path fill=\"none\" stroke=\"black\" d=\"M52.56,-86.8C53.38,-75.16 54.48,-59.55 55.42,-46.24\"/>\n",
       "<polygon fill=\"black\" stroke=\"black\" points=\"58.92,-46.4 56.13,-36.18 51.94,-45.9 58.92,-46.4\"/>\n",
       "<text text-anchor=\"middle\" x=\"60.35\" y=\"-57.8\" font-family=\"Times-Roman\" font-size=\"14.00\">1</text>\n",
       "</g>\n",
       "<!-- _L1_N1 -->\n",
       "<g id=\"node4\" class=\"node\">\n",
       "<title>_L1_N1</title>\n",
       "<ellipse fill=\"none\" stroke=\"black\" cx=\"164.35\" cy=\"-18\" rx=\"44.39\" ry=\"18\"/>\n",
       "<text text-anchor=\"middle\" x=\"164.35\" y=\"-14.3\" font-family=\"Times-Roman\" font-size=\"14.00\">_L1_N1</text>\n",
       "</g>\n",
       "<!-- _L0_Bias&#45;&gt;_L1_N1 -->\n",
       "<g id=\"edge3\" class=\"edge\">\n",
       "<title>_L0_Bias&#45;&gt;_L1_N1</title>\n",
       "<path fill=\"none\" stroke=\"black\" d=\"M61.63,-87.04C68.68,-76.49 78.83,-63.22 90.35,-54 99.97,-46.3 111.56,-39.8 122.69,-34.57\"/>\n",
       "<polygon fill=\"black\" stroke=\"black\" points=\"124.16,-37.74 131.87,-30.48 121.31,-31.35 124.16,-37.74\"/>\n",
       "<text text-anchor=\"middle\" x=\"95.35\" y=\"-57.8\" font-family=\"Times-Roman\" font-size=\"14.00\">2</text>\n",
       "</g>\n",
       "<!-- _L0_N0 -->\n",
       "<g id=\"node3\" class=\"node\">\n",
       "<title>_L0_N0</title>\n",
       "<ellipse fill=\"none\" stroke=\"black\" cx=\"165.35\" cy=\"-105\" rx=\"44.39\" ry=\"18\"/>\n",
       "<text text-anchor=\"middle\" x=\"165.35\" y=\"-101.3\" font-family=\"Times-Roman\" font-size=\"14.00\">_L0_N0</text>\n",
       "</g>\n",
       "<!-- _L0_N0&#45;&gt;_L1_N0 -->\n",
       "<g id=\"edge2\" class=\"edge\">\n",
       "<title>_L0_N0&#45;&gt;_L1_N0</title>\n",
       "<path fill=\"none\" stroke=\"black\" d=\"M146.84,-88.45C134.84,-78.47 118.8,-65.3 104.35,-54 98.5,-49.43 92.18,-44.63 86.12,-40.1\"/>\n",
       "<polygon fill=\"black\" stroke=\"black\" points=\"88.21,-37.29 78.09,-34.13 84.03,-42.9 88.21,-37.29\"/>\n",
       "<text text-anchor=\"middle\" x=\"128.35\" y=\"-57.8\" font-family=\"Times-Roman\" font-size=\"14.00\">2</text>\n",
       "</g>\n",
       "<!-- _L0_N0&#45;&gt;_L1_N1 -->\n",
       "<g id=\"edge4\" class=\"edge\">\n",
       "<title>_L0_N0&#45;&gt;_L1_N1</title>\n",
       "<path fill=\"none\" stroke=\"black\" d=\"M165.14,-86.8C165.01,-75.16 164.82,-59.55 164.67,-46.24\"/>\n",
       "<polygon fill=\"black\" stroke=\"black\" points=\"168.17,-46.13 164.55,-36.18 161.17,-46.22 168.17,-46.13\"/>\n",
       "<text text-anchor=\"middle\" x=\"169.35\" y=\"-57.8\" font-family=\"Times-Roman\" font-size=\"14.00\">3</text>\n",
       "</g>\n",
       "</g>\n",
       "</svg>\n"
      ],
      "text/plain": [
       "<graphviz.dot.Digraph at 0x7f462e54f520>"
      ]
     },
     "execution_count": 23,
     "metadata": {},
     "output_type": "execute_result"
    }
   ],
   "source": [
    "class Network:\n",
    "    def __init__(self) -> None:\n",
    "        self.layers = []\n",
    "    \n",
    "    def __repr__(self) -> str:\n",
    "        return \"Network(\" + str(self.layers) + \")\"\n",
    "    \n",
    "    def __init__(self, layer_types: list, weights: list) -> None:\n",
    "        assert len(layer_types) == len(weights), \"Invalid matrix dimension\"\n",
    "        self.layers = []\n",
    "        for i in range(len(weights)):\n",
    "            if layer_types[i] == \"sigmoid\":\n",
    "                self.addLayerBack(SigmoidLayer(len(weights[i]), weights[i]))\n",
    "            elif layer_types[i] == \"linear\":\n",
    "                self.addLayerBack(LinearLayer(len(weights[i]), weights[i]))\n",
    "            else:\n",
    "                logging.error(\"Invalid layer type\")\n",
    "        \n",
    "    def addLayerBack(self, layer: Layer) -> None:\n",
    "        self.layers.append(layer)\n",
    "    \n",
    "    def forward(self, x: list) -> list:\n",
    "        input = x\n",
    "        for layer in self.layers:\n",
    "            out = []\n",
    "            for val in input:\n",
    "                tmp = layer.evaluate(val)\n",
    "                out.append(tmp)\n",
    "            input = out\n",
    "        return input\n",
    "    \n",
    "    def draw(self, prefix='') -> None:\n",
    "        from graphviz import Digraph\n",
    "        g = Digraph(format='svg', name=prefix + \"neural network\")\n",
    "        for idx, layer in enumerate(self.layers):\n",
    "            current_id = idx + 1\n",
    "            # create bias neuron\n",
    "            bias_name = '%s_L%s_Bias' % (prefix, idx)\n",
    "            g.node(bias_name)\n",
    "            for n_i, neuron in enumerate(layer.neurons):\n",
    "                # create dot for neuron\n",
    "                neuron_name = '%s_L%s_N%s' % (prefix, current_id, n_i)\n",
    "                g.node(neuron_name)\n",
    "                # create dots and edges for parents\n",
    "                for w_i, weight in enumerate(neuron.weights):\n",
    "                    if w_i == 0:\n",
    "                        g.edge(bias_name, neuron_name, label=str(weight))\n",
    "                    else:\n",
    "                        p_name = '%s_L%s_N%s' % (prefix, idx, w_i - 1)\n",
    "                        g.node(p_name)\n",
    "                        g.edge(p_name, neuron_name, label=str(weight))\n",
    "        return g\n",
    "            \n",
    "\n",
    "# tests\n",
    "network = Network([\"linear\"], [[[1,2,3]]])\n",
    "assert network.forward([[2,3]]) == [[14]]\n",
    "\n",
    "network2 = Network([\"linear\"], [\n",
    "        [[1,2], [2, 3]]\n",
    "])\n",
    "assert network2.forward([[5]]) == [[11, 17]]\n",
    "network2.draw()"
   ]
  },
  {
   "cell_type": "markdown",
   "metadata": {},
   "source": [
    "# Zbiór square-simple"
   ]
  },
  {
   "cell_type": "code",
   "execution_count": 25,
   "metadata": {
    "collapsed": true
   },
   "outputs": [],
   "source": [
    "train_df = pd.read_csv('./mio1/regression/square-simple-training.csv', index_col=0)\n",
    "test_df = pd.read_csv('./mio1/regression/square-simple-test.csv', index_col=0)"
   ]
  },
  {
   "cell_type": "markdown",
   "metadata": {},
   "source": [
    "### jedna warstwa ukryta, 5 neuronów"
   ]
  },
  {
   "cell_type": "code",
   "execution_count": 26,
   "metadata": {
    "collapsed": false
   },
   "outputs": [
    {
     "data": {
      "text/plain": [
       "<matplotlib.collections.PathCollection at 0x7f462e49ca00>"
      ]
     },
     "execution_count": 26,
     "metadata": {},
     "output_type": "execute_result"
    },
    {
     "data": {
      "image/png": "[encoded data removed]",
      "text/plain": [
       "<Figure size 432x288 with 1 Axes>"
      ]
     },
     "metadata": {
      "needs_background": "light"
     },
     "output_type": "display_data"
    }
   ],
   "source": [
    "mlp = Network([\"sigmoid\", \"linear\"], [\n",
    "    [\n",
    "        [5, 1],\n",
    "        [1, 1],\n",
    "        [1, 1],\n",
    "        [1, 1],\n",
    "        [-5, 1]\n",
    "    ],\n",
    "    [\n",
    "        [9750,-10000,0,0,0,10000]\n",
    "    ]])\n",
    "y_pred = mlp.forward(np.expand_dims(train_df['x'], 1))\n",
    "y_pred = np.squeeze(y_pred)\n",
    "plt.scatter(train_df['x'], train_df['y'], color='green')\n",
    "plt.scatter(train_df['x'], y_pred, color='red')"
   ]
  },
  {
   "cell_type": "code",
   "execution_count": 32,
   "metadata": {
    "collapsed": false
   },
   "outputs": [
    {
     "data": {
      "image/svg+xml": [
       "<?xml version=\"1.0\" encoding=\"UTF-8\" standalone=\"no\"?>\n",
       "<!DOCTYPE svg PUBLIC \"-//W3C//DTD SVG 1.1//EN\"\n",
       " \"http://www.w3.org/Graphics/SVG/1.1/DTD/svg11.dtd\">\n",
       "<!-- Generated by graphviz version 2.46.1 (20210222.2046)\n",
       " -->\n",
       "<!-- Title: neural network Pages: 1 -->\n",
       "<svg width=\"740pt\" height=\"218pt\"\n",
       " viewBox=\"0.00 0.00 740.49 218.00\" xmlns=\"http://www.w3.org/2000/svg\" xmlns:xlink=\"http://www.w3.org/1999/xlink\">\n",
       "<g id=\"graph0\" class=\"graph\" transform=\"scale(1 1) rotate(0) translate(4 214)\">\n",
       "<title>neural network</title>\n",
       "<polygon fill=\"white\" stroke=\"transparent\" points=\"-4,4 -4,-214 736.49,-214 736.49,4 -4,4\"/>\n",
       "<!-- _L0_Bias -->\n",
       "<g id=\"node1\" class=\"node\">\n",
       "<title>_L0_Bias</title>\n",
       "<ellipse fill=\"none\" stroke=\"black\" cx=\"196.2\" cy=\"-192\" rx=\"51.19\" ry=\"18\"/>\n",
       "<text text-anchor=\"middle\" x=\"196.2\" y=\"-188.3\" font-family=\"Times-Roman\" font-size=\"14.00\">_L0_Bias</text>\n",
       "</g>\n",
       "<!-- _L1_N0 -->\n",
       "<g id=\"node2\" class=\"node\">\n",
       "<title>_L1_N0</title>\n",
       "<ellipse fill=\"none\" stroke=\"black\" cx=\"362.2\" cy=\"-105\" rx=\"44.39\" ry=\"18\"/>\n",
       "<text text-anchor=\"middle\" x=\"362.2\" y=\"-101.3\" font-family=\"Times-Roman\" font-size=\"14.00\">_L1_N0</text>\n",
       "</g>\n",
       "<!-- _L0_Bias&#45;&gt;_L1_N0 -->\n",
       "<g id=\"edge1\" class=\"edge\">\n",
       "<title>_L0_Bias&#45;&gt;_L1_N0</title>\n",
       "<path fill=\"none\" stroke=\"black\" d=\"M219,-175.7C228.09,-169.58 238.65,-162.47 248.2,-156 257.99,-149.36 259.7,-146.48 270.2,-141 285.5,-133.01 303.06,-125.88 318.7,-120.17\"/>\n",
       "<polygon fill=\"black\" stroke=\"black\" points=\"319.91,-123.45 328.16,-116.8 317.56,-116.86 319.91,-123.45\"/>\n",
       "<text text-anchor=\"middle\" x=\"275.2\" y=\"-144.8\" font-family=\"Times-Roman\" font-size=\"14.00\">5</text>\n",
       "</g>\n",
       "<!-- _L1_N1 -->\n",
       "<g id=\"node4\" class=\"node\">\n",
       "<title>_L1_N1</title>\n",
       "<ellipse fill=\"none\" stroke=\"black\" cx=\"44.2\" cy=\"-105\" rx=\"44.39\" ry=\"18\"/>\n",
       "<text text-anchor=\"middle\" x=\"44.2\" y=\"-101.3\" font-family=\"Times-Roman\" font-size=\"14.00\">_L1_N1</text>\n",
       "</g>\n",
       "<!-- _L0_Bias&#45;&gt;_L1_N1 -->\n",
       "<g id=\"edge3\" class=\"edge\">\n",
       "<title>_L0_Bias&#45;&gt;_L1_N1</title>\n",
       "<path fill=\"none\" stroke=\"black\" d=\"M165.51,-177.56C152.02,-171.38 136.12,-163.71 122.2,-156 105.88,-146.96 88.35,-135.86 74.04,-126.41\"/>\n",
       "<polygon fill=\"black\" stroke=\"black\" points=\"75.86,-123.41 65.59,-120.77 71.97,-129.23 75.86,-123.41\"/>\n",
       "<text text-anchor=\"middle\" x=\"127.2\" y=\"-144.8\" font-family=\"Times-Roman\" font-size=\"14.00\">1</text>\n",
       "</g>\n",
       "<!-- _L1_N2 -->\n",
       "<g id=\"node5\" class=\"node\">\n",
       "<title>_L1_N2</title>\n",
       "<ellipse fill=\"none\" stroke=\"black\" cx=\"256.2\" cy=\"-105\" rx=\"44.39\" ry=\"18\"/>\n",
       "<text text-anchor=\"middle\" x=\"256.2\" y=\"-101.3\" font-family=\"Times-Roman\" font-size=\"14.00\">_L1_N2</text>\n",
       "</g>\n",
       "<!-- _L0_Bias&#45;&gt;_L1_N2 -->\n",
       "<g id=\"edge5\" class=\"edge\">\n",
       "<title>_L0_Bias&#45;&gt;_L1_N2</title>\n",
       "<path fill=\"none\" stroke=\"black\" d=\"M196.07,-173.58C196.75,-163.37 198.97,-150.63 205.2,-141 209.07,-135 214.38,-129.76 220.11,-125.28\"/>\n",
       "<polygon fill=\"black\" stroke=\"black\" points=\"222.51,-127.87 228.69,-119.27 218.49,-122.14 222.51,-127.87\"/>\n",
       "<text text-anchor=\"middle\" x=\"210.2\" y=\"-144.8\" font-family=\"Times-Roman\" font-size=\"14.00\">1</text>\n",
       "</g>\n",
       "<!-- _L1_N3 -->\n",
       "<g id=\"node6\" class=\"node\">\n",
       "<title>_L1_N3</title>\n",
       "<ellipse fill=\"none\" stroke=\"black\" cx=\"150.2\" cy=\"-105\" rx=\"44.39\" ry=\"18\"/>\n",
       "<text text-anchor=\"middle\" x=\"150.2\" y=\"-101.3\" font-family=\"Times-Roman\" font-size=\"14.00\">_L1_N3</text>\n",
       "</g>\n",
       "<!-- _L0_Bias&#45;&gt;_L1_N3 -->\n",
       "<g id=\"edge7\" class=\"edge\">\n",
       "<title>_L0_Bias&#45;&gt;_L1_N3</title>\n",
       "<path fill=\"none\" stroke=\"black\" d=\"M163.01,-178.14C153.63,-172.78 144.53,-165.53 139.2,-156 135.17,-148.8 135.51,-140.25 137.58,-132.27\"/>\n",
       "<polygon fill=\"black\" stroke=\"black\" points=\"140.95,-133.22 140.92,-122.62 134.34,-130.92 140.95,-133.22\"/>\n",
       "<text text-anchor=\"middle\" x=\"144.2\" y=\"-144.8\" font-family=\"Times-Roman\" font-size=\"14.00\">1</text>\n",
       "</g>\n",
       "<!-- _L1_N4 -->\n",
       "<g id=\"node7\" class=\"node\">\n",
       "<title>_L1_N4</title>\n",
       "<ellipse fill=\"none\" stroke=\"black\" cx=\"468.2\" cy=\"-105\" rx=\"44.39\" ry=\"18\"/>\n",
       "<text text-anchor=\"middle\" x=\"468.2\" y=\"-101.3\" font-family=\"Times-Roman\" font-size=\"14.00\">_L1_N4</text>\n",
       "</g>\n",
       "<!-- _L0_Bias&#45;&gt;_L1_N4 -->\n",
       "<g id=\"edge9\" class=\"edge\">\n",
       "<title>_L0_Bias&#45;&gt;_L1_N4</title>\n",
       "<path fill=\"none\" stroke=\"black\" d=\"M235.41,-180.28C256.44,-174.07 282.6,-165.59 305.2,-156 318.19,-150.49 319.95,-145.89 333.2,-141 368.2,-128.07 379.17,-132.71 415.2,-123 418.56,-122.09 422.04,-121.1 425.51,-120.07\"/>\n",
       "<polygon fill=\"black\" stroke=\"black\" points=\"426.72,-123.36 435.26,-117.09 424.67,-116.67 426.72,-123.36\"/>\n",
       "<text text-anchor=\"middle\" x=\"340.7\" y=\"-144.8\" font-family=\"Times-Roman\" font-size=\"14.00\">&#45;5</text>\n",
       "</g>\n",
       "<!-- _L2_N0 -->\n",
       "<g id=\"node9\" class=\"node\">\n",
       "<title>_L2_N0</title>\n",
       "<ellipse fill=\"none\" stroke=\"black\" cx=\"308.2\" cy=\"-18\" rx=\"44.39\" ry=\"18\"/>\n",
       "<text text-anchor=\"middle\" x=\"308.2\" y=\"-14.3\" font-family=\"Times-Roman\" font-size=\"14.00\">_L2_N0</text>\n",
       "</g>\n",
       "<!-- _L1_N0&#45;&gt;_L2_N0 -->\n",
       "<g id=\"edge12\" class=\"edge\">\n",
       "<title>_L1_N0&#45;&gt;_L2_N0</title>\n",
       "<path fill=\"none\" stroke=\"black\" d=\"M351.53,-87.21C343.76,-74.98 333.11,-58.21 324.31,-44.36\"/>\n",
       "<polygon fill=\"black\" stroke=\"black\" points=\"327.16,-42.32 318.84,-35.76 321.25,-46.08 327.16,-42.32\"/>\n",
       "<text text-anchor=\"middle\" x=\"364.7\" y=\"-57.8\" font-family=\"Times-Roman\" font-size=\"14.00\">&#45;10000</text>\n",
       "</g>\n",
       "<!-- _L0_N0 -->\n",
       "<g id=\"node3\" class=\"node\">\n",
       "<title>_L0_N0</title>\n",
       "<ellipse fill=\"none\" stroke=\"black\" cx=\"310.2\" cy=\"-192\" rx=\"44.39\" ry=\"18\"/>\n",
       "<text text-anchor=\"middle\" x=\"310.2\" y=\"-188.3\" font-family=\"Times-Roman\" font-size=\"14.00\">_L0_N0</text>\n",
       "</g>\n",
       "<!-- _L0_N0&#45;&gt;_L1_N0 -->\n",
       "<g id=\"edge2\" class=\"edge\">\n",
       "<title>_L0_N0&#45;&gt;_L1_N0</title>\n",
       "<path fill=\"none\" stroke=\"black\" d=\"M333.45,-176.25C340.47,-170.71 347.54,-163.83 352.2,-156 356.24,-149.2 358.68,-141.05 360.14,-133.33\"/>\n",
       "<polygon fill=\"black\" stroke=\"black\" points=\"363.64,-133.62 361.59,-123.23 356.71,-132.63 363.64,-133.62\"/>\n",
       "<text text-anchor=\"middle\" x=\"363.2\" y=\"-144.8\" font-family=\"Times-Roman\" font-size=\"14.00\">1</text>\n",
       "</g>\n",
       "<!-- _L0_N0&#45;&gt;_L1_N1 -->\n",
       "<g id=\"edge4\" class=\"edge\">\n",
       "<title>_L0_N0&#45;&gt;_L1_N1</title>\n",
       "<path fill=\"none\" stroke=\"black\" d=\"M276.58,-180.09C269.85,-178 262.81,-175.88 256.2,-174 224.88,-165.11 216.08,-166.29 185.2,-156 168.75,-150.52 165.43,-147.08 149.2,-141 137.53,-136.63 110.75,-127.71 87.16,-119.97\"/>\n",
       "<polygon fill=\"black\" stroke=\"black\" points=\"88.23,-116.64 77.64,-116.85 86.05,-123.29 88.23,-116.64\"/>\n",
       "<text text-anchor=\"middle\" x=\"190.2\" y=\"-144.8\" font-family=\"Times-Roman\" font-size=\"14.00\">1</text>\n",
       "</g>\n",
       "<!-- _L0_N0&#45;&gt;_L1_N2 -->\n",
       "<g id=\"edge6\" class=\"edge\">\n",
       "<title>_L0_N0&#45;&gt;_L1_N2</title>\n",
       "<path fill=\"none\" stroke=\"black\" d=\"M300.92,-174.1C295.41,-164.29 288.16,-151.79 281.2,-141 279.03,-137.64 276.67,-134.15 274.3,-130.73\"/>\n",
       "<polygon fill=\"black\" stroke=\"black\" points=\"277.11,-128.65 268.48,-122.51 271.4,-132.7 277.11,-128.65\"/>\n",
       "<text text-anchor=\"middle\" x=\"296.2\" y=\"-144.8\" font-family=\"Times-Roman\" font-size=\"14.00\">1</text>\n",
       "</g>\n",
       "<!-- _L0_N0&#45;&gt;_L1_N3 -->\n",
       "<g id=\"edge8\" class=\"edge\">\n",
       "<title>_L0_N0&#45;&gt;_L1_N3</title>\n",
       "<path fill=\"none\" stroke=\"black\" d=\"M281.74,-178.17C268.32,-171.87 252.23,-163.94 238.2,-156 227.58,-149.99 225.69,-147.23 215.2,-141 205.76,-135.4 195.36,-129.62 185.7,-124.43\"/>\n",
       "<polygon fill=\"black\" stroke=\"black\" points=\"187.2,-121.25 176.73,-119.64 183.9,-127.43 187.2,-121.25\"/>\n",
       "<text text-anchor=\"middle\" x=\"243.2\" y=\"-144.8\" font-family=\"Times-Roman\" font-size=\"14.00\">1</text>\n",
       "</g>\n",
       "<!-- _L0_N0&#45;&gt;_L1_N4 -->\n",
       "<g id=\"edge10\" class=\"edge\">\n",
       "<title>_L0_N0&#45;&gt;_L1_N4</title>\n",
       "<path fill=\"none\" stroke=\"black\" d=\"M335.93,-177.15C362.44,-162.89 403.94,-140.57 433.37,-124.73\"/>\n",
       "<polygon fill=\"black\" stroke=\"black\" points=\"435.32,-127.66 442.47,-119.84 432.01,-121.5 435.32,-127.66\"/>\n",
       "<text text-anchor=\"middle\" x=\"404.2\" y=\"-144.8\" font-family=\"Times-Roman\" font-size=\"14.00\">1</text>\n",
       "</g>\n",
       "<!-- _L1_N1&#45;&gt;_L2_N0 -->\n",
       "<g id=\"edge13\" class=\"edge\">\n",
       "<title>_L1_N1&#45;&gt;_L2_N0</title>\n",
       "<path fill=\"none\" stroke=\"black\" d=\"M77.9,-93.15C125.57,-77.8 212.68,-49.75 265.03,-32.9\"/>\n",
       "<polygon fill=\"black\" stroke=\"black\" points=\"266.25,-36.18 274.69,-29.79 264.1,-29.52 266.25,-36.18\"/>\n",
       "<text text-anchor=\"middle\" x=\"197.2\" y=\"-57.8\" font-family=\"Times-Roman\" font-size=\"14.00\">0</text>\n",
       "</g>\n",
       "<!-- _L1_N2&#45;&gt;_L2_N0 -->\n",
       "<g id=\"edge14\" class=\"edge\">\n",
       "<title>_L1_N2&#45;&gt;_L2_N0</title>\n",
       "<path fill=\"none\" stroke=\"black\" d=\"M266.47,-87.21C273.95,-74.98 284.21,-58.21 292.68,-44.36\"/>\n",
       "<polygon fill=\"black\" stroke=\"black\" points=\"295.71,-46.12 297.94,-35.76 289.74,-42.46 295.71,-46.12\"/>\n",
       "<text text-anchor=\"middle\" x=\"291.2\" y=\"-57.8\" font-family=\"Times-Roman\" font-size=\"14.00\">0</text>\n",
       "</g>\n",
       "<!-- _L1_N3&#45;&gt;_L2_N0 -->\n",
       "<g id=\"edge15\" class=\"edge\">\n",
       "<title>_L1_N3&#45;&gt;_L2_N0</title>\n",
       "<path fill=\"none\" stroke=\"black\" d=\"M175.93,-90.15C202.44,-75.89 243.94,-53.57 273.37,-37.73\"/>\n",
       "<polygon fill=\"black\" stroke=\"black\" points=\"275.32,-40.66 282.47,-32.84 272.01,-34.5 275.32,-40.66\"/>\n",
       "<text text-anchor=\"middle\" x=\"244.2\" y=\"-57.8\" font-family=\"Times-Roman\" font-size=\"14.00\">0</text>\n",
       "</g>\n",
       "<!-- _L1_N4&#45;&gt;_L2_N0 -->\n",
       "<g id=\"edge16\" class=\"edge\">\n",
       "<title>_L1_N4&#45;&gt;_L2_N0</title>\n",
       "<path fill=\"none\" stroke=\"black\" d=\"M448.18,-88.8C433.68,-78.22 413.35,-64.22 394.2,-54 380.33,-46.6 364.55,-39.76 350.33,-34.12\"/>\n",
       "<polygon fill=\"black\" stroke=\"black\" points=\"351.36,-30.77 340.77,-30.43 348.84,-37.3 351.36,-30.77\"/>\n",
       "<text text-anchor=\"middle\" x=\"441.2\" y=\"-57.8\" font-family=\"Times-Roman\" font-size=\"14.00\">10000</text>\n",
       "</g>\n",
       "<!-- _L1_Bias -->\n",
       "<g id=\"node8\" class=\"node\">\n",
       "<title>_L1_Bias</title>\n",
       "<ellipse fill=\"none\" stroke=\"black\" cx=\"582.2\" cy=\"-105\" rx=\"51.19\" ry=\"18\"/>\n",
       "<text text-anchor=\"middle\" x=\"582.2\" y=\"-101.3\" font-family=\"Times-Roman\" font-size=\"14.00\">_L1_Bias</text>\n",
       "</g>\n",
       "<!-- _L1_Bias&#45;&gt;_L2_N0 -->\n",
       "<g id=\"edge11\" class=\"edge\">\n",
       "<title>_L1_Bias&#45;&gt;_L2_N0</title>\n",
       "<path fill=\"none\" stroke=\"black\" d=\"M554.23,-89.87C531.51,-78.85 498.41,-63.82 468.2,-54 432.21,-42.3 390.39,-33.3 358.53,-27.36\"/>\n",
       "<polygon fill=\"black\" stroke=\"black\" points=\"359.03,-23.9 348.56,-25.54 357.77,-30.78 359.03,-23.9\"/>\n",
       "<text text-anchor=\"middle\" x=\"525.7\" y=\"-57.8\" font-family=\"Times-Roman\" font-size=\"14.00\">9750</text>\n",
       "</g>\n",
       "<!-- dupa1 -->\n",
       "<g id=\"node10\" class=\"node\">\n",
       "<title>dupa1</title>\n",
       "<ellipse fill=\"none\" stroke=\"black\" cx=\"692.2\" cy=\"-192\" rx=\"40.09\" ry=\"18\"/>\n",
       "<text text-anchor=\"middle\" x=\"692.2\" y=\"-188.3\" font-family=\"Times-Roman\" font-size=\"14.00\">dupa1</text>\n",
       "</g>\n",
       "<!-- dupa2 -->\n",
       "<g id=\"node11\" class=\"node\">\n",
       "<title>dupa2</title>\n",
       "<ellipse fill=\"none\" stroke=\"black\" cx=\"692.2\" cy=\"-105\" rx=\"40.09\" ry=\"18\"/>\n",
       "<text text-anchor=\"middle\" x=\"692.2\" y=\"-101.3\" font-family=\"Times-Roman\" font-size=\"14.00\">dupa2</text>\n",
       "</g>\n",
       "<!-- dupa1&#45;&gt;dupa2 -->\n",
       "<g id=\"edge17\" class=\"edge\">\n",
       "<title>dupa1&#45;&gt;dupa2</title>\n",
       "<path fill=\"none\" stroke=\"black\" d=\"M692.2,-173.8C692.2,-162.16 692.2,-146.55 692.2,-133.24\"/>\n",
       "<polygon fill=\"black\" stroke=\"black\" points=\"695.7,-133.18 692.2,-123.18 688.7,-133.18 695.7,-133.18\"/>\n",
       "</g>\n",
       "</g>\n",
       "</svg>\n"
      ],
      "text/plain": [
       "<graphviz.dot.Digraph at 0x7f462dc8f0d0>"
      ]
     },
     "execution_count": 32,
     "metadata": {},
     "output_type": "execute_result"
    }
   ],
   "source": []
  },
  {
   "cell_type": "markdown",
   "metadata": {},
   "source": [
    "##### Wynik na zbiorze treningowym"
   ]
  },
  {
   "cell_type": "code",
   "execution_count": 25,
   "metadata": {
    "collapsed": false
   },
   "outputs": [
    {
     "data": {
      "text/plain": [
       "8.534895752851826"
      ]
     },
     "execution_count": 25,
     "metadata": {},
     "output_type": "execute_result"
    }
   ],
   "source": [
    "metrics.mean_absolute_error(train_df['y'], y_pred)"
   ]
  },
  {
   "cell_type": "markdown",
   "metadata": {
    "collapsed": true
   },
   "source": [
    "##### Wynik na zbiorze testowym"
   ]
  },
  {
   "cell_type": "code",
   "execution_count": 26,
   "metadata": {
    "collapsed": false
   },
   "outputs": [
    {
     "data": {
      "text/plain": [
       "9.154202098773874"
      ]
     },
     "execution_count": 26,
     "metadata": {},
     "output_type": "execute_result"
    }
   ],
   "source": [
    "y_pred = mlp.forward(np.expand_dims(test_df['x'], 1))\n",
    "y_pred = np.squeeze(y_pred)\n",
    "metrics.mean_absolute_error(test_df['y'], y_pred)"
   ]
  },
  {
   "cell_type": "markdown",
   "metadata": {},
   "source": [
    "# Zbiór steps-large"
   ]
  },
  {
   "cell_type": "code",
   "execution_count": 27,
   "metadata": {
    "collapsed": true
   },
   "outputs": [],
   "source": [
    "train_df = pd.read_csv('./mio1/regression/steps-large-training.csv', index_col=0)\n",
    "test_df = pd.read_csv('./mio1/regression/steps-large-test.csv', index_col=0)"
   ]
  },
  {
   "cell_type": "markdown",
   "metadata": {},
   "source": [
    "### Jedna warstwa ukryta, 10 neuronów"
   ]
  },
  {
   "cell_type": "code",
   "execution_count": 28,
   "metadata": {
    "collapsed": false
   },
   "outputs": [
    {
     "data": {
      "text/plain": [
       "<matplotlib.collections.PathCollection at 0x7fc8124e83c8>"
      ]
     },
     "execution_count": 28,
     "metadata": {},
     "output_type": "execute_result"
    },
    {
     "data": {
      "image/png": "[encoded data removed]",
      "text/plain": [
       "<Figure size 432x288 with 1 Axes>"
      ]
     },
     "metadata": {
      "needs_background": "light"
     },
     "output_type": "display_data"
    }
   ],
   "source": [
    "mlp = Network([\"sigmoid\", \"linear\"], [\n",
    "    [\n",
    "        [-8, 10],\n",
    "        [-15, 10],\n",
    "        [8, 10],\n",
    "        [1, 1],\n",
    "        [1, 1],\n",
    "        [1, 1],\n",
    "        [1, 1],\n",
    "        [1, 1],\n",
    "        [1, 1],\n",
    "        [1, 1]\n",
    "    ],\n",
    "    [\n",
    "        [-75, 75, 75, 75, 0, 0, 0, 0, 0, 0, 0]\n",
    "    ]])\n",
    "y_pred = mlp.forward(np.expand_dims(train_df['x'], 1))\n",
    "y_pred = np.squeeze(y_pred)\n",
    "plt.scatter(train_df['x'], train_df['y'], color='green')\n",
    "plt.scatter(train_df['x'], y_pred, color='red')"
   ]
  },
  {
   "cell_type": "markdown",
   "metadata": {},
   "source": [
    "##### Wynik na zbiorze treningowym"
   ]
  },
  {
   "cell_type": "code",
   "execution_count": 29,
   "metadata": {
    "collapsed": false
   },
   "outputs": [
    {
     "data": {
      "text/plain": [
       "19.285010695832717"
      ]
     },
     "execution_count": 29,
     "metadata": {},
     "output_type": "execute_result"
    }
   ],
   "source": [
    "metrics.mean_absolute_error(train_df['y'], y_pred)"
   ]
  },
  {
   "cell_type": "markdown",
   "metadata": {},
   "source": [
    "##### Wynik na zbiorze testowym"
   ]
  },
  {
   "cell_type": "code",
   "execution_count": 30,
   "metadata": {
    "collapsed": false
   },
   "outputs": [
    {
     "data": {
      "text/plain": [
       "19.104502371942342"
      ]
     },
     "execution_count": 30,
     "metadata": {},
     "output_type": "execute_result"
    }
   ],
   "source": [
    "y_pred = mlp.forward(np.expand_dims(test_df['x'], 1))\n",
    "y_pred = np.squeeze(y_pred)\n",
    "metrics.mean_absolute_error(test_df['y'], y_pred)"
   ]
  },
  {
   "cell_type": "markdown",
   "metadata": {},
   "source": [
    "### Dwie warstwy ukryte, po 5 neuronów każda"
   ]
  },
  {
   "cell_type": "code",
   "execution_count": 31,
   "metadata": {
    "collapsed": true
   },
   "outputs": [],
   "source": [
    "mlp = Network([\"sigmoid\", \"sigmoid\", \"linear\"], [\n",
    "    [\n",
    "        [1, 1],\n",
    "        [1, 1],\n",
    "        [1, 1],\n",
    "        [1, 1],\n",
    "        [1, 1]\n",
    "    ],\n",
    "    [\n",
    "        [1, 1],\n",
    "        [1, 1],\n",
    "        [1, 1],\n",
    "        [1, 1],\n",
    "        [1, 1]\n",
    "    ],\n",
    "    [\n",
    "        [-75, 75, 75, 75, 0, 0]\n",
    "    ]])"
   ]
  },
  {
   "cell_type": "code",
   "execution_count": 12,
   "metadata": {
    "collapsed": false
   },
   "outputs": [
    {
     "data": {
      "image/svg+xml": [
       "<?xml version=\"1.0\" encoding=\"UTF-8\" standalone=\"no\"?>\n",
       "<!DOCTYPE svg PUBLIC \"-//W3C//DTD SVG 1.1//EN\"\n",
       " \"http://www.w3.org/Graphics/SVG/1.1/DTD/svg11.dtd\">\n",
       "<!-- Generated by graphviz version 2.46.1 (20210222.2046)\n",
       " -->\n",
       "<!-- Title: neural network Pages: 1 -->\n",
       "<svg width=\"134pt\" height=\"131pt\"\n",
       " viewBox=\"0.00 0.00 134.00 131.00\" xmlns=\"http://www.w3.org/2000/svg\" xmlns:xlink=\"http://www.w3.org/1999/xlink\">\n",
       "<g id=\"graph0\" class=\"graph\" transform=\"scale(1 1) rotate(0) translate(4 127)\">\n",
       "<title>neural network</title>\n",
       "<polygon fill=\"white\" stroke=\"transparent\" points=\"-4,4 -4,-127 130,-127 130,4 -4,4\"/>\n",
       "<!-- A -->\n",
       "<g id=\"node1\" class=\"node\">\n",
       "<title>A</title>\n",
       "<ellipse fill=\"none\" stroke=\"black\" cx=\"27\" cy=\"-105\" rx=\"27\" ry=\"18\"/>\n",
       "<text text-anchor=\"middle\" x=\"27\" y=\"-101.3\" font-family=\"Times-Roman\" font-size=\"14.00\">A</text>\n",
       "</g>\n",
       "<!-- B -->\n",
       "<g id=\"node2\" class=\"node\">\n",
       "<title>B</title>\n",
       "<ellipse fill=\"none\" stroke=\"black\" cx=\"27\" cy=\"-18\" rx=\"27\" ry=\"18\"/>\n",
       "<text text-anchor=\"middle\" x=\"27\" y=\"-14.3\" font-family=\"Times-Roman\" font-size=\"14.00\">B</text>\n",
       "</g>\n",
       "<!-- A&#45;&gt;B -->\n",
       "<g id=\"edge1\" class=\"edge\">\n",
       "<title>A&#45;&gt;B</title>\n",
       "<path fill=\"none\" stroke=\"black\" d=\"M27,-86.8C27,-75.16 27,-59.55 27,-46.24\"/>\n",
       "<polygon fill=\"black\" stroke=\"black\" points=\"30.5,-46.18 27,-36.18 23.5,-46.18 30.5,-46.18\"/>\n",
       "<text text-anchor=\"middle\" x=\"41\" y=\"-57.8\" font-family=\"Times-Roman\" font-size=\"14.00\">test</text>\n",
       "</g>\n",
       "<!-- C -->\n",
       "<g id=\"node3\" class=\"node\">\n",
       "<title>C</title>\n",
       "<ellipse fill=\"none\" stroke=\"black\" cx=\"99\" cy=\"-105\" rx=\"27\" ry=\"18\"/>\n",
       "<text text-anchor=\"middle\" x=\"99\" y=\"-101.3\" font-family=\"Times-Roman\" font-size=\"14.00\">C</text>\n",
       "</g>\n",
       "</g>\n",
       "</svg>\n"
      ],
      "text/plain": [
       "<graphviz.dot.Digraph at 0x7f465c5f4160>"
      ]
     },
     "execution_count": 12,
     "metadata": {},
     "output_type": "execute_result"
    }
   ],
   "source": [
    "from graphviz import Digraph\n",
    "g = Digraph(name=\"neural network\")\n",
    "g.node('A')\n",
    "g.node('B')\n",
    "g.edge('A', 'B', label='test')\n",
    "g.node('A')\n",
    "g"
   ]
  },
  {
   "cell_type": "code",
   "execution_count": 15,
   "metadata": {
    "collapsed": false
   },
   "outputs": [
    {
     "data": {
      "text/plain": [
       "'4 tetete'"
      ]
     },
     "execution_count": 15,
     "metadata": {},
     "output_type": "execute_result"
    }
   ],
   "source": [
    "\"%s tetete\" % (5 - 1)"
   ]
  },
  {
   "cell_type": "code",
   "execution_count": null,
   "metadata": {
    "collapsed": true
   },
   "outputs": [],
   "source": []
  }
 ],
 "metadata": {
  "kernelspec": {
   "display_name": "Python 3",
   "language": "python",
   "name": "python3"
  },
  "language_info": {
   "codemirror_mode": {
    "name": "ipython",
    "version": 3
   },
   "file_extension": ".py",
   "mimetype": "text/x-python",
   "name": "python",
   "nbconvert_exporter": "python",
   "pygments_lexer": "ipython3",
   "version": "3.8.5"
  }
 },
 "nbformat": 4,
 "nbformat_minor": 4
}
