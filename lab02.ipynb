{
 "cells": [
  {
   "cell_type": "code",
   "execution_count": 1,
   "metadata": {
    "collapsed": true
   },
   "outputs": [],
   "source": [
    "import numpy as np\n",
    "import pandas as pd\n",
    "import seaborn as sns\n",
    "import math\n",
    "from matplotlib import pyplot as plt\n",
    "from sklearn import metrics"
   ]
  },
  {
   "cell_type": "markdown",
   "metadata": {},
   "source": [
    "## Implementacja neuronu"
   ]
  },
  {
   "cell_type": "code",
   "execution_count": 2,
   "metadata": {
    "collapsed": false
   },
   "outputs": [
    {
     "name": "stdout",
     "output_type": "stream",
     "text": [
      "LinearNeuron(weights: [1, 2, 3], output: 14, delta: 0, error: 0)\n",
      "SigmoidNeuron(weights: [1, 2], output: 0.9525741268224333, delta: 0, error: 0)\n"
     ]
    }
   ],
   "source": [
    "from abc import ABC, abstractmethod\n",
    "import logging\n",
    "\n",
    "class Neuron(ABC):\n",
    "    def __init__(self, weights: list) -> None:\n",
    "        self.weights = weights\n",
    "        self.output = 0\n",
    "        self.deltas = []\n",
    "        self.delta = 0\n",
    "        self.error = 0\n",
    "        self.input = 0\n",
    "        self.inputs = []\n",
    "        if len(weights) < 2:\n",
    "            logging.warning(\"Less than 2 weights. Are you sure?\")\n",
    "    \n",
    "    def __repr__(self) -> str:\n",
    "        return \"%s(weights: %s, output: %s, delta: %s, error: %s)\" % (self.name(), str(self.weights), str(self.output), str(self.delta), str(self.error))\n",
    "            \n",
    "    @abstractmethod\n",
    "    def evaluate(self, input: list) -> float:\n",
    "        pass\n",
    "    \n",
    "    @abstractmethod\n",
    "    def name(self) -> str:\n",
    "        pass\n",
    "    \n",
    "    @abstractmethod\n",
    "    def derivative(self, output: float) -> float:\n",
    "        pass\n",
    "    \n",
    "    def add_one(l: list) -> list:\n",
    "        tmp = [1]\n",
    "        tmp.extend(l)\n",
    "        return tmp\n",
    "    \n",
    "    def dot(a: list, b: list) -> float:\n",
    "        tmp = min(len(a), len(b))\n",
    "        return np.dot(a[:tmp], b[:tmp])\n",
    "\n",
    "    \n",
    "# pierwsza waga to waga biasu\n",
    "class LinearNeuron(Neuron):\n",
    "    def evaluate(self, input: list) -> float:\n",
    "        self.inputs = Neuron.add_one(input)\n",
    "        self.output = Neuron.dot(self.weights, self.inputs)\n",
    "        self.input = self.output\n",
    "        return self.output\n",
    "    \n",
    "    def name(self) -> str:\n",
    "        return \"LinearNeuron\"\n",
    "    \n",
    "    def derivative(self, output: float) -> float:\n",
    "        return 1.0\n",
    "        \n",
    "\n",
    "class SigmoidNeuron(Neuron):\n",
    "    def evaluate(self, input: list) -> float:\n",
    "        self.inputs = Neuron.add_one(input)\n",
    "        x = Neuron.dot(self.weights, self.inputs)\n",
    "        self.input = x\n",
    "#         if abs(x) > 10:\n",
    "#             print(\"weights: %s, input: %s\" % (self.weights, self.inputs))\n",
    "        self.output = math.e ** x / (1 + math.e ** x)\n",
    "        return self.output\n",
    "    \n",
    "    def name(self) -> str:\n",
    "        return \"SigmoidNeuron\"\n",
    "    \n",
    "    def derivative(self, output: float) -> float:\n",
    "        return output * (1.0 - output)\n",
    "\n",
    "# tests\n",
    "\n",
    "assert Neuron.dot([2,3], [5]) == 10\n",
    "assert Neuron.dot([2,3], [4,5,6]) == 23\n",
    "\n",
    "linearneuron = LinearNeuron([1,2,3])\n",
    "assert linearneuron.evaluate([1,2,3]) == 9\n",
    "assert linearneuron.evaluate([2,3]) == 14\n",
    "\n",
    "sigmoidneuron = SigmoidNeuron([1, 2])\n",
    "assert sigmoidneuron.evaluate([1]) == math.e ** 3 / (1 + math.e ** 3)\n",
    "print(linearneuron)\n",
    "print(sigmoidneuron)"
   ]
  },
  {
   "cell_type": "markdown",
   "metadata": {},
   "source": [
    "## Implementacja warstwy"
   ]
  },
  {
   "cell_type": "code",
   "execution_count": 3,
   "metadata": {
    "collapsed": false
   },
   "outputs": [
    {
     "name": "stdout",
     "output_type": "stream",
     "text": [
      "Layer([LinearNeuron(weights: [1, 2], output: 11, delta: 0, error: 0), LinearNeuron(weights: [2, 3], output: 17, delta: 0, error: 0)])\n"
     ]
    }
   ],
   "source": [
    "class Layer(ABC):\n",
    "    def __init__(self) -> None:\n",
    "        self.neurons = []\n",
    "    \n",
    "    @abstractmethod\n",
    "    def __init__(self, num: int, weights: list) -> None:\n",
    "        pass\n",
    "        \n",
    "    def addNeuron(self, neuron: Neuron) -> None:\n",
    "        self.neurons.append(neuron)\n",
    "        \n",
    "    def evaluate(self, input: list) -> list:\n",
    "        return [neuron.evaluate(input) for neuron in self.neurons]\n",
    "    \n",
    "    def __repr__(self) -> str:\n",
    "        return \"Layer(\" + str(self.neurons) + \")\"\n",
    "    \n",
    "\n",
    "class LinearLayer(Layer):\n",
    "    def __init__(self, num: int, weights: list) -> None:\n",
    "        assert len(weights) == num, \"Invalid matrix dimension\"\n",
    "        self.neurons = [LinearNeuron(w) for w in weights]\n",
    "    \n",
    "class SigmoidLayer(Layer):\n",
    "    def __init__(self, num: int, weights: list) -> None:\n",
    "        assert len(weights) == num, \"Invalid matrix dimension\"\n",
    "        self.neurons = [SigmoidNeuron(w) for w in weights]\n",
    "\n",
    "# tests\n",
    "layer1 = LinearLayer(1, [[1, 2]])\n",
    "assert layer1.evaluate([5]) == [11]\n",
    "layer1.addNeuron(LinearNeuron([2, 3]))\n",
    "assert layer1.evaluate([5]) == [11, 17]\n",
    "\n",
    "layer2 = LinearLayer(2, [[1,2], [2, 3]])\n",
    "assert layer2.evaluate([5]) == [11, 17]\n",
    "print(layer2)"
   ]
  },
  {
   "cell_type": "markdown",
   "metadata": {},
   "source": [
    "## Implementacja sieci"
   ]
  },
  {
   "cell_type": "code",
   "execution_count": 13,
   "metadata": {
    "collapsed": false
   },
   "outputs": [
    {
     "data": {
      "image/svg+xml": [
       "<?xml version=\"1.0\" encoding=\"UTF-8\" standalone=\"no\"?>\n",
       "<!DOCTYPE svg PUBLIC \"-//W3C//DTD SVG 1.1//EN\"\n",
       " \"http://www.w3.org/Graphics/SVG/1.1/DTD/svg11.dtd\">\n",
       "<!-- Generated by graphviz version 2.46.1 (20210222.2046)\n",
       " -->\n",
       "<!-- Title: neural network Pages: 1 -->\n",
       "<svg width=\"292pt\" height=\"131pt\"\n",
       " viewBox=\"0.00 0.00 291.64 131.00\" xmlns=\"http://www.w3.org/2000/svg\" xmlns:xlink=\"http://www.w3.org/1999/xlink\">\n",
       "<g id=\"graph0\" class=\"graph\" transform=\"scale(1 1) rotate(0) translate(4 127)\">\n",
       "<title>neural network</title>\n",
       "<polygon fill=\"white\" stroke=\"transparent\" points=\"-4,4 -4,-127 287.64,-127 287.64,4 -4,4\"/>\n",
       "<!-- test_L0_Bias -->\n",
       "<g id=\"node1\" class=\"node\">\n",
       "<title>test_L0_Bias</title>\n",
       "<ellipse fill=\"none\" stroke=\"black\" cx=\"68.89\" cy=\"-105\" rx=\"68.79\" ry=\"18\"/>\n",
       "<text text-anchor=\"middle\" x=\"68.89\" y=\"-101.3\" font-family=\"Times-Roman\" font-size=\"14.00\">test_L0_Bias</text>\n",
       "</g>\n",
       "<!-- test_L1_N0 -->\n",
       "<g id=\"node2\" class=\"node\">\n",
       "<title>test_L1_N0</title>\n",
       "<ellipse fill=\"none\" stroke=\"black\" cx=\"72.89\" cy=\"-18\" rx=\"61.99\" ry=\"18\"/>\n",
       "<text text-anchor=\"middle\" x=\"72.89\" y=\"-14.3\" font-family=\"Times-Roman\" font-size=\"14.00\">test_L1_N0</text>\n",
       "</g>\n",
       "<!-- test_L0_Bias&#45;&gt;test_L1_N0 -->\n",
       "<g id=\"edge1\" class=\"edge\">\n",
       "<title>test_L0_Bias&#45;&gt;test_L1_N0</title>\n",
       "<path fill=\"none\" stroke=\"black\" d=\"M64.02,-86.86C61.89,-77.2 60.22,-64.92 61.89,-54 62.31,-51.32 62.88,-48.56 63.56,-45.83\"/>\n",
       "<polygon fill=\"black\" stroke=\"black\" points=\"66.93,-46.78 66.34,-36.2 60.21,-44.83 66.93,-46.78\"/>\n",
       "<text text-anchor=\"middle\" x=\"77.89\" y=\"-57.8\" font-family=\"Times-Roman\" font-size=\"14.00\">1.00</text>\n",
       "</g>\n",
       "<!-- test_L1_N1 -->\n",
       "<g id=\"node4\" class=\"node\">\n",
       "<title>test_L1_N1</title>\n",
       "<ellipse fill=\"none\" stroke=\"black\" cx=\"219.89\" cy=\"-18\" rx=\"61.99\" ry=\"18\"/>\n",
       "<text text-anchor=\"middle\" x=\"219.89\" y=\"-14.3\" font-family=\"Times-Roman\" font-size=\"14.00\">test_L1_N1</text>\n",
       "</g>\n",
       "<!-- test_L0_Bias&#45;&gt;test_L1_N1 -->\n",
       "<g id=\"edge3\" class=\"edge\">\n",
       "<title>test_L0_Bias&#45;&gt;test_L1_N1</title>\n",
       "<path fill=\"none\" stroke=\"black\" d=\"M80.18,-87.04C88.17,-76.22 99.76,-62.65 112.89,-54 127.49,-44.38 144.95,-37.21 161.49,-31.95\"/>\n",
       "<polygon fill=\"black\" stroke=\"black\" points=\"162.52,-35.3 171.09,-29.07 160.51,-28.59 162.52,-35.3\"/>\n",
       "<text text-anchor=\"middle\" x=\"128.89\" y=\"-57.8\" font-family=\"Times-Roman\" font-size=\"14.00\">2.00</text>\n",
       "</g>\n",
       "<!-- test_L0_N0 -->\n",
       "<g id=\"node3\" class=\"node\">\n",
       "<title>test_L0_N0</title>\n",
       "<ellipse fill=\"none\" stroke=\"black\" cx=\"221.89\" cy=\"-105\" rx=\"61.99\" ry=\"18\"/>\n",
       "<text text-anchor=\"middle\" x=\"221.89\" y=\"-101.3\" font-family=\"Times-Roman\" font-size=\"14.00\">test_L0_N0</text>\n",
       "</g>\n",
       "<!-- test_L0_N0&#45;&gt;test_L1_N0 -->\n",
       "<g id=\"edge2\" class=\"edge\">\n",
       "<title>test_L0_N0&#45;&gt;test_L1_N0</title>\n",
       "<path fill=\"none\" stroke=\"black\" d=\"M200.47,-87.91C186.25,-77.58 166.93,-64.23 148.89,-54 138.54,-48.12 127.02,-42.42 116.14,-37.38\"/>\n",
       "<polygon fill=\"black\" stroke=\"black\" points=\"117.35,-34.09 106.8,-33.14 114.46,-40.46 117.35,-34.09\"/>\n",
       "<text text-anchor=\"middle\" x=\"187.89\" y=\"-57.8\" font-family=\"Times-Roman\" font-size=\"14.00\">2.00</text>\n",
       "</g>\n",
       "<!-- test_L0_N0&#45;&gt;test_L1_N1 -->\n",
       "<g id=\"edge4\" class=\"edge\">\n",
       "<title>test_L0_N0&#45;&gt;test_L1_N1</title>\n",
       "<path fill=\"none\" stroke=\"black\" d=\"M221.49,-86.8C221.22,-75.16 220.85,-59.55 220.53,-46.24\"/>\n",
       "<polygon fill=\"black\" stroke=\"black\" points=\"224.03,-46.09 220.3,-36.18 217.03,-46.26 224.03,-46.09\"/>\n",
       "<text text-anchor=\"middle\" x=\"236.89\" y=\"-57.8\" font-family=\"Times-Roman\" font-size=\"14.00\">3.00</text>\n",
       "</g>\n",
       "</g>\n",
       "</svg>\n"
      ],
      "text/plain": [
       "<graphviz.dot.Digraph at 0x7fcb95189ca0>"
      ]
     },
     "execution_count": 13,
     "metadata": {},
     "output_type": "execute_result"
    }
   ],
   "source": [
    "from graphviz import Digraph\n",
    "import random\n",
    "from sklearn.preprocessing import StandardScaler, MinMaxScaler\n",
    "import copy\n",
    "\n",
    "class Network:\n",
    "    def __init__(self) -> None:\n",
    "        self.layers = []\n",
    "        self.size = []\n",
    "        self.s = None\n",
    "    \n",
    "    def __repr__(self) -> str:\n",
    "        return \"Network(\" + \"\\n\\t\".join([str(layer) for layer in self.layers]) + \")\"\n",
    "    \n",
    "    def __init__(self, layer_types: list, size: list, weights=None, gen_type=\"0|1\", norm=True) -> None:\n",
    "        assert len(layer_types) == len(size) - 1, \"Invalid matrix dimension\"\n",
    "        self.layers = []\n",
    "        self.size = size\n",
    "        self.norm = norm\n",
    "        for i, layer_type in enumerate(layer_types):\n",
    "            if layer_type == \"sigmoid\":\n",
    "                self.addLayerBack(SigmoidLayer(size[i + 1], weights[i] if weights else Network.generate(gen_type, (size[i + 1], size[i] + 1))))\n",
    "            elif layer_type == \"linear\":\n",
    "                self.addLayerBack(LinearLayer(size[i + 1], weights[i] if weights else Network.generate(gen_type, (size[i + 1], size[i] + 1))))\n",
    "            else:\n",
    "                logging.error(\"Invalid layer type\")\n",
    "    \n",
    "    @staticmethod\n",
    "    def batch_partition(list_in, n):\n",
    "        l = copy.deepcopy(list_in)\n",
    "        random.shuffle(l)\n",
    "        return [l[(i * n):(i * n + n)] for i in range(int((len(l) + n - 1) / n))]\n",
    "        \n",
    "    def generate(gen_type: str, n: tuple) -> np.array:\n",
    "        if gen_type == \"0|1\":\n",
    "            return np.random.uniform(0, 1, n)\n",
    "        elif gen_type == \"-1|1\":\n",
    "            return np.random.uniform(-1, 1, n)\n",
    "        elif gen_type == \"norm\":\n",
    "            return np.random.normal(0, 1, n)\n",
    "        elif gen_type == \"zero\":\n",
    "            return np.zeros(n)\n",
    "        \n",
    "    \n",
    "    def addLayerBack(self, layer: Layer) -> None:\n",
    "        self.layers.append(layer)\n",
    "    \n",
    "    def forward(self, x: list) -> list:\n",
    "        input = x\n",
    "        for layer in self.layers:\n",
    "            out = []\n",
    "            for val in input:\n",
    "                tmp = layer.evaluate(val)\n",
    "                out.append(tmp)\n",
    "            input = out\n",
    "        return input\n",
    "    \n",
    "    def predict(self, x):\n",
    "        if self.norm:\n",
    "            return self.s.inverse_transform(self.forward(x))\n",
    "        return self.forward(x)\n",
    "    \n",
    "    def draw(self, prefix='', graph=None) -> None:\n",
    "        g = Digraph(format='svg', name=\"neural network\")\n",
    "        if graph is not None:\n",
    "            g = graph\n",
    "        for idx, layer in enumerate(self.layers):\n",
    "            current_id = idx + 1\n",
    "            # create bias neuron\n",
    "            bias_name = '%s_L%s_Bias' % (prefix, idx)\n",
    "            g.node(bias_name)\n",
    "            for n_i, neuron in enumerate(layer.neurons):\n",
    "                # create dot for neuron\n",
    "                neuron_name = '%s_L%s_N%s' % (prefix, current_id, n_i)\n",
    "                g.node(neuron_name)\n",
    "                # create dots and edges for parents\n",
    "                for w_i, weight in enumerate(neuron.weights):\n",
    "                    if w_i == 0:\n",
    "                        g.edge(bias_name, neuron_name, label=format(weight, '.2f'))\n",
    "                    else:\n",
    "                        p_name = '%s_L%s_N%s' % (prefix, idx, w_i - 1)\n",
    "                        g.node(p_name)\n",
    "                        g.edge(p_name, neuron_name, label=format(weight, '.2f'))\n",
    "        return g\n",
    "            \n",
    "    def backward_propagate_error(self, expected, l_rate):\n",
    "        for i in reversed(range(len(self.layers))):\n",
    "            layer = self.layers[i]\n",
    "            \n",
    "            if layer == self.layers[-1]:\n",
    "                for j, neuron in enumerate(layer.neurons):\n",
    "                    neuron.error = (expected[j] - neuron.output)\n",
    "                    neuron.delta += neuron.error * neuron.derivative(neuron.output)\n",
    "                    neuron.current_delta = neuron.error * neuron.derivative(neuron.output)\n",
    "                    neuron.current_error = (expected[j] - neuron.output)\n",
    "                    \n",
    "                    for k in range(len(neuron.weights)):\n",
    "                        neuron.deltas[k] += neuron.current_delta * neuron.inputs[k]\n",
    "            else:\n",
    "                next_layer = self.layers[i + 1]\n",
    "                for j, neuron in enumerate(layer.neurons):\n",
    "                    neuron.current_error = 0\n",
    "                    neuron.current_delta = 0\n",
    "                    for k, next_neuron in enumerate(next_layer.neurons):\n",
    "                        neuron.current_error += next_neuron.weights[j+1] * next_neuron.current_delta\n",
    "                    neuron.current_delta = neuron.current_error * neuron.derivative(neuron.output)\n",
    "                    for k in range(len(neuron.weights)):\n",
    "                        neuron.deltas[k] += neuron.current_delta * neuron.inputs[k]\n",
    "    \n",
    "    def update_weights(self, l_rate, size):\n",
    "        for layer in self.layers:\n",
    "            for neuron in layer.neurons:\n",
    "                for i in range(len(neuron.weights)):\n",
    "                    neuron.weights[i] += neuron.deltas[i] * l_rate / size\n",
    "    \n",
    "    def clean_params(self):\n",
    "        for idx, layer in enumerate(self.layers):\n",
    "            for neuron in layer.neurons:\n",
    "                neuron.output = 0\n",
    "                neuron.delta = 0\n",
    "                #neuron.error = 0\n",
    "                neuron.deltas = [0 for i in range(len(neuron.weights))]\n",
    "    \n",
    "    def train_network(self, train_data: list, train_y: list, l_rate=1e-3, n_epoch=5, batch_size=None) -> None:\n",
    "        y_std = train_y\n",
    "        if self.norm:\n",
    "            self.s = StandardScaler()\n",
    "            y_std = self.s.fit_transform(train_y)\n",
    "        joined = [(train_data[i], y_std[i]) for i in range(len(train_y))]\n",
    "        a = self.draw(\"null\")\n",
    "        for epoch in range(n_epoch):\n",
    "            batches = Network.batch_partition(joined, batch_size) if batch_size else [joined]\n",
    "            for batch_idx, batch in enumerate(batches):\n",
    "                sum_error = 0\n",
    "                self.clean_params()\n",
    "                for i, row in enumerate(batch):\n",
    "                    x, expected = row\n",
    "                    outputs = self.forward([row])\n",
    "                    sum_error += sum([(expected[i]-outputs[0][i])**2 for i in range(len(expected))])\n",
    "                    self.backward_propagate_error(expected, l_rate)\n",
    "                self.update_weights(l_rate, len(batch))\n",
    "            if epoch % 100 == 99:\n",
    "                a = self.draw(str(epoch), a)\n",
    "#             print('>epoch=%d, lrate=%.3f, error=%.3f' % (epoch, l_rate, sum_error))\n",
    "        return a\n",
    "        \n",
    "\n",
    "# tests\n",
    "network = Network([\"linear\"], [1, 1], [[[1,2,3]]])\n",
    "assert network.forward([[2,3]]) == [[14]]\n",
    "\n",
    "network2 = Network([\"linear\"], [1, 2], [\n",
    "        [[1,2], [2, 3]]\n",
    "])\n",
    "assert network2.forward([[5]]) == [[11, 17]]\n",
    "network2.draw(\"test\")"
   ]
  },
  {
   "cell_type": "markdown",
   "metadata": {},
   "source": [
    "Jupyter ma czasem problem z wyświetlaniem grafów. Gdyby nie działało, można wejść na githuba z moim kodem, tam się wyświetlają poprawnie: https://github.com/niladrem/mioad/blob/master/lab02.ipynb"
   ]
  },
  {
   "cell_type": "markdown",
   "metadata": {},
   "source": [
    "# Zbiór square-simple"
   ]
  },
  {
   "cell_type": "code",
   "execution_count": 14,
   "metadata": {
    "collapsed": true
   },
   "outputs": [],
   "source": [
    "train_df = pd.read_csv('./mio1/regression/square-simple-training.csv', index_col=0)\n",
    "test_df = pd.read_csv('./mio1/regression/square-simple-test.csv', index_col=0)"
   ]
  },
  {
   "cell_type": "markdown",
   "metadata": {},
   "source": [
    "### jedna warstwa ukryta, 10 neuronów"
   ]
  },
  {
   "cell_type": "code",
   "execution_count": 15,
   "metadata": {
    "collapsed": false
   },
   "outputs": [
    {
     "name": "stdout",
     "output_type": "stream",
     "text": [
      "CPU times: user 1.85 s, sys: 16 ms, total: 1.87 s\n",
      "Wall time: 1.85 s\n"
     ]
    },
    {
     "data": {
      "text/plain": [
       "<matplotlib.collections.PathCollection at 0x7fcb9485b190>"
      ]
     },
     "execution_count": 15,
     "metadata": {},
     "output_type": "execute_result"
    },
    {
     "data": {
      "image/png": "[encoded data removed]",
      "text/plain": [
       "<Figure size 432x288 with 1 Axes>"
      ]
     },
     "metadata": {
      "needs_background": "light"
     },
     "output_type": "display_data"
    }
   ],
   "source": [
    "%%time\n",
    "np.random.seed(2137) # seed ustawiony na sztywno, by zawsze dostawać te same wyniki\n",
    "mlp = Network([\"sigmoid\", \"linear\"], [1,4,1], gen_type=\"0|1\")\n",
    "g = mlp.train_network(np.expand_dims(train_df['x'], 1), np.expand_dims(train_df['y'], 1), n_epoch=300, l_rate=0.5)\n",
    "\n",
    "y_pred = mlp.predict(np.expand_dims(train_df['x'], 1))\n",
    "y_pred = np.squeeze(y_pred)\n",
    "plt.scatter(train_df['x'], train_df['y'], color='green')\n",
    "plt.scatter(train_df['x'], y_pred, color='red')"
   ]
  },
  {
   "cell_type": "code",
   "execution_count": 16,
   "metadata": {
    "collapsed": false
   },
   "outputs": [
    {
     "data": {
      "image/svg+xml": [
       "<?xml version=\"1.0\" encoding=\"UTF-8\" standalone=\"no\"?>\n",
       "<!DOCTYPE svg PUBLIC \"-//W3C//DTD SVG 1.1//EN\"\n",
       " \"http://www.w3.org/Graphics/SVG/1.1/DTD/svg11.dtd\">\n",
       "<!-- Generated by graphviz version 2.46.1 (20210222.2046)\n",
       " -->\n",
       "<!-- Title: neural network Pages: 1 -->\n",
       "<svg width=\"2809pt\" height=\"218pt\"\n",
       " viewBox=\"0.00 0.00 2808.99 218.00\" xmlns=\"http://www.w3.org/2000/svg\" xmlns:xlink=\"http://www.w3.org/1999/xlink\">\n",
       "<g id=\"graph0\" class=\"graph\" transform=\"scale(1 1) rotate(0) translate(4 214)\">\n",
       "<title>neural network</title>\n",
       "<polygon fill=\"white\" stroke=\"transparent\" points=\"-4,4 -4,-214 2804.99,-214 2804.99,4 -4,4\"/>\n",
       "<!-- null_L0_Bias -->\n",
       "<g id=\"node1\" class=\"node\">\n",
       "<title>null_L0_Bias</title>\n",
       "<ellipse fill=\"none\" stroke=\"black\" cx=\"185.09\" cy=\"-192\" rx=\"67.69\" ry=\"18\"/>\n",
       "<text text-anchor=\"middle\" x=\"185.09\" y=\"-188.3\" font-family=\"Times-Roman\" font-size=\"14.00\">null_L0_Bias</text>\n",
       "</g>\n",
       "<!-- null_L1_N0 -->\n",
       "<g id=\"node2\" class=\"node\">\n",
       "<title>null_L1_N0</title>\n",
       "<ellipse fill=\"none\" stroke=\"black\" cx=\"341.09\" cy=\"-105\" rx=\"61.19\" ry=\"18\"/>\n",
       "<text text-anchor=\"middle\" x=\"341.09\" y=\"-101.3\" font-family=\"Times-Roman\" font-size=\"14.00\">null_L1_N0</text>\n",
       "</g>\n",
       "<!-- null_L0_Bias&#45;&gt;null_L1_N0 -->\n",
       "<g id=\"edge1\" class=\"edge\">\n",
       "<title>null_L0_Bias&#45;&gt;null_L1_N0</title>\n",
       "<path fill=\"none\" stroke=\"black\" d=\"M200.41,-174.28C210.98,-163.55 225.83,-150 241.09,-141 255.13,-132.72 271.43,-125.98 286.74,-120.71\"/>\n",
       "<polygon fill=\"black\" stroke=\"black\" points=\"288.23,-123.9 296.63,-117.45 286.04,-117.26 288.23,-123.9\"/>\n",
       "<text text-anchor=\"middle\" x=\"257.09\" y=\"-144.8\" font-family=\"Times-Roman\" font-size=\"14.00\">0.10</text>\n",
       "</g>\n",
       "<!-- null_L1_N1 -->\n",
       "<g id=\"node4\" class=\"node\">\n",
       "<title>null_L1_N1</title>\n",
       "<ellipse fill=\"none\" stroke=\"black\" cx=\"61.09\" cy=\"-105\" rx=\"61.19\" ry=\"18\"/>\n",
       "<text text-anchor=\"middle\" x=\"61.09\" y=\"-101.3\" font-family=\"Times-Roman\" font-size=\"14.00\">null_L1_N1</text>\n",
       "</g>\n",
       "<!-- null_L0_Bias&#45;&gt;null_L1_N1 -->\n",
       "<g id=\"edge3\" class=\"edge\">\n",
       "<title>null_L0_Bias&#45;&gt;null_L1_N1</title>\n",
       "<path fill=\"none\" stroke=\"black\" d=\"M137.12,-179.2C121.95,-173.86 105.83,-166.35 93.09,-156 85.22,-149.6 78.68,-140.74 73.6,-132.24\"/>\n",
       "<polygon fill=\"black\" stroke=\"black\" points=\"76.56,-130.37 68.67,-123.31 70.43,-133.76 76.56,-130.37\"/>\n",
       "<text text-anchor=\"middle\" x=\"109.09\" y=\"-144.8\" font-family=\"Times-Roman\" font-size=\"14.00\">0.95</text>\n",
       "</g>\n",
       "<!-- null_L1_N2 -->\n",
       "<g id=\"node5\" class=\"node\">\n",
       "<title>null_L1_N2</title>\n",
       "<ellipse fill=\"none\" stroke=\"black\" cx=\"201.09\" cy=\"-105\" rx=\"61.19\" ry=\"18\"/>\n",
       "<text text-anchor=\"middle\" x=\"201.09\" y=\"-101.3\" font-family=\"Times-Roman\" font-size=\"14.00\">null_L1_N2</text>\n",
       "</g>\n",
       "<!-- null_L0_Bias&#45;&gt;null_L1_N2 -->\n",
       "<g id=\"edge5\" class=\"edge\">\n",
       "<title>null_L0_Bias&#45;&gt;null_L1_N2</title>\n",
       "<path fill=\"none\" stroke=\"black\" d=\"M151.28,-176.22C135.79,-167.22 122.56,-154.8 131.09,-141 135.66,-133.61 142.32,-127.72 149.74,-123.06\"/>\n",
       "<polygon fill=\"black\" stroke=\"black\" points=\"151.64,-126.01 158.71,-118.12 148.26,-119.87 151.64,-126.01\"/>\n",
       "<text text-anchor=\"middle\" x=\"147.09\" y=\"-144.8\" font-family=\"Times-Roman\" font-size=\"14.00\">0.25</text>\n",
       "</g>\n",
       "<!-- null_L1_N3 -->\n",
       "<g id=\"node6\" class=\"node\">\n",
       "<title>null_L1_N3</title>\n",
       "<ellipse fill=\"none\" stroke=\"black\" cx=\"481.09\" cy=\"-105\" rx=\"61.19\" ry=\"18\"/>\n",
       "<text text-anchor=\"middle\" x=\"481.09\" y=\"-101.3\" font-family=\"Times-Roman\" font-size=\"14.00\">null_L1_N3</text>\n",
       "</g>\n",
       "<!-- null_L0_Bias&#45;&gt;null_L1_N3 -->\n",
       "<g id=\"edge7\" class=\"edge\">\n",
       "<title>null_L0_Bias&#45;&gt;null_L1_N3</title>\n",
       "<path fill=\"none\" stroke=\"black\" d=\"M243.06,-182.65C269.87,-177.34 301.57,-168.95 328.09,-156 337.76,-151.28 337.46,-145.79 347.09,-141 350.88,-139.11 391.02,-128.72 426.39,-119.74\"/>\n",
       "<polygon fill=\"black\" stroke=\"black\" points=\"427.37,-123.11 436.2,-117.26 425.65,-116.32 427.37,-123.11\"/>\n",
       "<text text-anchor=\"middle\" x=\"363.09\" y=\"-144.8\" font-family=\"Times-Roman\" font-size=\"14.00\">0.82</text>\n",
       "</g>\n",
       "<!-- null_L2_N0 -->\n",
       "<g id=\"node8\" class=\"node\">\n",
       "<title>null_L2_N0</title>\n",
       "<ellipse fill=\"none\" stroke=\"black\" cx=\"341.09\" cy=\"-18\" rx=\"61.19\" ry=\"18\"/>\n",
       "<text text-anchor=\"middle\" x=\"341.09\" y=\"-14.3\" font-family=\"Times-Roman\" font-size=\"14.00\">null_L2_N0</text>\n",
       "</g>\n",
       "<!-- null_L1_N0&#45;&gt;null_L2_N0 -->\n",
       "<g id=\"edge10\" class=\"edge\">\n",
       "<title>null_L1_N0&#45;&gt;null_L2_N0</title>\n",
       "<path fill=\"none\" stroke=\"black\" d=\"M341.09,-86.8C341.09,-75.16 341.09,-59.55 341.09,-46.24\"/>\n",
       "<polygon fill=\"black\" stroke=\"black\" points=\"344.59,-46.18 341.09,-36.18 337.59,-46.18 344.59,-46.18\"/>\n",
       "<text text-anchor=\"middle\" x=\"357.09\" y=\"-57.8\" font-family=\"Times-Roman\" font-size=\"14.00\">0.78</text>\n",
       "</g>\n",
       "<!-- null_L0_N0 -->\n",
       "<g id=\"node3\" class=\"node\">\n",
       "<title>null_L0_N0</title>\n",
       "<ellipse fill=\"none\" stroke=\"black\" cx=\"396.09\" cy=\"-192\" rx=\"61.19\" ry=\"18\"/>\n",
       "<text text-anchor=\"middle\" x=\"396.09\" y=\"-188.3\" font-family=\"Times-Roman\" font-size=\"14.00\">null_L0_N0</text>\n",
       "</g>\n",
       "<!-- null_L0_N0&#45;&gt;null_L1_N0 -->\n",
       "<g id=\"edge2\" class=\"edge\">\n",
       "<title>null_L0_N0&#45;&gt;null_L1_N0</title>\n",
       "<path fill=\"none\" stroke=\"black\" d=\"M394.29,-173.74C392.59,-163.59 389.34,-150.85 383.09,-141 380.24,-136.51 376.63,-132.3 372.72,-128.48\"/>\n",
       "<polygon fill=\"black\" stroke=\"black\" points=\"374.77,-125.62 364.96,-121.61 370.13,-130.86 374.77,-125.62\"/>\n",
       "<text text-anchor=\"middle\" x=\"406.09\" y=\"-144.8\" font-family=\"Times-Roman\" font-size=\"14.00\">0.52</text>\n",
       "</g>\n",
       "<!-- null_L0_N0&#45;&gt;null_L1_N1 -->\n",
       "<g id=\"edge4\" class=\"edge\">\n",
       "<title>null_L0_N0&#45;&gt;null_L1_N1</title>\n",
       "<path fill=\"none\" stroke=\"black\" d=\"M340.47,-184.53C287.72,-177.9 212.58,-167.02 185.09,-156 174.11,-151.6 173.68,-146.3 163.09,-141 147.64,-133.26 130.06,-126.55 113.91,-121.13\"/>\n",
       "<polygon fill=\"black\" stroke=\"black\" points=\"114.65,-117.69 104.06,-117.93 112.49,-124.35 114.65,-117.69\"/>\n",
       "<text text-anchor=\"middle\" x=\"201.09\" y=\"-144.8\" font-family=\"Times-Roman\" font-size=\"14.00\">0.08</text>\n",
       "</g>\n",
       "<!-- null_L0_N0&#45;&gt;null_L1_N2 -->\n",
       "<g id=\"edge6\" class=\"edge\">\n",
       "<title>null_L0_N0&#45;&gt;null_L1_N2</title>\n",
       "<path fill=\"none\" stroke=\"black\" d=\"M353.82,-178.71C335.65,-172.79 314.41,-165.01 296.09,-156 285.14,-150.61 283.71,-147.01 273.09,-141 263.28,-135.44 252.45,-129.89 242.24,-124.9\"/>\n",
       "<polygon fill=\"black\" stroke=\"black\" points=\"243.61,-121.68 233.08,-120.49 240.57,-127.98 243.61,-121.68\"/>\n",
       "<text text-anchor=\"middle\" x=\"312.09\" y=\"-144.8\" font-family=\"Times-Roman\" font-size=\"14.00\">0.57</text>\n",
       "</g>\n",
       "<!-- null_L0_N0&#45;&gt;null_L1_N3 -->\n",
       "<g id=\"edge8\" class=\"edge\">\n",
       "<title>null_L0_N0&#45;&gt;null_L1_N3</title>\n",
       "<path fill=\"none\" stroke=\"black\" d=\"M412.48,-174.61C425.22,-161.88 443.06,-144.03 457.36,-129.74\"/>\n",
       "<polygon fill=\"black\" stroke=\"black\" points=\"459.87,-132.17 464.47,-122.63 454.92,-127.22 459.87,-132.17\"/>\n",
       "<text text-anchor=\"middle\" x=\"460.09\" y=\"-144.8\" font-family=\"Times-Roman\" font-size=\"14.00\">0.65</text>\n",
       "</g>\n",
       "<!-- null_L1_N1&#45;&gt;null_L2_N0 -->\n",
       "<g id=\"edge11\" class=\"edge\">\n",
       "<title>null_L1_N1&#45;&gt;null_L2_N0</title>\n",
       "<path fill=\"none\" stroke=\"black\" d=\"M102.11,-91.55C152.02,-76.4 236.28,-50.82 290.26,-34.43\"/>\n",
       "<polygon fill=\"black\" stroke=\"black\" points=\"291.42,-37.74 299.97,-31.48 289.39,-31.04 291.42,-37.74\"/>\n",
       "<text text-anchor=\"middle\" x=\"234.09\" y=\"-57.8\" font-family=\"Times-Roman\" font-size=\"14.00\">0.89</text>\n",
       "</g>\n",
       "<!-- null_L1_N2&#45;&gt;null_L2_N0 -->\n",
       "<g id=\"edge12\" class=\"edge\">\n",
       "<title>null_L1_N2&#45;&gt;null_L2_N0</title>\n",
       "<path fill=\"none\" stroke=\"black\" d=\"M226.45,-88.61C248.9,-74.97 281.88,-54.95 306.71,-39.87\"/>\n",
       "<polygon fill=\"black\" stroke=\"black\" points=\"308.73,-42.75 315.46,-34.57 305.09,-36.76 308.73,-42.75\"/>\n",
       "<text text-anchor=\"middle\" x=\"296.09\" y=\"-57.8\" font-family=\"Times-Roman\" font-size=\"14.00\">0.88</text>\n",
       "</g>\n",
       "<!-- null_L1_N3&#45;&gt;null_L2_N0 -->\n",
       "<g id=\"edge13\" class=\"edge\">\n",
       "<title>null_L1_N3&#45;&gt;null_L2_N0</title>\n",
       "<path fill=\"none\" stroke=\"black\" d=\"M455.74,-88.61C433.28,-74.97 400.31,-54.95 375.48,-39.87\"/>\n",
       "<polygon fill=\"black\" stroke=\"black\" points=\"377.1,-36.76 366.73,-34.57 373.46,-42.75 377.1,-36.76\"/>\n",
       "<text text-anchor=\"middle\" x=\"436.09\" y=\"-57.8\" font-family=\"Times-Roman\" font-size=\"14.00\">0.86</text>\n",
       "</g>\n",
       "<!-- null_L1_Bias -->\n",
       "<g id=\"node7\" class=\"node\">\n",
       "<title>null_L1_Bias</title>\n",
       "<ellipse fill=\"none\" stroke=\"black\" cx=\"628.09\" cy=\"-105\" rx=\"67.69\" ry=\"18\"/>\n",
       "<text text-anchor=\"middle\" x=\"628.09\" y=\"-101.3\" font-family=\"Times-Roman\" font-size=\"14.00\">null_L1_Bias</text>\n",
       "</g>\n",
       "<!-- null_L1_Bias&#45;&gt;null_L2_N0 -->\n",
       "<g id=\"edge9\" class=\"edge\">\n",
       "<title>null_L1_Bias&#45;&gt;null_L2_N0</title>\n",
       "<path fill=\"none\" stroke=\"black\" d=\"M584.51,-91.09C532.98,-75.83 447.35,-50.47 392.61,-34.26\"/>\n",
       "<polygon fill=\"black\" stroke=\"black\" points=\"393.34,-30.82 382.76,-31.34 391.35,-37.53 393.34,-30.82\"/>\n",
       "<text text-anchor=\"middle\" x=\"518.09\" y=\"-57.8\" font-family=\"Times-Roman\" font-size=\"14.00\">0.63</text>\n",
       "</g>\n",
       "<!-- 99_L0_Bias -->\n",
       "<g id=\"node9\" class=\"node\">\n",
       "<title>99_L0_Bias</title>\n",
       "<ellipse fill=\"none\" stroke=\"black\" cx=\"880.09\" cy=\"-192\" rx=\"63.09\" ry=\"18\"/>\n",
       "<text text-anchor=\"middle\" x=\"880.09\" y=\"-188.3\" font-family=\"Times-Roman\" font-size=\"14.00\">99_L0_Bias</text>\n",
       "</g>\n",
       "<!-- 99_L1_N0 -->\n",
       "<g id=\"node10\" class=\"node\">\n",
       "<title>99_L1_N0</title>\n",
       "<ellipse fill=\"none\" stroke=\"black\" cx=\"1029.09\" cy=\"-105\" rx=\"55.79\" ry=\"18\"/>\n",
       "<text text-anchor=\"middle\" x=\"1029.09\" y=\"-101.3\" font-family=\"Times-Roman\" font-size=\"14.00\">99_L1_N0</text>\n",
       "</g>\n",
       "<!-- 99_L0_Bias&#45;&gt;99_L1_N0 -->\n",
       "<g id=\"edge14\" class=\"edge\">\n",
       "<title>99_L0_Bias&#45;&gt;99_L1_N0</title>\n",
       "<path fill=\"none\" stroke=\"black\" d=\"M896.15,-174.46C907.18,-163.82 922.58,-150.29 938.09,-141 951.08,-133.23 966.08,-126.62 980.12,-121.31\"/>\n",
       "<polygon fill=\"black\" stroke=\"black\" points=\"981.45,-124.55 989.65,-117.84 979.06,-117.97 981.45,-124.55\"/>\n",
       "<text text-anchor=\"middle\" x=\"956.59\" y=\"-144.8\" font-family=\"Times-Roman\" font-size=\"14.00\">&#45;1.22</text>\n",
       "</g>\n",
       "<!-- 99_L1_N1 -->\n",
       "<g id=\"node12\" class=\"node\">\n",
       "<title>99_L1_N1</title>\n",
       "<ellipse fill=\"none\" stroke=\"black\" cx=\"769.09\" cy=\"-105\" rx=\"55.79\" ry=\"18\"/>\n",
       "<text text-anchor=\"middle\" x=\"769.09\" y=\"-101.3\" font-family=\"Times-Roman\" font-size=\"14.00\">99_L1_N1</text>\n",
       "</g>\n",
       "<!-- 99_L0_Bias&#45;&gt;99_L1_N1 -->\n",
       "<g id=\"edge16\" class=\"edge\">\n",
       "<title>99_L0_Bias&#45;&gt;99_L1_N1</title>\n",
       "<path fill=\"none\" stroke=\"black\" d=\"M828.83,-181.36C813.04,-176.16 796.77,-168.19 785.09,-156 779.16,-149.8 775.42,-141.39 773.07,-133.24\"/>\n",
       "<polygon fill=\"black\" stroke=\"black\" points=\"776.42,-132.2 770.78,-123.23 769.6,-133.76 776.42,-132.2\"/>\n",
       "<text text-anchor=\"middle\" x=\"801.09\" y=\"-144.8\" font-family=\"Times-Roman\" font-size=\"14.00\">0.67</text>\n",
       "</g>\n",
       "<!-- 99_L1_N2 -->\n",
       "<g id=\"node13\" class=\"node\">\n",
       "<title>99_L1_N2</title>\n",
       "<ellipse fill=\"none\" stroke=\"black\" cx=\"899.09\" cy=\"-105\" rx=\"55.79\" ry=\"18\"/>\n",
       "<text text-anchor=\"middle\" x=\"899.09\" y=\"-101.3\" font-family=\"Times-Roman\" font-size=\"14.00\">99_L1_N2</text>\n",
       "</g>\n",
       "<!-- 99_L0_Bias&#45;&gt;99_L1_N2 -->\n",
       "<g id=\"edge18\" class=\"edge\">\n",
       "<title>99_L0_Bias&#45;&gt;99_L1_N2</title>\n",
       "<path fill=\"none\" stroke=\"black\" d=\"M845.17,-176.85C828.48,-167.88 813.94,-155.3 823.09,-141 828.73,-132.19 837.21,-125.57 846.49,-120.6\"/>\n",
       "<polygon fill=\"black\" stroke=\"black\" points=\"848,-123.76 855.56,-116.33 845.02,-117.43 848,-123.76\"/>\n",
       "<text text-anchor=\"middle\" x=\"841.59\" y=\"-144.8\" font-family=\"Times-Roman\" font-size=\"14.00\">&#45;1.23</text>\n",
       "</g>\n",
       "<!-- 99_L1_N3 -->\n",
       "<g id=\"node14\" class=\"node\">\n",
       "<title>99_L1_N3</title>\n",
       "<ellipse fill=\"none\" stroke=\"black\" cx=\"1159.09\" cy=\"-105\" rx=\"55.79\" ry=\"18\"/>\n",
       "<text text-anchor=\"middle\" x=\"1159.09\" y=\"-101.3\" font-family=\"Times-Roman\" font-size=\"14.00\">99_L1_N3</text>\n",
       "</g>\n",
       "<!-- 99_L0_Bias&#45;&gt;99_L1_N3 -->\n",
       "<g id=\"edge20\" class=\"edge\">\n",
       "<title>99_L0_Bias&#45;&gt;99_L1_N3</title>\n",
       "<path fill=\"none\" stroke=\"black\" d=\"M936.56,-183.84C965.55,-178.7 1000.82,-170.1 1030.09,-156 1039.79,-151.33 1039.59,-146.05 1049.09,-141 1059.83,-135.3 1085.08,-127.14 1108.69,-120.14\"/>\n",
       "<polygon fill=\"black\" stroke=\"black\" points=\"1109.7,-123.49 1118.31,-117.32 1107.73,-116.77 1109.7,-123.49\"/>\n",
       "<text text-anchor=\"middle\" x=\"1065.09\" y=\"-144.8\" font-family=\"Times-Roman\" font-size=\"14.00\">0.37</text>\n",
       "</g>\n",
       "<!-- 99_L2_N0 -->\n",
       "<g id=\"node16\" class=\"node\">\n",
       "<title>99_L2_N0</title>\n",
       "<ellipse fill=\"none\" stroke=\"black\" cx=\"1029.09\" cy=\"-18\" rx=\"55.79\" ry=\"18\"/>\n",
       "<text text-anchor=\"middle\" x=\"1029.09\" y=\"-14.3\" font-family=\"Times-Roman\" font-size=\"14.00\">99_L2_N0</text>\n",
       "</g>\n",
       "<!-- 99_L1_N0&#45;&gt;99_L2_N0 -->\n",
       "<g id=\"edge23\" class=\"edge\">\n",
       "<title>99_L1_N0&#45;&gt;99_L2_N0</title>\n",
       "<path fill=\"none\" stroke=\"black\" d=\"M1029.09,-86.8C1029.09,-75.16 1029.09,-59.55 1029.09,-46.24\"/>\n",
       "<polygon fill=\"black\" stroke=\"black\" points=\"1032.59,-46.18 1029.09,-36.18 1025.59,-46.18 1032.59,-46.18\"/>\n",
       "<text text-anchor=\"middle\" x=\"1045.09\" y=\"-57.8\" font-family=\"Times-Roman\" font-size=\"14.00\">1.17</text>\n",
       "</g>\n",
       "<!-- 99_L0_N0 -->\n",
       "<g id=\"node11\" class=\"node\">\n",
       "<title>99_L0_N0</title>\n",
       "<ellipse fill=\"none\" stroke=\"black\" cx=\"1091.09\" cy=\"-192\" rx=\"55.79\" ry=\"18\"/>\n",
       "<text text-anchor=\"middle\" x=\"1091.09\" y=\"-188.3\" font-family=\"Times-Roman\" font-size=\"14.00\">99_L0_N0</text>\n",
       "</g>\n",
       "<!-- 99_L0_N0&#45;&gt;99_L1_N0 -->\n",
       "<g id=\"edge15\" class=\"edge\">\n",
       "<title>99_L0_N0&#45;&gt;99_L1_N0</title>\n",
       "<path fill=\"none\" stroke=\"black\" d=\"M1092.59,-173.56C1092.64,-163.34 1091.19,-150.59 1085.09,-141 1081.3,-135.02 1076.07,-129.88 1070.32,-125.54\"/>\n",
       "<polygon fill=\"black\" stroke=\"black\" points=\"1071.89,-122.38 1061.63,-119.73 1068,-128.2 1071.89,-122.38\"/>\n",
       "<text text-anchor=\"middle\" x=\"1107.09\" y=\"-144.8\" font-family=\"Times-Roman\" font-size=\"14.00\">1.20</text>\n",
       "</g>\n",
       "<!-- 99_L0_N0&#45;&gt;99_L1_N1 -->\n",
       "<g id=\"edge17\" class=\"edge\">\n",
       "<title>99_L0_N0&#45;&gt;99_L1_N1</title>\n",
       "<path fill=\"none\" stroke=\"black\" d=\"M1039.4,-184.93C987.04,-178.31 909.92,-167.18 882.09,-156 871.11,-151.59 870.58,-146.49 860.09,-141 846.45,-133.85 831.01,-127.36 816.77,-121.96\"/>\n",
       "<polygon fill=\"black\" stroke=\"black\" points=\"817.74,-118.59 807.14,-118.41 815.31,-125.16 817.74,-118.59\"/>\n",
       "<text text-anchor=\"middle\" x=\"898.09\" y=\"-144.8\" font-family=\"Times-Roman\" font-size=\"14.00\">0.01</text>\n",
       "</g>\n",
       "<!-- 99_L0_N0&#45;&gt;99_L1_N2 -->\n",
       "<g id=\"edge19\" class=\"edge\">\n",
       "<title>99_L0_N0&#45;&gt;99_L1_N2</title>\n",
       "<path fill=\"none\" stroke=\"black\" d=\"M1052.74,-178.68C1035.64,-172.66 1015.48,-164.81 998.09,-156 987.21,-150.48 985.78,-146.9 975.09,-141 964.27,-135.02 952.23,-129.14 940.99,-123.97\"/>\n",
       "<polygon fill=\"black\" stroke=\"black\" points=\"942.34,-120.73 931.78,-119.79 939.45,-127.11 942.34,-120.73\"/>\n",
       "<text text-anchor=\"middle\" x=\"1014.09\" y=\"-144.8\" font-family=\"Times-Roman\" font-size=\"14.00\">1.22</text>\n",
       "</g>\n",
       "<!-- 99_L0_N0&#45;&gt;99_L1_N3 -->\n",
       "<g id=\"edge21\" class=\"edge\">\n",
       "<title>99_L0_N0&#45;&gt;99_L1_N3</title>\n",
       "<path fill=\"none\" stroke=\"black\" d=\"M1109.5,-174.67C1115.42,-169.03 1121.8,-162.48 1127.09,-156 1133.25,-148.46 1139.22,-139.67 1144.3,-131.59\"/>\n",
       "<polygon fill=\"black\" stroke=\"black\" points=\"1147.4,-133.23 1149.63,-122.87 1141.43,-129.58 1147.4,-133.23\"/>\n",
       "<text text-anchor=\"middle\" x=\"1154.09\" y=\"-144.8\" font-family=\"Times-Roman\" font-size=\"14.00\">0.52</text>\n",
       "</g>\n",
       "<!-- 99_L1_N1&#45;&gt;99_L2_N0 -->\n",
       "<g id=\"edge24\" class=\"edge\">\n",
       "<title>99_L1_N1&#45;&gt;99_L2_N0</title>\n",
       "<path fill=\"none\" stroke=\"black\" d=\"M805.55,-91.29C835.24,-81.01 878.28,-66.29 916.09,-54 936.98,-47.21 960.14,-39.99 980.02,-33.88\"/>\n",
       "<polygon fill=\"black\" stroke=\"black\" points=\"981.25,-37.16 989.79,-30.88 979.2,-30.47 981.25,-37.16\"/>\n",
       "<text text-anchor=\"middle\" x=\"934.59\" y=\"-57.8\" font-family=\"Times-Roman\" font-size=\"14.00\">&#45;0.12</text>\n",
       "</g>\n",
       "<!-- 99_L1_N2&#45;&gt;99_L2_N0 -->\n",
       "<g id=\"edge25\" class=\"edge\">\n",
       "<title>99_L1_N2&#45;&gt;99_L2_N0</title>\n",
       "<path fill=\"none\" stroke=\"black\" d=\"M922.64,-88.61C943.4,-75.03 973.84,-55.12 996.87,-40.07\"/>\n",
       "<polygon fill=\"black\" stroke=\"black\" points=\"998.83,-42.97 1005.29,-34.57 995,-37.11 998.83,-42.97\"/>\n",
       "<text text-anchor=\"middle\" x=\"988.09\" y=\"-57.8\" font-family=\"Times-Roman\" font-size=\"14.00\">1.22</text>\n",
       "</g>\n",
       "<!-- 99_L1_N3&#45;&gt;99_L2_N0 -->\n",
       "<g id=\"edge26\" class=\"edge\">\n",
       "<title>99_L1_N3&#45;&gt;99_L2_N0</title>\n",
       "<path fill=\"none\" stroke=\"black\" d=\"M1135.55,-88.61C1114.79,-75.03 1084.34,-55.12 1061.32,-40.07\"/>\n",
       "<polygon fill=\"black\" stroke=\"black\" points=\"1063.19,-37.11 1052.9,-34.57 1059.36,-42.97 1063.19,-37.11\"/>\n",
       "<text text-anchor=\"middle\" x=\"1118.09\" y=\"-57.8\" font-family=\"Times-Roman\" font-size=\"14.00\">0.06</text>\n",
       "</g>\n",
       "<!-- 99_L1_Bias -->\n",
       "<g id=\"node15\" class=\"node\">\n",
       "<title>99_L1_Bias</title>\n",
       "<ellipse fill=\"none\" stroke=\"black\" cx=\"1296.09\" cy=\"-105\" rx=\"63.09\" ry=\"18\"/>\n",
       "<text text-anchor=\"middle\" x=\"1296.09\" y=\"-101.3\" font-family=\"Times-Roman\" font-size=\"14.00\">99_L1_Bias</text>\n",
       "</g>\n",
       "<!-- 99_L1_Bias&#45;&gt;99_L2_N0 -->\n",
       "<g id=\"edge22\" class=\"edge\">\n",
       "<title>99_L1_Bias&#45;&gt;99_L2_N0</title>\n",
       "<path fill=\"none\" stroke=\"black\" d=\"M1255.54,-91.09C1207.67,-75.85 1128.16,-50.54 1077.21,-34.32\"/>\n",
       "<polygon fill=\"black\" stroke=\"black\" points=\"1078.02,-30.9 1067.42,-31.2 1075.89,-37.57 1078.02,-30.9\"/>\n",
       "<text text-anchor=\"middle\" x=\"1197.59\" y=\"-57.8\" font-family=\"Times-Roman\" font-size=\"14.00\">&#45;0.80</text>\n",
       "</g>\n",
       "<!-- 199_L0_Bias -->\n",
       "<g id=\"node17\" class=\"node\">\n",
       "<title>199_L0_Bias</title>\n",
       "<ellipse fill=\"none\" stroke=\"black\" cx=\"1568.09\" cy=\"-192\" rx=\"68.79\" ry=\"18\"/>\n",
       "<text text-anchor=\"middle\" x=\"1568.09\" y=\"-188.3\" font-family=\"Times-Roman\" font-size=\"14.00\">199_L0_Bias</text>\n",
       "</g>\n",
       "<!-- 199_L1_N0 -->\n",
       "<g id=\"node18\" class=\"node\">\n",
       "<title>199_L1_N0</title>\n",
       "<ellipse fill=\"none\" stroke=\"black\" cx=\"1721.09\" cy=\"-105\" rx=\"61.99\" ry=\"18\"/>\n",
       "<text text-anchor=\"middle\" x=\"1721.09\" y=\"-101.3\" font-family=\"Times-Roman\" font-size=\"14.00\">199_L1_N0</text>\n",
       "</g>\n",
       "<!-- 199_L0_Bias&#45;&gt;199_L1_N0 -->\n",
       "<g id=\"edge27\" class=\"edge\">\n",
       "<title>199_L0_Bias&#45;&gt;199_L1_N0</title>\n",
       "<path fill=\"none\" stroke=\"black\" d=\"M1585.12,-174.49C1596.77,-163.86 1612.98,-150.34 1629.09,-141 1641.95,-133.55 1656.68,-127.13 1670.54,-121.89\"/>\n",
       "<polygon fill=\"black\" stroke=\"black\" points=\"1671.76,-125.17 1679.96,-118.45 1669.36,-118.59 1671.76,-125.17\"/>\n",
       "<text text-anchor=\"middle\" x=\"1647.59\" y=\"-144.8\" font-family=\"Times-Roman\" font-size=\"14.00\">&#45;2.62</text>\n",
       "</g>\n",
       "<!-- 199_L1_N1 -->\n",
       "<g id=\"node20\" class=\"node\">\n",
       "<title>199_L1_N1</title>\n",
       "<ellipse fill=\"none\" stroke=\"black\" cx=\"1439.09\" cy=\"-105\" rx=\"61.99\" ry=\"18\"/>\n",
       "<text text-anchor=\"middle\" x=\"1439.09\" y=\"-101.3\" font-family=\"Times-Roman\" font-size=\"14.00\">199_L1_N1</text>\n",
       "</g>\n",
       "<!-- 199_L0_Bias&#45;&gt;199_L1_N1 -->\n",
       "<g id=\"edge29\" class=\"edge\">\n",
       "<title>199_L0_Bias&#45;&gt;199_L1_N1</title>\n",
       "<path fill=\"none\" stroke=\"black\" d=\"M1517.52,-179.64C1501.52,-174.33 1484.52,-166.73 1471.09,-156 1463.05,-149.58 1456.41,-140.56 1451.31,-131.94\"/>\n",
       "<polygon fill=\"black\" stroke=\"black\" points=\"1454.24,-130 1446.38,-122.89 1448.09,-133.35 1454.24,-130\"/>\n",
       "<text text-anchor=\"middle\" x=\"1487.09\" y=\"-144.8\" font-family=\"Times-Roman\" font-size=\"14.00\">0.67</text>\n",
       "</g>\n",
       "<!-- 199_L1_N2 -->\n",
       "<g id=\"node21\" class=\"node\">\n",
       "<title>199_L1_N2</title>\n",
       "<ellipse fill=\"none\" stroke=\"black\" cx=\"1580.09\" cy=\"-105\" rx=\"61.99\" ry=\"18\"/>\n",
       "<text text-anchor=\"middle\" x=\"1580.09\" y=\"-101.3\" font-family=\"Times-Roman\" font-size=\"14.00\">199_L1_N2</text>\n",
       "</g>\n",
       "<!-- 199_L0_Bias&#45;&gt;199_L1_N2 -->\n",
       "<g id=\"edge31\" class=\"edge\">\n",
       "<title>199_L0_Bias&#45;&gt;199_L1_N2</title>\n",
       "<path fill=\"none\" stroke=\"black\" d=\"M1531.39,-176.74C1514.54,-167.9 1500.09,-155.48 1509.09,-141 1513.74,-133.53 1520.49,-127.62 1528.02,-122.93\"/>\n",
       "<polygon fill=\"black\" stroke=\"black\" points=\"1530,-125.84 1537.12,-117.99 1526.66,-119.69 1530,-125.84\"/>\n",
       "<text text-anchor=\"middle\" x=\"1527.59\" y=\"-144.8\" font-family=\"Times-Roman\" font-size=\"14.00\">&#45;2.69</text>\n",
       "</g>\n",
       "<!-- 199_L1_N3 -->\n",
       "<g id=\"node22\" class=\"node\">\n",
       "<title>199_L1_N3</title>\n",
       "<ellipse fill=\"none\" stroke=\"black\" cx=\"1862.09\" cy=\"-105\" rx=\"61.99\" ry=\"18\"/>\n",
       "<text text-anchor=\"middle\" x=\"1862.09\" y=\"-101.3\" font-family=\"Times-Roman\" font-size=\"14.00\">199_L1_N3</text>\n",
       "</g>\n",
       "<!-- 199_L0_Bias&#45;&gt;199_L1_N3 -->\n",
       "<g id=\"edge33\" class=\"edge\">\n",
       "<title>199_L0_Bias&#45;&gt;199_L1_N3</title>\n",
       "<path fill=\"none\" stroke=\"black\" d=\"M1629,-183.43C1657.91,-178.26 1692.34,-169.77 1721.09,-156 1730.8,-151.35 1730.52,-145.91 1740.09,-141 1752,-134.89 1780.08,-126.7 1806.3,-119.78\"/>\n",
       "<polygon fill=\"black\" stroke=\"black\" points=\"1807.43,-123.1 1816.22,-117.19 1805.66,-116.33 1807.43,-123.1\"/>\n",
       "<text text-anchor=\"middle\" x=\"1756.09\" y=\"-144.8\" font-family=\"Times-Roman\" font-size=\"14.00\">0.55</text>\n",
       "</g>\n",
       "<!-- 199_L2_N0 -->\n",
       "<g id=\"node24\" class=\"node\">\n",
       "<title>199_L2_N0</title>\n",
       "<ellipse fill=\"none\" stroke=\"black\" cx=\"1721.09\" cy=\"-18\" rx=\"61.99\" ry=\"18\"/>\n",
       "<text text-anchor=\"middle\" x=\"1721.09\" y=\"-14.3\" font-family=\"Times-Roman\" font-size=\"14.00\">199_L2_N0</text>\n",
       "</g>\n",
       "<!-- 199_L1_N0&#45;&gt;199_L2_N0 -->\n",
       "<g id=\"edge36\" class=\"edge\">\n",
       "<title>199_L1_N0&#45;&gt;199_L2_N0</title>\n",
       "<path fill=\"none\" stroke=\"black\" d=\"M1721.09,-86.8C1721.09,-75.16 1721.09,-59.55 1721.09,-46.24\"/>\n",
       "<polygon fill=\"black\" stroke=\"black\" points=\"1724.59,-46.18 1721.09,-36.18 1717.59,-46.18 1724.59,-46.18\"/>\n",
       "<text text-anchor=\"middle\" x=\"1737.09\" y=\"-57.8\" font-family=\"Times-Roman\" font-size=\"14.00\">1.93</text>\n",
       "</g>\n",
       "<!-- 199_L0_N0 -->\n",
       "<g id=\"node19\" class=\"node\">\n",
       "<title>199_L0_N0</title>\n",
       "<ellipse fill=\"none\" stroke=\"black\" cx=\"1788.09\" cy=\"-192\" rx=\"61.99\" ry=\"18\"/>\n",
       "<text text-anchor=\"middle\" x=\"1788.09\" y=\"-188.3\" font-family=\"Times-Roman\" font-size=\"14.00\">199_L0_N0</text>\n",
       "</g>\n",
       "<!-- 199_L0_N0&#45;&gt;199_L1_N0 -->\n",
       "<g id=\"edge28\" class=\"edge\">\n",
       "<title>199_L0_N0&#45;&gt;199_L1_N0</title>\n",
       "<path fill=\"none\" stroke=\"black\" d=\"M1787.19,-173.92C1785.92,-163.59 1782.94,-150.59 1776.09,-141 1772.12,-135.43 1766.95,-130.54 1761.38,-126.31\"/>\n",
       "<polygon fill=\"black\" stroke=\"black\" points=\"1763.25,-123.35 1753.02,-120.6 1759.3,-129.13 1763.25,-123.35\"/>\n",
       "<text text-anchor=\"middle\" x=\"1800.09\" y=\"-144.8\" font-family=\"Times-Roman\" font-size=\"14.00\">1.98</text>\n",
       "</g>\n",
       "<!-- 199_L0_N0&#45;&gt;199_L1_N1 -->\n",
       "<g id=\"edge30\" class=\"edge\">\n",
       "<title>199_L0_N0&#45;&gt;199_L1_N1</title>\n",
       "<path fill=\"none\" stroke=\"black\" d=\"M1731.08,-184.98C1675.74,-178.6 1595.99,-167.83 1567.09,-156 1556.48,-151.65 1556.33,-146.18 1546.09,-141 1529.76,-132.74 1511.07,-125.84 1493.92,-120.41\"/>\n",
       "<polygon fill=\"black\" stroke=\"black\" points=\"1494.62,-116.97 1484.03,-117.39 1492.57,-123.66 1494.62,-116.97\"/>\n",
       "<text text-anchor=\"middle\" x=\"1585.59\" y=\"-144.8\" font-family=\"Times-Roman\" font-size=\"14.00\">&#45;0.00</text>\n",
       "</g>\n",
       "<!-- 199_L0_N0&#45;&gt;199_L1_N2 -->\n",
       "<g id=\"edge32\" class=\"edge\">\n",
       "<title>199_L0_N0&#45;&gt;199_L1_N2</title>\n",
       "<path fill=\"none\" stroke=\"black\" d=\"M1746.25,-178.66C1728.26,-172.73 1707.24,-164.96 1689.09,-156 1678.15,-150.59 1676.91,-146.66 1666.09,-141 1653.8,-134.57 1640.06,-128.5 1627.22,-123.29\"/>\n",
       "<polygon fill=\"black\" stroke=\"black\" points=\"1628.21,-119.91 1617.63,-119.47 1625.63,-126.42 1628.21,-119.91\"/>\n",
       "<text text-anchor=\"middle\" x=\"1705.09\" y=\"-144.8\" font-family=\"Times-Roman\" font-size=\"14.00\">2.04</text>\n",
       "</g>\n",
       "<!-- 199_L0_N0&#45;&gt;199_L1_N3 -->\n",
       "<g id=\"edge34\" class=\"edge\">\n",
       "<title>199_L0_N0&#45;&gt;199_L1_N3</title>\n",
       "<path fill=\"none\" stroke=\"black\" d=\"M1803.54,-174.39C1808.84,-168.62 1814.78,-162.07 1820.09,-156 1827.27,-147.82 1834.97,-138.74 1841.79,-130.59\"/>\n",
       "<polygon fill=\"black\" stroke=\"black\" points=\"1844.55,-132.74 1848.27,-122.82 1839.18,-128.26 1844.55,-132.74\"/>\n",
       "<text text-anchor=\"middle\" x=\"1849.09\" y=\"-144.8\" font-family=\"Times-Roman\" font-size=\"14.00\">1.51</text>\n",
       "</g>\n",
       "<!-- 199_L1_N1&#45;&gt;199_L2_N0 -->\n",
       "<g id=\"edge37\" class=\"edge\">\n",
       "<title>199_L1_N1&#45;&gt;199_L2_N0</title>\n",
       "<path fill=\"none\" stroke=\"black\" d=\"M1480.4,-91.55C1530.67,-76.4 1615.53,-50.82 1669.9,-34.43\"/>\n",
       "<polygon fill=\"black\" stroke=\"black\" points=\"1671.11,-37.72 1679.68,-31.48 1669.09,-31.02 1671.11,-37.72\"/>\n",
       "<text text-anchor=\"middle\" x=\"1613.09\" y=\"-57.8\" font-family=\"Times-Roman\" font-size=\"14.00\">0.19</text>\n",
       "</g>\n",
       "<!-- 199_L1_N2&#45;&gt;199_L2_N0 -->\n",
       "<g id=\"edge38\" class=\"edge\">\n",
       "<title>199_L1_N2&#45;&gt;199_L2_N0</title>\n",
       "<path fill=\"none\" stroke=\"black\" d=\"M1605.63,-88.61C1628.25,-74.97 1661.46,-54.95 1686.47,-39.87\"/>\n",
       "<polygon fill=\"black\" stroke=\"black\" points=\"1688.52,-42.73 1695.27,-34.57 1684.9,-36.73 1688.52,-42.73\"/>\n",
       "<text text-anchor=\"middle\" x=\"1675.09\" y=\"-57.8\" font-family=\"Times-Roman\" font-size=\"14.00\">2.04</text>\n",
       "</g>\n",
       "<!-- 199_L1_N3&#45;&gt;199_L2_N0 -->\n",
       "<g id=\"edge39\" class=\"edge\">\n",
       "<title>199_L1_N3&#45;&gt;199_L2_N0</title>\n",
       "<path fill=\"none\" stroke=\"black\" d=\"M1836.56,-88.61C1813.94,-74.97 1780.73,-54.95 1755.72,-39.87\"/>\n",
       "<polygon fill=\"black\" stroke=\"black\" points=\"1757.29,-36.73 1746.92,-34.57 1753.67,-42.73 1757.29,-36.73\"/>\n",
       "<text text-anchor=\"middle\" x=\"1818.59\" y=\"-57.8\" font-family=\"Times-Roman\" font-size=\"14.00\">&#45;1.30</text>\n",
       "</g>\n",
       "<!-- 199_L1_Bias -->\n",
       "<g id=\"node23\" class=\"node\">\n",
       "<title>199_L1_Bias</title>\n",
       "<ellipse fill=\"none\" stroke=\"black\" cx=\"2011.09\" cy=\"-105\" rx=\"68.79\" ry=\"18\"/>\n",
       "<text text-anchor=\"middle\" x=\"2011.09\" y=\"-101.3\" font-family=\"Times-Roman\" font-size=\"14.00\">199_L1_Bias</text>\n",
       "</g>\n",
       "<!-- 199_L1_Bias&#45;&gt;199_L2_N0 -->\n",
       "<g id=\"edge35\" class=\"edge\">\n",
       "<title>199_L1_Bias&#45;&gt;199_L2_N0</title>\n",
       "<path fill=\"none\" stroke=\"black\" d=\"M1967.07,-91.02C1932.76,-80.91 1883.9,-66.54 1841.09,-54 1818.8,-47.47 1794.17,-40.28 1773.05,-34.13\"/>\n",
       "<polygon fill=\"black\" stroke=\"black\" points=\"1773.89,-30.72 1763.31,-31.29 1771.93,-37.45 1773.89,-30.72\"/>\n",
       "<text text-anchor=\"middle\" x=\"1906.59\" y=\"-57.8\" font-family=\"Times-Roman\" font-size=\"14.00\">&#45;0.22</text>\n",
       "</g>\n",
       "<!-- 299_L0_Bias -->\n",
       "<g id=\"node25\" class=\"node\">\n",
       "<title>299_L0_Bias</title>\n",
       "<ellipse fill=\"none\" stroke=\"black\" cx=\"2297.09\" cy=\"-192\" rx=\"68.79\" ry=\"18\"/>\n",
       "<text text-anchor=\"middle\" x=\"2297.09\" y=\"-188.3\" font-family=\"Times-Roman\" font-size=\"14.00\">299_L0_Bias</text>\n",
       "</g>\n",
       "<!-- 299_L1_N0 -->\n",
       "<g id=\"node26\" class=\"node\">\n",
       "<title>299_L1_N0</title>\n",
       "<ellipse fill=\"none\" stroke=\"black\" cx=\"2442.09\" cy=\"-105\" rx=\"61.99\" ry=\"18\"/>\n",
       "<text text-anchor=\"middle\" x=\"2442.09\" y=\"-101.3\" font-family=\"Times-Roman\" font-size=\"14.00\">299_L1_N0</text>\n",
       "</g>\n",
       "<!-- 299_L0_Bias&#45;&gt;299_L1_N0 -->\n",
       "<g id=\"edge40\" class=\"edge\">\n",
       "<title>299_L0_Bias&#45;&gt;299_L1_N0</title>\n",
       "<path fill=\"none\" stroke=\"black\" d=\"M2311.5,-174.36C2321.47,-163.68 2335.52,-150.14 2350.09,-141 2362.33,-133.33 2376.51,-126.91 2390.02,-121.75\"/>\n",
       "<polygon fill=\"black\" stroke=\"black\" points=\"2391.5,-124.94 2399.7,-118.22 2389.1,-118.36 2391.5,-124.94\"/>\n",
       "<text text-anchor=\"middle\" x=\"2368.59\" y=\"-144.8\" font-family=\"Times-Roman\" font-size=\"14.00\">&#45;2.96</text>\n",
       "</g>\n",
       "<!-- 299_L1_N1 -->\n",
       "<g id=\"node28\" class=\"node\">\n",
       "<title>299_L1_N1</title>\n",
       "<ellipse fill=\"none\" stroke=\"black\" cx=\"2160.09\" cy=\"-105\" rx=\"61.99\" ry=\"18\"/>\n",
       "<text text-anchor=\"middle\" x=\"2160.09\" y=\"-101.3\" font-family=\"Times-Roman\" font-size=\"14.00\">299_L1_N1</text>\n",
       "</g>\n",
       "<!-- 299_L0_Bias&#45;&gt;299_L1_N1 -->\n",
       "<g id=\"edge42\" class=\"edge\">\n",
       "<title>299_L0_Bias&#45;&gt;299_L1_N1</title>\n",
       "<path fill=\"none\" stroke=\"black\" d=\"M2242.85,-180.89C2225.04,-175.64 2206.01,-167.75 2191.09,-156 2183.08,-149.69 2176.6,-140.69 2171.68,-132.06\"/>\n",
       "<polygon fill=\"black\" stroke=\"black\" points=\"2174.68,-130.24 2166.95,-122.99 2168.47,-133.48 2174.68,-130.24\"/>\n",
       "<text text-anchor=\"middle\" x=\"2207.09\" y=\"-144.8\" font-family=\"Times-Roman\" font-size=\"14.00\">0.71</text>\n",
       "</g>\n",
       "<!-- 299_L1_N2 -->\n",
       "<g id=\"node29\" class=\"node\">\n",
       "<title>299_L1_N2</title>\n",
       "<ellipse fill=\"none\" stroke=\"black\" cx=\"2301.09\" cy=\"-105\" rx=\"61.99\" ry=\"18\"/>\n",
       "<text text-anchor=\"middle\" x=\"2301.09\" y=\"-101.3\" font-family=\"Times-Roman\" font-size=\"14.00\">299_L1_N2</text>\n",
       "</g>\n",
       "<!-- 299_L0_Bias&#45;&gt;299_L1_N2 -->\n",
       "<g id=\"edge44\" class=\"edge\">\n",
       "<title>299_L0_Bias&#45;&gt;299_L1_N2</title>\n",
       "<path fill=\"none\" stroke=\"black\" d=\"M2255.34,-177.43C2236.52,-168.88 2220.44,-156.53 2230.09,-141 2234.74,-133.53 2241.49,-127.62 2249.02,-122.93\"/>\n",
       "<polygon fill=\"black\" stroke=\"black\" points=\"2251,-125.84 2258.12,-117.99 2247.66,-119.69 2251,-125.84\"/>\n",
       "<text text-anchor=\"middle\" x=\"2248.59\" y=\"-144.8\" font-family=\"Times-Roman\" font-size=\"14.00\">&#45;3.04</text>\n",
       "</g>\n",
       "<!-- 299_L1_N3 -->\n",
       "<g id=\"node30\" class=\"node\">\n",
       "<title>299_L1_N3</title>\n",
       "<ellipse fill=\"none\" stroke=\"black\" cx=\"2583.09\" cy=\"-105\" rx=\"61.99\" ry=\"18\"/>\n",
       "<text text-anchor=\"middle\" x=\"2583.09\" y=\"-101.3\" font-family=\"Times-Roman\" font-size=\"14.00\">299_L1_N3</text>\n",
       "</g>\n",
       "<!-- 299_L0_Bias&#45;&gt;299_L1_N3 -->\n",
       "<g id=\"edge46\" class=\"edge\">\n",
       "<title>299_L0_Bias&#45;&gt;299_L1_N3</title>\n",
       "<path fill=\"none\" stroke=\"black\" d=\"M2350.5,-180.6C2384.85,-173.44 2425.97,-163.84 2442.09,-156 2451.77,-151.3 2451.52,-145.91 2461.09,-141 2473,-134.89 2501.08,-126.7 2527.3,-119.78\"/>\n",
       "<polygon fill=\"black\" stroke=\"black\" points=\"2528.43,-123.1 2537.22,-117.19 2526.66,-116.33 2528.43,-123.1\"/>\n",
       "<text text-anchor=\"middle\" x=\"2477.09\" y=\"-144.8\" font-family=\"Times-Roman\" font-size=\"14.00\">1.29</text>\n",
       "</g>\n",
       "<!-- 299_L2_N0 -->\n",
       "<g id=\"node32\" class=\"node\">\n",
       "<title>299_L2_N0</title>\n",
       "<ellipse fill=\"none\" stroke=\"black\" cx=\"2442.09\" cy=\"-18\" rx=\"61.99\" ry=\"18\"/>\n",
       "<text text-anchor=\"middle\" x=\"2442.09\" y=\"-14.3\" font-family=\"Times-Roman\" font-size=\"14.00\">299_L2_N0</text>\n",
       "</g>\n",
       "<!-- 299_L1_N0&#45;&gt;299_L2_N0 -->\n",
       "<g id=\"edge49\" class=\"edge\">\n",
       "<title>299_L1_N0&#45;&gt;299_L2_N0</title>\n",
       "<path fill=\"none\" stroke=\"black\" d=\"M2442.09,-86.8C2442.09,-75.16 2442.09,-59.55 2442.09,-46.24\"/>\n",
       "<polygon fill=\"black\" stroke=\"black\" points=\"2445.59,-46.18 2442.09,-36.18 2438.59,-46.18 2445.59,-46.18\"/>\n",
       "<text text-anchor=\"middle\" x=\"2458.09\" y=\"-57.8\" font-family=\"Times-Roman\" font-size=\"14.00\">2.40</text>\n",
       "</g>\n",
       "<!-- 299_L0_N0 -->\n",
       "<g id=\"node27\" class=\"node\">\n",
       "<title>299_L0_N0</title>\n",
       "<ellipse fill=\"none\" stroke=\"black\" cx=\"2461.09\" cy=\"-192\" rx=\"61.99\" ry=\"18\"/>\n",
       "<text text-anchor=\"middle\" x=\"2461.09\" y=\"-188.3\" font-family=\"Times-Roman\" font-size=\"14.00\">299_L0_N0</text>\n",
       "</g>\n",
       "<!-- 299_L0_N0&#45;&gt;299_L1_N0 -->\n",
       "<g id=\"edge41\" class=\"edge\">\n",
       "<title>299_L0_N0&#45;&gt;299_L1_N0</title>\n",
       "<path fill=\"none\" stroke=\"black\" d=\"M2483.79,-175.22C2494.54,-165.7 2503.73,-153.1 2497.09,-141 2493.95,-135.27 2489.42,-130.34 2484.3,-126.15\"/>\n",
       "<polygon fill=\"black\" stroke=\"black\" points=\"2486.05,-123.1 2475.87,-120.16 2481.99,-128.8 2486.05,-123.1\"/>\n",
       "<text text-anchor=\"middle\" x=\"2515.09\" y=\"-144.8\" font-family=\"Times-Roman\" font-size=\"14.00\">2.26</text>\n",
       "</g>\n",
       "<!-- 299_L0_N0&#45;&gt;299_L1_N1 -->\n",
       "<g id=\"edge43\" class=\"edge\">\n",
       "<title>299_L0_N0&#45;&gt;299_L1_N1</title>\n",
       "<path fill=\"none\" stroke=\"black\" d=\"M2411.53,-181.16C2361.75,-171.24 2291.97,-157.22 2289.09,-156 2278.19,-151.4 2277.71,-146.22 2267.09,-141 2250.6,-132.88 2231.79,-126.01 2214.58,-120.56\"/>\n",
       "<polygon fill=\"black\" stroke=\"black\" points=\"2215.25,-117.1 2204.67,-117.51 2213.2,-123.79 2215.25,-117.1\"/>\n",
       "<text text-anchor=\"middle\" x=\"2307.59\" y=\"-144.8\" font-family=\"Times-Roman\" font-size=\"14.00\">&#45;0.20</text>\n",
       "</g>\n",
       "<!-- 299_L0_N0&#45;&gt;299_L1_N2 -->\n",
       "<g id=\"edge45\" class=\"edge\">\n",
       "<title>299_L0_N0&#45;&gt;299_L1_N2</title>\n",
       "<path fill=\"none\" stroke=\"black\" d=\"M2438.1,-175.11C2418.4,-161.56 2392.39,-143.83 2387.09,-141 2374.86,-134.47 2361.13,-128.37 2348.29,-123.16\"/>\n",
       "<polygon fill=\"black\" stroke=\"black\" points=\"2349.28,-119.78 2338.69,-119.35 2346.7,-126.29 2349.28,-119.78\"/>\n",
       "<text text-anchor=\"middle\" x=\"2424.09\" y=\"-144.8\" font-family=\"Times-Roman\" font-size=\"14.00\">2.32</text>\n",
       "</g>\n",
       "<!-- 299_L0_N0&#45;&gt;299_L1_N3 -->\n",
       "<g id=\"edge47\" class=\"edge\">\n",
       "<title>299_L0_N0&#45;&gt;299_L1_N3</title>\n",
       "<path fill=\"none\" stroke=\"black\" d=\"M2496.81,-177.27C2509.47,-171.6 2523.44,-164.38 2535.09,-156 2545.11,-148.79 2554.81,-139.33 2562.84,-130.58\"/>\n",
       "<polygon fill=\"black\" stroke=\"black\" points=\"2565.69,-132.63 2569.7,-122.83 2560.45,-127.99 2565.69,-132.63\"/>\n",
       "<text text-anchor=\"middle\" x=\"2568.09\" y=\"-144.8\" font-family=\"Times-Roman\" font-size=\"14.00\">2.18</text>\n",
       "</g>\n",
       "<!-- 299_L1_N1&#45;&gt;299_L2_N0 -->\n",
       "<g id=\"edge50\" class=\"edge\">\n",
       "<title>299_L1_N1&#45;&gt;299_L2_N0</title>\n",
       "<path fill=\"none\" stroke=\"black\" d=\"M2201.4,-91.55C2251.67,-76.4 2336.53,-50.82 2390.9,-34.43\"/>\n",
       "<polygon fill=\"black\" stroke=\"black\" points=\"2392.11,-37.72 2400.68,-31.48 2390.09,-31.02 2392.11,-37.72\"/>\n",
       "<text text-anchor=\"middle\" x=\"2333.09\" y=\"-57.8\" font-family=\"Times-Roman\" font-size=\"14.00\">0.58</text>\n",
       "</g>\n",
       "<!-- 299_L1_N2&#45;&gt;299_L2_N0 -->\n",
       "<g id=\"edge51\" class=\"edge\">\n",
       "<title>299_L1_N2&#45;&gt;299_L2_N0</title>\n",
       "<path fill=\"none\" stroke=\"black\" d=\"M2326.63,-88.61C2349.25,-74.97 2382.46,-54.95 2407.47,-39.87\"/>\n",
       "<polygon fill=\"black\" stroke=\"black\" points=\"2409.52,-42.73 2416.27,-34.57 2405.9,-36.73 2409.52,-42.73\"/>\n",
       "<text text-anchor=\"middle\" x=\"2395.09\" y=\"-57.8\" font-family=\"Times-Roman\" font-size=\"14.00\">2.53</text>\n",
       "</g>\n",
       "<!-- 299_L1_N3&#45;&gt;299_L2_N0 -->\n",
       "<g id=\"edge52\" class=\"edge\">\n",
       "<title>299_L1_N3&#45;&gt;299_L2_N0</title>\n",
       "<path fill=\"none\" stroke=\"black\" d=\"M2557.56,-88.61C2534.94,-74.97 2501.73,-54.95 2476.72,-39.87\"/>\n",
       "<polygon fill=\"black\" stroke=\"black\" points=\"2478.29,-36.73 2467.92,-34.57 2474.67,-42.73 2478.29,-36.73\"/>\n",
       "<text text-anchor=\"middle\" x=\"2538.59\" y=\"-57.8\" font-family=\"Times-Roman\" font-size=\"14.00\">&#45;2.43</text>\n",
       "</g>\n",
       "<!-- 299_L1_Bias -->\n",
       "<g id=\"node31\" class=\"node\">\n",
       "<title>299_L1_Bias</title>\n",
       "<ellipse fill=\"none\" stroke=\"black\" cx=\"2732.09\" cy=\"-105\" rx=\"68.79\" ry=\"18\"/>\n",
       "<text text-anchor=\"middle\" x=\"2732.09\" y=\"-101.3\" font-family=\"Times-Roman\" font-size=\"14.00\">299_L1_Bias</text>\n",
       "</g>\n",
       "<!-- 299_L1_Bias&#45;&gt;299_L2_N0 -->\n",
       "<g id=\"edge48\" class=\"edge\">\n",
       "<title>299_L1_Bias&#45;&gt;299_L2_N0</title>\n",
       "<path fill=\"none\" stroke=\"black\" d=\"M2688.05,-91.09C2635.88,-75.8 2549.11,-50.37 2493.8,-34.16\"/>\n",
       "<polygon fill=\"black\" stroke=\"black\" points=\"2494.77,-30.79 2484.19,-31.34 2492.8,-37.51 2494.77,-30.79\"/>\n",
       "<text text-anchor=\"middle\" x=\"2620.09\" y=\"-57.8\" font-family=\"Times-Roman\" font-size=\"14.00\">0.29</text>\n",
       "</g>\n",
       "</g>\n",
       "</svg>\n"
      ],
      "text/plain": [
       "<graphviz.dot.Digraph at 0x7fcb949192b0>"
      ]
     },
     "execution_count": 16,
     "metadata": {},
     "output_type": "execute_result"
    }
   ],
   "source": [
    "g"
   ]
  },
  {
   "cell_type": "markdown",
   "metadata": {},
   "source": [
    "##### Wynik na zbiorze treningowym"
   ]
  },
  {
   "cell_type": "code",
   "execution_count": 17,
   "metadata": {
    "collapsed": false
   },
   "outputs": [
    {
     "data": {
      "text/plain": [
       "14.108986773623299"
      ]
     },
     "execution_count": 17,
     "metadata": {},
     "output_type": "execute_result"
    }
   ],
   "source": [
    "metrics.mean_absolute_error(train_df['y'], y_pred)"
   ]
  },
  {
   "cell_type": "markdown",
   "metadata": {
    "collapsed": true
   },
   "source": [
    "##### Wynik na zbiorze testowym"
   ]
  },
  {
   "cell_type": "code",
   "execution_count": 18,
   "metadata": {
    "collapsed": false
   },
   "outputs": [
    {
     "data": {
      "text/plain": [
       "12.578631441128346"
      ]
     },
     "execution_count": 18,
     "metadata": {},
     "output_type": "execute_result"
    }
   ],
   "source": [
    "y_pred = mlp.predict(np.expand_dims(test_df['x'], 1))\n",
    "y_pred = np.squeeze(y_pred)\n",
    "metrics.mean_absolute_error(test_df['y'], y_pred)"
   ]
  },
  {
   "cell_type": "code",
   "execution_count": 19,
   "metadata": {
    "collapsed": false
   },
   "outputs": [
    {
     "name": "stdout",
     "output_type": "stream",
     "text": [
      "CPU times: user 2.22 s, sys: 4 ms, total: 2.23 s\n",
      "Wall time: 2.23 s\n"
     ]
    },
    {
     "data": {
      "text/plain": [
       "<matplotlib.collections.PathCollection at 0x7fcb947aaee0>"
      ]
     },
     "execution_count": 19,
     "metadata": {},
     "output_type": "execute_result"
    },
    {
     "data": {
      "image/png": "[encoded data removed]",
      "text/plain": [
       "<Figure size 432x288 with 1 Axes>"
      ]
     },
     "metadata": {
      "needs_background": "light"
     },
     "output_type": "display_data"
    }
   ],
   "source": [
    "%%time\n",
    "np.random.seed(2137)\n",
    "mlp = Network([\"sigmoid\", \"linear\"], [1,4,1], gen_type=\"-1|1\") # generowanie z rozkładu U(-1,1)\n",
    "g = mlp.train_network(np.expand_dims(train_df['x'], 1), np.expand_dims(train_df['y'], 1), n_epoch=300, l_rate=0.5, batch_size=8)\n",
    "\n",
    "y_pred = mlp.predict(np.expand_dims(train_df['x'], 1))\n",
    "y_pred = np.squeeze(y_pred)\n",
    "plt.scatter(train_df['x'], train_df['y'], color='green')\n",
    "plt.scatter(train_df['x'], y_pred, color='red')"
   ]
  },
  {
   "cell_type": "markdown",
   "metadata": {},
   "source": [
    "##### Wynik na zbiorze treningowym"
   ]
  },
  {
   "cell_type": "code",
   "execution_count": 20,
   "metadata": {
    "collapsed": false
   },
   "outputs": [
    {
     "data": {
      "text/plain": [
       "2.2136448574680543"
      ]
     },
     "execution_count": 20,
     "metadata": {},
     "output_type": "execute_result"
    }
   ],
   "source": [
    "metrics.mean_absolute_error(train_df['y'], y_pred)"
   ]
  },
  {
   "cell_type": "markdown",
   "metadata": {},
   "source": [
    "##### Wynik na zbiorze testowym"
   ]
  },
  {
   "cell_type": "code",
   "execution_count": 21,
   "metadata": {
    "collapsed": false
   },
   "outputs": [
    {
     "data": {
      "text/plain": [
       "1.8887115584585916"
      ]
     },
     "execution_count": 21,
     "metadata": {},
     "output_type": "execute_result"
    }
   ],
   "source": [
    "y_pred = mlp.predict(np.expand_dims(test_df['x'], 1))\n",
    "y_pred = np.squeeze(y_pred)\n",
    "metrics.mean_absolute_error(test_df['y'], y_pred)"
   ]
  },
  {
   "cell_type": "markdown",
   "metadata": {},
   "source": [
    "# Zbiór steps-small"
   ]
  },
  {
   "cell_type": "code",
   "execution_count": 22,
   "metadata": {
    "collapsed": true
   },
   "outputs": [],
   "source": [
    "train_df = pd.read_csv('./mio1/regression/steps-small-training.csv', index_col=0)\n",
    "test_df = pd.read_csv('./mio1/regression/steps-small-test.csv', index_col=0)"
   ]
  },
  {
   "cell_type": "code",
   "execution_count": 28,
   "metadata": {
    "collapsed": false
   },
   "outputs": [
    {
     "name": "stdout",
     "output_type": "stream",
     "text": [
      "CPU times: user 2.12 s, sys: 24 ms, total: 2.14 s\n",
      "Wall time: 2.08 s\n"
     ]
    },
    {
     "data": {
      "text/plain": [
       "<matplotlib.collections.PathCollection at 0x7fcb946368e0>"
      ]
     },
     "execution_count": 28,
     "metadata": {},
     "output_type": "execute_result"
    },
    {
     "data": {
      "image/png": "[encoded data removed]",
      "text/plain": [
       "<Figure size 432x288 with 1 Axes>"
      ]
     },
     "metadata": {
      "needs_background": "light"
     },
     "output_type": "display_data"
    }
   ],
   "source": [
    "%%time\n",
    "np.random.seed(2137)\n",
    "mlp = Network([\"sigmoid\", \"linear\"], [1,10,1], norm=False) # wyłączenie domyślnej normalizacji outputu\n",
    "mlp.train_network(np.expand_dims(train_df['x'], 1), np.expand_dims(train_df['y'], 1), n_epoch=300, l_rate=1e-1)\n",
    "\n",
    "y_pred = mlp.predict(np.expand_dims(train_df['x'], 1))\n",
    "y_pred = np.squeeze(y_pred)\n",
    "plt.scatter(train_df['x'], train_df['y'], color='green')\n",
    "plt.scatter(train_df['x'], y_pred, color='red')"
   ]
  },
  {
   "cell_type": "markdown",
   "metadata": {},
   "source": [
    "##### Wynik na zbiorze treningowym"
   ]
  },
  {
   "cell_type": "code",
   "execution_count": 29,
   "metadata": {
    "collapsed": false
   },
   "outputs": [
    {
     "data": {
      "text/plain": [
       "4.035531738656447"
      ]
     },
     "execution_count": 29,
     "metadata": {},
     "output_type": "execute_result"
    }
   ],
   "source": [
    "metrics.mean_absolute_error(train_df['y'], y_pred)"
   ]
  },
  {
   "cell_type": "markdown",
   "metadata": {},
   "source": [
    "##### Wynik na zbiorze testowym"
   ]
  },
  {
   "cell_type": "code",
   "execution_count": 30,
   "metadata": {
    "collapsed": false
   },
   "outputs": [
    {
     "data": {
      "text/plain": [
       "5.1547183807170605"
      ]
     },
     "execution_count": 30,
     "metadata": {},
     "output_type": "execute_result"
    }
   ],
   "source": [
    "y_pred = mlp.forward(np.expand_dims(test_df['x'], 1))\n",
    "y_pred = np.squeeze(y_pred)\n",
    "metrics.mean_absolute_error(test_df['y'], y_pred)"
   ]
  },
  {
   "cell_type": "code",
   "execution_count": 32,
   "metadata": {
    "collapsed": false
   },
   "outputs": [
    {
     "name": "stdout",
     "output_type": "stream",
     "text": [
      "CPU times: user 2.27 s, sys: 0 ns, total: 2.27 s\n",
      "Wall time: 2.27 s\n"
     ]
    },
    {
     "data": {
      "text/plain": [
       "<matplotlib.collections.PathCollection at 0x7fcb9456e580>"
      ]
     },
     "execution_count": 32,
     "metadata": {},
     "output_type": "execute_result"
    },
    {
     "data": {
      "image/png": "[encoded data removed]",
      "text/plain": [
       "<Figure size 432x288 with 1 Axes>"
      ]
     },
     "metadata": {
      "needs_background": "light"
     },
     "output_type": "display_data"
    }
   ],
   "source": [
    "%%time\n",
    "np.random.seed(2137)\n",
    "mlp = Network([\"sigmoid\", \"linear\"], [1,10,1], norm=False)\n",
    "mlp.train_network(np.expand_dims(train_df['x'], 1), np.expand_dims(train_df['y'], 1), n_epoch=300, l_rate=1e-1, batch_size=8)\n",
    "\n",
    "y_pred = mlp.predict(np.expand_dims(train_df['x'], 1))\n",
    "y_pred = np.squeeze(y_pred)\n",
    "plt.scatter(train_df['x'], train_df['y'], color='green')\n",
    "plt.scatter(train_df['x'], y_pred, color='red')"
   ]
  },
  {
   "cell_type": "markdown",
   "metadata": {},
   "source": [
    "##### Wynik na zbiorze treningowym"
   ]
  },
  {
   "cell_type": "code",
   "execution_count": 33,
   "metadata": {
    "collapsed": false
   },
   "outputs": [
    {
     "data": {
      "text/plain": [
       "16.733270581690363"
      ]
     },
     "execution_count": 33,
     "metadata": {},
     "output_type": "execute_result"
    }
   ],
   "source": [
    "metrics.mean_absolute_error(train_df['y'], y_pred)"
   ]
  },
  {
   "cell_type": "markdown",
   "metadata": {},
   "source": [
    "##### Wynik na zbiorze testowym"
   ]
  },
  {
   "cell_type": "code",
   "execution_count": 34,
   "metadata": {
    "collapsed": false
   },
   "outputs": [
    {
     "data": {
      "text/plain": [
       "21.718396180150926"
      ]
     },
     "execution_count": 34,
     "metadata": {},
     "output_type": "execute_result"
    }
   ],
   "source": [
    "y_pred = mlp.forward(np.expand_dims(test_df['x'], 1))\n",
    "y_pred = np.squeeze(y_pred)\n",
    "metrics.mean_absolute_error(test_df['y'], y_pred)"
   ]
  },
  {
   "cell_type": "markdown",
   "metadata": {},
   "source": [
    "# Zbiór multimodal-large"
   ]
  },
  {
   "cell_type": "code",
   "execution_count": 35,
   "metadata": {
    "collapsed": true
   },
   "outputs": [],
   "source": [
    "train_df = pd.read_csv('./mio1/regression/multimodal-large-training.csv', index_col=0)\n",
    "test_df = pd.read_csv('./mio1/regression/multimodal-large-test.csv', index_col=0)"
   ]
  },
  {
   "cell_type": "code",
   "execution_count": 37,
   "metadata": {
    "collapsed": false
   },
   "outputs": [
    {
     "name": "stdout",
     "output_type": "stream",
     "text": [
      "CPU times: user 43.4 s, sys: 284 ms, total: 43.7 s\n",
      "Wall time: 43.4 s\n"
     ]
    },
    {
     "data": {
      "text/plain": [
       "<matplotlib.collections.PathCollection at 0x7fcb9466d1c0>"
      ]
     },
     "execution_count": 37,
     "metadata": {},
     "output_type": "execute_result"
    },
    {
     "data": {
      "image/png": "[encoded data removed]",
      "text/plain": [
       "<Figure size 432x288 with 1 Axes>"
      ]
     },
     "metadata": {
      "needs_background": "light"
     },
     "output_type": "display_data"
    }
   ],
   "source": [
    "%%time\n",
    "np.random.seed(1111)\n",
    "mlp = Network([\"sigmoid\", \"linear\"], [1,5,1], gen_type=\"norm\", norm=False) #generowanie z rozkładu normalnego N(0,1)\n",
    "mlp.train_network(np.expand_dims(train_df['x'], 1), np.expand_dims(train_df['y'], 1), n_epoch=50, l_rate=1e-1)\n",
    "\n",
    "y_pred = mlp.predict(np.expand_dims(train_df['x'], 1))\n",
    "y_pred = np.squeeze(y_pred)\n",
    "plt.scatter(train_df['x'], train_df['y'], color='green')\n",
    "plt.scatter(train_df['x'], y_pred, color='red')"
   ]
  },
  {
   "cell_type": "markdown",
   "metadata": {},
   "source": [
    "##### Wynik na zbiorze treningowym"
   ]
  },
  {
   "cell_type": "code",
   "execution_count": 38,
   "metadata": {
    "collapsed": false
   },
   "outputs": [
    {
     "data": {
      "text/plain": [
       "18.385689665294905"
      ]
     },
     "execution_count": 38,
     "metadata": {},
     "output_type": "execute_result"
    }
   ],
   "source": [
    "metrics.mean_absolute_error(train_df['y'], y_pred)"
   ]
  },
  {
   "cell_type": "markdown",
   "metadata": {},
   "source": [
    "##### Wynik na zbiorze testowym"
   ]
  },
  {
   "cell_type": "code",
   "execution_count": 39,
   "metadata": {
    "collapsed": false
   },
   "outputs": [
    {
     "data": {
      "text/plain": [
       "18.8883323656715"
      ]
     },
     "execution_count": 39,
     "metadata": {},
     "output_type": "execute_result"
    }
   ],
   "source": [
    "y_pred = mlp.forward(np.expand_dims(test_df['x'], 1))\n",
    "y_pred = np.squeeze(y_pred)\n",
    "metrics.mean_absolute_error(test_df['y'], y_pred)"
   ]
  },
  {
   "cell_type": "code",
   "execution_count": 40,
   "metadata": {
    "collapsed": false
   },
   "outputs": [
    {
     "name": "stdout",
     "output_type": "stream",
     "text": [
      "CPU times: user 46.9 s, sys: 220 ms, total: 47.1 s\n",
      "Wall time: 46.9 s\n"
     ]
    },
    {
     "data": {
      "text/plain": [
       "<matplotlib.collections.PathCollection at 0x7fcb94209cd0>"
      ]
     },
     "execution_count": 40,
     "metadata": {},
     "output_type": "execute_result"
    },
    {
     "data": {
      "image/png": "[encoded data removed]",
      "text/plain": [
       "<Figure size 432x288 with 1 Axes>"
      ]
     },
     "metadata": {
      "needs_background": "light"
     },
     "output_type": "display_data"
    }
   ],
   "source": [
    "%%time\n",
    "np.random.seed(2137)\n",
    "mlp = Network([\"sigmoid\", \"linear\"], [1,5,1], gen_type=\"norm\", norm=False)\n",
    "mlp.train_network(np.expand_dims(train_df['x'], 1), np.expand_dims(train_df['y'], 1), n_epoch=50, l_rate=1e-1, batch_size=32)\n",
    "\n",
    "y_pred = mlp.predict(np.expand_dims(train_df['x'], 1))\n",
    "y_pred = np.squeeze(y_pred)\n",
    "plt.scatter(train_df['x'], train_df['y'], color='green')\n",
    "plt.scatter(train_df['x'], y_pred, color='red')"
   ]
  },
  {
   "cell_type": "markdown",
   "metadata": {},
   "source": [
    "##### Wynik na zbiorze treningowym"
   ]
  },
  {
   "cell_type": "code",
   "execution_count": 41,
   "metadata": {
    "collapsed": false
   },
   "outputs": [
    {
     "data": {
      "text/plain": [
       "1.2851275681512369"
      ]
     },
     "execution_count": 41,
     "metadata": {},
     "output_type": "execute_result"
    }
   ],
   "source": [
    "metrics.mean_absolute_error(train_df['y'], y_pred)"
   ]
  },
  {
   "cell_type": "markdown",
   "metadata": {},
   "source": [
    "##### Wynik na zbiorze testowym"
   ]
  },
  {
   "cell_type": "code",
   "execution_count": 42,
   "metadata": {
    "collapsed": false
   },
   "outputs": [
    {
     "data": {
      "text/plain": [
       "1.725113163027896"
      ]
     },
     "execution_count": 42,
     "metadata": {},
     "output_type": "execute_result"
    }
   ],
   "source": [
    "y_pred = mlp.forward(np.expand_dims(test_df['x'], 1))\n",
    "y_pred = np.squeeze(y_pred)\n",
    "metrics.mean_absolute_error(test_df['y'], y_pred)"
   ]
  },
  {
   "cell_type": "markdown",
   "metadata": {},
   "source": [
    "# Wnioski\n",
    "Zdecydowanie widać, że metoda z batchem jest trochę wolniejsza niż poprawianie wag dopiero po całym zbiorze (oczywiście czas zależy od wielkości batcha - najwolniejsze jest aktualizowanie wag po każdej próbce), ale daje lepsze dopasowanie. Generalnie sieć uczy się całkiem dobrze. Im więcej jest danych, tym lepiej to wychodzi. Wyniki na zbiorze testowym są porównywalne do treningowego."
   ]
  },
  {
   "cell_type": "code",
   "execution_count": null,
   "metadata": {
    "collapsed": true
   },
   "outputs": [],
   "source": []
  }
 ],
 "metadata": {
  "kernelspec": {
   "display_name": "Python 3",
   "language": "python",
   "name": "python3"
  },
  "language_info": {
   "codemirror_mode": {
    "name": "ipython",
    "version": 3
   },
   "file_extension": ".py",
   "mimetype": "text/x-python",
   "name": "python",
   "nbconvert_exporter": "python",
   "pygments_lexer": "ipython3",
   "version": "3.8.5"
  }
 },
 "nbformat": 4,
 "nbformat_minor": 4
}
