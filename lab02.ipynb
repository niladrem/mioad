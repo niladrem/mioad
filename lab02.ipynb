{
 "cells": [
  {
   "cell_type": "code",
   "execution_count": 1,
   "metadata": {},
   "outputs": [],
   "source": [
    "import numpy as np\n",
    "import pandas as pd\n",
    "import seaborn as sns\n",
    "import math\n",
    "from matplotlib import pyplot as plt\n",
    "from sklearn import metrics"
   ]
  },
  {
   "cell_type": "markdown",
   "metadata": {},
   "source": [
    "## Implementacja neuronu"
   ]
  },
  {
   "cell_type": "code",
   "execution_count": 27,
   "metadata": {},
   "outputs": [
    {
     "name": "stdout",
     "output_type": "stream",
     "text": [
      "LinearNeuron(weights: [1, 2, 3], output: 14, delta: 0)\n",
      "SigmoidNeuron(weights: [1, 2], output: 0.9525741268224333, delta: 0)\n"
     ]
    }
   ],
   "source": [
    "from abc import ABC, abstractmethod\n",
    "import logging\n",
    "\n",
    "class Neuron(ABC):\n",
    "    def __init__(self, weights: list) -> None:\n",
    "        self.weights = weights\n",
    "        self.output = 0\n",
    "        self.delta = 0\n",
    "        if len(weights) < 2:\n",
    "            logging.warning(\"Less than 2 weights. Are you sure?\")\n",
    "    \n",
    "    def __repr__(self) -> str:\n",
    "        return \"%s(weights: %s, output: %s, delta: %s)\" % (self.name(), str(self.weights), str(self.output), str(self.delta))\n",
    "            \n",
    "    @abstractmethod\n",
    "    def evaluate(self, input: list) -> float:\n",
    "        pass\n",
    "    \n",
    "    @abstractmethod\n",
    "    def name(self) -> str:\n",
    "        pass\n",
    "    \n",
    "    @abstractmethod\n",
    "    def derivative(self, output: float) -> float:\n",
    "        pass\n",
    "    \n",
    "    def add_one(l: list) -> list:\n",
    "        tmp = [1]\n",
    "        tmp.extend(l)\n",
    "        return tmp\n",
    "    \n",
    "    def dot(a: list, b: list) -> float:\n",
    "        tmp = min(len(a), len(b))\n",
    "        return np.dot(a[:tmp], b[:tmp])\n",
    "\n",
    "    \n",
    "# pierwsza waga to waga biasu\n",
    "class LinearNeuron(Neuron):\n",
    "    def evaluate(self, input: list) -> float:\n",
    "        self.output = Neuron.dot(self.weights, Neuron.add_one(input))\n",
    "        return self.output\n",
    "    \n",
    "    def name(self) -> str:\n",
    "        return \"LinearNeuron\"\n",
    "    \n",
    "    def derivative(self, output: float) -> float:\n",
    "        return 1.0\n",
    "        \n",
    "\n",
    "class SigmoidNeuron(Neuron):\n",
    "    def evaluate(self, input: list) -> float:\n",
    "        x = Neuron.dot(self.weights, Neuron.add_one(input))\n",
    "        self.output = math.e ** x / (1 + math.e ** x)\n",
    "        return self.output\n",
    "    \n",
    "    def name(self) -> str:\n",
    "        return \"SigmoidNeuron\"\n",
    "    \n",
    "    def derivative(self, output: float) -> float:\n",
    "        return output * (1.0 - output)\n",
    "\n",
    "# tests\n",
    "\n",
    "assert Neuron.dot([2,3], [5]) == 10\n",
    "assert Neuron.dot([2,3], [4,5,6]) == 23\n",
    "\n",
    "linearneuron = LinearNeuron([1,2,3])\n",
    "assert linearneuron.evaluate([1,2,3]) == 9\n",
    "assert linearneuron.evaluate([2,3]) == 14\n",
    "\n",
    "sigmoidneuron = SigmoidNeuron([1, 2])\n",
    "assert sigmoidneuron.evaluate([1]) == math.e ** 3 / (1 + math.e ** 3)\n",
    "print(linearneuron)\n",
    "print(sigmoidneuron)"
   ]
  },
  {
   "cell_type": "markdown",
   "metadata": {},
   "source": [
    "## Implementacja warstwy"
   ]
  },
  {
   "cell_type": "code",
   "execution_count": 24,
   "metadata": {},
   "outputs": [
    {
     "name": "stdout",
     "output_type": "stream",
     "text": [
      "Layer([LinearNeuron(weights: [1, 2], output: 11, delta: 0), LinearNeuron(weights: [2, 3], output: 17, delta: 0)])\n"
     ]
    }
   ],
   "source": [
    "class Layer(ABC):\n",
    "    def __init__(self) -> None:\n",
    "        self.neurons = []\n",
    "    \n",
    "    @abstractmethod\n",
    "    def __init__(self, num: int, weights: list) -> None:\n",
    "        pass\n",
    "        \n",
    "    def addNeuron(self, neuron: Neuron) -> None:\n",
    "        self.neurons.append(neuron)\n",
    "        \n",
    "    def evaluate(self, input: list) -> list:\n",
    "        return [neuron.evaluate(input) for neuron in self.neurons]\n",
    "    \n",
    "    def __repr__(self) -> str:\n",
    "        return \"Layer(\" + str(self.neurons) + \")\"\n",
    "    \n",
    "\n",
    "class LinearLayer(Layer):\n",
    "    def __init__(self, num: int, weights: list) -> None:\n",
    "        assert len(weights) == num, \"Invalid matrix dimension\"\n",
    "        self.neurons = [LinearNeuron(w) for w in weights]\n",
    "    \n",
    "class SigmoidLayer(Layer):\n",
    "    def __init__(self, num: int, weights: list) -> None:\n",
    "        assert len(weights) == num, \"Invalid matrix dimension\"\n",
    "        self.neurons = [SigmoidNeuron(w) for w in weights]\n",
    "\n",
    "# tests\n",
    "layer1 = LinearLayer(1, [[1, 2]])\n",
    "assert layer1.evaluate([5]) == [11]\n",
    "layer1.addNeuron(LinearNeuron([2, 3]))\n",
    "assert layer1.evaluate([5]) == [11, 17]\n",
    "\n",
    "layer2 = LinearLayer(2, [[1,2], [2, 3]])\n",
    "assert layer2.evaluate([5]) == [11, 17]\n",
    "print(layer2)"
   ]
  },
  {
   "cell_type": "markdown",
   "metadata": {},
   "source": [
    "## Implementacja sieci"
   ]
  },
  {
   "cell_type": "code",
   "execution_count": 52,
   "metadata": {},
   "outputs": [
    {
     "data": {
      "image/svg+xml": [
       "<?xml version=\"1.0\" encoding=\"UTF-8\" standalone=\"no\"?>\n",
       "<!DOCTYPE svg PUBLIC \"-//W3C//DTD SVG 1.1//EN\"\n",
       " \"http://www.w3.org/Graphics/SVG/1.1/DTD/svg11.dtd\">\n",
       "<!-- Generated by graphviz version 2.40.1 (20161225.0304)\n",
       " -->\n",
       "<!-- Title: neural network Pages: 1 -->\n",
       "<svg width=\"301pt\" height=\"131pt\"\n",
       " viewBox=\"0.00 0.00 300.84 131.00\" xmlns=\"http://www.w3.org/2000/svg\" xmlns:xlink=\"http://www.w3.org/1999/xlink\">\n",
       "<g id=\"graph0\" class=\"graph\" transform=\"scale(1 1) rotate(0) translate(4 127)\">\n",
       "<title>neural network</title>\n",
       "<polygon fill=\"#ffffff\" stroke=\"transparent\" points=\"-4,4 -4,-127 296.8379,-127 296.8379,4 -4,4\"/>\n",
       "<!-- test_L0_Bias -->\n",
       "<g id=\"node1\" class=\"node\">\n",
       "<title>test_L0_Bias</title>\n",
       "<ellipse fill=\"none\" stroke=\"#000000\" cx=\"70.8437\" cy=\"-105\" rx=\"70.6878\" ry=\"18\"/>\n",
       "<text text-anchor=\"middle\" x=\"70.8437\" y=\"-101.3\" font-family=\"Times,serif\" font-size=\"14.00\" fill=\"#000000\">test_L0_Bias</text>\n",
       "</g>\n",
       "<!-- test_L1_N0 -->\n",
       "<g id=\"node2\" class=\"node\">\n",
       "<title>test_L1_N0</title>\n",
       "<ellipse fill=\"none\" stroke=\"#000000\" cx=\"73.8437\" cy=\"-18\" rx=\"64.9885\" ry=\"18\"/>\n",
       "<text text-anchor=\"middle\" x=\"73.8437\" y=\"-14.3\" font-family=\"Times,serif\" font-size=\"14.00\" fill=\"#000000\">test_L1_N0</text>\n",
       "</g>\n",
       "<!-- test_L0_Bias&#45;&gt;test_L1_N0 -->\n",
       "<g id=\"edge1\" class=\"edge\">\n",
       "<title>test_L0_Bias&#45;&gt;test_L1_N0</title>\n",
       "<path fill=\"none\" stroke=\"#000000\" d=\"M67.8493,-86.5735C66.6646,-76.8736 65.8049,-64.7853 66.8437,-54 67.0894,-51.4491 67.4309,-48.8104 67.832,-46.1745\"/>\n",
       "<polygon fill=\"#000000\" stroke=\"#000000\" points=\"71.2982,-46.6722 69.5975,-36.2148 64.4057,-45.4503 71.2982,-46.6722\"/>\n",
       "<text text-anchor=\"middle\" x=\"82.8437\" y=\"-57.8\" font-family=\"Times,serif\" font-size=\"14.00\" fill=\"#000000\">1.00</text>\n",
       "</g>\n",
       "<!-- test_L1_N1 -->\n",
       "<g id=\"node4\" class=\"node\">\n",
       "<title>test_L1_N1</title>\n",
       "<ellipse fill=\"none\" stroke=\"#000000\" cx=\"225.8437\" cy=\"-18\" rx=\"64.9885\" ry=\"18\"/>\n",
       "<text text-anchor=\"middle\" x=\"225.8437\" y=\"-14.3\" font-family=\"Times,serif\" font-size=\"14.00\" fill=\"#000000\">test_L1_N1</text>\n",
       "</g>\n",
       "<!-- test_L0_Bias&#45;&gt;test_L1_N1 -->\n",
       "<g id=\"edge3\" class=\"edge\">\n",
       "<title>test_L0_Bias&#45;&gt;test_L1_N1</title>\n",
       "<path fill=\"none\" stroke=\"#000000\" d=\"M83.4612,-87.2605C92.0525,-76.3232 104.2948,-62.7606 117.8437,-54 132.0692,-44.802 148.8755,-37.7277 164.9398,-32.386\"/>\n",
       "<polygon fill=\"#000000\" stroke=\"#000000\" points=\"166.3268,-35.6189 174.8165,-29.2805 164.2271,-28.9412 166.3268,-35.6189\"/>\n",
       "<text text-anchor=\"middle\" x=\"133.8437\" y=\"-57.8\" font-family=\"Times,serif\" font-size=\"14.00\" fill=\"#000000\">2.00</text>\n",
       "</g>\n",
       "<!-- test_L0_N0 -->\n",
       "<g id=\"node3\" class=\"node\">\n",
       "<title>test_L0_N0</title>\n",
       "<ellipse fill=\"none\" stroke=\"#000000\" cx=\"227.8437\" cy=\"-105\" rx=\"64.9885\" ry=\"18\"/>\n",
       "<text text-anchor=\"middle\" x=\"227.8437\" y=\"-101.3\" font-family=\"Times,serif\" font-size=\"14.00\" fill=\"#000000\">test_L0_N0</text>\n",
       "</g>\n",
       "<!-- test_L0_N0&#45;&gt;test_L1_N0 -->\n",
       "<g id=\"edge2\" class=\"edge\">\n",
       "<title>test_L0_N0&#45;&gt;test_L1_N0</title>\n",
       "<path fill=\"none\" stroke=\"#000000\" d=\"M205.5312,-88.0487C191.1901,-77.555 171.9227,-64.1874 153.8437,-54 143.1665,-47.9835 131.2973,-42.1923 120.0405,-37.0794\"/>\n",
       "<polygon fill=\"#000000\" stroke=\"#000000\" points=\"121.3276,-33.8213 110.7684,-32.954 118.482,-40.2169 121.3276,-33.8213\"/>\n",
       "<text text-anchor=\"middle\" x=\"193.8437\" y=\"-57.8\" font-family=\"Times,serif\" font-size=\"14.00\" fill=\"#000000\">2.00</text>\n",
       "</g>\n",
       "<!-- test_L0_N0&#45;&gt;test_L1_N1 -->\n",
       "<g id=\"edge4\" class=\"edge\">\n",
       "<title>test_L0_N0&#45;&gt;test_L1_N1</title>\n",
       "<path fill=\"none\" stroke=\"#000000\" d=\"M227.4293,-86.9735C227.1585,-75.1918 226.7991,-59.5607 226.491,-46.1581\"/>\n",
       "<polygon fill=\"#000000\" stroke=\"#000000\" points=\"229.9866,-45.9202 226.2576,-36.0034 222.9884,-46.0812 229.9866,-45.9202\"/>\n",
       "<text text-anchor=\"middle\" x=\"242.8437\" y=\"-57.8\" font-family=\"Times,serif\" font-size=\"14.00\" fill=\"#000000\">3.00</text>\n",
       "</g>\n",
       "</g>\n",
       "</svg>\n"
      ],
      "text/plain": [
       "<graphviz.dot.Digraph at 0x7f73ed645710>"
      ]
     },
     "execution_count": 52,
     "metadata": {},
     "output_type": "execute_result"
    }
   ],
   "source": [
    "from graphviz import Digraph\n",
    "import random \n",
    "\n",
    "class Network:\n",
    "    def __init__(self) -> None:\n",
    "        self.layers = []\n",
    "    \n",
    "    def __repr__(self) -> str:\n",
    "        return \"Network(\" + str(self.layers) + \")\"\n",
    "    \n",
    "    def __init__(self, layer_types: list, size: list, weights=None, gen_type=\"0|1\") -> None:\n",
    "        assert len(layer_types) == len(size) - 1, \"Invalid matrix dimension\"\n",
    "        self.layers = []\n",
    "        for i, layer_type in enumerate(layer_types):\n",
    "            if layer_type == \"sigmoid\":\n",
    "                self.addLayerBack(SigmoidLayer(size[i + 1], weights[i] if weights else Network.generate(gen_type, (size[i + 1], size[i] + 1))))\n",
    "            elif layer_type == \"linear\":\n",
    "                self.addLayerBack(LinearLayer(size[i + 1], weights[i] if weights else Network.generate(gen_type, (size[i + 1], size[i] + 1))))\n",
    "            else:\n",
    "                logging.error(\"Invalid layer type\")\n",
    "    \n",
    "    @staticmethod\n",
    "    def batch_partition(list_in, n):\n",
    "        random.shuffle(list_in)\n",
    "        return [list_in[(i * n):(i * n + n)] for i in range(int((len(list_in) + n - 1) / n))]\n",
    "        \n",
    "    def generate(gen_type: str, n: tuple) -> np.array:\n",
    "        if gen_type == \"0|1\":\n",
    "            return np.random.uniform(0, 1, n)\n",
    "        elif gen_type == \"-1|1\":\n",
    "            return np.random.uniform(-1, 1, n)\n",
    "        elif gen_type == \"norm\":\n",
    "            return np.random.normal(0, 1, n)\n",
    "        \n",
    "    \n",
    "    def addLayerBack(self, layer: Layer) -> None:\n",
    "        self.layers.append(layer)\n",
    "    \n",
    "    def forward(self, x: list) -> list:\n",
    "        input = x\n",
    "        for layer in self.layers:\n",
    "            out = []\n",
    "            for val in input:\n",
    "                tmp = layer.evaluate(val)\n",
    "                out.append(tmp)\n",
    "            input = out\n",
    "        return input\n",
    "    \n",
    "    def draw(self, prefix='', graph=None) -> None:\n",
    "        g = Digraph(format='svg', name=\"neural network\")\n",
    "        if graph is not None:\n",
    "            g = graph\n",
    "        for idx, layer in enumerate(self.layers):\n",
    "            current_id = idx + 1\n",
    "            # create bias neuron\n",
    "            bias_name = '%s_L%s_Bias' % (prefix, idx)\n",
    "            g.node(bias_name)\n",
    "            for n_i, neuron in enumerate(layer.neurons):\n",
    "                # create dot for neuron\n",
    "                neuron_name = '%s_L%s_N%s' % (prefix, current_id, n_i)\n",
    "                g.node(neuron_name)\n",
    "                # create dots and edges for parents\n",
    "                for w_i, weight in enumerate(neuron.weights):\n",
    "                    if w_i == 0:\n",
    "                        g.edge(bias_name, neuron_name, label=format(weight, '.2f'))\n",
    "                    else:\n",
    "                        p_name = '%s_L%s_N%s' % (prefix, idx, w_i - 1)\n",
    "                        g.node(p_name)\n",
    "                        g.edge(p_name, neuron_name, label=format(weight, '.2f'))\n",
    "        return g\n",
    "            \n",
    "    def backward_propagate_error(self, expected):\n",
    "        for i in reversed(range(len(self.layers))):\n",
    "            layer = self.layers[i]\n",
    "            errors = list()\n",
    "            if i != len(self.layers) - 1:\n",
    "                for j in range(len(layer.neurons)):\n",
    "                    error = 0.0\n",
    "                    for neuron in self.layers[i + 1].neurons:\n",
    "                        error += (neuron.weights[j + 1] * neuron.delta)\n",
    "                    errors.append(error)\n",
    "            else:\n",
    "                for j, neuron in enumerate(layer.neurons):\n",
    "                    errors.append(expected[j] - neuron.output)\n",
    "            for j in range(len(layer.neurons)):\n",
    "                neuron = layer.neurons[j]\n",
    "                neuron.delta = errors[j] * neuron.derivative(neuron.output)\n",
    "                \n",
    "    def update_weights(self, row, l_rate):\n",
    "        for i in range(len(self.layers)):\n",
    "            inputs = row[:-1]\n",
    "            if i != 0:\n",
    "                inputs = [neuron.output for neuron in self.layers[i - 1].neurons]\n",
    "            for neuron in self.layers[i].neurons:\n",
    "                for j in range(len(inputs)):\n",
    "                    neuron.weights[j + 1] += l_rate * neuron['delta'] * inputs[j]\n",
    "                neuron.weights[0] += l_rate * neuron['delta']\n",
    "    \n",
    "    def train_network(self, train_data: list, l_rate=1e-3, n_epoch=5, n_outputs, batch_size=1) -> None:\n",
    "        for epoch in range(n_epoch):\n",
    "            sum_error = 0\n",
    "            for row in train:\n",
    "                outputs = self.forward([row[:-n_outputs]])\n",
    "                expected = row[-n_outputs]\n",
    "                sum_error += sum([(expected[i]-outputs[0][i])**2 for i in range(len(expected))])\n",
    "                self.backward_propagate_error(expected)\n",
    "                self.update_weights(network, row, l_rate)\n",
    "#             print('>epoch=%d, lrate=%.3f, error=%.3f' % (epoch, l_rate, sum_error)\n",
    "        \n",
    "\n",
    "# tests\n",
    "network = Network([\"linear\"], [1, 1], [[[1,2,3]]])\n",
    "assert network.forward([[2,3]]) == [[14]]\n",
    "\n",
    "network2 = Network([\"linear\"], [1, 2], [\n",
    "        [[1,2], [2, 3]]\n",
    "])\n",
    "assert network2.forward([[5]]) == [[11, 17]]\n",
    "network2.draw(\"test\")\n",
    "# https://machinelearningmastery.com/implement-backpropagation-algorithm-scratch-python/"
   ]
  },
  {
   "cell_type": "code",
   "execution_count": 53,
   "metadata": {},
   "outputs": [
    {
     "name": "stdout",
     "output_type": "stream",
     "text": [
      "Network([Layer([SigmoidNeuron(weights: [0.76377, 0.1343, 0.8474], output: 0.7105, delta: -0.0005303029745276928)]), Layer([SigmoidNeuron(weights: [0.4954, 0.255], output: 0.6213, delta: -0.146183384403), SigmoidNeuron(weights: [0.65159, 0.44949], output: 0.6573, delta: 0.077195474517)])])\n"
     ]
    }
   ],
   "source": [
    "test = Network([\"sigmoid\", \"sigmoid\"], [2,1,2], [\n",
    "        [[0.76377, 0.1343, 0.8474]],\n",
    "        [[0.4954, 0.255], [0.65159, 0.44949]]\n",
    "    ])\n",
    "row = [[1, 0]]\n",
    "test.layers[0].neurons[0].output = 0.7105\n",
    "test.layers[1].neurons[0].output = 0.6213\n",
    "test.layers[1].neurons[1].output = 0.6573\n",
    "expected = [0, 1]\n",
    "test.backward_propagate_error(expected)\n",
    "print(test)"
   ]
  },
  {
   "cell_type": "code",
   "execution_count": 56,
   "metadata": {},
   "outputs": [
    {
     "data": {
      "text/plain": [
       "[[5], [1], [2], [3], [6], [7], [4]]"
      ]
     },
     "execution_count": 56,
     "metadata": {},
     "output_type": "execute_result"
    }
   ],
   "source": [
    "a = [1,2,3,4,5,6,7]\n",
    "Network.batch_partition(a, 1)"
   ]
  },
  {
   "cell_type": "code",
   "execution_count": 71,
   "metadata": {},
   "outputs": [
    {
     "data": {
      "image/svg+xml": [
       "<?xml version=\"1.0\" encoding=\"UTF-8\" standalone=\"no\"?>\n",
       "<!DOCTYPE svg PUBLIC \"-//W3C//DTD SVG 1.1//EN\"\n",
       " \"http://www.w3.org/Graphics/SVG/1.1/DTD/svg11.dtd\">\n",
       "<!-- Generated by graphviz version 2.46.1 (20210222.2046)\n",
       " -->\n",
       "<!-- Title: neural network Pages: 1 -->\n",
       "<svg width=\"642pt\" height=\"218pt\"\n",
       " viewBox=\"0.00 0.00 641.54 218.00\" xmlns=\"http://www.w3.org/2000/svg\" xmlns:xlink=\"http://www.w3.org/1999/xlink\">\n",
       "<g id=\"graph0\" class=\"graph\" transform=\"scale(1 1) rotate(0) translate(4 214)\">\n",
       "<title>neural network</title>\n",
       "<polygon fill=\"white\" stroke=\"transparent\" points=\"-4,4 -4,-214 637.54,-214 637.54,4 -4,4\"/>\n",
       "<!-- _L0_Bias -->\n",
       "<g id=\"node1\" class=\"node\">\n",
       "<title>_L0_Bias</title>\n",
       "<ellipse fill=\"none\" stroke=\"black\" cx=\"174.2\" cy=\"-192\" rx=\"51.19\" ry=\"18\"/>\n",
       "<text text-anchor=\"middle\" x=\"174.2\" y=\"-188.3\" font-family=\"Times-Roman\" font-size=\"14.00\">_L0_Bias</text>\n",
       "</g>\n",
       "<!-- _L1_N0 -->\n",
       "<g id=\"node2\" class=\"node\">\n",
       "<title>_L1_N0</title>\n",
       "<ellipse fill=\"none\" stroke=\"black\" cx=\"362.2\" cy=\"-105\" rx=\"44.39\" ry=\"18\"/>\n",
       "<text text-anchor=\"middle\" x=\"362.2\" y=\"-101.3\" font-family=\"Times-Roman\" font-size=\"14.00\">_L1_N0</text>\n",
       "</g>\n",
       "<!-- _L0_Bias&#45;&gt;_L1_N0 -->\n",
       "<g id=\"edge1\" class=\"edge\">\n",
       "<title>_L0_Bias&#45;&gt;_L1_N0</title>\n",
       "<path fill=\"none\" stroke=\"black\" d=\"M210.83,-179.13C227.07,-173.19 246.1,-165.29 262.2,-156 271.51,-150.62 271.96,-146.51 281.2,-141 293.46,-133.68 307.54,-127.05 320.48,-121.58\"/>\n",
       "<polygon fill=\"black\" stroke=\"black\" points=\"322.18,-124.66 330.1,-117.63 319.52,-118.19 322.18,-124.66\"/>\n",
       "<text text-anchor=\"middle\" x=\"297.2\" y=\"-144.8\" font-family=\"Times-Roman\" font-size=\"14.00\">0.75</text>\n",
       "</g>\n",
       "<!-- _L1_N1 -->\n",
       "<g id=\"node4\" class=\"node\">\n",
       "<title>_L1_N1</title>\n",
       "<ellipse fill=\"none\" stroke=\"black\" cx=\"44.2\" cy=\"-105\" rx=\"44.39\" ry=\"18\"/>\n",
       "<text text-anchor=\"middle\" x=\"44.2\" y=\"-101.3\" font-family=\"Times-Roman\" font-size=\"14.00\">_L1_N1</text>\n",
       "</g>\n",
       "<!-- _L0_Bias&#45;&gt;_L1_N1 -->\n",
       "<g id=\"edge3\" class=\"edge\">\n",
       "<title>_L0_Bias&#45;&gt;_L1_N1</title>\n",
       "<path fill=\"none\" stroke=\"black\" d=\"M125.73,-185.91C87.76,-180.8 39.39,-171.44 27.2,-156 21.66,-149 22.8,-140.09 26.33,-131.74\"/>\n",
       "<polygon fill=\"black\" stroke=\"black\" points=\"29.54,-133.15 31.1,-122.67 23.35,-129.89 29.54,-133.15\"/>\n",
       "<text text-anchor=\"middle\" x=\"43.2\" y=\"-144.8\" font-family=\"Times-Roman\" font-size=\"14.00\">0.79</text>\n",
       "</g>\n",
       "<!-- _L1_N2 -->\n",
       "<g id=\"node5\" class=\"node\">\n",
       "<title>_L1_N2</title>\n",
       "<ellipse fill=\"none\" stroke=\"black\" cx=\"256.2\" cy=\"-105\" rx=\"44.39\" ry=\"18\"/>\n",
       "<text text-anchor=\"middle\" x=\"256.2\" y=\"-101.3\" font-family=\"Times-Roman\" font-size=\"14.00\">_L1_N2</text>\n",
       "</g>\n",
       "<!-- _L0_Bias&#45;&gt;_L1_N2 -->\n",
       "<g id=\"edge5\" class=\"edge\">\n",
       "<title>_L0_Bias&#45;&gt;_L1_N2</title>\n",
       "<path fill=\"none\" stroke=\"black\" d=\"M170.17,-173.87C168.74,-163.51 168.81,-150.51 175.2,-141 179.94,-133.93 195.85,-126.4 212.32,-120.14\"/>\n",
       "<polygon fill=\"black\" stroke=\"black\" points=\"213.8,-123.33 222,-116.62 211.41,-116.75 213.8,-123.33\"/>\n",
       "<text text-anchor=\"middle\" x=\"191.2\" y=\"-144.8\" font-family=\"Times-Roman\" font-size=\"14.00\">0.59</text>\n",
       "</g>\n",
       "<!-- _L1_N3 -->\n",
       "<g id=\"node6\" class=\"node\">\n",
       "<title>_L1_N3</title>\n",
       "<ellipse fill=\"none\" stroke=\"black\" cx=\"150.2\" cy=\"-105\" rx=\"44.39\" ry=\"18\"/>\n",
       "<text text-anchor=\"middle\" x=\"150.2\" y=\"-101.3\" font-family=\"Times-Roman\" font-size=\"14.00\">_L1_N3</text>\n",
       "</g>\n",
       "<!-- _L0_Bias&#45;&gt;_L1_N3 -->\n",
       "<g id=\"edge7\" class=\"edge\">\n",
       "<title>_L0_Bias&#45;&gt;_L1_N3</title>\n",
       "<path fill=\"none\" stroke=\"black\" d=\"M124.24,-187.76C102.43,-183.56 78.78,-174.63 65.2,-156 61.27,-150.61 61.49,-146.54 65.2,-141 67.98,-136.85 88.36,-128.39 108.47,-120.83\"/>\n",
       "<polygon fill=\"black\" stroke=\"black\" points=\"109.77,-124.08 117.93,-117.32 107.34,-117.51 109.77,-124.08\"/>\n",
       "<text text-anchor=\"middle\" x=\"81.2\" y=\"-144.8\" font-family=\"Times-Roman\" font-size=\"14.00\">0.73</text>\n",
       "</g>\n",
       "<!-- _L1_N4 -->\n",
       "<g id=\"node7\" class=\"node\">\n",
       "<title>_L1_N4</title>\n",
       "<ellipse fill=\"none\" stroke=\"black\" cx=\"468.2\" cy=\"-105\" rx=\"44.39\" ry=\"18\"/>\n",
       "<text text-anchor=\"middle\" x=\"468.2\" y=\"-101.3\" font-family=\"Times-Roman\" font-size=\"14.00\">_L1_N4</text>\n",
       "</g>\n",
       "<!-- _L0_Bias&#45;&gt;_L1_N4 -->\n",
       "<g id=\"edge9\" class=\"edge\">\n",
       "<title>_L0_Bias&#45;&gt;_L1_N4</title>\n",
       "<path fill=\"none\" stroke=\"black\" d=\"M220.47,-183.98C267.38,-176.57 336.6,-164.79 362.2,-156 375.92,-151.29 378.14,-147.34 391.2,-141 403.72,-134.92 417.53,-128.54 429.96,-122.92\"/>\n",
       "<polygon fill=\"black\" stroke=\"black\" points=\"431.46,-126.08 439.15,-118.79 428.59,-119.7 431.46,-126.08\"/>\n",
       "<text text-anchor=\"middle\" x=\"407.2\" y=\"-144.8\" font-family=\"Times-Roman\" font-size=\"14.00\">0.18</text>\n",
       "</g>\n",
       "<!-- _L2_N0 -->\n",
       "<g id=\"node9\" class=\"node\">\n",
       "<title>_L2_N0</title>\n",
       "<ellipse fill=\"none\" stroke=\"black\" cx=\"309.2\" cy=\"-18\" rx=\"44.39\" ry=\"18\"/>\n",
       "<text text-anchor=\"middle\" x=\"309.2\" y=\"-14.3\" font-family=\"Times-Roman\" font-size=\"14.00\">_L2_N0</text>\n",
       "</g>\n",
       "<!-- _L1_N0&#45;&gt;_L2_N0 -->\n",
       "<g id=\"edge12\" class=\"edge\">\n",
       "<title>_L1_N0&#45;&gt;_L2_N0</title>\n",
       "<path fill=\"none\" stroke=\"black\" d=\"M351.72,-87.21C344.1,-74.98 333.65,-58.21 325.01,-44.36\"/>\n",
       "<polygon fill=\"black\" stroke=\"black\" points=\"327.91,-42.39 319.65,-35.76 321.97,-46.1 327.91,-42.39\"/>\n",
       "<text text-anchor=\"middle\" x=\"354.2\" y=\"-57.8\" font-family=\"Times-Roman\" font-size=\"14.00\">0.78</text>\n",
       "</g>\n",
       "<!-- _L0_N0 -->\n",
       "<g id=\"node3\" class=\"node\">\n",
       "<title>_L0_N0</title>\n",
       "<ellipse fill=\"none\" stroke=\"black\" cx=\"339.2\" cy=\"-192\" rx=\"44.39\" ry=\"18\"/>\n",
       "<text text-anchor=\"middle\" x=\"339.2\" y=\"-188.3\" font-family=\"Times-Roman\" font-size=\"14.00\">_L0_N0</text>\n",
       "</g>\n",
       "<!-- _L0_N0&#45;&gt;_L1_N0 -->\n",
       "<g id=\"edge2\" class=\"edge\">\n",
       "<title>_L0_N0&#45;&gt;_L1_N0</title>\n",
       "<path fill=\"none\" stroke=\"black\" d=\"M380.21,-185.08C397.74,-180.3 416.58,-171.65 427.2,-156 436.93,-141.65 422.7,-129.64 405.09,-120.99\"/>\n",
       "<polygon fill=\"black\" stroke=\"black\" points=\"406.25,-117.67 395.69,-116.78 403.39,-124.06 406.25,-117.67\"/>\n",
       "<text text-anchor=\"middle\" x=\"446.2\" y=\"-144.8\" font-family=\"Times-Roman\" font-size=\"14.00\">0.40</text>\n",
       "</g>\n",
       "<!-- _L0_N0&#45;&gt;_L1_N1 -->\n",
       "<g id=\"edge4\" class=\"edge\">\n",
       "<title>_L0_N0&#45;&gt;_L1_N1</title>\n",
       "<path fill=\"none\" stroke=\"black\" d=\"M298.7,-184.45C241.19,-175.08 141.9,-158.71 134.2,-156 113.28,-148.65 91.51,-136.68 74.61,-126.3\"/>\n",
       "<polygon fill=\"black\" stroke=\"black\" points=\"76.1,-123.1 65.77,-120.73 72.37,-129.02 76.1,-123.1\"/>\n",
       "<text text-anchor=\"middle\" x=\"150.2\" y=\"-144.8\" font-family=\"Times-Roman\" font-size=\"14.00\">0.95</text>\n",
       "</g>\n",
       "<!-- _L0_N0&#45;&gt;_L1_N2 -->\n",
       "<g id=\"edge6\" class=\"edge\">\n",
       "<title>_L0_N0&#45;&gt;_L1_N2</title>\n",
       "<path fill=\"none\" stroke=\"black\" d=\"M334.6,-173.72C331.15,-163.31 325.56,-150.31 317.2,-141 310.96,-134.06 303.02,-128.15 294.94,-123.27\"/>\n",
       "<polygon fill=\"black\" stroke=\"black\" points=\"296.63,-120.21 286.2,-118.38 293.21,-126.31 296.63,-120.21\"/>\n",
       "<text text-anchor=\"middle\" x=\"342.2\" y=\"-144.8\" font-family=\"Times-Roman\" font-size=\"14.00\">0.75</text>\n",
       "</g>\n",
       "<!-- _L0_N0&#45;&gt;_L1_N3 -->\n",
       "<g id=\"edge8\" class=\"edge\">\n",
       "<title>_L0_N0&#45;&gt;_L1_N3</title>\n",
       "<path fill=\"none\" stroke=\"black\" d=\"M300.93,-182.88C278.37,-177.19 249.73,-168.38 226.2,-156 216.67,-150.99 216.02,-147.16 207.2,-141 199.66,-135.74 191.33,-130.38 183.42,-125.49\"/>\n",
       "<polygon fill=\"black\" stroke=\"black\" points=\"185.09,-122.41 174.73,-120.2 181.45,-128.39 185.09,-122.41\"/>\n",
       "<text text-anchor=\"middle\" x=\"242.2\" y=\"-144.8\" font-family=\"Times-Roman\" font-size=\"14.00\">0.13</text>\n",
       "</g>\n",
       "<!-- _L0_N0&#45;&gt;_L1_N4 -->\n",
       "<g id=\"edge10\" class=\"edge\">\n",
       "<title>_L0_N0&#45;&gt;_L1_N4</title>\n",
       "<path fill=\"none\" stroke=\"black\" d=\"M380.02,-185.05C412.92,-179.34 455.43,-169.57 466.2,-156 471.23,-149.66 472.86,-141.31 472.91,-133.26\"/>\n",
       "<polygon fill=\"black\" stroke=\"black\" points=\"476.38,-132.77 472.2,-123.03 469.4,-133.25 476.38,-132.77\"/>\n",
       "<text text-anchor=\"middle\" x=\"488.2\" y=\"-144.8\" font-family=\"Times-Roman\" font-size=\"14.00\">0.68</text>\n",
       "</g>\n",
       "<!-- _L1_N1&#45;&gt;_L2_N0 -->\n",
       "<g id=\"edge13\" class=\"edge\">\n",
       "<title>_L1_N1&#45;&gt;_L2_N0</title>\n",
       "<path fill=\"none\" stroke=\"black\" d=\"M75.4,-92.15C103.63,-81.59 146.44,-66.01 184.2,-54 210.13,-45.75 239.41,-37.5 263.11,-31.08\"/>\n",
       "<polygon fill=\"black\" stroke=\"black\" points=\"264.15,-34.42 272.9,-28.44 262.33,-27.66 264.15,-34.42\"/>\n",
       "<text text-anchor=\"middle\" x=\"200.2\" y=\"-57.8\" font-family=\"Times-Roman\" font-size=\"14.00\">0.61</text>\n",
       "</g>\n",
       "<!-- _L1_N2&#45;&gt;_L2_N0 -->\n",
       "<g id=\"edge14\" class=\"edge\">\n",
       "<title>_L1_N2&#45;&gt;_L2_N0</title>\n",
       "<path fill=\"none\" stroke=\"black\" d=\"M266.67,-87.21C274.29,-74.98 284.75,-58.21 293.38,-44.36\"/>\n",
       "<polygon fill=\"black\" stroke=\"black\" points=\"296.43,-46.1 298.75,-35.76 290.49,-42.39 296.43,-46.1\"/>\n",
       "<text text-anchor=\"middle\" x=\"302.2\" y=\"-57.8\" font-family=\"Times-Roman\" font-size=\"14.00\">0.48</text>\n",
       "</g>\n",
       "<!-- _L1_N3&#45;&gt;_L2_N0 -->\n",
       "<g id=\"edge15\" class=\"edge\">\n",
       "<title>_L1_N3&#45;&gt;_L2_N0</title>\n",
       "<path fill=\"none\" stroke=\"black\" d=\"M176.1,-90.15C202.86,-75.85 244.78,-53.44 274.42,-37.59\"/>\n",
       "<polygon fill=\"black\" stroke=\"black\" points=\"276.4,-40.5 283.57,-32.7 273.1,-34.33 276.4,-40.5\"/>\n",
       "<text text-anchor=\"middle\" x=\"256.2\" y=\"-57.8\" font-family=\"Times-Roman\" font-size=\"14.00\">0.79</text>\n",
       "</g>\n",
       "<!-- _L1_N4&#45;&gt;_L2_N0 -->\n",
       "<g id=\"edge16\" class=\"edge\">\n",
       "<title>_L1_N4&#45;&gt;_L2_N0</title>\n",
       "<path fill=\"none\" stroke=\"black\" d=\"M442.3,-90.15C415.54,-75.85 373.61,-53.44 343.98,-37.59\"/>\n",
       "<polygon fill=\"black\" stroke=\"black\" points=\"345.29,-34.33 334.82,-32.7 341.99,-40.5 345.29,-34.33\"/>\n",
       "<text text-anchor=\"middle\" x=\"414.2\" y=\"-57.8\" font-family=\"Times-Roman\" font-size=\"14.00\">0.55</text>\n",
       "</g>\n",
       "<!-- _L1_Bias -->\n",
       "<g id=\"node8\" class=\"node\">\n",
       "<title>_L1_Bias</title>\n",
       "<ellipse fill=\"none\" stroke=\"black\" cx=\"582.2\" cy=\"-105\" rx=\"51.19\" ry=\"18\"/>\n",
       "<text text-anchor=\"middle\" x=\"582.2\" y=\"-101.3\" font-family=\"Times-Roman\" font-size=\"14.00\">_L1_Bias</text>\n",
       "</g>\n",
       "<!-- _L1_Bias&#45;&gt;_L2_N0 -->\n",
       "<g id=\"edge11\" class=\"edge\">\n",
       "<title>_L1_Bias&#45;&gt;_L2_N0</title>\n",
       "<path fill=\"none\" stroke=\"black\" d=\"M547.38,-91.66C517.49,-81.2 473.2,-66.04 434.2,-54 408.1,-45.94 378.7,-37.67 354.97,-31.19\"/>\n",
       "<polygon fill=\"black\" stroke=\"black\" points=\"355.74,-27.78 345.17,-28.53 353.91,-34.53 355.74,-27.78\"/>\n",
       "<text text-anchor=\"middle\" x=\"494.2\" y=\"-57.8\" font-family=\"Times-Roman\" font-size=\"14.00\">0.18</text>\n",
       "</g>\n",
       "</g>\n",
       "</svg>\n"
      ],
      "text/plain": [
       "<graphviz.dot.Digraph at 0x7f462dc37250>"
      ]
     },
     "execution_count": 71,
     "metadata": {},
     "output_type": "execute_result"
    }
   ],
   "source": [
    "network3 = Network([\"sigmoid\", \"linear\"], [1, 5, 1])\n",
    "network3.draw()"
   ]
  },
  {
   "cell_type": "markdown",
   "metadata": {},
   "source": [
    "# Zbiór square-simple"
   ]
  },
  {
   "cell_type": "code",
   "execution_count": 25,
   "metadata": {
    "collapsed": true
   },
   "outputs": [],
   "source": [
    "train_df = pd.read_csv('./mio1/regression/square-simple-training.csv', index_col=0)\n",
    "test_df = pd.read_csv('./mio1/regression/square-simple-test.csv', index_col=0)"
   ]
  },
  {
   "cell_type": "markdown",
   "metadata": {},
   "source": [
    "### jedna warstwa ukryta, 5 neuronów"
   ]
  },
  {
   "cell_type": "code",
   "execution_count": 72,
   "metadata": {},
   "outputs": [
    {
     "data": {
      "text/plain": [
       "<matplotlib.collections.PathCollection at 0x7f462dbfbdf0>"
      ]
     },
     "execution_count": 72,
     "metadata": {},
     "output_type": "execute_result"
    },
    {
     "data": {
      "image/png": "[encoded data removed]",
      "text/plain": [
       "<Figure size 432x288 with 1 Axes>"
      ]
     },
     "metadata": {
      "needs_background": "light"
     },
     "output_type": "display_data"
    }
   ],
   "source": [
    "mlp = Network([\"sigmoid\", \"linear\"], [1,5,1], [\n",
    "    [\n",
    "        [5, 1],\n",
    "        [1, 1],\n",
    "        [1, 1],\n",
    "        [1, 1],\n",
    "        [-5, 1]\n",
    "    ],\n",
    "    [\n",
    "        [9750,-10000,0,0,0,10000]\n",
    "    ]])\n",
    "y_pred = mlp.forward(np.expand_dims(train_df['x'], 1))\n",
    "y_pred = np.squeeze(y_pred)\n",
    "plt.scatter(train_df['x'], train_df['y'], color='green')\n",
    "plt.scatter(train_df['x'], y_pred, color='red')"
   ]
  },
  {
   "cell_type": "markdown",
   "metadata": {},
   "source": [
    "##### Wynik na zbiorze treningowym"
   ]
  },
  {
   "cell_type": "code",
   "execution_count": 25,
   "metadata": {},
   "outputs": [
    {
     "data": {
      "text/plain": [
       "8.534895752851826"
      ]
     },
     "execution_count": 25,
     "metadata": {},
     "output_type": "execute_result"
    }
   ],
   "source": [
    "metrics.mean_absolute_error(train_df['y'], y_pred)"
   ]
  },
  {
   "cell_type": "markdown",
   "metadata": {
    "collapsed": true
   },
   "source": [
    "##### Wynik na zbiorze testowym"
   ]
  },
  {
   "cell_type": "code",
   "execution_count": 74,
   "metadata": {},
   "outputs": [
    {
     "data": {
      "text/plain": [
       "79.42465322775806"
      ]
     },
     "execution_count": 74,
     "metadata": {},
     "output_type": "execute_result"
    }
   ],
   "source": [
    "y_pred = mlp.forward(np.expand_dims(test_df['x'], 1))\n",
    "y_pred = np.squeeze(y_pred)\n",
    "metrics.mean_absolute_error(test_df['y'], y_pred)"
   ]
  },
  {
   "cell_type": "markdown",
   "metadata": {},
   "source": [
    "# Zbiór steps-large"
   ]
  },
  {
   "cell_type": "code",
   "execution_count": 75,
   "metadata": {
    "collapsed": true
   },
   "outputs": [],
   "source": [
    "train_df = pd.read_csv('./mio1/regression/steps-large-training.csv', index_col=0)\n",
    "test_df = pd.read_csv('./mio1/regression/steps-large-test.csv', index_col=0)"
   ]
  },
  {
   "cell_type": "markdown",
   "metadata": {},
   "source": [
    "### Jedna warstwa ukryta, 10 neuronów"
   ]
  },
  {
   "cell_type": "code",
   "execution_count": 76,
   "metadata": {},
   "outputs": [
    {
     "data": {
      "text/plain": [
       "<matplotlib.collections.PathCollection at 0x7f465c5f4370>"
      ]
     },
     "execution_count": 76,
     "metadata": {},
     "output_type": "execute_result"
    },
    {
     "data": {
      "image/png": "[encoded data removed]",
      "text/plain": [
       "<Figure size 432x288 with 1 Axes>"
      ]
     },
     "metadata": {
      "needs_background": "light"
     },
     "output_type": "display_data"
    }
   ],
   "source": [
    "mlp = Network([\"sigmoid\", \"linear\"], [1, 10, 1], [\n",
    "    [\n",
    "        [-8, 10],\n",
    "        [-15, 10],\n",
    "        [8, 10],\n",
    "        [1, 1],\n",
    "        [1, 1],\n",
    "        [1, 1],\n",
    "        [1, 1],\n",
    "        [1, 1],\n",
    "        [1, 1],\n",
    "        [1, 1]\n",
    "    ],\n",
    "    [\n",
    "        [-75, 75, 75, 75, 0, 0, 0, 0, 0, 0, 0]\n",
    "    ]])\n",
    "y_pred = mlp.forward(np.expand_dims(train_df['x'], 1))\n",
    "y_pred = np.squeeze(y_pred)\n",
    "plt.scatter(train_df['x'], train_df['y'], color='green')\n",
    "plt.scatter(train_df['x'], y_pred, color='red')"
   ]
  },
  {
   "cell_type": "markdown",
   "metadata": {},
   "source": [
    "##### Wynik na zbiorze treningowym"
   ]
  },
  {
   "cell_type": "code",
   "execution_count": 77,
   "metadata": {},
   "outputs": [
    {
     "data": {
      "text/plain": [
       "19.285010695832717"
      ]
     },
     "execution_count": 77,
     "metadata": {},
     "output_type": "execute_result"
    }
   ],
   "source": [
    "metrics.mean_absolute_error(train_df['y'], y_pred)"
   ]
  },
  {
   "cell_type": "markdown",
   "metadata": {},
   "source": [
    "##### Wynik na zbiorze testowym"
   ]
  },
  {
   "cell_type": "code",
   "execution_count": 78,
   "metadata": {},
   "outputs": [
    {
     "data": {
      "text/plain": [
       "19.104502371942342"
      ]
     },
     "execution_count": 78,
     "metadata": {},
     "output_type": "execute_result"
    }
   ],
   "source": [
    "y_pred = mlp.forward(np.expand_dims(test_df['x'], 1))\n",
    "y_pred = np.squeeze(y_pred)\n",
    "metrics.mean_absolute_error(test_df['y'], y_pred)"
   ]
  },
  {
   "cell_type": "markdown",
   "metadata": {},
   "source": [
    "### Dwie warstwy ukryte, po 5 neuronów każda"
   ]
  },
  {
   "cell_type": "code",
   "execution_count": 79,
   "metadata": {
    "collapsed": true
   },
   "outputs": [],
   "source": [
    "mlp = Network([\"sigmoid\", \"sigmoid\", \"linear\"], [1, 5, 5, 1], [\n",
    "    [\n",
    "        [1, 1],\n",
    "        [1, 1],\n",
    "        [1, 1],\n",
    "        [1, 1],\n",
    "        [1, 1]\n",
    "    ],\n",
    "    [\n",
    "        [1, 1],\n",
    "        [1, 1],\n",
    "        [1, 1],\n",
    "        [1, 1],\n",
    "        [1, 1]\n",
    "    ],\n",
    "    [\n",
    "        [-75, 75, 75, 75, 0, 0]\n",
    "    ]])"
   ]
  },
  {
   "cell_type": "code",
   "execution_count": 80,
   "metadata": {},
   "outputs": [
    {
     "data": {
      "image/svg+xml": [
       "<?xml version=\"1.0\" encoding=\"UTF-8\" standalone=\"no\"?>\n",
       "<!DOCTYPE svg PUBLIC \"-//W3C//DTD SVG 1.1//EN\"\n",
       " \"http://www.w3.org/Graphics/SVG/1.1/DTD/svg11.dtd\">\n",
       "<!-- Generated by graphviz version 2.46.1 (20210222.2046)\n",
       " -->\n",
       "<!-- Title: neural network Pages: 1 -->\n",
       "<svg width=\"706pt\" height=\"305pt\"\n",
       " viewBox=\"0.00 0.00 705.54 305.00\" xmlns=\"http://www.w3.org/2000/svg\" xmlns:xlink=\"http://www.w3.org/1999/xlink\">\n",
       "<g id=\"graph0\" class=\"graph\" transform=\"scale(1 1) rotate(0) translate(4 301)\">\n",
       "<title>neural network</title>\n",
       "<polygon fill=\"white\" stroke=\"transparent\" points=\"-4,4 -4,-301 701.54,-301 701.54,4 -4,4\"/>\n",
       "<!-- _L0_Bias -->\n",
       "<g id=\"node1\" class=\"node\">\n",
       "<title>_L0_Bias</title>\n",
       "<ellipse fill=\"none\" stroke=\"black\" cx=\"228.2\" cy=\"-279\" rx=\"51.19\" ry=\"18\"/>\n",
       "<text text-anchor=\"middle\" x=\"228.2\" y=\"-275.3\" font-family=\"Times-Roman\" font-size=\"14.00\">_L0_Bias</text>\n",
       "</g>\n",
       "<!-- _L1_N0 -->\n",
       "<g id=\"node2\" class=\"node\">\n",
       "<title>_L1_N0</title>\n",
       "<ellipse fill=\"none\" stroke=\"black\" cx=\"484.2\" cy=\"-192\" rx=\"44.39\" ry=\"18\"/>\n",
       "<text text-anchor=\"middle\" x=\"484.2\" y=\"-188.3\" font-family=\"Times-Roman\" font-size=\"14.00\">_L1_N0</text>\n",
       "</g>\n",
       "<!-- _L0_Bias&#45;&gt;_L1_N0 -->\n",
       "<g id=\"edge1\" class=\"edge\">\n",
       "<title>_L0_Bias&#45;&gt;_L1_N0</title>\n",
       "<path fill=\"none\" stroke=\"black\" d=\"M261.36,-265.24C277.91,-258.77 298.19,-250.67 316.2,-243 331.02,-236.69 333.91,-233.09 349.2,-228 384.6,-216.21 395.17,-219.71 431.2,-210 434.56,-209.09 438.04,-208.1 441.51,-207.07\"/>\n",
       "<polygon fill=\"black\" stroke=\"black\" points=\"442.72,-210.36 451.26,-204.09 440.67,-203.67 442.72,-210.36\"/>\n",
       "<text text-anchor=\"middle\" x=\"365.2\" y=\"-231.8\" font-family=\"Times-Roman\" font-size=\"14.00\">1.00</text>\n",
       "</g>\n",
       "<!-- _L1_N1 -->\n",
       "<g id=\"node4\" class=\"node\">\n",
       "<title>_L1_N1</title>\n",
       "<ellipse fill=\"none\" stroke=\"black\" cx=\"44.2\" cy=\"-192\" rx=\"44.39\" ry=\"18\"/>\n",
       "<text text-anchor=\"middle\" x=\"44.2\" y=\"-188.3\" font-family=\"Times-Roman\" font-size=\"14.00\">_L1_N1</text>\n",
       "</g>\n",
       "<!-- _L0_Bias&#45;&gt;_L1_N1 -->\n",
       "<g id=\"edge3\" class=\"edge\">\n",
       "<title>_L0_Bias&#45;&gt;_L1_N1</title>\n",
       "<path fill=\"none\" stroke=\"black\" d=\"M177.55,-275.42C146.57,-271.72 107.41,-263.05 78.2,-243 69.33,-236.92 62.12,-227.7 56.65,-218.83\"/>\n",
       "<polygon fill=\"black\" stroke=\"black\" points=\"59.55,-216.84 51.59,-209.85 53.46,-220.28 59.55,-216.84\"/>\n",
       "<text text-anchor=\"middle\" x=\"94.2\" y=\"-231.8\" font-family=\"Times-Roman\" font-size=\"14.00\">1.00</text>\n",
       "</g>\n",
       "<!-- _L1_N2 -->\n",
       "<g id=\"node5\" class=\"node\">\n",
       "<title>_L1_N2</title>\n",
       "<ellipse fill=\"none\" stroke=\"black\" cx=\"378.2\" cy=\"-192\" rx=\"44.39\" ry=\"18\"/>\n",
       "<text text-anchor=\"middle\" x=\"378.2\" y=\"-188.3\" font-family=\"Times-Roman\" font-size=\"14.00\">_L1_N2</text>\n",
       "</g>\n",
       "<!-- _L0_Bias&#45;&gt;_L1_N2 -->\n",
       "<g id=\"edge5\" class=\"edge\">\n",
       "<title>_L0_Bias&#45;&gt;_L1_N2</title>\n",
       "<path fill=\"none\" stroke=\"black\" d=\"M227.9,-260.92C228.65,-250.05 231.5,-236.47 240.2,-228 267.87,-201.06 287.87,-219.91 325.2,-210 328.57,-209.1 332.04,-208.12 335.52,-207.1\"/>\n",
       "<polygon fill=\"black\" stroke=\"black\" points=\"336.72,-210.39 345.27,-204.13 334.68,-203.7 336.72,-210.39\"/>\n",
       "<text text-anchor=\"middle\" x=\"256.2\" y=\"-231.8\" font-family=\"Times-Roman\" font-size=\"14.00\">1.00</text>\n",
       "</g>\n",
       "<!-- _L1_N3 -->\n",
       "<g id=\"node6\" class=\"node\">\n",
       "<title>_L1_N3</title>\n",
       "<ellipse fill=\"none\" stroke=\"black\" cx=\"272.2\" cy=\"-192\" rx=\"44.39\" ry=\"18\"/>\n",
       "<text text-anchor=\"middle\" x=\"272.2\" y=\"-188.3\" font-family=\"Times-Roman\" font-size=\"14.00\">_L1_N3</text>\n",
       "</g>\n",
       "<!-- _L0_Bias&#45;&gt;_L1_N3 -->\n",
       "<g id=\"edge7\" class=\"edge\">\n",
       "<title>_L0_Bias&#45;&gt;_L1_N3</title>\n",
       "<path fill=\"none\" stroke=\"black\" d=\"M180.29,-272.24C142.27,-265.71 98.65,-252.62 119.2,-228 133.52,-210.83 196.49,-215.37 218.2,-210 221.85,-209.1 225.61,-208.09 229.37,-207.02\"/>\n",
       "<polygon fill=\"black\" stroke=\"black\" points=\"230.66,-210.29 239.25,-204.09 228.67,-203.57 230.66,-210.29\"/>\n",
       "<text text-anchor=\"middle\" x=\"135.2\" y=\"-231.8\" font-family=\"Times-Roman\" font-size=\"14.00\">1.00</text>\n",
       "</g>\n",
       "<!-- _L1_N4 -->\n",
       "<g id=\"node7\" class=\"node\">\n",
       "<title>_L1_N4</title>\n",
       "<ellipse fill=\"none\" stroke=\"black\" cx=\"590.2\" cy=\"-192\" rx=\"44.39\" ry=\"18\"/>\n",
       "<text text-anchor=\"middle\" x=\"590.2\" y=\"-188.3\" font-family=\"Times-Roman\" font-size=\"14.00\">_L1_N4</text>\n",
       "</g>\n",
       "<!-- _L0_Bias&#45;&gt;_L1_N4 -->\n",
       "<g id=\"edge9\" class=\"edge\">\n",
       "<title>_L0_Bias&#45;&gt;_L1_N4</title>\n",
       "<path fill=\"none\" stroke=\"black\" d=\"M274.38,-270.75C327.63,-262.23 409.62,-248.55 423.2,-243 434.15,-238.52 434.28,-232.56 445.2,-228 483.64,-211.94 496.85,-220.38 537.2,-210 540.57,-209.13 544.05,-208.17 547.54,-207.16\"/>\n",
       "<polygon fill=\"black\" stroke=\"black\" points=\"548.73,-210.45 557.29,-204.21 546.71,-203.75 548.73,-210.45\"/>\n",
       "<text text-anchor=\"middle\" x=\"461.2\" y=\"-231.8\" font-family=\"Times-Roman\" font-size=\"14.00\">1.00</text>\n",
       "</g>\n",
       "<!-- _L2_N0 -->\n",
       "<g id=\"node9\" class=\"node\">\n",
       "<title>_L2_N0</title>\n",
       "<ellipse fill=\"none\" stroke=\"black\" cx=\"214.2\" cy=\"-105\" rx=\"44.39\" ry=\"18\"/>\n",
       "<text text-anchor=\"middle\" x=\"214.2\" y=\"-101.3\" font-family=\"Times-Roman\" font-size=\"14.00\">_L2_N0</text>\n",
       "</g>\n",
       "<!-- _L1_N0&#45;&gt;_L2_N0 -->\n",
       "<g id=\"edge12\" class=\"edge\">\n",
       "<title>_L1_N0&#45;&gt;_L2_N0</title>\n",
       "<path fill=\"none\" stroke=\"black\" d=\"M451.94,-179.62C445.15,-177.51 437.99,-175.51 431.2,-174 369.53,-160.29 348.44,-180.46 290.2,-156 280.28,-151.83 280.02,-147.16 271.2,-141 263.66,-135.74 255.33,-130.38 247.42,-125.49\"/>\n",
       "<polygon fill=\"black\" stroke=\"black\" points=\"249.09,-122.41 238.73,-120.2 245.45,-128.39 249.09,-122.41\"/>\n",
       "<text text-anchor=\"middle\" x=\"306.2\" y=\"-144.8\" font-family=\"Times-Roman\" font-size=\"14.00\">1.00</text>\n",
       "</g>\n",
       "<!-- _L2_N1 -->\n",
       "<g id=\"node10\" class=\"node\">\n",
       "<title>_L2_N1</title>\n",
       "<ellipse fill=\"none\" stroke=\"black\" cx=\"426.2\" cy=\"-105\" rx=\"44.39\" ry=\"18\"/>\n",
       "<text text-anchor=\"middle\" x=\"426.2\" y=\"-101.3\" font-family=\"Times-Roman\" font-size=\"14.00\">_L2_N1</text>\n",
       "</g>\n",
       "<!-- _L1_N0&#45;&gt;_L2_N1 -->\n",
       "<g id=\"edge14\" class=\"edge\">\n",
       "<title>_L1_N0&#45;&gt;_L2_N1</title>\n",
       "<path fill=\"none\" stroke=\"black\" d=\"M491.71,-174.16C495.08,-163.92 497.13,-150.93 491.2,-141 486.17,-132.59 478.35,-126.08 469.85,-121.09\"/>\n",
       "<polygon fill=\"black\" stroke=\"black\" points=\"471.33,-117.91 460.84,-116.42 468.11,-124.13 471.33,-117.91\"/>\n",
       "<text text-anchor=\"middle\" x=\"511.2\" y=\"-144.8\" font-family=\"Times-Roman\" font-size=\"14.00\">1.00</text>\n",
       "</g>\n",
       "<!-- _L2_N2 -->\n",
       "<g id=\"node11\" class=\"node\">\n",
       "<title>_L2_N2</title>\n",
       "<ellipse fill=\"none\" stroke=\"black\" cx=\"108.2\" cy=\"-105\" rx=\"44.39\" ry=\"18\"/>\n",
       "<text text-anchor=\"middle\" x=\"108.2\" y=\"-101.3\" font-family=\"Times-Roman\" font-size=\"14.00\">_L2_N2</text>\n",
       "</g>\n",
       "<!-- _L1_N0&#45;&gt;_L2_N2 -->\n",
       "<g id=\"edge16\" class=\"edge\">\n",
       "<title>_L1_N0&#45;&gt;_L2_N2</title>\n",
       "<path fill=\"none\" stroke=\"black\" d=\"M452.28,-179.41C445.41,-177.3 438.12,-175.34 431.2,-174 321.39,-152.77 284.47,-196.44 180.2,-156 170.17,-152.11 169.92,-147.3 161.2,-141 154.41,-136.09 146.99,-131.02 139.9,-126.31\"/>\n",
       "<polygon fill=\"black\" stroke=\"black\" points=\"141.46,-123.14 131.18,-120.57 137.61,-128.99 141.46,-123.14\"/>\n",
       "<text text-anchor=\"middle\" x=\"196.2\" y=\"-144.8\" font-family=\"Times-Roman\" font-size=\"14.00\">1.00</text>\n",
       "</g>\n",
       "<!-- _L2_N3 -->\n",
       "<g id=\"node12\" class=\"node\">\n",
       "<title>_L2_N3</title>\n",
       "<ellipse fill=\"none\" stroke=\"black\" cx=\"320.2\" cy=\"-105\" rx=\"44.39\" ry=\"18\"/>\n",
       "<text text-anchor=\"middle\" x=\"320.2\" y=\"-101.3\" font-family=\"Times-Roman\" font-size=\"14.00\">_L2_N3</text>\n",
       "</g>\n",
       "<!-- _L1_N0&#45;&gt;_L2_N3 -->\n",
       "<g id=\"edge18\" class=\"edge\">\n",
       "<title>_L1_N0&#45;&gt;_L2_N3</title>\n",
       "<path fill=\"none\" stroke=\"black\" d=\"M453.24,-178.86C438.16,-172.6 419.94,-164.5 404.2,-156 393.46,-150.2 391.6,-147.37 381.2,-141 372.54,-135.7 363.07,-130.15 354.24,-125.08\"/>\n",
       "<polygon fill=\"black\" stroke=\"black\" points=\"355.74,-121.9 345.31,-119.99 352.27,-127.98 355.74,-121.9\"/>\n",
       "<text text-anchor=\"middle\" x=\"420.2\" y=\"-144.8\" font-family=\"Times-Roman\" font-size=\"14.00\">1.00</text>\n",
       "</g>\n",
       "<!-- _L2_N4 -->\n",
       "<g id=\"node13\" class=\"node\">\n",
       "<title>_L2_N4</title>\n",
       "<ellipse fill=\"none\" stroke=\"black\" cx=\"532.2\" cy=\"-105\" rx=\"44.39\" ry=\"18\"/>\n",
       "<text text-anchor=\"middle\" x=\"532.2\" y=\"-101.3\" font-family=\"Times-Roman\" font-size=\"14.00\">_L2_N4</text>\n",
       "</g>\n",
       "<!-- _L1_N0&#45;&gt;_L2_N4 -->\n",
       "<g id=\"edge20\" class=\"edge\">\n",
       "<title>_L1_N0&#45;&gt;_L2_N4</title>\n",
       "<path fill=\"none\" stroke=\"black\" d=\"M517.61,-180.06C528.71,-174.66 539.84,-166.89 546.2,-156 550.46,-148.69 549.72,-140.03 547.07,-131.98\"/>\n",
       "<polygon fill=\"black\" stroke=\"black\" points=\"550.21,-130.44 543.09,-122.6 543.77,-133.17 550.21,-130.44\"/>\n",
       "<text text-anchor=\"middle\" x=\"566.2\" y=\"-144.8\" font-family=\"Times-Roman\" font-size=\"14.00\">1.00</text>\n",
       "</g>\n",
       "<!-- _L0_N0 -->\n",
       "<g id=\"node3\" class=\"node\">\n",
       "<title>_L0_N0</title>\n",
       "<ellipse fill=\"none\" stroke=\"black\" cx=\"393.2\" cy=\"-279\" rx=\"44.39\" ry=\"18\"/>\n",
       "<text text-anchor=\"middle\" x=\"393.2\" y=\"-275.3\" font-family=\"Times-Roman\" font-size=\"14.00\">_L0_N0</text>\n",
       "</g>\n",
       "<!-- _L0_N0&#45;&gt;_L1_N0 -->\n",
       "<g id=\"edge2\" class=\"edge\">\n",
       "<title>_L0_N0&#45;&gt;_L1_N0</title>\n",
       "<path fill=\"none\" stroke=\"black\" d=\"M433.79,-271.79C451.23,-266.94 470.12,-258.32 481.2,-243 485.87,-236.53 487.58,-228.28 487.85,-220.34\"/>\n",
       "<polygon fill=\"black\" stroke=\"black\" points=\"491.35,-220.15 487.5,-210.28 484.35,-220.4 491.35,-220.15\"/>\n",
       "<text text-anchor=\"middle\" x=\"503.2\" y=\"-231.8\" font-family=\"Times-Roman\" font-size=\"14.00\">1.00</text>\n",
       "</g>\n",
       "<!-- _L0_N0&#45;&gt;_L1_N1 -->\n",
       "<g id=\"edge4\" class=\"edge\">\n",
       "<title>_L0_N0&#45;&gt;_L1_N1</title>\n",
       "<path fill=\"none\" stroke=\"black\" d=\"M352.84,-271.54C304.13,-263.63 225.15,-250.36 196.2,-243 175.76,-237.81 171.21,-234.61 151.2,-228 130.24,-221.08 106.95,-213.45 87.47,-207.09\"/>\n",
       "<polygon fill=\"black\" stroke=\"black\" points=\"88.54,-203.76 77.95,-203.99 86.37,-210.42 88.54,-203.76\"/>\n",
       "<text text-anchor=\"middle\" x=\"212.2\" y=\"-231.8\" font-family=\"Times-Roman\" font-size=\"14.00\">1.00</text>\n",
       "</g>\n",
       "<!-- _L0_N0&#45;&gt;_L1_N2 -->\n",
       "<g id=\"edge6\" class=\"edge\">\n",
       "<title>_L0_N0&#45;&gt;_L1_N2</title>\n",
       "<path fill=\"none\" stroke=\"black\" d=\"M390.16,-260.8C388.11,-249.16 385.35,-233.55 383,-220.24\"/>\n",
       "<polygon fill=\"black\" stroke=\"black\" points=\"386.41,-219.41 381.23,-210.18 379.52,-220.63 386.41,-219.41\"/>\n",
       "<text text-anchor=\"middle\" x=\"403.2\" y=\"-231.8\" font-family=\"Times-Roman\" font-size=\"14.00\">1.00</text>\n",
       "</g>\n",
       "<!-- _L0_N0&#45;&gt;_L1_N3 -->\n",
       "<g id=\"edge8\" class=\"edge\">\n",
       "<title>_L0_N0&#45;&gt;_L1_N3</title>\n",
       "<path fill=\"none\" stroke=\"black\" d=\"M350.32,-274.24C327.69,-270.06 301.16,-261.29 284.2,-243 278.48,-236.83 275.34,-228.43 273.66,-220.28\"/>\n",
       "<polygon fill=\"black\" stroke=\"black\" points=\"277.11,-219.67 272.23,-210.27 270.18,-220.66 277.11,-219.67\"/>\n",
       "<text text-anchor=\"middle\" x=\"300.2\" y=\"-231.8\" font-family=\"Times-Roman\" font-size=\"14.00\">1.00</text>\n",
       "</g>\n",
       "<!-- _L0_N0&#45;&gt;_L1_N4 -->\n",
       "<g id=\"edge10\" class=\"edge\">\n",
       "<title>_L0_N0&#45;&gt;_L1_N4</title>\n",
       "<path fill=\"none\" stroke=\"black\" d=\"M433.26,-271.29C459.7,-265.9 494.6,-256.89 523.2,-243 538.15,-235.74 553.14,-224.96 565.14,-215.27\"/>\n",
       "<polygon fill=\"black\" stroke=\"black\" points=\"567.48,-217.88 572.93,-208.79 563,-212.5 567.48,-217.88\"/>\n",
       "<text text-anchor=\"middle\" x=\"563.2\" y=\"-231.8\" font-family=\"Times-Roman\" font-size=\"14.00\">1.00</text>\n",
       "</g>\n",
       "<!-- _L1_Bias -->\n",
       "<g id=\"node8\" class=\"node\">\n",
       "<title>_L1_Bias</title>\n",
       "<ellipse fill=\"none\" stroke=\"black\" cx=\"158.2\" cy=\"-192\" rx=\"51.19\" ry=\"18\"/>\n",
       "<text text-anchor=\"middle\" x=\"158.2\" y=\"-188.3\" font-family=\"Times-Roman\" font-size=\"14.00\">_L1_Bias</text>\n",
       "</g>\n",
       "<!-- _L1_Bias&#45;&gt;_L2_N0 -->\n",
       "<g id=\"edge11\" class=\"edge\">\n",
       "<title>_L1_Bias&#45;&gt;_L2_N0</title>\n",
       "<path fill=\"none\" stroke=\"black\" d=\"M139.19,-174.92C129.77,-164.96 121.83,-152.01 129.2,-141 131.98,-136.85 152.36,-128.39 172.47,-120.83\"/>\n",
       "<polygon fill=\"black\" stroke=\"black\" points=\"173.77,-124.08 181.93,-117.32 171.34,-117.51 173.77,-124.08\"/>\n",
       "<text text-anchor=\"middle\" x=\"145.2\" y=\"-144.8\" font-family=\"Times-Roman\" font-size=\"14.00\">1.00</text>\n",
       "</g>\n",
       "<!-- _L1_Bias&#45;&gt;_L2_N1 -->\n",
       "<g id=\"edge13\" class=\"edge\">\n",
       "<title>_L1_Bias&#45;&gt;_L2_N1</title>\n",
       "<path fill=\"none\" stroke=\"black\" d=\"M196.11,-179.77C203.72,-177.7 211.68,-175.67 219.2,-174 266.27,-163.51 282.11,-175.55 326.2,-156 336.03,-151.64 335.96,-146.51 345.2,-141 357.46,-133.68 371.54,-127.05 384.48,-121.58\"/>\n",
       "<polygon fill=\"black\" stroke=\"black\" points=\"386.18,-124.66 394.1,-117.63 383.52,-118.19 386.18,-124.66\"/>\n",
       "<text text-anchor=\"middle\" x=\"361.2\" y=\"-144.8\" font-family=\"Times-Roman\" font-size=\"14.00\">1.00</text>\n",
       "</g>\n",
       "<!-- _L1_Bias&#45;&gt;_L2_N2 -->\n",
       "<g id=\"edge15\" class=\"edge\">\n",
       "<title>_L1_Bias&#45;&gt;_L2_N2</title>\n",
       "<path fill=\"none\" stroke=\"black\" d=\"M120.4,-179.81C100.8,-173.16 79.8,-164.41 74.2,-156 68.16,-146.95 72.59,-137.03 79.99,-128.43\"/>\n",
       "<polygon fill=\"black\" stroke=\"black\" points=\"82.53,-130.84 87.07,-121.27 77.55,-125.92 82.53,-130.84\"/>\n",
       "<text text-anchor=\"middle\" x=\"90.2\" y=\"-144.8\" font-family=\"Times-Roman\" font-size=\"14.00\">1.00</text>\n",
       "</g>\n",
       "<!-- _L1_Bias&#45;&gt;_L2_N3 -->\n",
       "<g id=\"edge17\" class=\"edge\">\n",
       "<title>_L1_Bias&#45;&gt;_L2_N3</title>\n",
       "<path fill=\"none\" stroke=\"black\" d=\"M183.15,-176.2C193.43,-170.04 205.44,-162.75 216.2,-156 226.53,-149.51 228.44,-146.77 239.2,-141 252.12,-134.06 266.71,-127.41 279.91,-121.81\"/>\n",
       "<polygon fill=\"black\" stroke=\"black\" points=\"281.34,-125.01 289.23,-117.93 278.65,-118.54 281.34,-125.01\"/>\n",
       "<text text-anchor=\"middle\" x=\"255.2\" y=\"-144.8\" font-family=\"Times-Roman\" font-size=\"14.00\">1.00</text>\n",
       "</g>\n",
       "<!-- _L1_Bias&#45;&gt;_L2_N4 -->\n",
       "<g id=\"edge19\" class=\"edge\">\n",
       "<title>_L1_Bias&#45;&gt;_L2_N4</title>\n",
       "<path fill=\"none\" stroke=\"black\" d=\"M195.36,-179.44C203.17,-177.35 211.4,-175.4 219.2,-174 314.46,-156.93 346.16,-191.49 436.2,-156 446.21,-152.05 446.01,-146.6 455.2,-141 466.67,-134 479.79,-127.54 491.9,-122.11\"/>\n",
       "<polygon fill=\"black\" stroke=\"black\" points=\"493.58,-125.2 501.35,-118 490.78,-118.78 493.58,-125.2\"/>\n",
       "<text text-anchor=\"middle\" x=\"471.2\" y=\"-144.8\" font-family=\"Times-Roman\" font-size=\"14.00\">1.00</text>\n",
       "</g>\n",
       "<!-- _L3_N0 -->\n",
       "<g id=\"node15\" class=\"node\">\n",
       "<title>_L3_N0</title>\n",
       "<ellipse fill=\"none\" stroke=\"black\" cx=\"373.2\" cy=\"-18\" rx=\"44.39\" ry=\"18\"/>\n",
       "<text text-anchor=\"middle\" x=\"373.2\" y=\"-14.3\" font-family=\"Times-Roman\" font-size=\"14.00\">_L3_N0</text>\n",
       "</g>\n",
       "<!-- _L2_N0&#45;&gt;_L3_N0 -->\n",
       "<g id=\"edge22\" class=\"edge\">\n",
       "<title>_L2_N0&#45;&gt;_L3_N0</title>\n",
       "<path fill=\"none\" stroke=\"black\" d=\"M237.33,-89.63C254.24,-79.31 277.86,-65.29 299.2,-54 310.79,-47.86 323.65,-41.6 335.35,-36.1\"/>\n",
       "<polygon fill=\"black\" stroke=\"black\" points=\"336.85,-39.26 344.44,-31.87 333.89,-32.92 336.85,-39.26\"/>\n",
       "<text text-anchor=\"middle\" x=\"319.7\" y=\"-57.8\" font-family=\"Times-Roman\" font-size=\"14.00\">75.00</text>\n",
       "</g>\n",
       "<!-- _L2_N1&#45;&gt;_L3_N0 -->\n",
       "<g id=\"edge23\" class=\"edge\">\n",
       "<title>_L2_N1&#45;&gt;_L3_N0</title>\n",
       "<path fill=\"none\" stroke=\"black\" d=\"M415.72,-87.21C408.1,-74.98 397.65,-58.21 389.01,-44.36\"/>\n",
       "<polygon fill=\"black\" stroke=\"black\" points=\"391.91,-42.39 383.65,-35.76 385.97,-46.1 391.91,-42.39\"/>\n",
       "<text text-anchor=\"middle\" x=\"423.7\" y=\"-57.8\" font-family=\"Times-Roman\" font-size=\"14.00\">75.00</text>\n",
       "</g>\n",
       "<!-- _L2_N2&#45;&gt;_L3_N0 -->\n",
       "<g id=\"edge24\" class=\"edge\">\n",
       "<title>_L2_N2&#45;&gt;_L3_N0</title>\n",
       "<path fill=\"none\" stroke=\"black\" d=\"M136.33,-90.79C160.35,-79.87 196.02,-64.51 228.2,-54 259.66,-43.72 295.84,-34.98 324.2,-28.81\"/>\n",
       "<polygon fill=\"black\" stroke=\"black\" points=\"325.22,-32.17 334.27,-26.65 323.75,-25.32 325.22,-32.17\"/>\n",
       "<text text-anchor=\"middle\" x=\"248.7\" y=\"-57.8\" font-family=\"Times-Roman\" font-size=\"14.00\">75.00</text>\n",
       "</g>\n",
       "<!-- _L2_N3&#45;&gt;_L3_N0 -->\n",
       "<g id=\"edge25\" class=\"edge\">\n",
       "<title>_L2_N3&#45;&gt;_L3_N0</title>\n",
       "<path fill=\"none\" stroke=\"black\" d=\"M330.67,-87.21C338.29,-74.98 348.75,-58.21 357.38,-44.36\"/>\n",
       "<polygon fill=\"black\" stroke=\"black\" points=\"360.43,-46.1 362.75,-35.76 354.49,-42.39 360.43,-46.1\"/>\n",
       "<text text-anchor=\"middle\" x=\"366.2\" y=\"-57.8\" font-family=\"Times-Roman\" font-size=\"14.00\">0.00</text>\n",
       "</g>\n",
       "<!-- _L2_N4&#45;&gt;_L3_N0 -->\n",
       "<g id=\"edge26\" class=\"edge\">\n",
       "<title>_L2_N4&#45;&gt;_L3_N0</title>\n",
       "<path fill=\"none\" stroke=\"black\" d=\"M509.38,-89.57C492.68,-79.22 469.35,-65.19 448.2,-54 436.47,-47.79 423.45,-41.51 411.59,-36.02\"/>\n",
       "<polygon fill=\"black\" stroke=\"black\" points=\"412.93,-32.78 402.38,-31.8 410.01,-39.14 412.93,-32.78\"/>\n",
       "<text text-anchor=\"middle\" x=\"490.2\" y=\"-57.8\" font-family=\"Times-Roman\" font-size=\"14.00\">0.00</text>\n",
       "</g>\n",
       "<!-- _L2_Bias -->\n",
       "<g id=\"node14\" class=\"node\">\n",
       "<title>_L2_Bias</title>\n",
       "<ellipse fill=\"none\" stroke=\"black\" cx=\"646.2\" cy=\"-105\" rx=\"51.19\" ry=\"18\"/>\n",
       "<text text-anchor=\"middle\" x=\"646.2\" y=\"-101.3\" font-family=\"Times-Roman\" font-size=\"14.00\">_L2_Bias</text>\n",
       "</g>\n",
       "<!-- _L2_Bias&#45;&gt;_L3_N0 -->\n",
       "<g id=\"edge21\" class=\"edge\">\n",
       "<title>_L2_Bias&#45;&gt;_L3_N0</title>\n",
       "<path fill=\"none\" stroke=\"black\" d=\"M613.54,-90.93C586.19,-80.23 545.99,-65.12 510.2,-54 480.78,-44.86 447.29,-36.27 420.78,-29.89\"/>\n",
       "<polygon fill=\"black\" stroke=\"black\" points=\"421.53,-26.47 410.99,-27.56 419.91,-33.28 421.53,-26.47\"/>\n",
       "<text text-anchor=\"middle\" x=\"575.2\" y=\"-57.8\" font-family=\"Times-Roman\" font-size=\"14.00\">&#45;75.00</text>\n",
       "</g>\n",
       "</g>\n",
       "</svg>\n"
      ],
      "text/plain": [
       "<graphviz.dot.Digraph at 0x7f462db3ca90>"
      ]
     },
     "execution_count": 80,
     "metadata": {},
     "output_type": "execute_result"
    }
   ],
   "source": [
    "mlp.draw()"
   ]
  },
  {
   "cell_type": "code",
   "execution_count": null,
   "metadata": {
    "collapsed": true
   },
   "outputs": [],
   "source": []
  }
 ],
 "metadata": {
  "kernelspec": {
   "display_name": "Python 3",
   "language": "python",
   "name": "python3"
  },
  "language_info": {
   "codemirror_mode": {
    "name": "ipython",
    "version": 3
   },
   "file_extension": ".py",
   "mimetype": "text/x-python",
   "name": "python",
   "nbconvert_exporter": "python",
   "pygments_lexer": "ipython3",
   "version": "3.6.9"
  }
 },
 "nbformat": 4,
 "nbformat_minor": 4
}
