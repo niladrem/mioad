{
 "cells": [
  {
   "cell_type": "markdown",
   "metadata": {},
   "source": [
    "## Anna Urbala - PD8"
   ]
  },
  {
   "cell_type": "code",
   "execution_count": 1,
   "metadata": {},
   "outputs": [],
   "source": [
    "import pandas as pd\n",
    "import seaborn as sns\n",
    "from matplotlib import pyplot as plt\n",
    "import numpy as np\n",
    "import math\n",
    "from sklearn import metrics"
   ]
  },
  {
   "cell_type": "code",
   "execution_count": 25,
   "metadata": {},
   "outputs": [],
   "source": [
    "def gauss(x, t):\n",
    "    return math.exp(-(x * t)**2)\n",
    "\n",
    "def ricker_wavelet(x, t):\n",
    "    return math.exp(-((x * t)**2)) * (2-4*((x*t)**2)) * t * t\n",
    "\n",
    "def ricker_wavelet_mod(x, t):\n",
    "    return max(ricker_wavelet(x, 1), 0)\n",
    "\n",
    "class Kohonen:\n",
    "    def __init__(self, M, N, data, width=1, topology=\"square\"):\n",
    "        self.M = M\n",
    "        self.N = N\n",
    "        self.data = data \n",
    "        self.neurons = np.random.normal(0, np.max(data), size=(N*M, data.shape[1]))\n",
    "        self.width = width\n",
    "        self.norm_fun = np.linalg.norm\n",
    "        self.topology = topology\n",
    "        \n",
    "    @staticmethod\n",
    "    def alpha(t, l):\n",
    "        return math.exp(-t/l)\n",
    "    \n",
    "    def get_classes(self):\n",
    "        return [np.argmin([self.norm_fun(n-x) for n in self.neurons]) for x in self.data]\n",
    "    \n",
    "    def dist(self, n1, n2):\n",
    "        (i1, i2, j1, j2) = (n1 % self.N, n2 % self.N, math.floor(n1 / self.N), math.floor(n2 / self.N))\n",
    "        dist = self.norm_fun([i1 - i2, j1 - j2])\n",
    "        if self.topology == \"hex\":\n",
    "            x = 1.5 * (j1 - j2)\n",
    "            y = (i1 - i2) * math.sqrt(3) + ((j1 % 2) - (j2 % 2)) * math.sqrt(3) / 2.0\n",
    "            dist = self.norm_fun([x, y])\n",
    "        return self.width * dist\n",
    "    \n",
    "    def learn(self, l, neigh_fun=gauss):\n",
    "        for t in range(l):\n",
    "            tmp = np.random.permutation(len(self.data))\n",
    "            permutation = self.data[tmp]\n",
    "            for row in permutation:\n",
    "                n_min = np.argmin([self.norm_fun(row-n) for n in self.neurons])\n",
    "                for i, n in enumerate(self.neurons):\n",
    "                    self.neurons[i] += neigh_fun(self.dist(n_min, i), t+1) * self.alpha(t + 1, l)*(row - n)\n",
    "        return self.get_classes()"
   ]
  },
  {
   "cell_type": "markdown",
   "metadata": {},
   "source": [
    "### MNIST"
   ]
  },
  {
   "cell_type": "code",
   "execution_count": 27,
   "metadata": {},
   "outputs": [
    {
     "name": "stdout",
     "output_type": "stream",
     "text": [
      "(10000, 28, 28)\n",
      "(10000,)\n"
     ]
    }
   ],
   "source": [
    "from keras.datasets import mnist\n",
    "_, (train_X, train_y) = mnist.load_data()\n",
    "print(train_X.shape)\n",
    "print(train_y.shape)"
   ]
  },
  {
   "cell_type": "code",
   "execution_count": 28,
   "metadata": {},
   "outputs": [
    {
     "data": {
      "text/plain": [
       "(10000, 784)"
      ]
     },
     "execution_count": 28,
     "metadata": {},
     "output_type": "execute_result"
    }
   ],
   "source": [
    "train_X = train_X.reshape(train_X.shape[0], 784).astype('float32')\n",
    "train_X.shape"
   ]
  },
  {
   "cell_type": "markdown",
   "metadata": {},
   "source": [
    "##### gauss, width=1, MxN=25, square"
   ]
  },
  {
   "cell_type": "code",
   "execution_count": 35,
   "metadata": {},
   "outputs": [
    {
     "name": "stdout",
     "output_type": "stream",
     "text": [
      "completeness: 0.40712855958537647\n",
      "homogeneity: 0.5439305676561444\n",
      "25\n"
     ]
    }
   ],
   "source": [
    "np.random.seed(2137)\n",
    "som = Kohonen(5,5, train_X)\n",
    "c = som.learn(10)\n",
    "print(\"completeness:\", metrics.completeness_score(train_y, c))\n",
    "print(\"homogeneity:\", metrics.homogeneity_score(train_y, c))\n",
    "print(len(np.unique(c)))"
   ]
  },
  {
   "cell_type": "markdown",
   "metadata": {},
   "source": [
    "##### gauss, width=1, MxN=25, hex"
   ]
  },
  {
   "cell_type": "code",
   "execution_count": 36,
   "metadata": {},
   "outputs": [
    {
     "name": "stdout",
     "output_type": "stream",
     "text": [
      "completeness: 0.42495594935780157\n",
      "homogeneity: 0.5662181062100237\n",
      "25\n"
     ]
    }
   ],
   "source": [
    "np.random.seed(2137)\n",
    "som = Kohonen(5,5,train_X,topology=\"hex\")\n",
    "c = som.learn(10)\n",
    "print(\"completeness:\", metrics.completeness_score(train_y, c))\n",
    "print(\"homogeneity:\", metrics.homogeneity_score(train_y, c))\n",
    "print(len(np.unique(c)))"
   ]
  },
  {
   "cell_type": "markdown",
   "metadata": {},
   "source": [
    "##### ricker_wavelet_mod, width=1, MxN=25, square"
   ]
  },
  {
   "cell_type": "code",
   "execution_count": 37,
   "metadata": {},
   "outputs": [
    {
     "name": "stdout",
     "output_type": "stream",
     "text": [
      "completeness: 0.2937020652632871\n",
      "homogeneity: 0.1175663232160283\n",
      "3\n"
     ]
    }
   ],
   "source": [
    "np.random.seed(2137)\n",
    "som = Kohonen(5,5, train_X)\n",
    "c = som.learn(10, neigh_fun=ricker_wavelet_mod)\n",
    "print(\"completeness:\", metrics.completeness_score(train_y, c))\n",
    "print(\"homogeneity:\", metrics.homogeneity_score(train_y, c))\n",
    "print(len(np.unique(c)))"
   ]
  },
  {
   "cell_type": "markdown",
   "metadata": {},
   "source": [
    "##### ricker_wavelet_mod, width=1, MxN=25, hex"
   ]
  },
  {
   "cell_type": "code",
   "execution_count": 38,
   "metadata": {},
   "outputs": [
    {
     "name": "stdout",
     "output_type": "stream",
     "text": [
      "completeness: 0.2937020652632871\n",
      "homogeneity: 0.1175663232160283\n",
      "3\n"
     ]
    }
   ],
   "source": [
    "np.random.seed(2137)\n",
    "som = Kohonen(5,5,train_X,topology=\"hex\")\n",
    "c = som.learn(10, neigh_fun=ricker_wavelet_mod)\n",
    "print(\"completeness:\", metrics.completeness_score(train_y, c))\n",
    "print(\"homogeneity:\", metrics.homogeneity_score(train_y, c))\n",
    "print(len(np.unique(c)))"
   ]
  },
  {
   "cell_type": "markdown",
   "metadata": {},
   "source": [
    "### UCI"
   ]
  },
  {
   "cell_type": "code",
   "execution_count": 56,
   "metadata": {},
   "outputs": [
    {
     "data": {
      "text/plain": [
       "(2947, 561)"
      ]
     },
     "execution_count": 56,
     "metadata": {},
     "output_type": "execute_result"
    }
   ],
   "source": [
    "y = pd.read_csv('mio2/y_test.txt', header=None)\n",
    "x = pd.read_csv('mio2/X_test.txt', sep=\"\\s+\", header=None)\n",
    "x = np.asarray(x)\n",
    "y = np.asarray(y).reshape(2947,)\n",
    "x.shape"
   ]
  },
  {
   "cell_type": "markdown",
   "metadata": {},
   "source": [
    "##### gauss, width=1, MxN=25, square"
   ]
  },
  {
   "cell_type": "code",
   "execution_count": 57,
   "metadata": {},
   "outputs": [
    {
     "name": "stdout",
     "output_type": "stream",
     "text": [
      "completeness: 0.44072982345772654\n",
      "homogeneity: 0.7088760602825457\n",
      "25\n"
     ]
    }
   ],
   "source": [
    "np.random.seed(2137)\n",
    "som = Kohonen(5,5, x)\n",
    "c = som.learn(10)\n",
    "print(\"completeness:\", metrics.completeness_score(y, c))\n",
    "print(\"homogeneity:\", metrics.homogeneity_score(y, c))\n",
    "print(len(np.unique(c)))"
   ]
  },
  {
   "cell_type": "markdown",
   "metadata": {},
   "source": [
    "##### gauss, width=1, MxN=25, hex"
   ]
  },
  {
   "cell_type": "code",
   "execution_count": 58,
   "metadata": {},
   "outputs": [
    {
     "name": "stdout",
     "output_type": "stream",
     "text": [
      "completeness: 0.45915329875552546\n",
      "homogeneity: 0.7315996843080869\n",
      "25\n"
     ]
    }
   ],
   "source": [
    "np.random.seed(2137)\n",
    "som = Kohonen(5,5,x,topology=\"hex\")\n",
    "c = som.learn(10)\n",
    "print(\"completeness:\", metrics.completeness_score(y, c))\n",
    "print(\"homogeneity:\", metrics.homogeneity_score(y, c))\n",
    "print(len(np.unique(c)))"
   ]
  },
  {
   "cell_type": "markdown",
   "metadata": {},
   "source": [
    "##### ricker_wavelet_mod, width=1, MxN=25, square"
   ]
  },
  {
   "cell_type": "code",
   "execution_count": 59,
   "metadata": {},
   "outputs": [
    {
     "name": "stdout",
     "output_type": "stream",
     "text": [
      "completeness: 0.9110224703385262\n",
      "homogeneity: 0.5174053190542235\n",
      "3\n"
     ]
    }
   ],
   "source": [
    "np.random.seed(2137)\n",
    "som = Kohonen(5,5, x)\n",
    "c = som.learn(10, neigh_fun=ricker_wavelet_mod)\n",
    "print(\"completeness:\", metrics.completeness_score(y, c))\n",
    "print(\"homogeneity:\", metrics.homogeneity_score(y, c))\n",
    "print(len(np.unique(c)))"
   ]
  },
  {
   "cell_type": "markdown",
   "metadata": {},
   "source": [
    "##### ricker_wavelet_mod, width=1, MxN=25, hex"
   ]
  },
  {
   "cell_type": "code",
   "execution_count": 60,
   "metadata": {},
   "outputs": [
    {
     "name": "stdout",
     "output_type": "stream",
     "text": [
      "completeness: 0.9110224703385262\n",
      "homogeneity: 0.5174053190542235\n",
      "3\n"
     ]
    }
   ],
   "source": [
    "np.random.seed(2137)\n",
    "som = Kohonen(5,5,x,topology=\"hex\")\n",
    "c = som.learn(10, neigh_fun=ricker_wavelet_mod)\n",
    "print(\"completeness:\", metrics.completeness_score(y, c))\n",
    "print(\"homogeneity:\", metrics.homogeneity_score(y, c))\n",
    "print(len(np.unique(c)))"
   ]
  },
  {
   "cell_type": "code",
   "execution_count": null,
   "metadata": {},
   "outputs": [],
   "source": []
  }
 ],
 "metadata": {
  "kernelspec": {
   "display_name": "Python 3",
   "language": "python",
   "name": "python3"
  },
  "language_info": {
   "codemirror_mode": {
    "name": "ipython",
    "version": 3
   },
   "file_extension": ".py",
   "mimetype": "text/x-python",
   "name": "python",
   "nbconvert_exporter": "python",
   "pygments_lexer": "ipython3",
   "version": "3.6.9"
  }
 },
 "nbformat": 4,
 "nbformat_minor": 2
}
