{
 "cells": [
  {
   "cell_type": "code",
   "execution_count": 19,
   "metadata": {},
   "outputs": [],
   "source": [
    "import numpy as np\n",
    "import pandas as pd\n",
    "import seaborn as sns\n",
    "import math\n",
    "from matplotlib import pyplot as plt\n",
    "from sklearn import metrics"
   ]
  },
  {
   "cell_type": "markdown",
   "metadata": {},
   "source": [
    "## Implementacja neuronu"
   ]
  },
  {
   "cell_type": "code",
   "execution_count": 20,
   "metadata": {},
   "outputs": [
    {
     "name": "stdout",
     "output_type": "stream",
     "text": [
      "LinearNeuron([1, 2, 3])\n",
      "SigmoidNeuron([1, 2])\n"
     ]
    }
   ],
   "source": [
    "from abc import ABC, abstractmethod\n",
    "import logging\n",
    "\n",
    "class Neuron(ABC):\n",
    "    def __init__(self, weights: list) -> None:\n",
    "        self.weights = weights\n",
    "        if len(weights) < 2:\n",
    "            logging.warning(\"Less than 2 weights. Are you sure?\")\n",
    "    \n",
    "    def __repr__(self) -> str:\n",
    "        return self.name() + \"(\" + str(self.weights) + \")\"\n",
    "            \n",
    "    @abstractmethod\n",
    "    def evaluate(self, input: list) -> float:\n",
    "        pass\n",
    "    \n",
    "    @abstractmethod\n",
    "    def name(self) -> str:\n",
    "        pass\n",
    "    \n",
    "    def add_one(l: list) -> list:\n",
    "        tmp = [1]\n",
    "        tmp.extend(l)\n",
    "        return tmp\n",
    "    \n",
    "    def dot(a: list, b: list) -> float:\n",
    "        tmp = min(len(a), len(b))\n",
    "        return np.dot(a[:tmp], b[:tmp])\n",
    "\n",
    "    \n",
    "# pierwsza waga to waga biasu\n",
    "class LinearNeuron(Neuron):\n",
    "    def evaluate(self, input: list) -> float:\n",
    "        return Neuron.dot(self.weights, Neuron.add_one(input))\n",
    "    \n",
    "    def name(self) -> str:\n",
    "        return \"LinearNeuron\"\n",
    "        \n",
    "\n",
    "class SigmoidNeuron(Neuron):\n",
    "    def evaluate(self, input: list) -> float:\n",
    "        x = Neuron.dot(self.weights, Neuron.add_one(input))\n",
    "        return math.e ** x / (1 + math.e ** x)\n",
    "    \n",
    "    def name(self) -> str:\n",
    "        return \"SigmoidNeuron\"\n",
    "\n",
    "# tests\n",
    "\n",
    "assert Neuron.dot([2,3], [5]) == 10\n",
    "assert Neuron.dot([2,3], [4,5,6]) == 23\n",
    "\n",
    "linearneuron = LinearNeuron([1,2,3])\n",
    "assert linearneuron.evaluate([1,2,3]) == 9\n",
    "assert linearneuron.evaluate([2,3]) == 14\n",
    "\n",
    "sigmoidneuron = SigmoidNeuron([1, 2])\n",
    "assert sigmoidneuron.evaluate([1]) == math.e ** 3 / (1 + math.e ** 3)\n",
    "print(linearneuron)\n",
    "print(sigmoidneuron)"
   ]
  },
  {
   "cell_type": "markdown",
   "metadata": {},
   "source": [
    "## Implementacja warstwy"
   ]
  },
  {
   "cell_type": "code",
   "execution_count": 21,
   "metadata": {},
   "outputs": [
    {
     "name": "stdout",
     "output_type": "stream",
     "text": [
      "Layer([LinearNeuron([1, 2]), LinearNeuron([2, 3])])\n"
     ]
    }
   ],
   "source": [
    "class Layer(ABC):\n",
    "    def __init__(self) -> None:\n",
    "        self.neurons = []\n",
    "    \n",
    "    @abstractmethod\n",
    "    def __init__(self, num: int, weights: list) -> None:\n",
    "        pass\n",
    "        \n",
    "    def addNeuron(self, neuron: Neuron) -> None:\n",
    "        self.neurons.append(neuron)\n",
    "        \n",
    "    def evaluate(self, input: list) -> list:\n",
    "        return [neuron.evaluate(input) for neuron in self.neurons]\n",
    "    \n",
    "    def __repr__(self) -> str:\n",
    "        return \"Layer(\" + str(self.neurons) + \")\"\n",
    "    \n",
    "\n",
    "class LinearLayer(Layer):\n",
    "    def __init__(self, num: int, weights: list) -> None:\n",
    "        assert len(weights) == num, \"Invalid matrix dimension\"\n",
    "        self.neurons = [LinearNeuron(w) for w in weights]\n",
    "    \n",
    "class SigmoidLayer(Layer):\n",
    "    def __init__(self, num: int, weights: list) -> None:\n",
    "        assert len(weights) == num, \"Invalid matrix dimension\"\n",
    "        self.neurons = [SigmoidNeuron(w) for w in weights]\n",
    "\n",
    "# tests\n",
    "layer1 = LinearLayer(1, [[1, 2]])\n",
    "assert layer1.evaluate([5]) == [11]\n",
    "layer1.addNeuron(LinearNeuron([2, 3]))\n",
    "assert layer1.evaluate([5]) == [11, 17]\n",
    "\n",
    "layer2 = LinearLayer(2, [[1,2], [2, 3]])\n",
    "assert layer2.evaluate([5]) == [11, 17]\n",
    "print(layer2)"
   ]
  },
  {
   "cell_type": "markdown",
   "metadata": {},
   "source": [
    "## Implementacja sieci"
   ]
  },
  {
   "cell_type": "code",
   "execution_count": 22,
   "metadata": {},
   "outputs": [],
   "source": [
    "class Network:\n",
    "    def __init__(self) -> None:\n",
    "        self.layers = []\n",
    "    \n",
    "    def __repr__(self) -> str:\n",
    "        return \"Network(\" + str(self.layers) + \")\"\n",
    "    \n",
    "    def __init__(self, layer_types: list, weights: list) -> None:\n",
    "        assert len(layer_types) == len(weights), \"Invalid matrix dimension\"\n",
    "        self.layers = []\n",
    "        for i in range(len(weights)):\n",
    "            if layer_types[i] == \"sigmoid\":\n",
    "                self.addLayerBack(SigmoidLayer(len(weights[i]), weights[i]))\n",
    "            elif layer_types[i] == \"linear\":\n",
    "                self.addLayerBack(LinearLayer(len(weights[i]), weights[i]))\n",
    "            else:\n",
    "                logging.error(\"Invalid layer type\")\n",
    "        \n",
    "    def addLayerBack(self, layer: Layer) -> None:\n",
    "        self.layers.append(layer)\n",
    "    \n",
    "    def forward(self, x: list) -> list:\n",
    "        input = x\n",
    "        for layer in self.layers:\n",
    "            out = []\n",
    "            for val in input:\n",
    "                tmp = layer.evaluate(val)\n",
    "                out.append(tmp)\n",
    "            input = out\n",
    "        return input\n",
    "\n",
    "# tests\n",
    "network = Network([\"linear\"], [[[1,2,3]]])\n",
    "assert network.forward([[2,3]]) == [[14]]\n",
    "\n",
    "network2 = Network([\"linear\"], [\n",
    "        [[1,2], [2, 3]]\n",
    "])\n",
    "assert network2.forward([[5]]) == [[11, 17]]"
   ]
  },
  {
   "cell_type": "markdown",
   "metadata": {},
   "source": [
    "# Zbiór square-simple"
   ]
  },
  {
   "cell_type": "code",
   "execution_count": 23,
   "metadata": {},
   "outputs": [],
   "source": [
    "train_df = pd.read_csv('./mio1/regression/square-simple-training.csv', index_col=0)\n",
    "test_df = pd.read_csv('./mio1/regression/square-simple-test.csv', index_col=0)"
   ]
  },
  {
   "cell_type": "markdown",
   "metadata": {},
   "source": [
    "### jedna warstwa ukryta, 5 neuronów"
   ]
  },
  {
   "cell_type": "code",
   "execution_count": 24,
   "metadata": {},
   "outputs": [
    {
     "data": {
      "text/plain": [
       "<matplotlib.collections.PathCollection at 0x7fc8129e0160>"
      ]
     },
     "execution_count": 24,
     "metadata": {},
     "output_type": "execute_result"
    },
    {
     "data": {
      "image/png": "[encoded data removed]",
      "text/plain": [
       "<Figure size 432x288 with 1 Axes>"
      ]
     },
     "metadata": {
      "needs_background": "light"
     },
     "output_type": "display_data"
    }
   ],
   "source": [
    "mlp = Network([\"sigmoid\", \"linear\"], [\n",
    "    [\n",
    "        [5, 1],\n",
    "        [1, 1],\n",
    "        [1, 1],\n",
    "        [1, 1],\n",
    "        [-5, 1]\n",
    "    ],\n",
    "    [\n",
    "        [9750,-10000,0,0,0,10000]\n",
    "    ]])\n",
    "y_pred = mlp.forward(np.expand_dims(train_df['x'], 1))\n",
    "y_pred = np.squeeze(y_pred)\n",
    "plt.scatter(train_df['x'], train_df['y'], color='green')\n",
    "plt.scatter(train_df['x'], y_pred, color='red')"
   ]
  },
  {
   "cell_type": "markdown",
   "metadata": {},
   "source": [
    "##### Wynik na zbiorze treningowym"
   ]
  },
  {
   "cell_type": "code",
   "execution_count": 25,
   "metadata": {},
   "outputs": [
    {
     "data": {
      "text/plain": [
       "8.534895752851826"
      ]
     },
     "execution_count": 25,
     "metadata": {},
     "output_type": "execute_result"
    }
   ],
   "source": [
    "metrics.mean_absolute_error(train_df['y'], y_pred)"
   ]
  },
  {
   "cell_type": "markdown",
   "metadata": {
    "collapsed": true
   },
   "source": [
    "##### Wynik na zbiorze testowym"
   ]
  },
  {
   "cell_type": "code",
   "execution_count": 26,
   "metadata": {},
   "outputs": [
    {
     "data": {
      "text/plain": [
       "9.154202098773874"
      ]
     },
     "execution_count": 26,
     "metadata": {},
     "output_type": "execute_result"
    }
   ],
   "source": [
    "y_pred = mlp.forward(np.expand_dims(test_df['x'], 1))\n",
    "y_pred = np.squeeze(y_pred)\n",
    "metrics.mean_absolute_error(test_df['y'], y_pred)"
   ]
  },
  {
   "cell_type": "markdown",
   "metadata": {},
   "source": [
    "# Zbiór steps-large"
   ]
  },
  {
   "cell_type": "code",
   "execution_count": 27,
   "metadata": {},
   "outputs": [],
   "source": [
    "train_df = pd.read_csv('./mio1/regression/steps-large-training.csv', index_col=0)\n",
    "test_df = pd.read_csv('./mio1/regression/steps-large-test.csv', index_col=0)"
   ]
  },
  {
   "cell_type": "markdown",
   "metadata": {},
   "source": [
    "### Jedna warstwa ukryta, 10 neuronów"
   ]
  },
  {
   "cell_type": "code",
   "execution_count": 28,
   "metadata": {},
   "outputs": [
    {
     "data": {
      "text/plain": [
       "<matplotlib.collections.PathCollection at 0x7fc8124e83c8>"
      ]
     },
     "execution_count": 28,
     "metadata": {},
     "output_type": "execute_result"
    },
    {
     "data": {
      "image/png": "[encoded data removed]",
      "text/plain": [
       "<Figure size 432x288 with 1 Axes>"
      ]
     },
     "metadata": {
      "needs_background": "light"
     },
     "output_type": "display_data"
    }
   ],
   "source": [
    "mlp = Network([\"sigmoid\", \"linear\"], [\n",
    "    [\n",
    "        [-8, 10],\n",
    "        [-15, 10],\n",
    "        [8, 10],\n",
    "        [1, 1],\n",
    "        [1, 1],\n",
    "        [1, 1],\n",
    "        [1, 1],\n",
    "        [1, 1],\n",
    "        [1, 1],\n",
    "        [1, 1]\n",
    "    ],\n",
    "    [\n",
    "        [-75, 75, 75, 75, 0, 0, 0, 0, 0, 0, 0]\n",
    "    ]])\n",
    "y_pred = mlp.forward(np.expand_dims(train_df['x'], 1))\n",
    "y_pred = np.squeeze(y_pred)\n",
    "plt.scatter(train_df['x'], train_df['y'], color='green')\n",
    "plt.scatter(train_df['x'], y_pred, color='red')"
   ]
  },
  {
   "cell_type": "markdown",
   "metadata": {},
   "source": [
    "##### Wynik na zbiorze treningowym"
   ]
  },
  {
   "cell_type": "code",
   "execution_count": 29,
   "metadata": {},
   "outputs": [
    {
     "data": {
      "text/plain": [
       "19.285010695832717"
      ]
     },
     "execution_count": 29,
     "metadata": {},
     "output_type": "execute_result"
    }
   ],
   "source": [
    "metrics.mean_absolute_error(train_df['y'], y_pred)"
   ]
  },
  {
   "cell_type": "markdown",
   "metadata": {},
   "source": [
    "##### Wynik na zbiorze testowym"
   ]
  },
  {
   "cell_type": "code",
   "execution_count": 30,
   "metadata": {},
   "outputs": [
    {
     "data": {
      "text/plain": [
       "19.104502371942342"
      ]
     },
     "execution_count": 30,
     "metadata": {},
     "output_type": "execute_result"
    }
   ],
   "source": [
    "y_pred = mlp.forward(np.expand_dims(test_df['x'], 1))\n",
    "y_pred = np.squeeze(y_pred)\n",
    "metrics.mean_absolute_error(test_df['y'], y_pred)"
   ]
  },
  {
   "cell_type": "markdown",
   "metadata": {},
   "source": [
    "### Dwie warstwy ukryte, po 5 neuronów każda"
   ]
  },
  {
   "cell_type": "code",
   "execution_count": 31,
   "metadata": {},
   "outputs": [],
   "source": [
    "mlp = Network([\"sigmoid\", \"sigmoid\", \"linear\"], [\n",
    "    [\n",
    "        [1, 1],\n",
    "        [1, 1],\n",
    "        [1, 1],\n",
    "        [1, 1],\n",
    "        [1, 1]\n",
    "    ],\n",
    "    [\n",
    "        [1, 1],\n",
    "        [1, 1],\n",
    "        [1, 1],\n",
    "        [1, 1],\n",
    "        [1, 1]\n",
    "    ],\n",
    "    [\n",
    "        [-75, 75, 75, 75, 0, 0]\n",
    "    ]])"
   ]
  }
 ],
 "metadata": {
  "kernelspec": {
   "display_name": "Python 3",
   "language": "python",
   "name": "python3"
  },
  "language_info": {
   "codemirror_mode": {
    "name": "ipython",
    "version": 3
   },
   "file_extension": ".py",
   "mimetype": "text/x-python",
   "name": "python",
   "nbconvert_exporter": "python",
   "pygments_lexer": "ipython3",
   "version": "3.6.9"
  }
 },
 "nbformat": 4,
 "nbformat_minor": 4
}
