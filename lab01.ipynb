{
 "cells": [
  {
   "cell_type": "code",
   "execution_count": 1,
   "metadata": {},
   "outputs": [],
   "source": [
    "import numpy as np\n",
    "import pandas as pd\n",
    "import seaborn as sns\n",
    "import math\n",
    "from matplotlib import pyplot as plt\n",
    "from sklearn import metrics"
   ]
  },
  {
   "cell_type": "markdown",
   "metadata": {},
   "source": [
    "Na tych zajęciach należy zaimplementować sieć neuronową typu MLP, w której można ustawić: liczbę warstw, liczbę neuronów w każdej z warstw i wagi poszczególnych połączeń, w tym biasów. Sieć ma używać sigmoidalnej funkcji aktywacji. Na wyjściu dopuszczana jest funkcja liniowa.\n",
    "\n",
    "Implementacja sieci musi być przygotowana w taki sposób, żeby łatwo zmieniać:\n",
    "- Architekturę, to znaczy liczbę wejść, wyjść, neuronów w warstwach ukrytych.\n",
    "- Funkcję aktywacji.\n",
    "\n",
    "Tak przygotowaną implementację należy następnie wykorzystać do rozwiązania zadania regresji na dostarczonych danych. Parametry sieci należy dobrać ręcznie, tak aby uzyskać możliwie dobrze wyniki na zbiorach danych (zbudować po jednej sieci dla każdego zbioru):\n",
    "- square-simple\n",
    "- steps-large\n",
    "\n",
    "Rozważyć architektury sieci:\n",
    "- jedna warstwa ukryta, 5 neuronów,\n",
    "- jedna warstwa ukryta, 10 neuronów,\n",
    "- dwie warstwy ukryte, po 5 neuronów każda."
   ]
  },
  {
   "cell_type": "code",
   "execution_count": 12,
   "metadata": {},
   "outputs": [],
   "source": [
    "from abc import ABC, abstractmethod\n",
    "import logging\n",
    "\n",
    "class Neuron(ABC):\n",
    "    @abstractmethod\n",
    "    def evaluate(self, input: list) -> float:\n",
    "        pass\n",
    "    \n",
    "    def dot(a: list, b: list) -> float:\n",
    "        tmp = min(len(a), len(b))\n",
    "        return np.dot(a[:tmp], b[:tmp])\n",
    "\n",
    "    \n",
    "# pierwsza waga to waga biasu\n",
    "class LinearNeuron(Neuron):\n",
    "    def __init__(self, weights: list) -> None:\n",
    "        self.weights = weights\n",
    "        if len(weights) < 2:\n",
    "            logging.warning(\"Less than 2 weights. Are you sure?\")\n",
    "            \n",
    "    def evaluate(self, input: list) -> float:\n",
    "        return Neuron.dot(self.weights, [1] + input)\n",
    "        \n",
    "\n",
    "class SigmoidNeuron(Neuron):\n",
    "    def __init__(self, weights: list) -> None:\n",
    "        self.weights = weights\n",
    "        if len(weights) < 2:\n",
    "            logging.warning(\"Less than 2 weights. Are you sure?\")\n",
    "            \n",
    "    def evaluate(self, input: list) -> float:\n",
    "        x = Neuron.dot(self.weights, [1] + input)\n",
    "        return math.e ** x / (1 + math.e ** x)\n",
    "\n",
    "# tests\n",
    "\n",
    "assert Neuron.dot([2,3], [5]) == 10\n",
    "assert Neuron.dot([2,3], [4,5,6]) == 23\n",
    "\n",
    "linearneuron = LinearNeuron([1,2,3])\n",
    "assert linearneuron.evaluate([1,2,3]) == 9\n",
    "assert linearneuron.evaluate([2,3]) == 14\n",
    "\n",
    "sigmoidneuron = SigmoidNeuron([1, 2])\n",
    "assert sigmoidneuron.evaluate([1]) == math.e ** 3 / (1 + math.e ** 3)"
   ]
  },
  {
   "cell_type": "code",
   "execution_count": 4,
   "metadata": {},
   "outputs": [],
   "source": [
    "class Layer(ABC):\n",
    "    def __init__(self) -> None:\n",
    "        self.neurons = []\n",
    "    \n",
    "    @abstractmethod\n",
    "    def __init__(self, num: int, weights: list) -> None:\n",
    "        pass\n",
    "        \n",
    "    def addNeuron(self, neuron: Neuron) -> None:\n",
    "        self.neurons.append(neuron)\n",
    "        \n",
    "    def evaluate(self, input: list) -> list:\n",
    "        return [neuron.evaluate(input) for neuron in self.neurons]\n",
    "    \n",
    "\n",
    "class LinearLayer(Layer):\n",
    "    def __init__(self, num: int, weights: list) -> None:\n",
    "        assert len(weights) == num, \"Invalid matrix dimension\"\n",
    "        self.neurons = [LinearNeuron(w) for w in weights]\n",
    "    \n",
    "class SigmoidLayer(Layer):\n",
    "    def __init__(self, num: int, weights: list) -> None:\n",
    "        assert len(weights) == num, \"Invalid matrix dimension\"\n",
    "        self.neurons = [SigmoidNeuron(w) for w in weights]\n",
    "\n",
    "# tests\n",
    "layer1 = LinearLayer(1, [[1, 2]])\n",
    "assert layer1.evaluate([5]) == [11]\n",
    "layer1.addNeuron(LinearNeuron([2, 3]))\n",
    "assert layer1.evaluate([5]) == [11, 17]\n",
    "\n",
    "layer2 = LinearLayer(2, [[1,2], [2, 3]])\n",
    "assert layer2.evaluate([5]) == [11, 17]"
   ]
  },
  {
   "cell_type": "code",
   "execution_count": 18,
   "metadata": {},
   "outputs": [],
   "source": [
    "class Network:\n",
    "    def __init__(self) -> None:\n",
    "        self.layers = []\n",
    "    \n",
    "    def __init__(self, layer_types: list, weights: list) -> None:\n",
    "        assert len(layer_types) == len(weights), \"Invalid matrix dimension\"\n",
    "        self.layers = []\n",
    "        for i in range(len(weights)):\n",
    "            if layer_types[i] == \"sigmoid\":\n",
    "                self.addLayerBack(SigmoidLayer(len(weights[i]), weights[i]))\n",
    "            elif layer_types[i] == \"linear\":\n",
    "                self.addLayerBack(LinearLayer(len(weights[i]), weights[i]))\n",
    "            else:\n",
    "                logging.error(\"Invalid layer type\")\n",
    "        \n",
    "    def addLayerBack(self, layer: Layer) -> None:\n",
    "        self.layers.append(layer)\n",
    "    \n",
    "    def forward(self, x: list) -> list:\n",
    "        input = x\n",
    "        for layer in self.layers:\n",
    "            out = []\n",
    "            for val in input:\n",
    "                out.append(layer.evaluate(val))\n",
    "            input = out\n",
    "        return input"
   ]
  },
  {
   "cell_type": "code",
   "execution_count": 6,
   "metadata": {},
   "outputs": [
    {
     "data": {
      "text/html": [
       "<div>\n",
       "<style scoped>\n",
       "    .dataframe tbody tr th:only-of-type {\n",
       "        vertical-align: middle;\n",
       "    }\n",
       "\n",
       "    .dataframe tbody tr th {\n",
       "        vertical-align: top;\n",
       "    }\n",
       "\n",
       "    .dataframe thead th {\n",
       "        text-align: right;\n",
       "    }\n",
       "</style>\n",
       "<table border=\"1\" class=\"dataframe\">\n",
       "  <thead>\n",
       "    <tr style=\"text-align: right;\">\n",
       "      <th></th>\n",
       "      <th>x</th>\n",
       "      <th>y</th>\n",
       "    </tr>\n",
       "  </thead>\n",
       "  <tbody>\n",
       "    <tr>\n",
       "      <th>1</th>\n",
       "      <td>-0.171543</td>\n",
       "      <td>-127.351580</td>\n",
       "    </tr>\n",
       "    <tr>\n",
       "      <th>2</th>\n",
       "      <td>0.025201</td>\n",
       "      <td>-129.942844</td>\n",
       "    </tr>\n",
       "    <tr>\n",
       "      <th>3</th>\n",
       "      <td>-1.368991</td>\n",
       "      <td>38.672367</td>\n",
       "    </tr>\n",
       "    <tr>\n",
       "      <th>4</th>\n",
       "      <td>1.907390</td>\n",
       "      <td>197.432191</td>\n",
       "    </tr>\n",
       "    <tr>\n",
       "      <th>5</th>\n",
       "      <td>0.011129</td>\n",
       "      <td>-129.988852</td>\n",
       "    </tr>\n",
       "    <tr>\n",
       "      <th>...</th>\n",
       "      <td>...</td>\n",
       "      <td>...</td>\n",
       "    </tr>\n",
       "    <tr>\n",
       "      <th>96</th>\n",
       "      <td>0.529373</td>\n",
       "      <td>-104.778766</td>\n",
       "    </tr>\n",
       "    <tr>\n",
       "      <th>97</th>\n",
       "      <td>1.374914</td>\n",
       "      <td>40.134900</td>\n",
       "    </tr>\n",
       "    <tr>\n",
       "      <th>98</th>\n",
       "      <td>-1.101985</td>\n",
       "      <td>-20.706642</td>\n",
       "    </tr>\n",
       "    <tr>\n",
       "      <th>99</th>\n",
       "      <td>1.175777</td>\n",
       "      <td>-5.579327</td>\n",
       "    </tr>\n",
       "    <tr>\n",
       "      <th>100</th>\n",
       "      <td>0.682647</td>\n",
       "      <td>-88.059364</td>\n",
       "    </tr>\n",
       "  </tbody>\n",
       "</table>\n",
       "<p>100 rows × 2 columns</p>\n",
       "</div>"
      ],
      "text/plain": [
       "            x           y\n",
       "1   -0.171543 -127.351580\n",
       "2    0.025201 -129.942844\n",
       "3   -1.368991   38.672367\n",
       "4    1.907390  197.432191\n",
       "5    0.011129 -129.988852\n",
       "..        ...         ...\n",
       "96   0.529373 -104.778766\n",
       "97   1.374914   40.134900\n",
       "98  -1.101985  -20.706642\n",
       "99   1.175777   -5.579327\n",
       "100  0.682647  -88.059364\n",
       "\n",
       "[100 rows x 2 columns]"
      ]
     },
     "execution_count": 6,
     "metadata": {},
     "output_type": "execute_result"
    }
   ],
   "source": [
    "train_df = pd.read_csv('./mio1/regression/square-simple-training.csv', index_col=0)\n",
    "test_df = pd.read_csv('./mio1/regression/square-simple-test.csv', index_col=0)\n",
    "train_df"
   ]
  },
  {
   "cell_type": "code",
   "execution_count": 7,
   "metadata": {},
   "outputs": [],
   "source": [
    "train_df['split'] = 'train'\n",
    "test_df['split'] = 'test'\n",
    "df = pd.concat([train_df, test_df])"
   ]
  },
  {
   "cell_type": "code",
   "execution_count": 9,
   "metadata": {},
   "outputs": [
    {
     "data": {
      "text/plain": [
       "<matplotlib.axes._subplots.AxesSubplot at 0x7f3197fd0588>"
      ]
     },
     "execution_count": 9,
     "metadata": {},
     "output_type": "execute_result"
    },
    {
     "data": {
      "image/png": "[encoded data removed]",
      "text/plain": [
       "<Figure size 432x288 with 1 Axes>"
      ]
     },
     "metadata": {
      "needs_background": "light"
     },
     "output_type": "display_data"
    }
   ],
   "source": [
    "sns.scatterplot(x='x', y='y', hue='split', data=df)"
   ]
  },
  {
   "cell_type": "code",
   "execution_count": 11,
   "metadata": {},
   "outputs": [],
   "source": [
    "train_df = df.query('split == \"train\"')\n",
    "x = train_df['x'].values\n",
    "x = np.expand_dims(x, 1)"
   ]
  },
  {
   "cell_type": "code",
   "execution_count": 105,
   "metadata": {},
   "outputs": [
    {
     "data": {
      "text/plain": [
       "<matplotlib.collections.PathCollection at 0x7f3195f54860>"
      ]
     },
     "execution_count": 105,
     "metadata": {},
     "output_type": "execute_result"
    },
    {
     "data": {
      "image/png": "[encoded data removed]",
      "text/plain": [
       "<Figure size 432x288 with 1 Axes>"
      ]
     },
     "metadata": {
      "needs_background": "light"
     },
     "output_type": "display_data"
    }
   ],
   "source": [
    "mlp = Network([\"sigmoid\", \"linear\"], [\n",
    "    [\n",
    "        [1, -5],\n",
    "        [1, 1],\n",
    "        [1, 1],\n",
    "        [1, 3],\n",
    "        [-50, 2]\n",
    "    ],\n",
    "    [\n",
    "        [0,-100,0,0,0,100]\n",
    "    ]])\n",
    "y_pred = mlp.forward(x)\n",
    "y_pred = np.squeeze(y_pred)\n",
    "plt.scatter(train_df['x'], train_df['y'], color='green')\n",
    "plt.scatter(train_df['x'], y_pred, color='red')"
   ]
  },
  {
   "cell_type": "code",
   "execution_count": 106,
   "metadata": {},
   "outputs": [
    {
     "data": {
      "text/plain": [
       "72.74840770322075"
      ]
     },
     "execution_count": 106,
     "metadata": {},
     "output_type": "execute_result"
    }
   ],
   "source": [
    "metrics.mean_absolute_error(train_df['y'], y_pred)"
   ]
  },
  {
   "cell_type": "code",
   "execution_count": null,
   "metadata": {},
   "outputs": [],
   "source": []
  }
 ],
 "metadata": {
  "kernelspec": {
   "display_name": "Python 3",
   "language": "python",
   "name": "python3"
  },
  "language_info": {
   "codemirror_mode": {
    "name": "ipython",
    "version": 3
   },
   "file_extension": ".py",
   "mimetype": "text/x-python",
   "name": "python",
   "nbconvert_exporter": "python",
   "pygments_lexer": "ipython3",
   "version": "3.6.9"
  }
 },
 "nbformat": 4,
 "nbformat_minor": 4
}
