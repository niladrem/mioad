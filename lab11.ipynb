{
 "cells": [
  {
   "cell_type": "markdown",
   "metadata": {},
   "source": [
    "# Optymalizacja wag w sieci MLP z użyciem algorytmu genetycznego\n",
    "\n",
    "Zaimplementować proste uczenie MLP z użyciem algorytmu genetycznego. Na wejściu jest: struktura sieci neuronowej i dane uczące. Optymalizowana funkcja to funkcja przekształcająca wektor wag sieci na błąd na zbiorze uczącym. Zastosować standardowe operatory krzyżowania i mutacji.\n",
    "\n",
    "Przeprowadzić uczenie na zbiorach:\n",
    "\n",
    "- iris https://archive.ics.uci.edu/ml/datasets/Iris\n",
    "- multimodal-large (z części laboratorium o sieciach neuronowych)\n",
    "- auto-mpg (przewidzieć wartość mpg) - http://archive.ics.uci.edu/ml/datasets/Auto+MPG"
   ]
  },
  {
   "cell_type": "code",
   "execution_count": 1,
   "metadata": {},
   "outputs": [],
   "source": [
    "import numpy as np\n",
    "import random\n",
    "import math\n",
    "import copy"
   ]
  },
  {
   "cell_type": "code",
   "execution_count": 2,
   "metadata": {},
   "outputs": [],
   "source": [
    "class Layer():\n",
    "    def __init__(self) -> None:\n",
    "        self.neurons = []\n",
    "    \n",
    "    def __init__(self, num_in: int, num_out: int, weights: list, biases: list) -> None:\n",
    "        self.num_in = num_in\n",
    "        self.num_out = num_out\n",
    "        self.weights = np.array(weights).reshape(num_in, num_out)\n",
    "        self.biases = np.array(biases).reshape(1, num_out)\n",
    "        self.rmsprop_w = 0\n",
    "        self.rmsprop_b = 0\n",
    "        self.momentum_w = 0\n",
    "        self.momentum_b = 0\n",
    "        \n",
    "    def evaluate(self, input: list) -> list:\n",
    "        self.input = np.array(input)\n",
    "        self.z_values = self.input @ self.weights + self.biases\n",
    "        self.activations = self.activate(self.z_values)\n",
    "        return self.activations\n",
    "    \n",
    "    def __repr__(self) -> str:\n",
    "        return \"Layer(\" + str(self.neurons) + \")\"\n",
    "    \n",
    "    def activate(self, x):\n",
    "        pass\n",
    "    \n",
    "    def gradient(self, x):\n",
    "        pass\n",
    "    \n",
    "\n",
    "class LinearLayer(Layer):\n",
    "    def activate(self, x):\n",
    "        return x\n",
    "    \n",
    "    def gradient(self, x):\n",
    "        return np.ones(x.shape)\n",
    "    \n",
    "class SigmoidLayer(Layer):\n",
    "    def activate(self, x):\n",
    "        return np.exp(x) / (1 + np.exp(x))\n",
    "    \n",
    "    def gradient(self, x):\n",
    "        return self.activate(x) * (1 - self.activate(x))\n",
    "\n",
    "class TanhLayer(Layer):\n",
    "    def activate(self, x):\n",
    "        return (np.exp(x) - np.exp(-x)) / (np.exp(x) + np.exp(-x))\n",
    "    \n",
    "    def gradient(self, x):\n",
    "        return 1.0 - self.activate(x)**2\n",
    "\n",
    "class ReluLayer(Layer):\n",
    "    def activate(self, x):\n",
    "        return np.maximum(x, 0)\n",
    "    \n",
    "    def gradient(self, x):\n",
    "        return np.where(x > 0, 1, 0)\n",
    "\n",
    "class SoftmaxLayer(Layer):\n",
    "    def activate(self, x):\n",
    "        e_x = np.exp(x.T - np.max(x, axis=1).T).T\n",
    "        return (e_x.T / e_x.sum(axis=1).T).T\n",
    "    \n",
    "from sklearn.metrics import *\n",
    "from graphviz import Digraph\n",
    "import random\n",
    "from sklearn.preprocessing import StandardScaler, MinMaxScaler\n",
    "import copy\n",
    "\n",
    "class Network:\n",
    "    def __init__(self) -> None:\n",
    "        self.layers = []\n",
    "        self.size = []\n",
    "        self.s = None\n",
    "    \n",
    "    def __repr__(self) -> str:\n",
    "        return \"Network(\" + \"\\n\\t\".join([str(layer) for layer in self.layers]) + \")\"\n",
    "    \n",
    "    def __init__(self, layer_types: list, size: list, weights=None,biases=None, gen_type=\"0|1\", norm=True, cat=False) -> None:\n",
    "        assert len(layer_types) == len(size) - 1, \"Invalid matrix dimension\"\n",
    "        self.layers = []\n",
    "        self.size = size\n",
    "        self.norm = norm\n",
    "        self.cat = cat\n",
    "        for i, layer_type in enumerate(layer_types):\n",
    "            if layer_type == \"sigmoid\":\n",
    "                self.addLayerBack(SigmoidLayer(\n",
    "                    size[i],\n",
    "                    size[i + 1],\n",
    "                    weights[i] if weights else Network.generate(gen_type, (size[i], size[i+1])),\n",
    "                    biases[i] if biases else Network.generate(gen_type, (size[i+1], 1))))\n",
    "            elif layer_type == \"linear\":\n",
    "                self.addLayerBack(LinearLayer(\n",
    "                    size[i],\n",
    "                    size[i + 1],\n",
    "                    weights[i] if weights else Network.generate(gen_type, (size[i], size[i+1])),\n",
    "                    biases[i] if biases else Network.generate(gen_type, (size[i+1], 1))))\n",
    "            elif layer_type == \"relu\":\n",
    "                self.addLayerBack(ReluLayer(\n",
    "                    size[i],\n",
    "                    size[i + 1],\n",
    "                    weights[i] if weights else Network.generate(gen_type, (size[i], size[i+1])),\n",
    "                    biases[i] if biases else Network.generate(gen_type, (size[i+1], 1))))\n",
    "            elif layer_type == \"tanh\":\n",
    "                self.addLayerBack(TanhLayer(\n",
    "                    size[i],\n",
    "                    size[i + 1],\n",
    "                    weights[i] if weights else Network.generate(gen_type, (size[i], size[i+1])),\n",
    "                    biases[i] if biases else Network.generate(gen_type, (size[i+1], 1))))\n",
    "            elif layer_type == \"softmax\":\n",
    "                self.addLayerBack(SoftmaxLayer(\n",
    "                    size[i],\n",
    "                    size[i + 1],\n",
    "                    weights[i] if weights else Network.generate(gen_type, (size[i], size[i+1])),\n",
    "                    biases[i] if biases else Network.generate(gen_type, (size[i+1], 1))))\n",
    "            else:\n",
    "                logging.error(\"Invalid layer type\")\n",
    "    \n",
    "    @staticmethod\n",
    "    def substr(a, b):\n",
    "        return [a[i] - b[i] for i in range(len(a))]\n",
    "    \n",
    "    @staticmethod\n",
    "    def generate(gen_type: str, n: tuple) -> np.array:\n",
    "        if gen_type == \"0|1\":\n",
    "            return np.random.uniform(0, 1, n)\n",
    "        elif gen_type == \"-1|1\":\n",
    "            return np.random.uniform(-1, 1, n)\n",
    "        elif gen_type == \"norm\":\n",
    "            return np.random.normal(0, 1, n)\n",
    "        elif gen_type == \"zero\":\n",
    "            return np.zeros(n)\n",
    "        \n",
    "    \n",
    "    def addLayerBack(self, layer: Layer) -> None:\n",
    "        self.layers.append(layer)\n",
    "    \n",
    "    def forward(self, x: list) -> list:\n",
    "        input = x\n",
    "        for layer in self.layers:\n",
    "            input = layer.evaluate(input)\n",
    "        return input\n",
    "    \n",
    "    def predict(self, x):\n",
    "        out = self.forward(x)\n",
    "        if self.norm:\n",
    "            out = self.s.inverse_transform(out)\n",
    "        if self.cat:\n",
    "            return [np.argmax(o) for o in out]\n",
    "        return out\n",
    "        \n",
    "\n",
    "# tests\n",
    "network = Network([\"linear\"], [2, 1], [[[2,3]]], [[1]])\n",
    "assert network.forward([[2,3]]) == [[14]]\n",
    "\n",
    "network2 = Network([\"linear\"], [1, 2], [\n",
    "        [[2], [3]]\n",
    "], [[[1], [2]]])\n",
    "assert np.array_equal(network2.forward([[5]]), [[11, 17]])"
   ]
  },
  {
   "cell_type": "code",
   "execution_count": 36,
   "metadata": {},
   "outputs": [],
   "source": [
    "class GenAlg:\n",
    "    def __init__(self, network, n_var, n_population=1000, rand_min=-10, rand_max=10):\n",
    "        self.network = network\n",
    "        self.n_var = n_var\n",
    "        self.n_population = n_population\n",
    "        self.population = np.random.uniform(rand_min, rand_max, size=(n_population, n_var))\n",
    "        \n",
    "    def iterate(self, n_iterations=100):\n",
    "        scores = []\n",
    "        for i in range(n_iterations):\n",
    "            mutated = self.mutation()\n",
    "            children = self.crossover()\n",
    "            current_population = np.concatenate((self.population, mutated, children))\n",
    "            evaluated = [self.network.get_score(pop) for pop in current_population]\n",
    "            new_population = self.selection(current_population, evaluated)\n",
    "            self.population = new_population\n",
    "            scores.append(self.get_min_score())\n",
    "        return scores\n",
    "    \n",
    "    def mutation(self):\n",
    "        p = np.random.permutation(self.n_population)\n",
    "        mutated_size = math.floor(self.n_population*0.2)\n",
    "        return self.population[p][0:mutated_size] + np.random.normal(0, 1, size=(mutated_size, self.n_var))\n",
    "    \n",
    "    def crossover(self):\n",
    "        p = np.random.permutation(self.n_population)\n",
    "        parents_size = math.floor(self.n_population*0.7)\n",
    "        parents = self.population[p][0:parents_size]\n",
    "        children = np.array([self.cross(parents[i], parents[i+1]) for i in range(0, parents_size-1, 2)])\n",
    "        return children.reshape(len(children) * 2, self.n_var)\n",
    "        \n",
    "    @staticmethod\n",
    "    def cross(parent1, parent2):\n",
    "        i = random.randint(0, len(parent1)-1)\n",
    "        child1 = np.concatenate((parent1[0:i],parent2[i:]))\n",
    "        child2 = np.concatenate((parent2[0:i],parent1[i:]))\n",
    "        return [child1, child2]\n",
    "    \n",
    "    def evaluate(self, population):\n",
    "        outputs = list(map(self.network.get_score, population))\n",
    "        population_min = min(outputs)\n",
    "        return outputs - population_min + 0.01\n",
    "    \n",
    "    def selection(self, population, values):\n",
    "        new_population = copy.deepcopy(population)\n",
    "        to_remove = len(population) - self.n_population\n",
    "        for i in range(to_remove):\n",
    "            idx = random.choices(range(len(values)), weights=values, k=1)\n",
    "            new_population = np.delete(new_population, idx, axis=0)\n",
    "            values = np.delete(values, idx)\n",
    "        return new_population\n",
    "    \n",
    "    def get_min(self):\n",
    "        evaluated = self.evaluate(self.population)\n",
    "        return self.population[evaluated == min(evaluated)][0]\n",
    "    \n",
    "    def get_min_score(self):\n",
    "        return self.network.get_score(self.get_min())\n",
    "        "
   ]
  },
  {
   "cell_type": "code",
   "execution_count": 67,
   "metadata": {},
   "outputs": [],
   "source": [
    "def vector_to_weights(vector_,layers):\n",
    "    n = len(layers) - 1\n",
    "    matrices_ = [layers[i]*layers[i+1] for i in range(len(layers)-1)] + [layers[i+1] for i in range(n)]\n",
    "    matrices_.insert(0,0)\n",
    "    matrices_cs = np.cumsum(matrices_)\n",
    "    weights = [vector_[matrices_cs[i]:matrices_cs[i+1]].reshape(layers[i], layers[i+1]) for i in range(n)]\n",
    "    biases = [vector_[matrices_cs[n+i]:matrices_cs[n+i+1]].reshape(layers[i+1], 1) for i in range(n)]\n",
    "    return (weights, biases)\n",
    "\n",
    "class NetworkWrapper:\n",
    "    def __init__(self, layer_types: list, size: list, score_fun, X, y, cat=False):\n",
    "        self.layer_types = layer_types\n",
    "        self.size = size\n",
    "        self.cat = cat\n",
    "        self.score_fun = score_fun\n",
    "        self.X = X\n",
    "        self.y = y\n",
    "        \n",
    "    def get_score(self, weights):\n",
    "        w, b = vector_to_weights(weights, self.size)\n",
    "        mlp = Network(self.layer_types, self.size, cat=self.cat, weights=w, biases=b, norm=False)\n",
    "        y_ = mlp.predict(self.X)\n",
    "        return self.score_fun(self.y, y_)"
   ]
  },
  {
   "cell_type": "markdown",
   "metadata": {},
   "source": [
    "## iris"
   ]
  },
  {
   "cell_type": "code",
   "execution_count": 38,
   "metadata": {},
   "outputs": [],
   "source": [
    "from sklearn import datasets\n",
    "df = datasets.load_iris()['data']\n",
    "labels = datasets.load_iris()['target']"
   ]
  },
  {
   "cell_type": "code",
   "execution_count": 39,
   "metadata": {},
   "outputs": [],
   "source": [
    "from sklearn.metrics import accuracy_score\n",
    "\n",
    "def reversed_accuracy(x,y):\n",
    "    return 1.0-accuracy_score(x,y)\n",
    "    \n",
    "wrapper = NetworkWrapper([\"sigmoid\", \"sigmoid\", \"softmax\"], [4,10,10,3], reversed_accuracy, df, labels, cat=True)\n",
    "\n",
    "gen = GenAlg(wrapper, 4*10+10*10+10*3+23)\n",
    "scores = gen.iterate(30)"
   ]
  },
  {
   "cell_type": "code",
   "execution_count": 40,
   "metadata": {},
   "outputs": [
    {
     "data": {
      "text/plain": [
       "Text(0, 0.5, '1-acc')"
      ]
     },
     "execution_count": 40,
     "metadata": {},
     "output_type": "execute_result"
    },
    {
     "data": {
      "image/png": "[encoded data removed]",
      "text/plain": [
       "<Figure size 432x288 with 1 Axes>"
      ]
     },
     "metadata": {
      "needs_background": "light"
     },
     "output_type": "display_data"
    }
   ],
   "source": [
    "import matplotlib.pyplot as plt\n",
    "plt.plot(range(len(scores)), scores)\n",
    "plt.xlabel(\"iteracja\")\n",
    "plt.ylabel(\"1-acc\")"
   ]
  },
  {
   "cell_type": "code",
   "execution_count": 41,
   "metadata": {},
   "outputs": [
    {
     "name": "stdout",
     "output_type": "stream",
     "text": [
      "Accuracy: 0.92\n"
     ]
    }
   ],
   "source": [
    "print(\"Accuracy:\", 1.0-scores[-1])"
   ]
  },
  {
   "cell_type": "markdown",
   "metadata": {},
   "source": [
    "## multimodal-large"
   ]
  },
  {
   "cell_type": "code",
   "execution_count": 149,
   "metadata": {},
   "outputs": [],
   "source": [
    "import pandas as pd\n",
    "df = pd.read_csv('mio3/multimodal-large-test.csv')"
   ]
  },
  {
   "cell_type": "code",
   "execution_count": 150,
   "metadata": {},
   "outputs": [],
   "source": [
    "x = np.asarray((df['x']-df['x'].mean())/df['x'].std()).reshape(-1, 1)\n",
    "y = np.asarray((df['y']-df['y'].mean())/df['y'].std()).reshape(-1, 1)"
   ]
  },
  {
   "cell_type": "code",
   "execution_count": 151,
   "metadata": {},
   "outputs": [],
   "source": [
    "from sklearn.metrics import mean_absolute_error\n",
    "np.random.seed(2137)\n",
    "\n",
    "wrapper = NetworkWrapper([\"sigmoid\", \"linear\"], [1,10,1], mean_absolute_error, x, y, cat=False)\n",
    "\n",
    "gen = GenAlg(wrapper, 1*10+10*1+11)\n",
    "scores = gen.iterate(30)\n",
    "scores = [score * df['y'].std() + df['y'].mean() for score in scores]"
   ]
  },
  {
   "cell_type": "code",
   "execution_count": 152,
   "metadata": {},
   "outputs": [
    {
     "data": {
      "text/plain": [
       "Text(0, 0.5, 'MAE')"
      ]
     },
     "execution_count": 152,
     "metadata": {},
     "output_type": "execute_result"
    },
    {
     "data": {
      "image/png": "[encoded data removed]",
      "text/plain": [
       "<Figure size 432x288 with 1 Axes>"
      ]
     },
     "metadata": {
      "needs_background": "light"
     },
     "output_type": "display_data"
    }
   ],
   "source": [
    "plt.plot(range(len(scores)), scores)\n",
    "plt.xlabel(\"iteracja\")\n",
    "plt.ylabel(\"MAE\")"
   ]
  },
  {
   "cell_type": "code",
   "execution_count": 153,
   "metadata": {},
   "outputs": [
    {
     "name": "stdout",
     "output_type": "stream",
     "text": [
      "MAE: 44.66171331398995\n"
     ]
    }
   ],
   "source": [
    "print(\"MAE:\", scores[-1])"
   ]
  },
  {
   "cell_type": "code",
   "execution_count": 154,
   "metadata": {},
   "outputs": [
    {
     "name": "stdout",
     "output_type": "stream",
     "text": [
      "-80\n",
      "160\n"
     ]
    }
   ],
   "source": [
    "print(df['y'].min())\n",
    "print(df['y'].max())"
   ]
  },
  {
   "cell_type": "markdown",
   "metadata": {},
   "source": [
    "## auto-mpg"
   ]
  },
  {
   "cell_type": "code",
   "execution_count": 118,
   "metadata": {},
   "outputs": [],
   "source": [
    "df = pd.read_csv('mio3/auto-mpg.data', sep='\\s+', header=None)\n",
    "df = df[df[3] != \"?\"]\n",
    "\n",
    "def normalize(df):\n",
    "    result = df.copy()\n",
    "    for feature_name in df.columns:\n",
    "        mean_value = df[feature_name].mean()\n",
    "        std_value = df[feature_name].std()\n",
    "        result[feature_name] = (df[feature_name] - mean_value) / std_value\n",
    "    return result\n",
    "\n",
    "y = df.loc[:,0].to_numpy()\n",
    "y_mean = y.mean()\n",
    "y_std = y.max()\n",
    "y = (y - y_mean) / y_std\n",
    "\n",
    "x = df.loc[:,1:7]\n",
    "x = x.apply(pd.to_numeric)\n",
    "x = normalize(x)\n",
    "x = x.to_numpy()"
   ]
  },
  {
   "cell_type": "code",
   "execution_count": 146,
   "metadata": {},
   "outputs": [],
   "source": [
    "np.random.seed(2137)\n",
    "wrapper = NetworkWrapper([\"sigmoid\", \"sigmoid\", \"linear\"], [7, 10, 10, 1], mean_absolute_error, x, y, cat=False)\n",
    "\n",
    "gen = GenAlg(wrapper, 7*10+10*10+10*1+21, 300, rand_min=-5, rand_max=5)\n",
    "scores = gen.iterate(100)\n",
    "scores = [score * y_std+y_mean for score in scores]"
   ]
  },
  {
   "cell_type": "code",
   "execution_count": 147,
   "metadata": {},
   "outputs": [
    {
     "data": {
      "text/plain": [
       "Text(0, 0.5, 'MAE')"
      ]
     },
     "execution_count": 147,
     "metadata": {},
     "output_type": "execute_result"
    },
    {
     "data": {
      "image/png": "[encoded data removed]",
      "text/plain": [
       "<Figure size 432x288 with 1 Axes>"
      ]
     },
     "metadata": {
      "needs_background": "light"
     },
     "output_type": "display_data"
    }
   ],
   "source": [
    "plt.plot(range(len(scores)), scores)\n",
    "plt.xlabel(\"iteracja\")\n",
    "plt.ylabel(\"MAE\")"
   ]
  },
  {
   "cell_type": "markdown",
   "metadata": {},
   "source": [
    "### iris\n",
    "Algorytm genetyczny poradził sobie całkiem dobrze. Accuracy 92% jest zazwyczaj satysfakcjonujące.\n",
    "\n",
    "### multimodal large\n",
    "Tutaj wynik już jest trochę gorszy. MAE trochę straszy, ale w kontekście zakresu y nie wygląda aż tak źle. Prawdopodobnie wystarczy zwiększyć liczbę iteracji.\n",
    "\n",
    "### auto-mpg\n",
    "Choć wykres MAE wygląda ok, to wynik już nie za bardzo. y osiąga wartości od 9 do 46, więc błąd na poziomie 30 to bardzo dużo. Kilka razy udało mi się osiągnąć wyniki rzędu 15, ale dalej są raczej mało satysfakcjonujące. Pewnie trzeba by popracować nad zmianą architektury sieci."
   ]
  },
  {
   "cell_type": "code",
   "execution_count": null,
   "metadata": {},
   "outputs": [],
   "source": []
  }
 ],
 "metadata": {
  "kernelspec": {
   "display_name": "Python 3",
   "language": "python",
   "name": "python3"
  },
  "language_info": {
   "codemirror_mode": {
    "name": "ipython",
    "version": 3
   },
   "file_extension": ".py",
   "mimetype": "text/x-python",
   "name": "python",
   "nbconvert_exporter": "python",
   "pygments_lexer": "ipython3",
   "version": "3.6.9"
  }
 },
 "nbformat": 4,
 "nbformat_minor": 4
}
