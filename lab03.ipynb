{
 "cells": [
  {
   "cell_type": "code",
   "execution_count": 1,
   "metadata": {},
   "outputs": [],
   "source": [
    "import numpy as np\n",
    "import pandas as pd\n",
    "import seaborn as sns\n",
    "import math\n",
    "from matplotlib import pyplot as plt\n",
    "from sklearn import metrics"
   ]
  },
  {
   "cell_type": "markdown",
   "metadata": {},
   "source": [
    "## Implementacja neuronu"
   ]
  },
  {
   "cell_type": "code",
   "execution_count": 2,
   "metadata": {},
   "outputs": [
    {
     "name": "stdout",
     "output_type": "stream",
     "text": [
      "LinearNeuron(weights: [1, 2, 3], output: 14, delta: 0, error: 0)\n",
      "SigmoidNeuron(weights: [1, 2], output: 0.9525741268224333, delta: 0, error: 0)\n"
     ]
    }
   ],
   "source": [
    "from abc import ABC, abstractmethod\n",
    "import logging\n",
    "\n",
    "class Neuron(ABC):\n",
    "    def __init__(self, weights: list) -> None:\n",
    "        self.weights = weights\n",
    "        self.output = 0\n",
    "        self.deltas = []\n",
    "        self.delta = 0\n",
    "        self.error = 0\n",
    "        self.input = 0\n",
    "        self.momentum = [0 for i in range(len(weights))]\n",
    "        self.grads_squared = [0 for i in range(len(weights))]\n",
    "        self.inputs = []\n",
    "        if len(weights) < 2:\n",
    "            logging.warning(\"Less than 2 weights. Are you sure?\")\n",
    "    \n",
    "    def __repr__(self) -> str:\n",
    "        return \"%s(weights: %s, output: %s, delta: %s, error: %s)\" % (self.name(), str(self.weights), str(self.output), str(self.delta), str(self.error))\n",
    "            \n",
    "    @abstractmethod\n",
    "    def evaluate(self, input: list) -> float:\n",
    "        pass\n",
    "    \n",
    "    @abstractmethod\n",
    "    def name(self) -> str:\n",
    "        pass\n",
    "    \n",
    "    @abstractmethod\n",
    "    def derivative(self, output: float) -> float:\n",
    "        pass\n",
    "    \n",
    "    def add_one(l: list) -> list:\n",
    "        tmp = [1]\n",
    "        tmp.extend(l)\n",
    "        return tmp\n",
    "    \n",
    "    def dot(a: list, b: list) -> float:\n",
    "        tmp = min(len(a), len(b))\n",
    "        return np.dot(a[:tmp], b[:tmp])\n",
    "\n",
    "    \n",
    "# pierwsza waga to waga biasu\n",
    "class LinearNeuron(Neuron):\n",
    "    def evaluate(self, input: list) -> float:\n",
    "        self.inputs = Neuron.add_one(input)\n",
    "        self.output = Neuron.dot(self.weights, self.inputs)\n",
    "        self.input = self.output\n",
    "        return self.output\n",
    "    \n",
    "    def name(self) -> str:\n",
    "        return \"LinearNeuron\"\n",
    "    \n",
    "    def derivative(self, output: float) -> float:\n",
    "        return 1.0\n",
    "        \n",
    "\n",
    "class SigmoidNeuron(Neuron):\n",
    "    def evaluate(self, input: list) -> float:\n",
    "        self.inputs = Neuron.add_one(input)\n",
    "        x = Neuron.dot(self.weights, self.inputs)\n",
    "        self.input = x\n",
    "#         if abs(x) > 10:\n",
    "#             print(\"weights: %s, input: %s\" % (self.weights, self.inputs))\n",
    "        self.output = math.e ** x / (1 + math.e ** x)\n",
    "        return self.output\n",
    "    \n",
    "    def name(self) -> str:\n",
    "        return \"SigmoidNeuron\"\n",
    "    \n",
    "    def derivative(self, output: float) -> float:\n",
    "        return output * (1.0 - output)\n",
    "\n",
    "# tests\n",
    "\n",
    "assert Neuron.dot([2,3], [5]) == 10\n",
    "assert Neuron.dot([2,3], [4,5,6]) == 23\n",
    "\n",
    "linearneuron = LinearNeuron([1,2,3])\n",
    "assert linearneuron.evaluate([1,2,3]) == 9\n",
    "assert linearneuron.evaluate([2,3]) == 14\n",
    "\n",
    "sigmoidneuron = SigmoidNeuron([1, 2])\n",
    "assert sigmoidneuron.evaluate([1]) == math.e ** 3 / (1 + math.e ** 3)\n",
    "print(linearneuron)\n",
    "print(sigmoidneuron)"
   ]
  },
  {
   "cell_type": "markdown",
   "metadata": {},
   "source": [
    "## Implementacja warstwy"
   ]
  },
  {
   "cell_type": "code",
   "execution_count": 3,
   "metadata": {},
   "outputs": [
    {
     "name": "stdout",
     "output_type": "stream",
     "text": [
      "Layer([LinearNeuron(weights: [1, 2], output: 11, delta: 0, error: 0), LinearNeuron(weights: [2, 3], output: 17, delta: 0, error: 0)])\n"
     ]
    }
   ],
   "source": [
    "class Layer(ABC):\n",
    "    def __init__(self) -> None:\n",
    "        self.neurons = []\n",
    "    \n",
    "    @abstractmethod\n",
    "    def __init__(self, num: int, weights: list) -> None:\n",
    "        pass\n",
    "        \n",
    "    def addNeuron(self, neuron: Neuron) -> None:\n",
    "        self.neurons.append(neuron)\n",
    "        \n",
    "    def evaluate(self, input: list) -> list:\n",
    "        return [neuron.evaluate(input) for neuron in self.neurons]\n",
    "    \n",
    "    def __repr__(self) -> str:\n",
    "        return \"Layer(\" + str(self.neurons) + \")\"\n",
    "    \n",
    "\n",
    "class LinearLayer(Layer):\n",
    "    def __init__(self, num: int, weights: list) -> None:\n",
    "        assert len(weights) == num, \"Invalid matrix dimension\"\n",
    "        self.neurons = [LinearNeuron(w) for w in weights]\n",
    "    \n",
    "class SigmoidLayer(Layer):\n",
    "    def __init__(self, num: int, weights: list) -> None:\n",
    "        assert len(weights) == num, \"Invalid matrix dimension\"\n",
    "        self.neurons = [SigmoidNeuron(w) for w in weights]\n",
    "\n",
    "# tests\n",
    "layer1 = LinearLayer(1, [[1, 2]])\n",
    "assert layer1.evaluate([5]) == [11]\n",
    "layer1.addNeuron(LinearNeuron([2, 3]))\n",
    "assert layer1.evaluate([5]) == [11, 17]\n",
    "\n",
    "layer2 = LinearLayer(2, [[1,2], [2, 3]])\n",
    "assert layer2.evaluate([5]) == [11, 17]\n",
    "print(layer2)"
   ]
  },
  {
   "cell_type": "markdown",
   "metadata": {},
   "source": [
    "## Implementacja sieci"
   ]
  },
  {
   "cell_type": "code",
   "execution_count": 4,
   "metadata": {},
   "outputs": [],
   "source": [
    "from graphviz import Digraph\n",
    "import random\n",
    "from sklearn.preprocessing import StandardScaler, MinMaxScaler\n",
    "import copy\n",
    "\n",
    "class Network:\n",
    "    def __init__(self) -> None:\n",
    "        self.layers = []\n",
    "        self.size = []\n",
    "        self.s = None\n",
    "    \n",
    "    def __repr__(self) -> str:\n",
    "        return \"Network(\" + \"\\n\\t\".join([str(layer) for layer in self.layers]) + \")\"\n",
    "    \n",
    "    def __init__(self, layer_types: list, size: list, weights=None, gen_type=\"0|1\", norm=True) -> None:\n",
    "        assert len(layer_types) == len(size) - 1, \"Invalid matrix dimension\"\n",
    "        self.layers = []\n",
    "        self.size = size\n",
    "        self.norm = norm\n",
    "        for i, layer_type in enumerate(layer_types):\n",
    "            if layer_type == \"sigmoid\":\n",
    "                self.addLayerBack(SigmoidLayer(size[i + 1], weights[i] if weights else Network.generate(gen_type, (size[i + 1], size[i] + 1))))\n",
    "            elif layer_type == \"linear\":\n",
    "                self.addLayerBack(LinearLayer(size[i + 1], weights[i] if weights else Network.generate(gen_type, (size[i + 1], size[i] + 1))))\n",
    "            else:\n",
    "                logging.error(\"Invalid layer type\")\n",
    "    \n",
    "    @staticmethod\n",
    "    def batch_partition(list_in, n):\n",
    "        l = copy.deepcopy(list_in)\n",
    "        random.shuffle(l)\n",
    "        return [l[(i * n):(i * n + n)] for i in range(int((len(l) + n - 1) / n))]\n",
    "        \n",
    "    def generate(gen_type: str, n: tuple) -> np.array:\n",
    "        if gen_type == \"0|1\":\n",
    "            return np.random.uniform(0, 1, n)\n",
    "        elif gen_type == \"-1|1\":\n",
    "            return np.random.uniform(-1, 1, n)\n",
    "        elif gen_type == \"norm\":\n",
    "            return np.random.normal(0, 1, n)\n",
    "        elif gen_type == \"zero\":\n",
    "            return np.zeros(n)\n",
    "        \n",
    "    \n",
    "    def addLayerBack(self, layer: Layer) -> None:\n",
    "        self.layers.append(layer)\n",
    "    \n",
    "    def forward(self, x: list) -> list:\n",
    "        input = x\n",
    "        for layer in self.layers:\n",
    "            out = []\n",
    "            for val in input:\n",
    "                tmp = layer.evaluate(val)\n",
    "                out.append(tmp)\n",
    "            input = out\n",
    "        return input\n",
    "    \n",
    "    def predict(self, x):\n",
    "        if self.norm:\n",
    "            return self.s.inverse_transform(self.forward(x))\n",
    "        return self.forward(x)\n",
    "    \n",
    "    def draw(self, prefix='', graph=None) -> None:\n",
    "        g = Digraph(format='svg', name=\"neural network\")\n",
    "        if graph is not None:\n",
    "            g = graph\n",
    "        for idx, layer in enumerate(self.layers):\n",
    "            current_id = idx + 1\n",
    "            # create bias neuron\n",
    "            bias_name = '%s_L%s_Bias' % (prefix, idx)\n",
    "            g.node(bias_name)\n",
    "            for n_i, neuron in enumerate(layer.neurons):\n",
    "                # create dot for neuron\n",
    "                neuron_name = '%s_L%s_N%s' % (prefix, current_id, n_i)\n",
    "                g.node(neuron_name)\n",
    "                # create dots and edges for parents\n",
    "                for w_i, weight in enumerate(neuron.weights):\n",
    "                    if w_i == 0:\n",
    "                        g.edge(bias_name, neuron_name, label=format(weight, '.2f'))\n",
    "                    else:\n",
    "                        p_name = '%s_L%s_N%s' % (prefix, idx, w_i - 1)\n",
    "                        g.node(p_name)\n",
    "                        g.edge(p_name, neuron_name, label=format(weight, '.2f'))\n",
    "        return g\n",
    "            \n",
    "    def backward_propagate_error(self, expected, l_rate):\n",
    "        for i in reversed(range(len(self.layers))):\n",
    "            layer = self.layers[i]\n",
    "            \n",
    "            if layer == self.layers[-1]:\n",
    "                for j, neuron in enumerate(layer.neurons):\n",
    "                    neuron.error = (expected[j] - neuron.output)\n",
    "                    neuron.delta += neuron.error * neuron.derivative(neuron.output)\n",
    "                    neuron.current_delta = neuron.error * neuron.derivative(neuron.output)\n",
    "                    neuron.current_error = (expected[j] - neuron.output)\n",
    "                    \n",
    "                    for k in range(len(neuron.weights)):\n",
    "                        neuron.deltas[k] += neuron.current_delta * neuron.inputs[k]\n",
    "            else:\n",
    "                next_layer = self.layers[i + 1]\n",
    "                for j, neuron in enumerate(layer.neurons):\n",
    "                    neuron.current_error = 0\n",
    "                    neuron.current_delta = 0\n",
    "                    for k, next_neuron in enumerate(next_layer.neurons):\n",
    "                        neuron.current_error += next_neuron.weights[j+1] * next_neuron.current_delta\n",
    "                    neuron.current_delta = neuron.current_error * neuron.derivative(neuron.output)\n",
    "                    for k in range(len(neuron.weights)):\n",
    "                        neuron.deltas[k] += neuron.current_delta * neuron.inputs[k]\n",
    "    \n",
    "    def update_weights(self, l_rate, size, momentum=False, m_lambda=0.1, rmsprop=False, rms_beta=0.9):\n",
    "        for layer in self.layers:\n",
    "            for neuron in layer.neurons:\n",
    "                for i in range(len(neuron.weights)):\n",
    "                    if momentum:\n",
    "                        neuron.momentum[i] = neuron.momentum[i] * m_lambda + neuron.deltas[i] / size\n",
    "                        neuron.weights[i] += neuron.momentum[i] * l_rate\n",
    "                    elif rmsprop:\n",
    "                        neuron.grads_squared[i] = rms_beta * neuron.grads_squared[i] + (1.0 - rms_beta) * (neuron.deltas[i] / size) ** 2\n",
    "                        neuron.weights[i] += l_rate * (neuron.deltas[i] / size) / math.sqrt(neuron.grads_squared[i])\n",
    "                    else:\n",
    "                        neuron.weights[i] += neuron.deltas[i] * l_rate / size\n",
    "    \n",
    "    def clean_params(self):\n",
    "        for idx, layer in enumerate(self.layers):\n",
    "            for neuron in layer.neurons:\n",
    "                neuron.output = 0\n",
    "                neuron.delta = 0\n",
    "                neuron.deltas = [0 for i in range(len(neuron.weights))]\n",
    "    \n",
    "    def train_network(self, train_data: list, train_y: list, l_rate=1e-3, n_epoch=5, batch_size=None,\n",
    "                     momentum=False, m_lambda=0.1, rmsprop=False, rms_beta=0.9) -> None:\n",
    "        errors = []\n",
    "        y_std = train_y\n",
    "        if self.norm:\n",
    "            self.s = StandardScaler()\n",
    "            y_std = self.s.fit_transform(train_y)\n",
    "        joined = [(train_data[i], y_std[i]) for i in range(len(train_y))]\n",
    "        a = self.draw(\"null\")\n",
    "        for epoch in range(n_epoch):\n",
    "            sum_error = 0\n",
    "            batches = Network.batch_partition(joined, batch_size) if batch_size else [joined]\n",
    "            for batch_idx, batch in enumerate(batches):\n",
    "                self.clean_params()\n",
    "                for i, row in enumerate(batch):\n",
    "                    x, expected = row\n",
    "                    outputs = self.forward([row])\n",
    "                    sum_error += sum([(expected[i]-outputs[0][i])**2 for i in range(len(expected))])\n",
    "                    self.backward_propagate_error(expected, l_rate)\n",
    "                self.update_weights(l_rate, len(batch), momentum, m_lambda, rmsprop, rms_beta)\n",
    "            if epoch % 100 == 99:\n",
    "                a = self.draw(str(epoch), a)\n",
    "            errors.append(sum_error)\n",
    "#             print('>epoch=%d, lrate=%.3f, error=%.3f' % (epoch, l_rate, sum_error))\n",
    "        return (a, errors)\n",
    "        \n",
    "\n",
    "# tests\n",
    "network = Network([\"linear\"], [1, 1], [[[1,2,3]]])\n",
    "assert network.forward([[2,3]]) == [[14]]\n",
    "\n",
    "network2 = Network([\"linear\"], [1, 2], [\n",
    "        [[1,2], [2, 3]]\n",
    "])\n",
    "assert network2.forward([[5]]) == [[11, 17]]"
   ]
  },
  {
   "cell_type": "markdown",
   "metadata": {},
   "source": [
    "# Zbiór square-large"
   ]
  },
  {
   "cell_type": "code",
   "execution_count": 5,
   "metadata": {},
   "outputs": [],
   "source": [
    "train_df = pd.read_csv('./mio1/regression/square-large-training.csv', index_col=0)\n",
    "test_df = pd.read_csv('./mio1/regression/square-large-test.csv', index_col=0)"
   ]
  },
  {
   "cell_type": "markdown",
   "metadata": {},
   "source": [
    "##### RMSProp"
   ]
  },
  {
   "cell_type": "code",
   "execution_count": 6,
   "metadata": {},
   "outputs": [
    {
     "name": "stdout",
     "output_type": "stream",
     "text": [
      "20.133785633148847\n",
      "CPU times: user 3.22 s, sys: 31.2 ms, total: 3.25 s\n",
      "Wall time: 3.24 s\n"
     ]
    },
    {
     "data": {
      "text/plain": [
       "<matplotlib.collections.PathCollection at 0x7f7e15c37b38>"
      ]
     },
     "execution_count": 6,
     "metadata": {},
     "output_type": "execute_result"
    },
    {
     "data": {
      "image/png": "[encoded data removed]",
      "text/plain": [
       "<Figure size 432x288 with 1 Axes>"
      ]
     },
     "metadata": {
      "needs_background": "light"
     },
     "output_type": "display_data"
    }
   ],
   "source": [
    "%%time\n",
    "np.random.seed(2137) # seed ustawiony na sztywno, by zawsze dostawać te same wyniki\n",
    "rmsprop_mlp = Network([\"sigmoid\", \"linear\"], [1,4,1], gen_type=\"0|1\", norm=True)\n",
    "_, rmsprop_err = rmsprop_mlp.train_network(np.expand_dims(train_df['x'], 1), np.expand_dims(train_df['y'], 1), n_epoch=50, l_rate=0.1, rmsprop=True, batch_size=32)\n",
    "\n",
    "y_pred = rmsprop_mlp.predict(np.expand_dims(train_df['x'], 1))\n",
    "y_pred = np.squeeze(y_pred)\n",
    "print(metrics.mean_absolute_error(train_df['y'], y_pred))\n",
    "plt.scatter(train_df['x'], train_df['y'], color='green')\n",
    "plt.scatter(train_df['x'], y_pred, color='red')"
   ]
  },
  {
   "cell_type": "markdown",
   "metadata": {},
   "source": [
    "##### Z momentem"
   ]
  },
  {
   "cell_type": "code",
   "execution_count": 7,
   "metadata": {},
   "outputs": [
    {
     "name": "stdout",
     "output_type": "stream",
     "text": [
      "10.332272968053047\n",
      "CPU times: user 3.23 s, sys: 0 ns, total: 3.23 s\n",
      "Wall time: 3.23 s\n"
     ]
    },
    {
     "data": {
      "text/plain": [
       "<matplotlib.collections.PathCollection at 0x7f7e137b85f8>"
      ]
     },
     "execution_count": 7,
     "metadata": {},
     "output_type": "execute_result"
    },
    {
     "data": {
      "image/png": "[encoded data removed]",
      "text/plain": [
       "<Figure size 432x288 with 1 Axes>"
      ]
     },
     "metadata": {
      "needs_background": "light"
     },
     "output_type": "display_data"
    }
   ],
   "source": [
    "%%time\n",
    "np.random.seed(2137) # seed ustawiony na sztywno, by zawsze dostawać te same wyniki\n",
    "momentum_mlp = Network([\"sigmoid\", \"linear\"], [1,4,1], gen_type=\"0|1\", norm=True)\n",
    "_, momentum_err = momentum_mlp.train_network(np.expand_dims(train_df['x'], 1), np.expand_dims(train_df['y'], 1), n_epoch=50, l_rate=0.1, momentum=True, batch_size=32)\n",
    "\n",
    "y_pred = momentum_mlp.predict(np.expand_dims(train_df['x'], 1))\n",
    "y_pred = np.squeeze(y_pred)\n",
    "print(metrics.mean_absolute_error(train_df['y'], y_pred))\n",
    "plt.scatter(train_df['x'], train_df['y'], color='green')\n",
    "plt.scatter(train_df['x'], y_pred, color='red')"
   ]
  },
  {
   "cell_type": "markdown",
   "metadata": {},
   "source": [
    "##### Domyślna"
   ]
  },
  {
   "cell_type": "code",
   "execution_count": 8,
   "metadata": {},
   "outputs": [
    {
     "name": "stdout",
     "output_type": "stream",
     "text": [
      "11.465282805723946\n",
      "CPU times: user 3.16 s, sys: 15.6 ms, total: 3.17 s\n",
      "Wall time: 3.16 s\n"
     ]
    },
    {
     "data": {
      "text/plain": [
       "<matplotlib.collections.PathCollection at 0x7f7e13764c18>"
      ]
     },
     "execution_count": 8,
     "metadata": {},
     "output_type": "execute_result"
    },
    {
     "data": {
      "image/png": "[encoded data removed]",
      "text/plain": [
       "<Figure size 432x288 with 1 Axes>"
      ]
     },
     "metadata": {
      "needs_background": "light"
     },
     "output_type": "display_data"
    }
   ],
   "source": [
    "%%time\n",
    "np.random.seed(2137) # seed ustawiony na sztywno, by zawsze dostawać te same wyniki\n",
    "normal_mlp = Network([\"sigmoid\", \"linear\"], [1,4,1], gen_type=\"0|1\", norm=True)\n",
    "_, normal_err = normal_mlp.train_network(np.expand_dims(train_df['x'], 1), np.expand_dims(train_df['y'], 1), n_epoch=50, l_rate=0.1, batch_size=32)\n",
    "\n",
    "y_pred = normal_mlp.predict(np.expand_dims(train_df['x'], 1))\n",
    "y_pred = np.squeeze(y_pred)\n",
    "print(metrics.mean_absolute_error(train_df['y'], y_pred))\n",
    "\n",
    "plt.scatter(train_df['x'], train_df['y'], color='green')\n",
    "plt.scatter(train_df['x'], y_pred, color='red')"
   ]
  },
  {
   "cell_type": "code",
   "execution_count": 9,
   "metadata": {},
   "outputs": [
    {
     "data": {
      "text/plain": [
       "(0.0, 2000.0)"
      ]
     },
     "execution_count": 9,
     "metadata": {},
     "output_type": "execute_result"
    },
    {
     "data": {
      "image/png": "[encoded data removed]",
      "text/plain": [
       "<Figure size 432x288 with 1 Axes>"
      ]
     },
     "metadata": {
      "needs_background": "light"
     },
     "output_type": "display_data"
    }
   ],
   "source": [
    "plt.scatter(range(len(momentum_err)), momentum_err, color='green')\n",
    "plt.scatter(range(len(rmsprop_err)), rmsprop_err, color='blue')\n",
    "plt.scatter(range(len(normal_err)), normal_err, color='yellow')\n",
    "plt.ylim(0, 2000)"
   ]
  },
  {
   "cell_type": "code",
   "execution_count": 10,
   "metadata": {},
   "outputs": [],
   "source": [
    "def get_score(network, df):\n",
    "    y_pred = network.predict(np.expand_dims(df['x'], 1))\n",
    "    y_pred = np.squeeze(y_pred)\n",
    "    return metrics.mean_absolute_error(df['y'], y_pred)"
   ]
  },
  {
   "cell_type": "markdown",
   "metadata": {
    "collapsed": true
   },
   "source": [
    "### Wynik na zbiorze testowym\n",
    "##### normalna"
   ]
  },
  {
   "cell_type": "code",
   "execution_count": 11,
   "metadata": {},
   "outputs": [
    {
     "data": {
      "text/plain": [
       "23.504269571195724"
      ]
     },
     "execution_count": 11,
     "metadata": {},
     "output_type": "execute_result"
    }
   ],
   "source": [
    "get_score(normal_mlp, test_df)"
   ]
  },
  {
   "cell_type": "markdown",
   "metadata": {},
   "source": [
    "##### RMSProp"
   ]
  },
  {
   "cell_type": "code",
   "execution_count": 12,
   "metadata": {},
   "outputs": [
    {
     "data": {
      "text/plain": [
       "27.662727018943613"
      ]
     },
     "execution_count": 12,
     "metadata": {},
     "output_type": "execute_result"
    }
   ],
   "source": [
    "get_score(rmsprop_mlp, test_df)"
   ]
  },
  {
   "cell_type": "markdown",
   "metadata": {},
   "source": [
    "##### moment"
   ]
  },
  {
   "cell_type": "code",
   "execution_count": 13,
   "metadata": {},
   "outputs": [
    {
     "data": {
      "text/plain": [
       "21.732769707227114"
      ]
     },
     "execution_count": 13,
     "metadata": {},
     "output_type": "execute_result"
    }
   ],
   "source": [
    "get_score(momentum_mlp, test_df)"
   ]
  },
  {
   "cell_type": "markdown",
   "metadata": {},
   "source": [
    "# Zbiór steps-large"
   ]
  },
  {
   "cell_type": "code",
   "execution_count": 14,
   "metadata": {},
   "outputs": [],
   "source": [
    "train_df = pd.read_csv('./mio1/regression/steps-large-training.csv', index_col=0)\n",
    "test_df = pd.read_csv('./mio1/regression/steps-large-test.csv', index_col=0)"
   ]
  },
  {
   "cell_type": "markdown",
   "metadata": {},
   "source": [
    "##### RMSProp"
   ]
  },
  {
   "cell_type": "code",
   "execution_count": 15,
   "metadata": {},
   "outputs": [
    {
     "name": "stdout",
     "output_type": "stream",
     "text": [
      "2.6840254503744743\n",
      "CPU times: user 1min 9s, sys: 46.9 ms, total: 1min 9s\n",
      "Wall time: 1min 9s\n"
     ]
    },
    {
     "data": {
      "text/plain": [
       "<matplotlib.collections.PathCollection at 0x7f7e136f3208>"
      ]
     },
     "execution_count": 15,
     "metadata": {},
     "output_type": "execute_result"
    },
    {
     "data": {
      "image/png": "[encoded data removed]",
      "text/plain": [
       "<Figure size 432x288 with 1 Axes>"
      ]
     },
     "metadata": {
      "needs_background": "light"
     },
     "output_type": "display_data"
    }
   ],
   "source": [
    "%%time\n",
    "np.random.seed(2137)\n",
    "rmsprop_mlp = Network([\"sigmoid\", \"linear\"], [1,10,1], norm=False)\n",
    "_, rmsprop_err = rmsprop_mlp.train_network(np.expand_dims(train_df['x'], 1), np.expand_dims(train_df['y'], 1), n_epoch=50, l_rate=0.1, batch_size=32, rmsprop=True)\n",
    "\n",
    "y_pred = rmsprop_mlp.predict(np.expand_dims(train_df['x'], 1))\n",
    "y_pred = np.squeeze(y_pred)\n",
    "print(metrics.mean_absolute_error(train_df['y'], y_pred))\n",
    "\n",
    "plt.scatter(train_df['x'], train_df['y'], color='green')\n",
    "plt.scatter(train_df['x'], y_pred, color='red')"
   ]
  },
  {
   "cell_type": "markdown",
   "metadata": {},
   "source": [
    "##### Z momentem"
   ]
  },
  {
   "cell_type": "code",
   "execution_count": 16,
   "metadata": {},
   "outputs": [
    {
     "name": "stdout",
     "output_type": "stream",
     "text": [
      "4.007486241334534\n",
      "CPU times: user 1min 16s, sys: 46.9 ms, total: 1min 16s\n",
      "Wall time: 1min 16s\n"
     ]
    },
    {
     "data": {
      "text/plain": [
       "<matplotlib.collections.PathCollection at 0x7f7e136fc860>"
      ]
     },
     "execution_count": 16,
     "metadata": {},
     "output_type": "execute_result"
    },
    {
     "data": {
      "image/png": "[encoded data removed]",
      "text/plain": [
       "<Figure size 432x288 with 1 Axes>"
      ]
     },
     "metadata": {
      "needs_background": "light"
     },
     "output_type": "display_data"
    }
   ],
   "source": [
    "%%time\n",
    "np.random.seed(2137)\n",
    "momentum_mlp = Network([\"sigmoid\", \"linear\"], [1,10,1], norm=False)\n",
    "_, momentum_err = momentum_mlp.train_network(np.expand_dims(train_df['x'], 1), np.expand_dims(train_df['y'], 1), n_epoch=50, l_rate=0.1, batch_size=32, momentum=True)\n",
    "\n",
    "y_pred = momentum_mlp.predict(np.expand_dims(train_df['x'], 1))\n",
    "y_pred = np.squeeze(y_pred)\n",
    "print(metrics.mean_absolute_error(train_df['y'], y_pred))\n",
    "\n",
    "plt.scatter(train_df['x'], train_df['y'], color='green')\n",
    "plt.scatter(train_df['x'], y_pred, color='red')"
   ]
  },
  {
   "cell_type": "markdown",
   "metadata": {},
   "source": [
    "##### Domyślna"
   ]
  },
  {
   "cell_type": "code",
   "execution_count": 17,
   "metadata": {},
   "outputs": [
    {
     "name": "stdout",
     "output_type": "stream",
     "text": [
      "3.927003544095477\n",
      "CPU times: user 1min 17s, sys: 109 ms, total: 1min 17s\n",
      "Wall time: 1min 17s\n"
     ]
    },
    {
     "data": {
      "text/plain": [
       "<matplotlib.collections.PathCollection at 0x7f7e135dd0b8>"
      ]
     },
     "execution_count": 17,
     "metadata": {},
     "output_type": "execute_result"
    },
    {
     "data": {
      "image/png": "[encoded data removed]",
      "text/plain": [
       "<Figure size 432x288 with 1 Axes>"
      ]
     },
     "metadata": {
      "needs_background": "light"
     },
     "output_type": "display_data"
    }
   ],
   "source": [
    "%%time\n",
    "np.random.seed(2137)\n",
    "normal_mlp = Network([\"sigmoid\", \"linear\"], [1,10,1], norm=False) # wyłączenie domyślnej normalizacji outputu\n",
    "_, normal_err = normal_mlp.train_network(np.expand_dims(train_df['x'], 1), np.expand_dims(train_df['y'], 1), n_epoch=50, l_rate=0.1, batch_size=32)\n",
    "\n",
    "y_pred = normal_mlp.predict(np.expand_dims(train_df['x'], 1))\n",
    "y_pred = np.squeeze(y_pred)\n",
    "print(metrics.mean_absolute_error(train_df['y'], y_pred))\n",
    "\n",
    "plt.scatter(train_df['x'], train_df['y'], color='green')\n",
    "plt.scatter(train_df['x'], y_pred, color='red')"
   ]
  },
  {
   "cell_type": "code",
   "execution_count": 18,
   "metadata": {},
   "outputs": [
    {
     "data": {
      "text/plain": [
       "(0.0, 4000000.0)"
      ]
     },
     "execution_count": 18,
     "metadata": {},
     "output_type": "execute_result"
    },
    {
     "data": {
      "image/png": "[encoded data removed]",
      "text/plain": [
       "<Figure size 432x288 with 1 Axes>"
      ]
     },
     "metadata": {
      "needs_background": "light"
     },
     "output_type": "display_data"
    }
   ],
   "source": [
    "plt.scatter(range(len(momentum_err)), momentum_err, color='green')\n",
    "plt.scatter(range(len(rmsprop_err)), rmsprop_err, color='blue')\n",
    "plt.scatter(range(len(normal_err)), normal_err, color='yellow')\n",
    "plt.ylim(0, 4000000)"
   ]
  },
  {
   "cell_type": "markdown",
   "metadata": {
    "collapsed": true
   },
   "source": [
    "### Wynik na zbiorze testowym\n",
    "##### normalna"
   ]
  },
  {
   "cell_type": "code",
   "execution_count": 19,
   "metadata": {},
   "outputs": [
    {
     "data": {
      "text/plain": [
       "4.081057117776524"
      ]
     },
     "execution_count": 19,
     "metadata": {},
     "output_type": "execute_result"
    }
   ],
   "source": [
    "get_score(normal_mlp, test_df)"
   ]
  },
  {
   "cell_type": "markdown",
   "metadata": {},
   "source": [
    "##### RMSProp"
   ]
  },
  {
   "cell_type": "code",
   "execution_count": 20,
   "metadata": {},
   "outputs": [
    {
     "data": {
      "text/plain": [
       "2.6620580829547027"
      ]
     },
     "execution_count": 20,
     "metadata": {},
     "output_type": "execute_result"
    }
   ],
   "source": [
    "get_score(rmsprop_mlp, test_df)"
   ]
  },
  {
   "cell_type": "markdown",
   "metadata": {},
   "source": [
    "##### moment"
   ]
  },
  {
   "cell_type": "code",
   "execution_count": 21,
   "metadata": {},
   "outputs": [
    {
     "data": {
      "text/plain": [
       "3.731887252107544"
      ]
     },
     "execution_count": 21,
     "metadata": {},
     "output_type": "execute_result"
    }
   ],
   "source": [
    "get_score(momentum_mlp, test_df)"
   ]
  },
  {
   "cell_type": "markdown",
   "metadata": {},
   "source": [
    "# Zbiór multimodal-large"
   ]
  },
  {
   "cell_type": "code",
   "execution_count": 22,
   "metadata": {},
   "outputs": [],
   "source": [
    "train_df = pd.read_csv('./mio1/regression/multimodal-large-training.csv', index_col=0)\n",
    "test_df = pd.read_csv('./mio1/regression/multimodal-large-test.csv', index_col=0)"
   ]
  },
  {
   "cell_type": "markdown",
   "metadata": {},
   "source": [
    "##### RMSProp"
   ]
  },
  {
   "cell_type": "code",
   "execution_count": 23,
   "metadata": {},
   "outputs": [
    {
     "name": "stdout",
     "output_type": "stream",
     "text": [
      "2.7395068977737846\n",
      "CPU times: user 43.5 s, sys: 31.2 ms, total: 43.5 s\n",
      "Wall time: 43.6 s\n"
     ]
    },
    {
     "data": {
      "text/plain": [
       "<matplotlib.collections.PathCollection at 0x7f7e13146780>"
      ]
     },
     "execution_count": 23,
     "metadata": {},
     "output_type": "execute_result"
    },
    {
     "data": {
      "image/png": "[encoded data removed]",
      "text/plain": [
       "<Figure size 432x288 with 1 Axes>"
      ]
     },
     "metadata": {
      "needs_background": "light"
     },
     "output_type": "display_data"
    }
   ],
   "source": [
    "%%time\n",
    "np.random.seed(1111)\n",
    "rmsprop_mlp = Network([\"sigmoid\", \"linear\"], [1,5,1], gen_type=\"norm\", norm=False) #generowanie z rozkładu normalnego N(0,1)\n",
    "_, rmsprop_err = rmsprop_mlp.train_network(np.expand_dims(train_df['x'], 1), np.expand_dims(train_df['y'], 1), n_epoch=50, l_rate=0.1, rmsprop=True, batch_size=32)\n",
    "\n",
    "y_pred = rmsprop_mlp.predict(np.expand_dims(train_df['x'], 1))\n",
    "y_pred = np.squeeze(y_pred)\n",
    "print(metrics.mean_absolute_error(train_df['y'], y_pred))\n",
    "\n",
    "plt.scatter(train_df['x'], train_df['y'], color='green')\n",
    "plt.scatter(train_df['x'], y_pred, color='red')"
   ]
  },
  {
   "cell_type": "markdown",
   "metadata": {},
   "source": [
    "##### Z momentem"
   ]
  },
  {
   "cell_type": "code",
   "execution_count": 24,
   "metadata": {},
   "outputs": [
    {
     "name": "stdout",
     "output_type": "stream",
     "text": [
      "2.6242199155250274\n",
      "CPU times: user 48.5 s, sys: 78.1 ms, total: 48.6 s\n",
      "Wall time: 48.7 s\n"
     ]
    },
    {
     "data": {
      "text/plain": [
       "<matplotlib.collections.PathCollection at 0x7f7e1347ca90>"
      ]
     },
     "execution_count": 24,
     "metadata": {},
     "output_type": "execute_result"
    },
    {
     "data": {
      "image/png": "[encoded data removed]",
      "text/plain": [
       "<Figure size 432x288 with 1 Axes>"
      ]
     },
     "metadata": {
      "needs_background": "light"
     },
     "output_type": "display_data"
    }
   ],
   "source": [
    "%%time\n",
    "np.random.seed(1111)\n",
    "momentum_mlp = Network([\"sigmoid\", \"linear\"], [1,5,1], gen_type=\"norm\", norm=False) #generowanie z rozkładu normalnego N(0,1)\n",
    "_, momentum_err = momentum_mlp.train_network(np.expand_dims(train_df['x'], 1), np.expand_dims(train_df['y'], 1), n_epoch=50, l_rate=0.1, momentum=True, batch_size=32)\n",
    "\n",
    "y_pred = momentum_mlp.predict(np.expand_dims(train_df['x'], 1))\n",
    "y_pred = np.squeeze(y_pred)\n",
    "print(metrics.mean_absolute_error(train_df['y'], y_pred))\n",
    "\n",
    "plt.scatter(train_df['x'], train_df['y'], color='green')\n",
    "plt.scatter(train_df['x'], y_pred, color='red')"
   ]
  },
  {
   "cell_type": "markdown",
   "metadata": {},
   "source": [
    "##### Domyślna"
   ]
  },
  {
   "cell_type": "code",
   "execution_count": 25,
   "metadata": {},
   "outputs": [
    {
     "name": "stdout",
     "output_type": "stream",
     "text": [
      "57.517174553030394\n",
      "CPU times: user 43.2 s, sys: 31.2 ms, total: 43.3 s\n",
      "Wall time: 43.3 s\n"
     ]
    },
    {
     "data": {
      "text/plain": [
       "<matplotlib.collections.PathCollection at 0x7f7e13506b00>"
      ]
     },
     "execution_count": 25,
     "metadata": {},
     "output_type": "execute_result"
    },
    {
     "data": {
      "image/png": "[encoded data removed]",
      "text/plain": [
       "<Figure size 432x288 with 1 Axes>"
      ]
     },
     "metadata": {
      "needs_background": "light"
     },
     "output_type": "display_data"
    }
   ],
   "source": [
    "%%time\n",
    "np.random.seed(1111)\n",
    "normal_mlp = Network([\"sigmoid\", \"linear\"], [1,5,1], gen_type=\"norm\", norm=False) #generowanie z rozkładu normalnego N(0,1)\n",
    "_, normal_err = normal_mlp.train_network(np.expand_dims(train_df['x'], 1), np.expand_dims(train_df['y'], 1), n_epoch=50, l_rate=0.1, rmsprop=True)\n",
    "\n",
    "y_pred = normal_mlp.predict(np.expand_dims(train_df['x'], 1))\n",
    "y_pred = np.squeeze(y_pred)\n",
    "print(metrics.mean_absolute_error(train_df['y'], y_pred))\n",
    "\n",
    "plt.scatter(train_df['x'], train_df['y'], color='green')\n",
    "plt.scatter(train_df['x'], y_pred, color='red')"
   ]
  },
  {
   "cell_type": "code",
   "execution_count": 26,
   "metadata": {},
   "outputs": [
    {
     "data": {
      "text/plain": [
       "<matplotlib.collections.PathCollection at 0x7f7e12ff0c88>"
      ]
     },
     "execution_count": 26,
     "metadata": {},
     "output_type": "execute_result"
    },
    {
     "data": {
      "image/png": "[encoded data removed]",
      "text/plain": [
       "<Figure size 432x288 with 1 Axes>"
      ]
     },
     "metadata": {
      "needs_background": "light"
     },
     "output_type": "display_data"
    }
   ],
   "source": [
    "plt.scatter(range(len(momentum_err)), momentum_err, color='green')\n",
    "plt.scatter(range(len(rmsprop_err)), rmsprop_err, color='blue')\n",
    "plt.scatter(range(len(normal_err)), normal_err, color='yellow')"
   ]
  },
  {
   "cell_type": "code",
   "execution_count": 27,
   "metadata": {},
   "outputs": [
    {
     "data": {
      "text/plain": [
       "(0.0, 2000000.0)"
      ]
     },
     "execution_count": 27,
     "metadata": {},
     "output_type": "execute_result"
    },
    {
     "data": {
      "image/png": "[encoded data removed]",
      "text/plain": [
       "<Figure size 432x288 with 1 Axes>"
      ]
     },
     "metadata": {
      "needs_background": "light"
     },
     "output_type": "display_data"
    }
   ],
   "source": [
    "plt.scatter(range(len(momentum_err)), momentum_err, color='green')\n",
    "plt.scatter(range(len(rmsprop_err)), rmsprop_err, color='blue')\n",
    "plt.ylim(0,2000000)"
   ]
  },
  {
   "cell_type": "markdown",
   "metadata": {
    "collapsed": true
   },
   "source": [
    "### Wynik na zbiorze testowym\n",
    "##### normalna"
   ]
  },
  {
   "cell_type": "code",
   "execution_count": 28,
   "metadata": {},
   "outputs": [
    {
     "data": {
      "text/plain": [
       "57.16487592807104"
      ]
     },
     "execution_count": 28,
     "metadata": {},
     "output_type": "execute_result"
    }
   ],
   "source": [
    "get_score(normal_mlp, test_df)"
   ]
  },
  {
   "cell_type": "markdown",
   "metadata": {},
   "source": [
    "##### RMSProp"
   ]
  },
  {
   "cell_type": "code",
   "execution_count": 29,
   "metadata": {},
   "outputs": [
    {
     "data": {
      "text/plain": [
       "2.9262792310506844"
      ]
     },
     "execution_count": 29,
     "metadata": {},
     "output_type": "execute_result"
    }
   ],
   "source": [
    "get_score(rmsprop_mlp, test_df)"
   ]
  },
  {
   "cell_type": "markdown",
   "metadata": {},
   "source": [
    "##### moment"
   ]
  },
  {
   "cell_type": "code",
   "execution_count": 30,
   "metadata": {},
   "outputs": [
    {
     "data": {
      "text/plain": [
       "3.1658260690283986"
      ]
     },
     "execution_count": 30,
     "metadata": {},
     "output_type": "execute_result"
    }
   ],
   "source": [
    "get_score(momentum_mlp, test_df)"
   ]
  },
  {
   "cell_type": "markdown",
   "metadata": {},
   "source": [
    "### Uwagi\n",
    "Wykresy zbieżności są w oparciu o squared error, dlatego starałam się dawać wszystkim 3 sieciom dla danego zbioru taki sam learning rate i batch_size.\n",
    "# Wnioski\n",
    "W przypadku square-large przy zadanych parametrach learning rate 0.1 i batch_size 32 sieć zbiegała najszybciej metodą RMSProp, znacznie wolniej z momentem i bez optymalizacji (te 2 metody miały porównywalną prędkość, ale moment trochę szybszy). Przy innych parametrach zaobserwowałam inne zachowania - np. przy wyższym learning rate ~0.5 RMSProp wpadał w minimum lokalne, i z niego nie wychodził, a pozostałe sieci zbiegały szybko do docelowego rozkładu.\n",
    "\n",
    "Przy steps-large różnice w szybkości zbieżności są mniejsze, tutaj jednak widać, że RMSProp zachowuje się gorzej.\n",
    "\n",
    "Przy multimodal-large sieć bez żadnej optymalizacji pozostała znacznie w tyle w porównaniu do metody z jakąkolwiek optymalizacją. (Tutaj mała uwaga: wiem, że sieć domyślna wygląda tragicznie, ale przy dobrych parametrach naprawdę zbiega, na lab02 zbiegła :))\n",
    "\n",
    "Ogólnie najbardziej przypadła mi do gustu metoda z momentem, bo ani razu nie miałam z nią takiego problemu jak np. z RMSProp dla za dużego learning rate, a jednocześnie zbiegała szybciej niż sieć bez optymalizacji."
   ]
  },
  {
   "cell_type": "code",
   "execution_count": null,
   "metadata": {},
   "outputs": [],
   "source": []
  }
 ],
 "metadata": {
  "kernelspec": {
   "display_name": "Python 3",
   "language": "python",
   "name": "python3"
  },
  "language_info": {
   "codemirror_mode": {
    "name": "ipython",
    "version": 3
   },
   "file_extension": ".py",
   "mimetype": "text/x-python",
   "name": "python",
   "nbconvert_exporter": "python",
   "pygments_lexer": "ipython3",
   "version": "3.6.9"
  }
 },
 "nbformat": 4,
 "nbformat_minor": 4
}
